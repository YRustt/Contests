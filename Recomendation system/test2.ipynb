{
 "cells": [
  {
   "cell_type": "code",
   "execution_count": 1,
   "metadata": {
    "collapsed": true
   },
   "outputs": [],
   "source": [
    "import numpy as np\n",
    "import pandas as pd"
   ]
  },
  {
   "cell_type": "markdown",
   "metadata": {},
   "source": [
    "## Datasets:\n",
    "\n",
    "MovieLens + IMDb/Rotten Tomatoes\n",
    "\n",
    "---\n",
    "\n",
    "### Description\n",
    "\n",
    "---\n",
    "\n",
    "This dataset is an extension of MovieLens10M dataset, published by GroupLeans \n",
    "research group.\n",
    "\n",
    "http://www.grouplens.org \n",
    "\n",
    "It links the movies of MovieLens dataset with their corresponding web pages at \n",
    "Internet Movie Database (IMDb) and Rotten Tomatoes movie review systems.\n",
    "\n",
    "http://www.imdb.com \n",
    "\n",
    "http://www.rottentomatoes.com \n",
    "\n",
    "From the original dataset, only those users with both rating and tagging information \n",
    "have been mantained.\n",
    "\n",
    "---\n",
    "\n",
    "### Data statistics\n",
    "\n",
    "---\n",
    "<table>\n",
    "<tr style=\"border-bottom: 2pt solid black;\"><th>count</th><th>name</th></tr>\n",
    "<tr><td>2113</td><td>users</td> </tr>\n",
    "<tr style=\"border-bottom: 2pt solid black;\"><td>10197</td><td>movies</td></tr>\n",
    "\n",
    "<tr><td>20</td><td>movie genres</td></tr>\n",
    "<tr><td>20809</td><td>movie genre assignments</td> </tr>\n",
    "<tr style=\"border-bottom: 2pt solid black;\"><td></td><td>avg. 2.040 genres per movie</td></tr>\n",
    "\n",
    "<tr><td>4060</td><td>directors</td></tr>\n",
    "<tr><td>95321</td><td>actors</td></tr>\n",
    "<tr><td></td><td>avg. 22.778 actors per movie</td></tr>\n",
    "<tr style=\"border-bottom: 2pt solid black;\"><td>72</td><td>countries</td></tr>\n",
    "\n",
    "<tr><td>10197</td><td>country assignments</td></tr>\n",
    "<tr><td></td><td>avg. 1.000 countries per movie</td></tr>\n",
    "<tr><td>47899</td><td>location assignments</td></tr>\n",
    "<tr style=\"border-bottom: 2pt solid black;\"><td></td><td>avg. 5.350 locations per movie</td></tr>\n",
    "\n",
    "<tr><td>13222</td><td>tags</td></tr>\n",
    "<tr><td>47957</td><td>tag assignments (tas), i.e. tuples [user, tag, movie]</td></tr>\n",
    "<tr><td></td><td>avg. 22.696 tas per user</td></tr>\n",
    "<tr style=\"border-bottom: 2pt solid black;\"><td></td><td>avg. 8.117 tas per movie</td></tr>\n",
    "\n",
    "<tr><td>855598</td><td>ratings</td></tr>\n",
    "<tr><td></td><td>avg. 404.921 ratings per user</td></tr>\n",
    "<tr style=\"border-bottom: 2pt solid black;\"><td></td><td>avg. 84.637 ratings per movie</td></tr>\n",
    "\n",
    "</table>"
   ]
  },
  {
   "cell_type": "markdown",
   "metadata": {},
   "source": [
    "\\begin{array}\n",
    "-R & = & R^u \\cup R_{unknown} \\\\\n",
    "R^u & = & R^u_{train} \\cup R^u_{test}\n",
    "\\end{array}"
   ]
  },
  {
   "cell_type": "markdown",
   "metadata": {},
   "source": [
    "## Metrics:\n",
    "\n",
    "\\begin{array}\n",
    "-RMSE & =  &\\sqrt{\\frac{1}{|R_{test}|}\\sum_{(u, i) \\in R_{test}} (r_{ui} - \\widehat{r}_{ui})^2} \\\\\n",
    "MAP & = & \\frac{\\sum_{u \\in U} AP^u}{|U|},\n",
    "\\end{array}\n",
    "where $AP^u = \\frac{1}{|Rel^u|} \\sum_{(u, i) \\in Rel^u} \\frac{1}{k_i^u}$"
   ]
  },
  {
   "cell_type": "code",
   "execution_count": 8,
   "metadata": {},
   "outputs": [
    {
     "data": {
      "text/html": [
       "<div>\n",
       "<table border=\"1\" class=\"dataframe\">\n",
       "  <thead>\n",
       "    <tr style=\"text-align: right;\">\n",
       "      <th></th>\n",
       "      <th></th>\n",
       "      <th>rating</th>\n",
       "      <th>timestamp</th>\n",
       "    </tr>\n",
       "    <tr>\n",
       "      <th>userID</th>\n",
       "      <th>movieID</th>\n",
       "      <th></th>\n",
       "      <th></th>\n",
       "    </tr>\n",
       "  </thead>\n",
       "  <tbody>\n",
       "    <tr>\n",
       "      <th rowspan=\"10\" valign=\"top\">75</th>\n",
       "      <th>3</th>\n",
       "      <td>1.0</td>\n",
       "      <td>1162160236000</td>\n",
       "    </tr>\n",
       "    <tr>\n",
       "      <th>32</th>\n",
       "      <td>4.5</td>\n",
       "      <td>1162160624000</td>\n",
       "    </tr>\n",
       "    <tr>\n",
       "      <th>110</th>\n",
       "      <td>4.0</td>\n",
       "      <td>1162161008000</td>\n",
       "    </tr>\n",
       "    <tr>\n",
       "      <th>160</th>\n",
       "      <td>2.0</td>\n",
       "      <td>1162160212000</td>\n",
       "    </tr>\n",
       "    <tr>\n",
       "      <th>163</th>\n",
       "      <td>4.0</td>\n",
       "      <td>1162160970000</td>\n",
       "    </tr>\n",
       "    <tr>\n",
       "      <th>165</th>\n",
       "      <td>4.5</td>\n",
       "      <td>1162160715000</td>\n",
       "    </tr>\n",
       "    <tr>\n",
       "      <th>173</th>\n",
       "      <td>3.5</td>\n",
       "      <td>1162160257000</td>\n",
       "    </tr>\n",
       "    <tr>\n",
       "      <th>296</th>\n",
       "      <td>5.0</td>\n",
       "      <td>1162160689000</td>\n",
       "    </tr>\n",
       "    <tr>\n",
       "      <th>353</th>\n",
       "      <td>3.5</td>\n",
       "      <td>1162160220000</td>\n",
       "    </tr>\n",
       "    <tr>\n",
       "      <th>420</th>\n",
       "      <td>2.0</td>\n",
       "      <td>1162160202000</td>\n",
       "    </tr>\n",
       "  </tbody>\n",
       "</table>\n",
       "</div>"
      ],
      "text/plain": [
       "                rating      timestamp\n",
       "userID movieID                       \n",
       "75     3           1.0  1162160236000\n",
       "       32          4.5  1162160624000\n",
       "       110         4.0  1162161008000\n",
       "       160         2.0  1162160212000\n",
       "       163         4.0  1162160970000\n",
       "       165         4.5  1162160715000\n",
       "       173         3.5  1162160257000\n",
       "       296         5.0  1162160689000\n",
       "       353         3.5  1162160220000\n",
       "       420         2.0  1162160202000"
      ]
     },
     "execution_count": 8,
     "metadata": {},
     "output_type": "execute_result"
    }
   ],
   "source": [
    "data = pd.read_table('data/user_ratedmovies-timestamps.dat', encoding='cp1251', index_col=['userID', 'movieID'])\n",
    "data.head(10)"
   ]
  },
  {
   "cell_type": "code",
   "execution_count": null,
   "metadata": {
    "collapsed": true
   },
   "outputs": [],
   "source": []
  }
 ],
 "metadata": {
  "kernelspec": {
   "display_name": "Python [conda root]",
   "language": "python",
   "name": "conda-root-py"
  },
  "language_info": {
   "codemirror_mode": {
    "name": "ipython",
    "version": 2
   },
   "file_extension": ".py",
   "mimetype": "text/x-python",
   "name": "python",
   "nbconvert_exporter": "python",
   "pygments_lexer": "ipython2",
   "version": "2.7.13"
  }
 },
 "nbformat": 4,
 "nbformat_minor": 2
}
