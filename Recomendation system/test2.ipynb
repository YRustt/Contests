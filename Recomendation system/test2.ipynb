{
 "cells": [
  {
   "cell_type": "code",
   "execution_count": 3,
   "metadata": {
    "collapsed": true
   },
   "outputs": [],
   "source": [
    "import numpy as np\n",
    "import pandas as pd\n",
    "\n",
    "import graphlab"
   ]
  },
  {
   "cell_type": "markdown",
   "metadata": {},
   "source": [
    "# Datasets:\n",
    "\n",
    "MovieLens + IMDb/Rotten Tomatoes\n",
    "\n",
    "---\n",
    "\n",
    "### Description\n",
    "\n",
    "---\n",
    "\n",
    "This dataset is an extension of MovieLens10M dataset, published by GroupLeans \n",
    "research group.\n",
    "\n",
    "http://www.grouplens.org \n",
    "\n",
    "It links the movies of MovieLens dataset with their corresponding web pages at \n",
    "Internet Movie Database (IMDb) and Rotten Tomatoes movie review systems.\n",
    "\n",
    "http://www.imdb.com \n",
    "\n",
    "http://www.rottentomatoes.com \n",
    "\n",
    "From the original dataset, only those users with both rating and tagging information \n",
    "have been mantained.\n",
    "\n",
    "---\n",
    "\n",
    "### Data statistics\n",
    "\n",
    "---\n",
    "<table>\n",
    "<tr style=\"border-bottom: 2pt solid black;\"><th>count</th><th>name</th></tr>\n",
    "<tr><td>2113</td><td>users</td> </tr>\n",
    "<tr style=\"border-bottom: 2pt solid black;\"><td>10197</td><td>movies</td></tr>\n",
    "\n",
    "<tr><td>20</td><td>movie genres</td></tr>\n",
    "<tr><td>20809</td><td>movie genre assignments</td> </tr>\n",
    "<tr style=\"border-bottom: 2pt solid black;\"><td></td><td>avg. 2.040 genres per movie</td></tr>\n",
    "\n",
    "<tr><td>4060</td><td>directors</td></tr>\n",
    "<tr><td>95321</td><td>actors</td></tr>\n",
    "<tr><td></td><td>avg. 22.778 actors per movie</td></tr>\n",
    "<tr style=\"border-bottom: 2pt solid black;\"><td>72</td><td>countries</td></tr>\n",
    "\n",
    "<tr><td>10197</td><td>country assignments</td></tr>\n",
    "<tr><td></td><td>avg. 1.000 countries per movie</td></tr>\n",
    "<tr><td>47899</td><td>location assignments</td></tr>\n",
    "<tr style=\"border-bottom: 2pt solid black;\"><td></td><td>avg. 5.350 locations per movie</td></tr>\n",
    "\n",
    "<tr><td>13222</td><td>tags</td></tr>\n",
    "<tr><td>47957</td><td>tag assignments (tas), i.e. tuples [user, tag, movie]</td></tr>\n",
    "<tr><td></td><td>avg. 22.696 tas per user</td></tr>\n",
    "<tr style=\"border-bottom: 2pt solid black;\"><td></td><td>avg. 8.117 tas per movie</td></tr>\n",
    "\n",
    "<tr><td>855598</td><td>ratings</td></tr>\n",
    "<tr><td></td><td>avg. 404.921 ratings per user</td></tr>\n",
    "<tr style=\"border-bottom: 2pt solid black;\"><td></td><td>avg. 84.637 ratings per movie</td></tr>\n",
    "\n",
    "</table>"
   ]
  },
  {
   "cell_type": "markdown",
   "metadata": {},
   "source": [
    "\\begin{array}\n",
    "-R & = & R^u \\cup R_{unknown} \\\\\n",
    "R^u & = & R^u_{train} \\cup R^u_{test}\n",
    "\\end{array}"
   ]
  },
  {
   "cell_type": "markdown",
   "metadata": {},
   "source": [
    "### Metrics:\n",
    "\n",
    "\\begin{array}\n",
    "-RMSE & =  &\\sqrt{\\frac{1}{|R_{test}|}\\sum_{(u, i) \\in R_{test}} (r_{ui} - \\widehat{r}_{ui})^2} \\\\\n",
    "MAP & = & \\frac{\\sum_{u \\in U} AP^u}{|U|},\n",
    "\\end{array}\n",
    "где $AP^u = \\frac{1}{|Rel^u|} \\sum_{(u, i) \\in Rel^u} \\frac{1}{k_i^u}$"
   ]
  },
  {
   "cell_type": "code",
   "execution_count": 16,
   "metadata": {
    "collapsed": false
   },
   "outputs": [],
   "source": [
    "def rmse_metric(R, test):\n",
    "    value = 0\n",
    "    for (user_id, movie_id), row in test.iterrows():\n",
    "        try:\n",
    "            cur_value = (row['rating'] - R.loc[user_id][movie_id]) ** 2\n",
    "        except:\n",
    "            cur_value = 0\n",
    "        value += cur_value\n",
    "    value /= test.shape[0]\n",
    "    return np.sqrt(value)\n",
    "\n",
    "def map_metric(R, test):\n",
    "    def ap_metric(user_id, R, test):\n",
    "        movie_ratings = R.ix[user_id]\n",
    "        movie_indexs = list(R.ix[user_id].sort_values(ascending=False).index)\n",
    "        value, count_rel = 0., 0\n",
    "        for movie_id, _ in test.ix[user_id].iterrows():\n",
    "            try:\n",
    "                rating = movie_ratings.loc[movie_id]\n",
    "            except:\n",
    "                rating = 0\n",
    "\n",
    "            if rating >= 3:\n",
    "                k = movie_indexs.index(movie_id) + 1\n",
    "                value += 1. / k\n",
    "                count_rel += 1\n",
    "        return value / count_rel if count_rel > 0 else 0\n",
    "    \n",
    "    value, count_rel = 0., 0\n",
    "    for user_id in R.index:\n",
    "        t = ap_metric(user_id, R, test)\n",
    "        if t > 0:\n",
    "            value += t\n",
    "            count_rel += 1\n",
    "    \n",
    "    return value / count_rel if count_rel > 0 else 0"
   ]
  },
  {
   "cell_type": "markdown",
   "metadata": {},
   "source": [
    "# Коллаборативная фильтрация"
   ]
  },
  {
   "cell_type": "code",
   "execution_count": 5,
   "metadata": {
    "collapsed": false
   },
   "outputs": [
    {
     "data": {
      "text/html": [
       "<div>\n",
       "<table border=\"1\" class=\"dataframe\">\n",
       "  <thead>\n",
       "    <tr style=\"text-align: right;\">\n",
       "      <th></th>\n",
       "      <th></th>\n",
       "      <th>rating</th>\n",
       "      <th>timestamp</th>\n",
       "    </tr>\n",
       "    <tr>\n",
       "      <th>userID</th>\n",
       "      <th>movieID</th>\n",
       "      <th></th>\n",
       "      <th></th>\n",
       "    </tr>\n",
       "  </thead>\n",
       "  <tbody>\n",
       "    <tr>\n",
       "      <th rowspan=\"5\" valign=\"top\">75</th>\n",
       "      <th>3</th>\n",
       "      <td>1.0</td>\n",
       "      <td>1162160236000</td>\n",
       "    </tr>\n",
       "    <tr>\n",
       "      <th>32</th>\n",
       "      <td>4.5</td>\n",
       "      <td>1162160624000</td>\n",
       "    </tr>\n",
       "    <tr>\n",
       "      <th>110</th>\n",
       "      <td>4.0</td>\n",
       "      <td>1162161008000</td>\n",
       "    </tr>\n",
       "    <tr>\n",
       "      <th>160</th>\n",
       "      <td>2.0</td>\n",
       "      <td>1162160212000</td>\n",
       "    </tr>\n",
       "    <tr>\n",
       "      <th>163</th>\n",
       "      <td>4.0</td>\n",
       "      <td>1162160970000</td>\n",
       "    </tr>\n",
       "  </tbody>\n",
       "</table>\n",
       "</div>"
      ],
      "text/plain": [
       "                rating      timestamp\n",
       "userID movieID                       \n",
       "75     3           1.0  1162160236000\n",
       "       32          4.5  1162160624000\n",
       "       110         4.0  1162161008000\n",
       "       160         2.0  1162160212000\n",
       "       163         4.0  1162160970000"
      ]
     },
     "execution_count": 5,
     "metadata": {},
     "output_type": "execute_result"
    }
   ],
   "source": [
    "data = pd.read_table('data/user_ratedmovies-timestamps.dat', encoding='cp1251', index_col=['userID', 'movieID'])\n",
    "data.head(5)"
   ]
  },
  {
   "cell_type": "code",
   "execution_count": 6,
   "metadata": {
    "collapsed": false
   },
   "outputs": [
    {
     "data": {
      "text/html": [
       "<div>\n",
       "<table border=\"1\" class=\"dataframe\">\n",
       "  <thead>\n",
       "    <tr style=\"text-align: right;\">\n",
       "      <th></th>\n",
       "      <th></th>\n",
       "      <th>rating</th>\n",
       "      <th>timestamp</th>\n",
       "    </tr>\n",
       "    <tr>\n",
       "      <th>userID</th>\n",
       "      <th>movieID</th>\n",
       "      <th></th>\n",
       "      <th></th>\n",
       "    </tr>\n",
       "  </thead>\n",
       "  <tbody>\n",
       "    <tr>\n",
       "      <th rowspan=\"3\" valign=\"top\">75</th>\n",
       "      <th>2571</th>\n",
       "      <td>4.5</td>\n",
       "      <td>1162161050000</td>\n",
       "    </tr>\n",
       "    <tr>\n",
       "      <th>5952</th>\n",
       "      <td>3.5</td>\n",
       "      <td>1162161040000</td>\n",
       "    </tr>\n",
       "    <tr>\n",
       "      <th>7153</th>\n",
       "      <td>3.5</td>\n",
       "      <td>1162161036000</td>\n",
       "    </tr>\n",
       "    <tr>\n",
       "      <th rowspan=\"3\" valign=\"top\">78</th>\n",
       "      <th>8400</th>\n",
       "      <td>4.5</td>\n",
       "      <td>1177224301000</td>\n",
       "    </tr>\n",
       "    <tr>\n",
       "      <th>44694</th>\n",
       "      <td>2.0</td>\n",
       "      <td>1179550301000</td>\n",
       "    </tr>\n",
       "    <tr>\n",
       "      <th>50872</th>\n",
       "      <td>4.5</td>\n",
       "      <td>1188713380000</td>\n",
       "    </tr>\n",
       "  </tbody>\n",
       "</table>\n",
       "</div>"
      ],
      "text/plain": [
       "                rating      timestamp\n",
       "userID movieID                       \n",
       "75     2571        4.5  1162161050000\n",
       "       5952        3.5  1162161040000\n",
       "       7153        3.5  1162161036000\n",
       "78     8400        4.5  1177224301000\n",
       "       44694       2.0  1179550301000\n",
       "       50872       4.5  1188713380000"
      ]
     },
     "execution_count": 6,
     "metadata": {},
     "output_type": "execute_result"
    }
   ],
   "source": [
    "in_train = np.array([True] * data.shape[0])\n",
    "\n",
    "prev_user_id = None\n",
    "for i, (index, row) in enumerate(data.iterrows()):\n",
    "    user_id, movie_id = index\n",
    "    if prev_user_id != user_id:\n",
    "        prev_user_id = user_id\n",
    "        border_timestamp = data.ix[user_id].sort_values('timestamp').iloc[-3]['timestamp']\n",
    "    \n",
    "    timestamp = row['timestamp']\n",
    "    if timestamp >= border_timestamp:\n",
    "        in_train[i] = False\n",
    "\n",
    "train = data[in_train]\n",
    "test = data[np.logical_not(in_train)]\n",
    "test.head(6)"
   ]
  },
  {
   "cell_type": "code",
   "execution_count": 7,
   "metadata": {
    "collapsed": false
   },
   "outputs": [
    {
     "data": {
      "text/plain": [
       "(2113, 10084)"
      ]
     },
     "execution_count": 7,
     "metadata": {},
     "output_type": "execute_result"
    }
   ],
   "source": [
    "R = pd.pivot_table(train.reset_index(), \n",
    "                   columns='movieID', \n",
    "                   index='userID', \n",
    "                   values='rating', \n",
    "                   aggfunc=np.mean, \n",
    "                   fill_value=0)\n",
    "R.shape"
   ]
  },
  {
   "cell_type": "markdown",
   "metadata": {},
   "source": [
    "# 1. Most popular method"
   ]
  },
  {
   "cell_type": "code",
   "execution_count": 8,
   "metadata": {
    "collapsed": false
   },
   "outputs": [
    {
     "data": {
      "text/html": [
       "<div>\n",
       "<table border=\"1\" class=\"dataframe\">\n",
       "  <thead>\n",
       "    <tr style=\"text-align: right;\">\n",
       "      <th>movieID</th>\n",
       "      <th>1</th>\n",
       "      <th>2</th>\n",
       "      <th>3</th>\n",
       "      <th>4</th>\n",
       "      <th>5</th>\n",
       "      <th>6</th>\n",
       "      <th>7</th>\n",
       "      <th>8</th>\n",
       "      <th>9</th>\n",
       "      <th>10</th>\n",
       "      <th>...</th>\n",
       "      <th>64983</th>\n",
       "      <th>64986</th>\n",
       "      <th>64990</th>\n",
       "      <th>64993</th>\n",
       "      <th>64997</th>\n",
       "      <th>64999</th>\n",
       "      <th>65006</th>\n",
       "      <th>65037</th>\n",
       "      <th>65088</th>\n",
       "      <th>65091</th>\n",
       "    </tr>\n",
       "    <tr>\n",
       "      <th>userID</th>\n",
       "      <th></th>\n",
       "      <th></th>\n",
       "      <th></th>\n",
       "      <th></th>\n",
       "      <th></th>\n",
       "      <th></th>\n",
       "      <th></th>\n",
       "      <th></th>\n",
       "      <th></th>\n",
       "      <th></th>\n",
       "      <th></th>\n",
       "      <th></th>\n",
       "      <th></th>\n",
       "      <th></th>\n",
       "      <th></th>\n",
       "      <th></th>\n",
       "      <th></th>\n",
       "      <th></th>\n",
       "      <th></th>\n",
       "      <th></th>\n",
       "      <th></th>\n",
       "    </tr>\n",
       "  </thead>\n",
       "  <tbody>\n",
       "    <tr>\n",
       "      <th>75</th>\n",
       "      <td>2.212967</td>\n",
       "      <td>1.074539</td>\n",
       "      <td>1.000000</td>\n",
       "      <td>0.053242</td>\n",
       "      <td>0.292239</td>\n",
       "      <td>1.06673</td>\n",
       "      <td>0.421912</td>\n",
       "      <td>0.050166</td>\n",
       "      <td>0.068386</td>\n",
       "      <td>1.147184</td>\n",
       "      <td>...</td>\n",
       "      <td>0.005206</td>\n",
       "      <td>0</td>\n",
       "      <td>0.003549</td>\n",
       "      <td>0</td>\n",
       "      <td>0.006862</td>\n",
       "      <td>0.000237</td>\n",
       "      <td>0</td>\n",
       "      <td>0.00284</td>\n",
       "      <td>0.001656</td>\n",
       "      <td>0</td>\n",
       "    </tr>\n",
       "    <tr>\n",
       "      <th>78</th>\n",
       "      <td>2.212967</td>\n",
       "      <td>1.074539</td>\n",
       "      <td>0.340748</td>\n",
       "      <td>0.053242</td>\n",
       "      <td>0.292239</td>\n",
       "      <td>1.06673</td>\n",
       "      <td>0.421912</td>\n",
       "      <td>0.050166</td>\n",
       "      <td>0.068386</td>\n",
       "      <td>1.147184</td>\n",
       "      <td>...</td>\n",
       "      <td>0.005206</td>\n",
       "      <td>0</td>\n",
       "      <td>0.003549</td>\n",
       "      <td>0</td>\n",
       "      <td>0.006862</td>\n",
       "      <td>0.000237</td>\n",
       "      <td>0</td>\n",
       "      <td>0.00284</td>\n",
       "      <td>0.001656</td>\n",
       "      <td>0</td>\n",
       "    </tr>\n",
       "    <tr>\n",
       "      <th>127</th>\n",
       "      <td>2.212967</td>\n",
       "      <td>1.074539</td>\n",
       "      <td>0.340748</td>\n",
       "      <td>0.053242</td>\n",
       "      <td>0.292239</td>\n",
       "      <td>1.06673</td>\n",
       "      <td>0.421912</td>\n",
       "      <td>0.050166</td>\n",
       "      <td>0.068386</td>\n",
       "      <td>1.147184</td>\n",
       "      <td>...</td>\n",
       "      <td>0.005206</td>\n",
       "      <td>0</td>\n",
       "      <td>0.003549</td>\n",
       "      <td>0</td>\n",
       "      <td>0.006862</td>\n",
       "      <td>0.000237</td>\n",
       "      <td>0</td>\n",
       "      <td>0.00284</td>\n",
       "      <td>0.001656</td>\n",
       "      <td>0</td>\n",
       "    </tr>\n",
       "    <tr>\n",
       "      <th>170</th>\n",
       "      <td>3.000000</td>\n",
       "      <td>2.000000</td>\n",
       "      <td>0.340748</td>\n",
       "      <td>0.053242</td>\n",
       "      <td>0.292239</td>\n",
       "      <td>1.06673</td>\n",
       "      <td>0.421912</td>\n",
       "      <td>0.050166</td>\n",
       "      <td>0.068386</td>\n",
       "      <td>3.500000</td>\n",
       "      <td>...</td>\n",
       "      <td>0.005206</td>\n",
       "      <td>0</td>\n",
       "      <td>0.003549</td>\n",
       "      <td>0</td>\n",
       "      <td>0.006862</td>\n",
       "      <td>0.000237</td>\n",
       "      <td>0</td>\n",
       "      <td>0.00284</td>\n",
       "      <td>0.001656</td>\n",
       "      <td>0</td>\n",
       "    </tr>\n",
       "    <tr>\n",
       "      <th>175</th>\n",
       "      <td>4.000000</td>\n",
       "      <td>1.074539</td>\n",
       "      <td>0.340748</td>\n",
       "      <td>0.053242</td>\n",
       "      <td>0.292239</td>\n",
       "      <td>5.00000</td>\n",
       "      <td>0.421912</td>\n",
       "      <td>0.050166</td>\n",
       "      <td>0.068386</td>\n",
       "      <td>1.147184</td>\n",
       "      <td>...</td>\n",
       "      <td>0.005206</td>\n",
       "      <td>0</td>\n",
       "      <td>0.003549</td>\n",
       "      <td>0</td>\n",
       "      <td>0.006862</td>\n",
       "      <td>0.000237</td>\n",
       "      <td>0</td>\n",
       "      <td>0.00284</td>\n",
       "      <td>0.001656</td>\n",
       "      <td>0</td>\n",
       "    </tr>\n",
       "  </tbody>\n",
       "</table>\n",
       "<p>5 rows × 10084 columns</p>\n",
       "</div>"
      ],
      "text/plain": [
       "movieID     1         2         3         4         5        6         7      \\\n",
       "userID                                                                         \n",
       "75       2.212967  1.074539  1.000000  0.053242  0.292239  1.06673  0.421912   \n",
       "78       2.212967  1.074539  0.340748  0.053242  0.292239  1.06673  0.421912   \n",
       "127      2.212967  1.074539  0.340748  0.053242  0.292239  1.06673  0.421912   \n",
       "170      3.000000  2.000000  0.340748  0.053242  0.292239  1.06673  0.421912   \n",
       "175      4.000000  1.074539  0.340748  0.053242  0.292239  5.00000  0.421912   \n",
       "\n",
       "movieID     8         9         10     ...       64983  64986     64990  \\\n",
       "userID                                 ...                                \n",
       "75       0.050166  0.068386  1.147184  ...    0.005206      0  0.003549   \n",
       "78       0.050166  0.068386  1.147184  ...    0.005206      0  0.003549   \n",
       "127      0.050166  0.068386  1.147184  ...    0.005206      0  0.003549   \n",
       "170      0.050166  0.068386  3.500000  ...    0.005206      0  0.003549   \n",
       "175      0.050166  0.068386  1.147184  ...    0.005206      0  0.003549   \n",
       "\n",
       "movieID  64993     64997     64999  65006    65037     65088  65091  \n",
       "userID                                                               \n",
       "75           0  0.006862  0.000237      0  0.00284  0.001656      0  \n",
       "78           0  0.006862  0.000237      0  0.00284  0.001656      0  \n",
       "127          0  0.006862  0.000237      0  0.00284  0.001656      0  \n",
       "170          0  0.006862  0.000237      0  0.00284  0.001656      0  \n",
       "175          0  0.006862  0.000237      0  0.00284  0.001656      0  \n",
       "\n",
       "[5 rows x 10084 columns]"
      ]
     },
     "execution_count": 8,
     "metadata": {},
     "output_type": "execute_result"
    }
   ],
   "source": [
    "R1 = R.copy(deep=True)\n",
    "values = R1.apply(np.mean, axis=0).sort_values(ascending=False)\n",
    "\n",
    "for user_id, row in R1.iterrows():\n",
    "    for movie_id, rating in R1.loc[user_id].iteritems():\n",
    "        if rating == 0:\n",
    "            R1.set_value(user_id, movie_id, values.loc[movie_id])\n",
    "\n",
    "R1.head()"
   ]
  },
  {
   "cell_type": "code",
   "execution_count": 17,
   "metadata": {
    "collapsed": false
   },
   "outputs": [
    {
     "data": {
      "text/plain": [
       "0.033278868022330835"
      ]
     },
     "execution_count": 17,
     "metadata": {},
     "output_type": "execute_result"
    }
   ],
   "source": [
    "map_metric(R1, test)"
   ]
  },
  {
   "cell_type": "markdown",
   "metadata": {},
   "source": [
    "# 2. Item-based method"
   ]
  },
  {
   "cell_type": "code",
   "execution_count": 18,
   "metadata": {
    "collapsed": false
   },
   "outputs": [
    {
     "name": "stdout",
     "output_type": "stream",
     "text": [
      "This non-commercial license of GraphLab Create for academic use is assigned to fpm.yunusov@bsu.by and will expire on May 02, 2018.\n"
     ]
    },
    {
     "name": "stderr",
     "output_type": "stream",
     "text": [
      "[INFO] graphlab.cython.cy_server: GraphLab Create v2.1 started. Logging: /tmp/graphlab_server_1493801037.log\n"
     ]
    },
    {
     "data": {
      "text/html": [
       "<pre>Recsys training: model = item_similarity</pre>"
      ],
      "text/plain": [
       "Recsys training: model = item_similarity"
      ]
     },
     "metadata": {},
     "output_type": "display_data"
    },
    {
     "data": {
      "text/html": [
       "<pre>Preparing data set.</pre>"
      ],
      "text/plain": [
       "Preparing data set."
      ]
     },
     "metadata": {},
     "output_type": "display_data"
    },
    {
     "data": {
      "text/html": [
       "<pre>    Data has 849256 observations with 2113 users and 10084 items.</pre>"
      ],
      "text/plain": [
       "    Data has 849256 observations with 2113 users and 10084 items."
      ]
     },
     "metadata": {},
     "output_type": "display_data"
    },
    {
     "data": {
      "text/html": [
       "<pre>    Data prepared in: 0.740163s</pre>"
      ],
      "text/plain": [
       "    Data prepared in: 0.740163s"
      ]
     },
     "metadata": {},
     "output_type": "display_data"
    },
    {
     "data": {
      "text/html": [
       "<pre>Training model from provided data.</pre>"
      ],
      "text/plain": [
       "Training model from provided data."
      ]
     },
     "metadata": {},
     "output_type": "display_data"
    },
    {
     "data": {
      "text/html": [
       "<pre>Gathering per-item and per-user statistics.</pre>"
      ],
      "text/plain": [
       "Gathering per-item and per-user statistics."
      ]
     },
     "metadata": {},
     "output_type": "display_data"
    },
    {
     "data": {
      "text/html": [
       "<pre>+--------------------------------+------------+</pre>"
      ],
      "text/plain": [
       "+--------------------------------+------------+"
      ]
     },
     "metadata": {},
     "output_type": "display_data"
    },
    {
     "data": {
      "text/html": [
       "<pre>| Elapsed Time (Item Statistics) | % Complete |</pre>"
      ],
      "text/plain": [
       "| Elapsed Time (Item Statistics) | % Complete |"
      ]
     },
     "metadata": {},
     "output_type": "display_data"
    },
    {
     "data": {
      "text/html": [
       "<pre>+--------------------------------+------------+</pre>"
      ],
      "text/plain": [
       "+--------------------------------+------------+"
      ]
     },
     "metadata": {},
     "output_type": "display_data"
    },
    {
     "data": {
      "text/html": [
       "<pre>| 42.649ms                       | 47.25      |</pre>"
      ],
      "text/plain": [
       "| 42.649ms                       | 47.25      |"
      ]
     },
     "metadata": {},
     "output_type": "display_data"
    },
    {
     "data": {
      "text/html": [
       "<pre>| 88.714ms                       | 100        |</pre>"
      ],
      "text/plain": [
       "| 88.714ms                       | 100        |"
      ]
     },
     "metadata": {},
     "output_type": "display_data"
    },
    {
     "data": {
      "text/html": [
       "<pre>+--------------------------------+------------+</pre>"
      ],
      "text/plain": [
       "+--------------------------------+------------+"
      ]
     },
     "metadata": {},
     "output_type": "display_data"
    },
    {
     "data": {
      "text/html": [
       "<pre>Setting up lookup tables.</pre>"
      ],
      "text/plain": [
       "Setting up lookup tables."
      ]
     },
     "metadata": {},
     "output_type": "display_data"
    },
    {
     "data": {
      "text/html": [
       "<pre>Processing data in one pass using dense lookup tables.</pre>"
      ],
      "text/plain": [
       "Processing data in one pass using dense lookup tables."
      ]
     },
     "metadata": {},
     "output_type": "display_data"
    },
    {
     "data": {
      "text/html": [
       "<pre>+-------------------------------------+------------------+-----------------+</pre>"
      ],
      "text/plain": [
       "+-------------------------------------+------------------+-----------------+"
      ]
     },
     "metadata": {},
     "output_type": "display_data"
    },
    {
     "data": {
      "text/html": [
       "<pre>| Elapsed Time (Constructing Lookups) | Total % Complete | Items Processed |</pre>"
      ],
      "text/plain": [
       "| Elapsed Time (Constructing Lookups) | Total % Complete | Items Processed |"
      ]
     },
     "metadata": {},
     "output_type": "display_data"
    },
    {
     "data": {
      "text/html": [
       "<pre>+-------------------------------------+------------------+-----------------+</pre>"
      ],
      "text/plain": [
       "+-------------------------------------+------------------+-----------------+"
      ]
     },
     "metadata": {},
     "output_type": "display_data"
    },
    {
     "data": {
      "text/html": [
       "<pre>| 391.871ms                           | 0                | 0               |</pre>"
      ],
      "text/plain": [
       "| 391.871ms                           | 0                | 0               |"
      ]
     },
     "metadata": {},
     "output_type": "display_data"
    },
    {
     "data": {
      "text/html": [
       "<pre>| 1.40s                               | 9                | 923             |</pre>"
      ],
      "text/plain": [
       "| 1.40s                               | 9                | 923             |"
      ]
     },
     "metadata": {},
     "output_type": "display_data"
    },
    {
     "data": {
      "text/html": [
       "<pre>| 2.39s                               | 16               | 1618            |</pre>"
      ],
      "text/plain": [
       "| 2.39s                               | 16               | 1618            |"
      ]
     },
     "metadata": {},
     "output_type": "display_data"
    },
    {
     "data": {
      "text/html": [
       "<pre>| 3.39s                               | 25.25            | 2569            |</pre>"
      ],
      "text/plain": [
       "| 3.39s                               | 25.25            | 2569            |"
      ]
     },
     "metadata": {},
     "output_type": "display_data"
    },
    {
     "data": {
      "text/html": [
       "<pre>| 4.39s                               | 34.5             | 3481            |</pre>"
      ],
      "text/plain": [
       "| 4.39s                               | 34.5             | 3481            |"
      ]
     },
     "metadata": {},
     "output_type": "display_data"
    },
    {
     "data": {
      "text/html": [
       "<pre>| 5.39s                               | 42.75            | 4317            |</pre>"
      ],
      "text/plain": [
       "| 5.39s                               | 42.75            | 4317            |"
      ]
     },
     "metadata": {},
     "output_type": "display_data"
    },
    {
     "data": {
      "text/html": [
       "<pre>| 6.40s                               | 52               | 5256            |</pre>"
      ],
      "text/plain": [
       "| 6.40s                               | 52               | 5256            |"
      ]
     },
     "metadata": {},
     "output_type": "display_data"
    },
    {
     "data": {
      "text/html": [
       "<pre>| 7.41s                               | 61.25            | 6188            |</pre>"
      ],
      "text/plain": [
       "| 7.41s                               | 61.25            | 6188            |"
      ]
     },
     "metadata": {},
     "output_type": "display_data"
    },
    {
     "data": {
      "text/html": [
       "<pre>| 8.40s                               | 67.25            | 6797            |</pre>"
      ],
      "text/plain": [
       "| 8.40s                               | 67.25            | 6797            |"
      ]
     },
     "metadata": {},
     "output_type": "display_data"
    },
    {
     "data": {
      "text/html": [
       "<pre>| 9.41s                               | 76.75            | 7757            |</pre>"
      ],
      "text/plain": [
       "| 9.41s                               | 76.75            | 7757            |"
      ]
     },
     "metadata": {},
     "output_type": "display_data"
    },
    {
     "data": {
      "text/html": [
       "<pre>| 10.39s                              | 84.25            | 8501            |</pre>"
      ],
      "text/plain": [
       "| 10.39s                              | 84.25            | 8501            |"
      ]
     },
     "metadata": {},
     "output_type": "display_data"
    },
    {
     "data": {
      "text/html": [
       "<pre>| 11.40s                              | 89.25            | 9010            |</pre>"
      ],
      "text/plain": [
       "| 11.40s                              | 89.25            | 9010            |"
      ]
     },
     "metadata": {},
     "output_type": "display_data"
    },
    {
     "data": {
      "text/html": [
       "<pre>| 12.39s                              | 96.25            | 9723            |</pre>"
      ],
      "text/plain": [
       "| 12.39s                              | 96.25            | 9723            |"
      ]
     },
     "metadata": {},
     "output_type": "display_data"
    },
    {
     "data": {
      "text/html": [
       "<pre>| 13.95s                              | 100              | 10084           |</pre>"
      ],
      "text/plain": [
       "| 13.95s                              | 100              | 10084           |"
      ]
     },
     "metadata": {},
     "output_type": "display_data"
    },
    {
     "data": {
      "text/html": [
       "<pre>+-------------------------------------+------------------+-----------------+</pre>"
      ],
      "text/plain": [
       "+-------------------------------------+------------------+-----------------+"
      ]
     },
     "metadata": {},
     "output_type": "display_data"
    },
    {
     "data": {
      "text/html": [
       "<pre>Finalizing lookup tables.</pre>"
      ],
      "text/plain": [
       "Finalizing lookup tables."
      ]
     },
     "metadata": {},
     "output_type": "display_data"
    },
    {
     "data": {
      "text/html": [
       "<pre>Generating candidate set for working with new users.</pre>"
      ],
      "text/plain": [
       "Generating candidate set for working with new users."
      ]
     },
     "metadata": {},
     "output_type": "display_data"
    },
    {
     "data": {
      "text/html": [
       "<pre>Finished training in 15.0634s</pre>"
      ],
      "text/plain": [
       "Finished training in 15.0634s"
      ]
     },
     "metadata": {},
     "output_type": "display_data"
    }
   ],
   "source": [
    "model1 = graphlab.recommender.item_similarity_recommender.create(graphlab.SFrame(data=train[['rating']].reset_index()),\n",
    "                                                                 user_id='userID',\n",
    "                                                                 item_id='movieID',\n",
    "                                                                 target='rating',\n",
    "                                                                 similarity_type='pearson')"
   ]
  },
  {
   "cell_type": "code",
   "execution_count": 19,
   "metadata": {
    "collapsed": false
   },
   "outputs": [],
   "source": [
    "result = model1.predict(graphlab.SFrame(data=test.reset_index()))"
   ]
  },
  {
   "cell_type": "code",
   "execution_count": 29,
   "metadata": {
    "collapsed": false
   },
   "outputs": [
    {
     "data": {
      "text/html": [
       "<div>\n",
       "<table border=\"1\" class=\"dataframe\">\n",
       "  <thead>\n",
       "    <tr style=\"text-align: right;\">\n",
       "      <th>movieID</th>\n",
       "      <th>1</th>\n",
       "      <th>2</th>\n",
       "      <th>3</th>\n",
       "      <th>4</th>\n",
       "      <th>5</th>\n",
       "      <th>6</th>\n",
       "      <th>7</th>\n",
       "      <th>8</th>\n",
       "      <th>9</th>\n",
       "      <th>10</th>\n",
       "      <th>...</th>\n",
       "      <th>64983</th>\n",
       "      <th>64986</th>\n",
       "      <th>64990</th>\n",
       "      <th>64993</th>\n",
       "      <th>64997</th>\n",
       "      <th>64999</th>\n",
       "      <th>65006</th>\n",
       "      <th>65037</th>\n",
       "      <th>65088</th>\n",
       "      <th>65091</th>\n",
       "    </tr>\n",
       "    <tr>\n",
       "      <th>userID</th>\n",
       "      <th></th>\n",
       "      <th></th>\n",
       "      <th></th>\n",
       "      <th></th>\n",
       "      <th></th>\n",
       "      <th></th>\n",
       "      <th></th>\n",
       "      <th></th>\n",
       "      <th></th>\n",
       "      <th></th>\n",
       "      <th></th>\n",
       "      <th></th>\n",
       "      <th></th>\n",
       "      <th></th>\n",
       "      <th></th>\n",
       "      <th></th>\n",
       "      <th></th>\n",
       "      <th></th>\n",
       "      <th></th>\n",
       "      <th></th>\n",
       "      <th></th>\n",
       "    </tr>\n",
       "  </thead>\n",
       "  <tbody>\n",
       "    <tr>\n",
       "      <th>75</th>\n",
       "      <td>0.0</td>\n",
       "      <td>0.0</td>\n",
       "      <td>1.0</td>\n",
       "      <td>0.0</td>\n",
       "      <td>0.0</td>\n",
       "      <td>0.0</td>\n",
       "      <td>0.0</td>\n",
       "      <td>0.0</td>\n",
       "      <td>0.0</td>\n",
       "      <td>0.0</td>\n",
       "      <td>...</td>\n",
       "      <td>0.0</td>\n",
       "      <td>0</td>\n",
       "      <td>0.0</td>\n",
       "      <td>0</td>\n",
       "      <td>0.0</td>\n",
       "      <td>0.0</td>\n",
       "      <td>0</td>\n",
       "      <td>0.0</td>\n",
       "      <td>0.0</td>\n",
       "      <td>0</td>\n",
       "    </tr>\n",
       "    <tr>\n",
       "      <th>78</th>\n",
       "      <td>0.0</td>\n",
       "      <td>0.0</td>\n",
       "      <td>0.0</td>\n",
       "      <td>0.0</td>\n",
       "      <td>0.0</td>\n",
       "      <td>0.0</td>\n",
       "      <td>0.0</td>\n",
       "      <td>0.0</td>\n",
       "      <td>0.0</td>\n",
       "      <td>0.0</td>\n",
       "      <td>...</td>\n",
       "      <td>0.0</td>\n",
       "      <td>0</td>\n",
       "      <td>0.0</td>\n",
       "      <td>0</td>\n",
       "      <td>0.0</td>\n",
       "      <td>0.0</td>\n",
       "      <td>0</td>\n",
       "      <td>0.0</td>\n",
       "      <td>0.0</td>\n",
       "      <td>0</td>\n",
       "    </tr>\n",
       "    <tr>\n",
       "      <th>127</th>\n",
       "      <td>0.0</td>\n",
       "      <td>0.0</td>\n",
       "      <td>0.0</td>\n",
       "      <td>0.0</td>\n",
       "      <td>0.0</td>\n",
       "      <td>0.0</td>\n",
       "      <td>0.0</td>\n",
       "      <td>0.0</td>\n",
       "      <td>0.0</td>\n",
       "      <td>0.0</td>\n",
       "      <td>...</td>\n",
       "      <td>0.0</td>\n",
       "      <td>0</td>\n",
       "      <td>0.0</td>\n",
       "      <td>0</td>\n",
       "      <td>0.0</td>\n",
       "      <td>0.0</td>\n",
       "      <td>0</td>\n",
       "      <td>0.0</td>\n",
       "      <td>0.0</td>\n",
       "      <td>0</td>\n",
       "    </tr>\n",
       "    <tr>\n",
       "      <th>170</th>\n",
       "      <td>3.0</td>\n",
       "      <td>2.0</td>\n",
       "      <td>0.0</td>\n",
       "      <td>0.0</td>\n",
       "      <td>0.0</td>\n",
       "      <td>0.0</td>\n",
       "      <td>0.0</td>\n",
       "      <td>0.0</td>\n",
       "      <td>0.0</td>\n",
       "      <td>3.5</td>\n",
       "      <td>...</td>\n",
       "      <td>0.0</td>\n",
       "      <td>0</td>\n",
       "      <td>0.0</td>\n",
       "      <td>0</td>\n",
       "      <td>0.0</td>\n",
       "      <td>0.0</td>\n",
       "      <td>0</td>\n",
       "      <td>0.0</td>\n",
       "      <td>0.0</td>\n",
       "      <td>0</td>\n",
       "    </tr>\n",
       "    <tr>\n",
       "      <th>175</th>\n",
       "      <td>4.0</td>\n",
       "      <td>0.0</td>\n",
       "      <td>0.0</td>\n",
       "      <td>0.0</td>\n",
       "      <td>0.0</td>\n",
       "      <td>5.0</td>\n",
       "      <td>0.0</td>\n",
       "      <td>0.0</td>\n",
       "      <td>0.0</td>\n",
       "      <td>0.0</td>\n",
       "      <td>...</td>\n",
       "      <td>0.0</td>\n",
       "      <td>0</td>\n",
       "      <td>0.0</td>\n",
       "      <td>0</td>\n",
       "      <td>0.0</td>\n",
       "      <td>0.0</td>\n",
       "      <td>0</td>\n",
       "      <td>0.0</td>\n",
       "      <td>0.0</td>\n",
       "      <td>0</td>\n",
       "    </tr>\n",
       "  </tbody>\n",
       "</table>\n",
       "<p>5 rows × 10084 columns</p>\n",
       "</div>"
      ],
      "text/plain": [
       "movieID  1      2      3      4      5      6      7      8      9      10     \\\n",
       "userID                                                                          \n",
       "75         0.0    0.0    1.0    0.0    0.0    0.0    0.0    0.0    0.0    0.0   \n",
       "78         0.0    0.0    0.0    0.0    0.0    0.0    0.0    0.0    0.0    0.0   \n",
       "127        0.0    0.0    0.0    0.0    0.0    0.0    0.0    0.0    0.0    0.0   \n",
       "170        3.0    2.0    0.0    0.0    0.0    0.0    0.0    0.0    0.0    3.5   \n",
       "175        4.0    0.0    0.0    0.0    0.0    5.0    0.0    0.0    0.0    0.0   \n",
       "\n",
       "movieID  ...    64983  64986  64990  64993  64997  64999  65006  65037  65088  \\\n",
       "userID   ...                                                                    \n",
       "75       ...      0.0      0    0.0      0    0.0    0.0      0    0.0    0.0   \n",
       "78       ...      0.0      0    0.0      0    0.0    0.0      0    0.0    0.0   \n",
       "127      ...      0.0      0    0.0      0    0.0    0.0      0    0.0    0.0   \n",
       "170      ...      0.0      0    0.0      0    0.0    0.0      0    0.0    0.0   \n",
       "175      ...      0.0      0    0.0      0    0.0    0.0      0    0.0    0.0   \n",
       "\n",
       "movieID  65091  \n",
       "userID          \n",
       "75           0  \n",
       "78           0  \n",
       "127          0  \n",
       "170          0  \n",
       "175          0  \n",
       "\n",
       "[5 rows x 10084 columns]"
      ]
     },
     "execution_count": 29,
     "metadata": {},
     "output_type": "execute_result"
    }
   ],
   "source": [
    "R2 = R.copy(deep=True)\n",
    "values = test.copy()\n",
    "values['new_rating'] = result\n",
    "\n",
    "for user_id, row in R2.iterrows():\n",
    "    for movie_id, rating in R2.loc[user_id].iteritems():\n",
    "        if rating == 0:\n",
    "            try:\n",
    "                value = values.loc[user_id, movie_id]['new_rating']\n",
    "            except:\n",
    "                value = 0.0\n",
    "            R2.set_value(user_id, movie_id, value)\n",
    "    break\n",
    "\n",
    "R2.head()"
   ]
  },
  {
   "cell_type": "code",
   "execution_count": 31,
   "metadata": {
    "collapsed": false
   },
   "outputs": [
    {
     "data": {
      "text/html": [
       "<div>\n",
       "<table border=\"1\" class=\"dataframe\">\n",
       "  <thead>\n",
       "    <tr style=\"text-align: right;\">\n",
       "      <th></th>\n",
       "      <th></th>\n",
       "      <th>rating</th>\n",
       "      <th>timestamp</th>\n",
       "      <th>new_rating</th>\n",
       "    </tr>\n",
       "    <tr>\n",
       "      <th>userID</th>\n",
       "      <th>movieID</th>\n",
       "      <th></th>\n",
       "      <th></th>\n",
       "      <th></th>\n",
       "    </tr>\n",
       "  </thead>\n",
       "  <tbody>\n",
       "    <tr>\n",
       "      <th rowspan=\"3\" valign=\"top\">75</th>\n",
       "      <th>2571</th>\n",
       "      <td>4.5</td>\n",
       "      <td>1162161050000</td>\n",
       "      <td>4.179417</td>\n",
       "    </tr>\n",
       "    <tr>\n",
       "      <th>5952</th>\n",
       "      <td>3.5</td>\n",
       "      <td>1162161040000</td>\n",
       "      <td>4.024876</td>\n",
       "    </tr>\n",
       "    <tr>\n",
       "      <th>7153</th>\n",
       "      <td>3.5</td>\n",
       "      <td>1162161036000</td>\n",
       "      <td>4.088363</td>\n",
       "    </tr>\n",
       "    <tr>\n",
       "      <th rowspan=\"3\" valign=\"top\">78</th>\n",
       "      <th>8400</th>\n",
       "      <td>4.5</td>\n",
       "      <td>1177224301000</td>\n",
       "      <td>3.658329</td>\n",
       "    </tr>\n",
       "    <tr>\n",
       "      <th>44694</th>\n",
       "      <td>2.0</td>\n",
       "      <td>1179550301000</td>\n",
       "      <td>3.859334</td>\n",
       "    </tr>\n",
       "    <tr>\n",
       "      <th>50872</th>\n",
       "      <td>4.5</td>\n",
       "      <td>1188713380000</td>\n",
       "      <td>3.990663</td>\n",
       "    </tr>\n",
       "    <tr>\n",
       "      <th rowspan=\"3\" valign=\"top\">127</th>\n",
       "      <th>6013</th>\n",
       "      <td>3.0</td>\n",
       "      <td>1190232446000</td>\n",
       "      <td>1.897920</td>\n",
       "    </tr>\n",
       "    <tr>\n",
       "      <th>6958</th>\n",
       "      <td>4.0</td>\n",
       "      <td>1190232418000</td>\n",
       "      <td>2.453377</td>\n",
       "    </tr>\n",
       "    <tr>\n",
       "      <th>30883</th>\n",
       "      <td>2.5</td>\n",
       "      <td>1190232402000</td>\n",
       "      <td>1.980769</td>\n",
       "    </tr>\n",
       "    <tr>\n",
       "      <th>170</th>\n",
       "      <th>4251</th>\n",
       "      <td>4.0</td>\n",
       "      <td>1180699501000</td>\n",
       "      <td>3.608696</td>\n",
       "    </tr>\n",
       "  </tbody>\n",
       "</table>\n",
       "</div>"
      ],
      "text/plain": [
       "                rating      timestamp  new_rating\n",
       "userID movieID                                   \n",
       "75     2571        4.5  1162161050000    4.179417\n",
       "       5952        3.5  1162161040000    4.024876\n",
       "       7153        3.5  1162161036000    4.088363\n",
       "78     8400        4.5  1177224301000    3.658329\n",
       "       44694       2.0  1179550301000    3.859334\n",
       "       50872       4.5  1188713380000    3.990663\n",
       "127    6013        3.0  1190232446000    1.897920\n",
       "       6958        4.0  1190232418000    2.453377\n",
       "       30883       2.5  1190232402000    1.980769\n",
       "170    4251        4.0  1180699501000    3.608696"
      ]
     },
     "execution_count": 31,
     "metadata": {},
     "output_type": "execute_result"
    }
   ],
   "source": [
    "values.head(10)"
   ]
  },
  {
   "cell_type": "code",
   "execution_count": 30,
   "metadata": {
    "collapsed": false
   },
   "outputs": [
    {
     "name": "stdout",
     "output_type": "stream",
     "text": [
      "MAP: 0.066865\n",
      "RMSE: 3.730742\n"
     ]
    }
   ],
   "source": [
    "print('MAP: %f' % map_metric(R2, test))\n",
    "print('RMSE: %f' % rmse_metric(R2, test))"
   ]
  },
  {
   "cell_type": "markdown",
   "metadata": {},
   "source": [
    "# Разреженный SVD"
   ]
  },
  {
   "cell_type": "code",
   "execution_count": null,
   "metadata": {
    "collapsed": true
   },
   "outputs": [],
   "source": []
  }
 ],
 "metadata": {
  "kernelspec": {
   "display_name": "Python 2",
   "language": "python",
   "name": "python2"
  },
  "language_info": {
   "codemirror_mode": {
    "name": "ipython",
    "version": 2
   },
   "file_extension": ".py",
   "mimetype": "text/x-python",
   "name": "python",
   "nbconvert_exporter": "python",
   "pygments_lexer": "ipython2",
   "version": "2.7.11"
  }
 },
 "nbformat": 4,
 "nbformat_minor": 2
}
