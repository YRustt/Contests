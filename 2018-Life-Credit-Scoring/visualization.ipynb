{
 "cells": [
  {
   "cell_type": "code",
   "execution_count": 11,
   "metadata": {},
   "outputs": [],
   "source": [
    "import os\n",
    "import random\n",
    "\n",
    "import pandas as pd\n",
    "import numpy as np\n",
    "\n",
    "import xgboost as xgb\n",
    "\n",
    "DATA_DIR = 'data'\n",
    "TEST_X_FILENAME = os.path.join(DATA_DIR, 'crx_data_test_x.csv')\n",
    "TRAIN_X_FILENAME = os.path.join(DATA_DIR, 'crx_data_train_x.csv')\n",
    "TRAIN_Y_FILENAME = os.path.join(DATA_DIR, 'crx_data_train_y.csv')\n",
    "RESULT_FILENAME = os.path.join(DATA_DIR, 'result.csv')"
   ]
  },
  {
   "cell_type": "code",
   "execution_count": 2,
   "metadata": {
    "collapsed": true
   },
   "outputs": [],
   "source": [
    "def read_file(filename: str) -> pd.DataFrame:\n",
    "    df = pd.read_csv(filename, sep=',', header=None)\n",
    "    return df\n",
    "\n",
    "\n",
    "def categorical(train, test, col):\n",
    "    uniques = list(sorted(set(train[col].unique()) | set(test[col].unique()) - {'?'}))\n",
    "    count = len(uniques)\n",
    "\n",
    "    columns = ['idx']\n",
    "    for u in uniques:\n",
    "        columns.append('{}_{}'.format(col, u))\n",
    "    \n",
    "    def make_result(df):\n",
    "        feature = []\n",
    "        for idx, item in df[col].iteritems():\n",
    "            line = [idx]\n",
    "            if item == '?':\n",
    "                line.extend([0] * count)\n",
    "            else:\n",
    "                suffix = [0] * count\n",
    "                suffix[uniques.index(item)] = 1\n",
    "                line.extend(suffix)\n",
    "            feature.append(line)\n",
    "        \n",
    "        result = pd.DataFrame(feature, columns=columns)\n",
    "        result.set_index('idx', inplace=True)\n",
    "        return result\n",
    "\n",
    "    return make_result(train), make_result(test)\n",
    "\n",
    "\n",
    "def preprocessing(train, test):\n",
    "    categorical_idx = [0, 3, 4, 5, 6, 8, 9, 11, 12]\n",
    "    for idx in categorical_idx:\n",
    "        train_res, test_res = categorical(train, test, idx)\n",
    "        train = pd.concat([train, train_res], axis=1, sort=False)\n",
    "        test = pd.concat([test, test_res], axis=1, sort=False)\n",
    "        del train[idx], test[idx]\n",
    "\n",
    "    nan_float_idx = [1]\n",
    "    for idx in nan_float_idx:\n",
    "        train[idx] = train[idx].apply(lambda x: float(x) if x != '?' else None)\n",
    "        test[idx] = test[idx].apply(lambda x: float(x) if x != '?' else None)\n",
    "        mean_value = train[idx].mean()\n",
    "        train[idx] = train[idx].fillna(mean_value)\n",
    "        test[idx] = test[idx].fillna(mean_value)\n",
    "\n",
    "    nan_int_idx = [13]\n",
    "    for idx in nan_int_idx:\n",
    "        values = [int(item) for idx, item in train[idx].iteritems() if item != '?']\n",
    "        train[idx] = train[idx].apply(lambda x: int(x) if x != '?' else random.choice(values))\n",
    "        test[idx] = test[idx].apply(lambda x: int(x) if x != '?' else random.choice(values))\n",
    "\n",
    "    return train, test"
   ]
  },
  {
   "cell_type": "code",
   "execution_count": 5,
   "metadata": {},
   "outputs": [],
   "source": [
    "def pipeline():\n",
    "    train_x = read_file(TRAIN_X_FILENAME)\n",
    "    test_x = read_file(TEST_X_FILENAME)\n",
    "    train_y = read_file(TRAIN_Y_FILENAME)\n",
    "\n",
    "    train_x, test_x = preprocessing(train_x, test_x)\n",
    "    \n",
    "    assert train_x.shape[1] == test_x.shape[1]\n",
    "\n",
    "    train_dmatrix = xgb.DMatrix(data=train_x, label=train_y)\n",
    "    test_dmatrix = xgb.DMatrix(data=test_x)\n",
    "\n",
    "    params = {\n",
    "        \"objective\": \"binary:logistic\",\n",
    "        \"colsample_bytree\": 0.3,\n",
    "        \"learning_rate\": 0.1,\n",
    "        \"max_depth\": 5, \n",
    "        \"alpha\": 10\n",
    "    }\n",
    "    xg_reg = xgb.train(params=params, dtrain=train_dmatrix)\n",
    "    predict = xg_reg.predict(test_dmatrix)\n",
    "    \n",
    "    return predict"
   ]
  },
  {
   "cell_type": "code",
   "execution_count": 6,
   "metadata": {},
   "outputs": [
    {
     "name": "stdout",
     "output_type": "stream",
     "text": [
      "[21:00:52] /workspace/src/tree/updater_prune.cc:74: tree pruning end, 1 roots, 18 extra nodes, 0 pruned nodes, max_depth=5\n",
      "[21:00:52] /workspace/src/tree/updater_prune.cc:74: tree pruning end, 1 roots, 12 extra nodes, 0 pruned nodes, max_depth=3\n",
      "[21:00:52] /workspace/src/tree/updater_prune.cc:74: tree pruning end, 1 roots, 10 extra nodes, 0 pruned nodes, max_depth=4\n",
      "[21:00:52] /workspace/src/tree/updater_prune.cc:74: tree pruning end, 1 roots, 12 extra nodes, 0 pruned nodes, max_depth=5\n",
      "[21:00:52] /workspace/src/tree/updater_prune.cc:74: tree pruning end, 1 roots, 12 extra nodes, 0 pruned nodes, max_depth=5\n",
      "[21:00:52] /workspace/src/tree/updater_prune.cc:74: tree pruning end, 1 roots, 12 extra nodes, 0 pruned nodes, max_depth=5\n",
      "[21:00:52] /workspace/src/tree/updater_prune.cc:74: tree pruning end, 1 roots, 10 extra nodes, 0 pruned nodes, max_depth=4\n",
      "[21:00:52] /workspace/src/tree/updater_prune.cc:74: tree pruning end, 1 roots, 10 extra nodes, 0 pruned nodes, max_depth=4\n",
      "[21:00:52] /workspace/src/tree/updater_prune.cc:74: tree pruning end, 1 roots, 10 extra nodes, 0 pruned nodes, max_depth=3\n",
      "[21:00:52] /workspace/src/tree/updater_prune.cc:74: tree pruning end, 1 roots, 10 extra nodes, 0 pruned nodes, max_depth=4\n",
      "[0.5987045  0.46705684 0.42846698 0.54140645 0.32941377 0.5476891\n",
      " 0.4856455  0.46831053 0.62240195 0.42337725 0.27653745 0.6591132\n",
      " 0.2953195  0.27653745 0.31326112 0.6663901  0.38041937 0.46705684\n",
      " 0.3200587  0.30427507 0.5824991  0.462707   0.3567236  0.35410526\n",
      " 0.7101025  0.5265057  0.3147259  0.6437715  0.6469625  0.37178996\n",
      " 0.28925428 0.44716215 0.7101025  0.32690364 0.7101025  0.35139996\n",
      " 0.7101025  0.65343344 0.3627832  0.49531972 0.36999395 0.29522672\n",
      " 0.34891486 0.28925428 0.38580167 0.31335706 0.3734567  0.28925428\n",
      " 0.44067374 0.7101025  0.62138903 0.27653745 0.34474647 0.2939063\n",
      " 0.28925428 0.68459105 0.5265057  0.464214   0.29522672 0.3861577\n",
      " 0.5289572  0.27653745 0.5544711  0.65410924 0.31326112 0.34891486\n",
      " 0.7101025  0.44716215 0.27653745 0.7101025  0.61002594 0.6038545\n",
      " 0.70018625 0.36112216 0.27653745 0.2939063  0.6034224  0.65343344\n",
      " 0.38041937 0.39859748 0.5501246  0.3085317  0.5125056  0.49286103\n",
      " 0.35296342 0.28925428 0.2953195  0.3433517  0.3084366  0.3444701\n",
      " 0.3258139  0.509156   0.3954673  0.6171534  0.5832716  0.3147259\n",
      " 0.30126712 0.34891486 0.39778233 0.47140294 0.7101025  0.3323427\n",
      " 0.68573946 0.35410526 0.6591132  0.5852364  0.40272102 0.4181326\n",
      " 0.54068977 0.27653745 0.66268235 0.40139884 0.3847311  0.3323427\n",
      " 0.3728589  0.30427507 0.33072516 0.31326112 0.39859748 0.68459105\n",
      " 0.5418534  0.6358723  0.37140682 0.6034224  0.2939063  0.56742376\n",
      " 0.27653745 0.68459105 0.32690364 0.28823632 0.27653745 0.27653745\n",
      " 0.7101025  0.68459105 0.7101025  0.3429362  0.28823632 0.39859748\n",
      " 0.46152255 0.5556131  0.6920441  0.32690364 0.3147259  0.6437715\n",
      " 0.62926793 0.6075587  0.3084366  0.35139996 0.3084366  0.3147259\n",
      " 0.63115114 0.5733085  0.3639592  0.27653745 0.6022534  0.44716215\n",
      " 0.7101025  0.7101025  0.3003739  0.33677146 0.49286103 0.64602405\n",
      " 0.7101025  0.27653745 0.29522672 0.337819   0.2939063  0.27653745\n",
      " 0.49286103 0.3567236  0.31326112 0.44716215 0.34891486 0.6670653\n",
      " 0.6228138  0.549676   0.5265057  0.5671781  0.32088637 0.3003739\n",
      " 0.28925428 0.3084366  0.6591132  0.35296342 0.28925428 0.5265057\n",
      " 0.65410924 0.46831053 0.62636197 0.65343344 0.55288005 0.38436663\n",
      " 0.7101025  0.3583195  0.45470124 0.31326112 0.33072516 0.3927382\n",
      " 0.67207414 0.4499882  0.65343344 0.27653745 0.3429362  0.36427802\n",
      " 0.31326112 0.5848892  0.5822197 ]\n"
     ]
    }
   ],
   "source": [
    "predict = pipeline()\n",
    "\n",
    "print(predict)"
   ]
  },
  {
   "cell_type": "code",
   "execution_count": 13,
   "metadata": {},
   "outputs": [],
   "source": [
    "np.savetxt(RESULT_FILENAME, 1 - predict.round().astype(int), delimiter=',')"
   ]
  },
  {
   "cell_type": "code",
   "execution_count": null,
   "metadata": {
    "collapsed": true
   },
   "outputs": [],
   "source": []
  }
 ],
 "metadata": {
  "kernelspec": {
   "display_name": "jupyter-env",
   "language": "python",
   "name": "jupyter-env"
  },
  "language_info": {
   "codemirror_mode": {
    "name": "ipython",
    "version": 3
   },
   "file_extension": ".py",
   "mimetype": "text/x-python",
   "name": "python",
   "nbconvert_exporter": "python",
   "pygments_lexer": "ipython3",
   "version": "3.5.4"
  }
 },
 "nbformat": 4,
 "nbformat_minor": 2
}
