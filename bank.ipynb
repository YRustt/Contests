{
 "cells": [
  {
   "cell_type": "code",
   "execution_count": 113,
   "metadata": {
    "collapsed": true
   },
   "outputs": [],
   "source": [
    "import pandas as pd\n",
    "import numpy as np\n",
    "from sklearn.ensemble import GradientBoostingRegressor, RandomForestRegressor\n",
    "from sklearn.svm import SVR\n",
    "from sklearn.model_selection import GridSearchCV, train_test_split"
   ]
  },
  {
   "cell_type": "code",
   "execution_count": 98,
   "metadata": {},
   "outputs": [
    {
     "data": {
      "text/html": [
       "<div>\n",
       "<table border=\"1\" class=\"dataframe\">\n",
       "  <thead>\n",
       "    <tr style=\"text-align: right;\">\n",
       "      <th></th>\n",
       "      <th>_ID_﻿</th>\n",
       "      <th>_TYPE_</th>\n",
       "      <th>_DATE_</th>\n",
       "      <th>_ADDRESS_</th>\n",
       "      <th>_PRICE_</th>\n",
       "      <th>_AREA_</th>\n",
       "      <th>_METRO</th>\n",
       "      <th>_LAT_</th>\n",
       "      <th>_LON_</th>\n",
       "      <th>_DESC_</th>\n",
       "    </tr>\n",
       "  </thead>\n",
       "  <tbody>\n",
       "    <tr>\n",
       "      <th>0</th>\n",
       "      <td>46595</td>\n",
       "      <td>Офис</td>\n",
       "      <td>10/09/2016</td>\n",
       "      <td>г.Чебоксары, ул.Ярославская, 76, Ленинский, Че...</td>\n",
       "      <td>1 100 000 РУБ.</td>\n",
       "      <td>16,1м²</td>\n",
       "      <td>-</td>\n",
       "      <td>56.13138</td>\n",
       "      <td>47.24982</td>\n",
       "      <td>Офис находится в административном здании, кото...</td>\n",
       "    </tr>\n",
       "    <tr>\n",
       "      <th>1</th>\n",
       "      <td>45544</td>\n",
       "      <td>Производство</td>\n",
       "      <td>15/08/2016</td>\n",
       "      <td>ул Автодромная, 21, Троицк, Челябинская область</td>\n",
       "      <td>4 200 000 РУБ.</td>\n",
       "      <td>600м²</td>\n",
       "      <td>-</td>\n",
       "      <td>54.0818634</td>\n",
       "      <td>61.5924759</td>\n",
       "      <td>Продам производственное помещение в районе Тро...</td>\n",
       "    </tr>\n",
       "    <tr>\n",
       "      <th>2</th>\n",
       "      <td>17472</td>\n",
       "      <td>Другое</td>\n",
       "      <td>26/08/2016</td>\n",
       "      <td>ул Дальневосточная, 151, Октябрьский, Иркутск,...</td>\n",
       "      <td>3 400 000 РУБ.</td>\n",
       "      <td>55м²</td>\n",
       "      <td>-</td>\n",
       "      <td>52.2538872</td>\n",
       "      <td>104.3219</td>\n",
       "      <td>ЖК Ангарские паруса, отличное помещение, с отд...</td>\n",
       "    </tr>\n",
       "    <tr>\n",
       "      <th>3</th>\n",
       "      <td>33269</td>\n",
       "      <td>Другое</td>\n",
       "      <td>30/08/2016</td>\n",
       "      <td>ул Ленина, 268в, Азов, Ростовская область</td>\n",
       "      <td>15 000 000 РУБ.</td>\n",
       "      <td>280м²</td>\n",
       "      <td>-</td>\n",
       "      <td>47.0912743</td>\n",
       "      <td>39.4440079</td>\n",
       "      <td>Продается здание под коммерческую деятельность...</td>\n",
       "    </tr>\n",
       "    <tr>\n",
       "      <th>4</th>\n",
       "      <td>21835</td>\n",
       "      <td>Офис</td>\n",
       "      <td>20/08/2016</td>\n",
       "      <td>пр.Репина, Прикубанский, Краснодар, Краснодарс...</td>\n",
       "      <td>750 000 РУБ.</td>\n",
       "      <td>20м²</td>\n",
       "      <td>-</td>\n",
       "      <td>None</td>\n",
       "      <td>None</td>\n",
       "      <td>цокольный этаж 16-ти эт. дома, квроремонт, спл...</td>\n",
       "    </tr>\n",
       "  </tbody>\n",
       "</table>\n",
       "</div>"
      ],
      "text/plain": [
       "<div>\n",
       "<table border=\"1\" class=\"dataframe\">\n",
       "  <thead>\n",
       "    <tr style=\"text-align: right;\">\n",
       "      <th></th>\n",
       "      <th>_ID_﻿</th>\n",
       "      <th>_TYPE_</th>\n",
       "      <th>_DATE_</th>\n",
       "      <th>_ADDRESS_</th>\n",
       "      <th>_PRICE_</th>\n",
       "      <th>_AREA_</th>\n",
       "      <th>_METRO</th>\n",
       "      <th>_LAT_</th>\n",
       "      <th>_LON_</th>\n",
       "      <th>_DESC_</th>\n",
       "    </tr>\n",
       "  </thead>\n",
       "  <tbody>\n",
       "    <tr>\n",
       "      <th>0</th>\n",
       "      <td>46595</td>\n",
       "      <td>Офис</td>\n",
       "      <td>10/09/2016</td>\n",
       "      <td>г.Чебоксары, ул.Ярославская, 76, Ленинский, Че...</td>\n",
       "      <td>1 100 000 РУБ.</td>\n",
       "      <td>16,1м²</td>\n",
       "      <td>-</td>\n",
       "      <td>56.13138</td>\n",
       "      <td>47.24982</td>\n",
       "      <td>Офис находится в административном здании, кото...</td>\n",
       "    </tr>\n",
       "    <tr>\n",
       "      <th>1</th>\n",
       "      <td>45544</td>\n",
       "      <td>Производство</td>\n",
       "      <td>15/08/2016</td>\n",
       "      <td>ул Автодромная, 21, Троицк, Челябинская область</td>\n",
       "      <td>4 200 000 РУБ.</td>\n",
       "      <td>600м²</td>\n",
       "      <td>-</td>\n",
       "      <td>54.0818634</td>\n",
       "      <td>61.5924759</td>\n",
       "      <td>Продам производственное помещение в районе Тро...</td>\n",
       "    </tr>\n",
       "    <tr>\n",
       "      <th>2</th>\n",
       "      <td>17472</td>\n",
       "      <td>Другое</td>\n",
       "      <td>26/08/2016</td>\n",
       "      <td>ул Дальневосточная, 151, Октябрьский, Иркутск,...</td>\n",
       "      <td>3 400 000 РУБ.</td>\n",
       "      <td>55м²</td>\n",
       "      <td>-</td>\n",
       "      <td>52.2538872</td>\n",
       "      <td>104.3219</td>\n",
       "      <td>ЖК Ангарские паруса, отличное помещение, с отд...</td>\n",
       "    </tr>\n",
       "    <tr>\n",
       "      <th>3</th>\n",
       "      <td>33269</td>\n",
       "      <td>Другое</td>\n",
       "      <td>30/08/2016</td>\n",
       "      <td>ул Ленина, 268в, Азов, Ростовская область</td>\n",
       "      <td>15 000 000 РУБ.</td>\n",
       "      <td>280м²</td>\n",
       "      <td>-</td>\n",
       "      <td>47.0912743</td>\n",
       "      <td>39.4440079</td>\n",
       "      <td>Продается здание под коммерческую деятельность...</td>\n",
       "    </tr>\n",
       "    <tr>\n",
       "      <th>4</th>\n",
       "      <td>21835</td>\n",
       "      <td>Офис</td>\n",
       "      <td>20/08/2016</td>\n",
       "      <td>пр.Репина, Прикубанский, Краснодар, Краснодарс...</td>\n",
       "      <td>750 000 РУБ.</td>\n",
       "      <td>20м²</td>\n",
       "      <td>-</td>\n",
       "      <td>None</td>\n",
       "      <td>None</td>\n",
       "      <td>цокольный этаж 16-ти эт. дома, квроремонт, спл...</td>\n",
       "    </tr>\n",
       "  </tbody>\n",
       "</table>\n",
       "</div>"
      ]
     },
     "execution_count": 98,
     "metadata": {},
     "output_type": "execute_result"
    }
   ],
   "source": [
    "train = pd.read_csv('data/bank/train.csv')\n",
    "train.fillna('-', inplace=True)\n",
    "\n",
    "train.head()"
   ]
  },
  {
   "cell_type": "code",
   "execution_count": 99,
   "metadata": {},
   "outputs": [
    {
     "data": {
      "text/html": [
       "<div>\n",
       "<table border=\"1\" class=\"dataframe\">\n",
       "  <thead>\n",
       "    <tr style=\"text-align: right;\">\n",
       "      <th></th>\n",
       "      <th>_ID_</th>\n",
       "      <th>_CITY_</th>\n",
       "      <th>_ADRS_</th>\n",
       "      <th>_OBJ_TYPE_</th>\n",
       "      <th>_TTL_S_</th>\n",
       "      <th>_F1_S_</th>\n",
       "      <th>_F1_U_</th>\n",
       "      <th>_FC_S_</th>\n",
       "      <th>_FC_U_</th>\n",
       "      <th>_F0_S_</th>\n",
       "      <th>...</th>\n",
       "      <th>_ROUND_</th>\n",
       "      <th>_FOOT_TRAF_</th>\n",
       "      <th>_IS_PRKNG_</th>\n",
       "      <th>_IS_WIN_</th>\n",
       "      <th>_IS_SEP_ENT_</th>\n",
       "      <th>_IS_VENT_</th>\n",
       "      <th>_DECOR_</th>\n",
       "      <th>_IS_COM_</th>\n",
       "      <th>_F1_H_</th>\n",
       "      <th>_DATE_</th>\n",
       "    </tr>\n",
       "  </thead>\n",
       "  <tbody>\n",
       "    <tr>\n",
       "      <th>0</th>\n",
       "      <td>0</td>\n",
       "      <td>г. Санкт-Петербург</td>\n",
       "      <td>1-я Красноармейская ул., д.8-10, лит.А</td>\n",
       "      <td>помещение</td>\n",
       "      <td>184,7</td>\n",
       "      <td>184,7</td>\n",
       "      <td>торговое</td>\n",
       "      <td>0</td>\n",
       "      <td>-</td>\n",
       "      <td>0</td>\n",
       "      <td>...</td>\n",
       "      <td>жилая застройка</td>\n",
       "      <td>очень высокий</td>\n",
       "      <td>городская парковка</td>\n",
       "      <td>да</td>\n",
       "      <td>да</td>\n",
       "      <td>центральная вентиляция</td>\n",
       "      <td>рабочее состояние</td>\n",
       "      <td>все</td>\n",
       "      <td>2,7</td>\n",
       "      <td>19.04.2016</td>\n",
       "    </tr>\n",
       "    <tr>\n",
       "      <th>1</th>\n",
       "      <td>1</td>\n",
       "      <td>г. Санкт-Петербург</td>\n",
       "      <td>пр. Просвещения, д. 54, лит. А</td>\n",
       "      <td>помещение</td>\n",
       "      <td>284,8</td>\n",
       "      <td>284,8</td>\n",
       "      <td>торговое</td>\n",
       "      <td>0</td>\n",
       "      <td>-</td>\n",
       "      <td>0</td>\n",
       "      <td>...</td>\n",
       "      <td>жилая застройка</td>\n",
       "      <td>низкий</td>\n",
       "      <td>нет</td>\n",
       "      <td>да</td>\n",
       "      <td>да</td>\n",
       "      <td>нет</td>\n",
       "      <td>рабочее состояние</td>\n",
       "      <td>все</td>\n",
       "      <td>3/3,1/2,95</td>\n",
       "      <td>06.04.2016</td>\n",
       "    </tr>\n",
       "    <tr>\n",
       "      <th>2</th>\n",
       "      <td>2</td>\n",
       "      <td>г. Санкт-Петербург</td>\n",
       "      <td>Кондратьевский, д. 51, корп. 1, лит. А</td>\n",
       "      <td>помещение</td>\n",
       "      <td>59,6</td>\n",
       "      <td>59,6</td>\n",
       "      <td>торговое</td>\n",
       "      <td>0</td>\n",
       "      <td>-</td>\n",
       "      <td>0</td>\n",
       "      <td>...</td>\n",
       "      <td>жилая застройка</td>\n",
       "      <td>средний</td>\n",
       "      <td>нет</td>\n",
       "      <td>да</td>\n",
       "      <td>да</td>\n",
       "      <td>нет</td>\n",
       "      <td>рабочее состояние</td>\n",
       "      <td>все</td>\n",
       "      <td>2,75</td>\n",
       "      <td>11.04.2016</td>\n",
       "    </tr>\n",
       "    <tr>\n",
       "      <th>3</th>\n",
       "      <td>3</td>\n",
       "      <td>г. Санкт-Петербург</td>\n",
       "      <td>ул. Лизы Чайкиной, д. 17, лит. А</td>\n",
       "      <td>помещение</td>\n",
       "      <td>186,1</td>\n",
       "      <td>90</td>\n",
       "      <td>торговое</td>\n",
       "      <td>0</td>\n",
       "      <td>-</td>\n",
       "      <td>96,1</td>\n",
       "      <td>...</td>\n",
       "      <td>жилая застройка</td>\n",
       "      <td>средний</td>\n",
       "      <td>нет</td>\n",
       "      <td>да</td>\n",
       "      <td>да</td>\n",
       "      <td>нет</td>\n",
       "      <td>рабочее состояние</td>\n",
       "      <td>все</td>\n",
       "      <td>1,65/3,65</td>\n",
       "      <td>11.04.2016</td>\n",
       "    </tr>\n",
       "    <tr>\n",
       "      <th>4</th>\n",
       "      <td>4</td>\n",
       "      <td>г. Санкт-Петербург</td>\n",
       "      <td>ул. Лизы Чайкиной, д. 18, лит. А</td>\n",
       "      <td>помещение</td>\n",
       "      <td>73,3</td>\n",
       "      <td>73,3</td>\n",
       "      <td>торговое</td>\n",
       "      <td>0</td>\n",
       "      <td>-</td>\n",
       "      <td>0</td>\n",
       "      <td>...</td>\n",
       "      <td>жилая застройка</td>\n",
       "      <td>средний</td>\n",
       "      <td>нет</td>\n",
       "      <td>нет</td>\n",
       "      <td>да</td>\n",
       "      <td>нет</td>\n",
       "      <td>рабочее состояние</td>\n",
       "      <td>все</td>\n",
       "      <td>4</td>\n",
       "      <td>11.04.2016</td>\n",
       "    </tr>\n",
       "  </tbody>\n",
       "</table>\n",
       "<p>5 rows × 31 columns</p>\n",
       "</div>"
      ],
      "text/plain": [
       "<div>\n",
       "<table border=\"1\" class=\"dataframe\">\n",
       "  <thead>\n",
       "    <tr style=\"text-align: right;\">\n",
       "      <th></th>\n",
       "      <th>_ID_</th>\n",
       "      <th>_CITY_</th>\n",
       "      <th>_ADRS_</th>\n",
       "      <th>_OBJ_TYPE_</th>\n",
       "      <th>_TTL_S_</th>\n",
       "      <th>_F1_S_</th>\n",
       "      <th>_F1_U_</th>\n",
       "      <th>_FC_S_</th>\n",
       "      <th>_FC_U_</th>\n",
       "      <th>_F0_S_</th>\n",
       "      <th>...</th>\n",
       "      <th>_ROUND_</th>\n",
       "      <th>_FOOT_TRAF_</th>\n",
       "      <th>_IS_PRKNG_</th>\n",
       "      <th>_IS_WIN_</th>\n",
       "      <th>_IS_SEP_ENT_</th>\n",
       "      <th>_IS_VENT_</th>\n",
       "      <th>_DECOR_</th>\n",
       "      <th>_IS_COM_</th>\n",
       "      <th>_F1_H_</th>\n",
       "      <th>_DATE_</th>\n",
       "    </tr>\n",
       "  </thead>\n",
       "  <tbody>\n",
       "    <tr>\n",
       "      <th>0</th>\n",
       "      <td>0</td>\n",
       "      <td>г. Санкт-Петербург</td>\n",
       "      <td>1-я Красноармейская ул., д.8-10, лит.А</td>\n",
       "      <td>помещение</td>\n",
       "      <td>184,7</td>\n",
       "      <td>184,7</td>\n",
       "      <td>торговое</td>\n",
       "      <td>0</td>\n",
       "      <td>-</td>\n",
       "      <td>0</td>\n",
       "      <td>...</td>\n",
       "      <td>жилая застройка</td>\n",
       "      <td>очень высокий</td>\n",
       "      <td>городская парковка</td>\n",
       "      <td>да</td>\n",
       "      <td>да</td>\n",
       "      <td>центральная вентиляция</td>\n",
       "      <td>рабочее состояние</td>\n",
       "      <td>все</td>\n",
       "      <td>2,7</td>\n",
       "      <td>19.04.2016</td>\n",
       "    </tr>\n",
       "    <tr>\n",
       "      <th>1</th>\n",
       "      <td>1</td>\n",
       "      <td>г. Санкт-Петербург</td>\n",
       "      <td>пр. Просвещения, д. 54, лит. А</td>\n",
       "      <td>помещение</td>\n",
       "      <td>284,8</td>\n",
       "      <td>284,8</td>\n",
       "      <td>торговое</td>\n",
       "      <td>0</td>\n",
       "      <td>-</td>\n",
       "      <td>0</td>\n",
       "      <td>...</td>\n",
       "      <td>жилая застройка</td>\n",
       "      <td>низкий</td>\n",
       "      <td>нет</td>\n",
       "      <td>да</td>\n",
       "      <td>да</td>\n",
       "      <td>нет</td>\n",
       "      <td>рабочее состояние</td>\n",
       "      <td>все</td>\n",
       "      <td>3/3,1/2,95</td>\n",
       "      <td>06.04.2016</td>\n",
       "    </tr>\n",
       "    <tr>\n",
       "      <th>2</th>\n",
       "      <td>2</td>\n",
       "      <td>г. Санкт-Петербург</td>\n",
       "      <td>Кондратьевский, д. 51, корп. 1, лит. А</td>\n",
       "      <td>помещение</td>\n",
       "      <td>59,6</td>\n",
       "      <td>59,6</td>\n",
       "      <td>торговое</td>\n",
       "      <td>0</td>\n",
       "      <td>-</td>\n",
       "      <td>0</td>\n",
       "      <td>...</td>\n",
       "      <td>жилая застройка</td>\n",
       "      <td>средний</td>\n",
       "      <td>нет</td>\n",
       "      <td>да</td>\n",
       "      <td>да</td>\n",
       "      <td>нет</td>\n",
       "      <td>рабочее состояние</td>\n",
       "      <td>все</td>\n",
       "      <td>2,75</td>\n",
       "      <td>11.04.2016</td>\n",
       "    </tr>\n",
       "    <tr>\n",
       "      <th>3</th>\n",
       "      <td>3</td>\n",
       "      <td>г. Санкт-Петербург</td>\n",
       "      <td>ул. Лизы Чайкиной, д. 17, лит. А</td>\n",
       "      <td>помещение</td>\n",
       "      <td>186,1</td>\n",
       "      <td>90</td>\n",
       "      <td>торговое</td>\n",
       "      <td>0</td>\n",
       "      <td>-</td>\n",
       "      <td>96,1</td>\n",
       "      <td>...</td>\n",
       "      <td>жилая застройка</td>\n",
       "      <td>средний</td>\n",
       "      <td>нет</td>\n",
       "      <td>да</td>\n",
       "      <td>да</td>\n",
       "      <td>нет</td>\n",
       "      <td>рабочее состояние</td>\n",
       "      <td>все</td>\n",
       "      <td>1,65/3,65</td>\n",
       "      <td>11.04.2016</td>\n",
       "    </tr>\n",
       "    <tr>\n",
       "      <th>4</th>\n",
       "      <td>4</td>\n",
       "      <td>г. Санкт-Петербург</td>\n",
       "      <td>ул. Лизы Чайкиной, д. 18, лит. А</td>\n",
       "      <td>помещение</td>\n",
       "      <td>73,3</td>\n",
       "      <td>73,3</td>\n",
       "      <td>торговое</td>\n",
       "      <td>0</td>\n",
       "      <td>-</td>\n",
       "      <td>0</td>\n",
       "      <td>...</td>\n",
       "      <td>жилая застройка</td>\n",
       "      <td>средний</td>\n",
       "      <td>нет</td>\n",
       "      <td>нет</td>\n",
       "      <td>да</td>\n",
       "      <td>нет</td>\n",
       "      <td>рабочее состояние</td>\n",
       "      <td>все</td>\n",
       "      <td>4</td>\n",
       "      <td>11.04.2016</td>\n",
       "    </tr>\n",
       "  </tbody>\n",
       "</table>\n",
       "<p>5 rows × 31 columns</p>\n",
       "</div>"
      ]
     },
     "execution_count": 99,
     "metadata": {},
     "output_type": "execute_result"
    }
   ],
   "source": [
    "test = pd.read_csv('data/bank/test.csv')\n",
    "test.fillna('-', inplace=True)\n",
    "test.head()"
   ]
  },
  {
   "cell_type": "code",
   "execution_count": 106,
   "metadata": {},
   "outputs": [
    {
     "data": {
      "text/plain": [
       "Не указано            1827\n3 500 000 РУБ.         266\n2 500 000 РУБ.         253\n5 000 000 РУБ.         242\n15 000 000 РУБ.        215\n10 000 000 РУБ.        209\n3 000 000 РУБ.         208\n6 000 000 РУБ.         204\n4 500 000 РУБ.         200\n4 000 000 РУБ.         196\n8 000 000 РУБ.         189\n25 000 000 РУБ.        183\n5 500 000 РУБ.         183\n2 000 000 РУБ.         180\n7 000 000 РУБ.         176\n1 500 000 РУБ.         164\n12 000 000 РУБ.        163\n20 000 000 РУБ.        146\n6 500 000 РУБ.         145\n7 500 000 РУБ.         134\n30 000 000 РУБ.        132\n35 000 000 РУБ.        119\n9 000 000 РУБ.         112\n1 000 000 РУБ.         109\n16 000 000 РУБ.        103\n11 000 000 РУБ.        103\n8 500 000 РУБ.         100\n3 200 000 РУБ.          97\n1 200 000 РУБ.          95\n45 000 000 РУБ.         93\n                      ... \n6 998 944 РУБ.           1\n25 140 000 РУБ.          1\n8 680 000 РУБ.           1\n2 580 000 РУБ.           1\n595 000 000 РУБ.         1\n1 214 000 000 РУБ.       1\n700 002 РУБ.             1\n5 392 000 РУБ.           1\n9 684 000 РУБ.           1\n1 349 000 РУБ.           1\n4 820 585 РУБ.           1\n5 620 912 РУБ.           1\n16 776 000 РУБ.          1\n13 022 500 РУБ.          1\n2 675 000 РУБ.           1\n77 250 000 РУБ.          1\n26 325 000 РУБ.          1\n7 840 000 РУБ.           1\n9 825 000 РУБ.           1\n1 340 000 000 РУБ.       1\n126 225 000 РУБ.         1\n28 650 000 РУБ.          1\n16 416 750 РУБ.          1\n175 800 РУБ.             1\n68 750 000 РУБ.          1\n11 770 000 РУБ.          1\n37 996 000 РУБ.          1\n1 924 800 000 РУБ.       1\n63 900 000 РУБ.          1\n1 099 000 РУБ.           1\nName: _PRICE_, dtype: int64"
      ]
     },
     "execution_count": 106,
     "metadata": {},
     "output_type": "execute_result"
    }
   ],
   "source": [
    "train['_PRICE_'].value_counts()"
   ]
  },
  {
   "cell_type": "code",
   "execution_count": 72,
   "metadata": {},
   "outputs": [
    {
     "data": {
      "text/plain": [
       "(17587, 5404)"
      ]
     },
     "execution_count": 72,
     "metadata": {},
     "output_type": "execute_result"
    }
   ],
   "source": [
    "len(train), len(test)"
   ]
  },
  {
   "cell_type": "code",
   "execution_count": 107,
   "metadata": {},
   "outputs": [
    {
     "name": "stdout",
     "output_type": "stream",
     "text": [
      "15017 15017\n"
     ]
    }
   ],
   "source": [
    "train = train[[x.find('РУБ.') != -1 and x.find('000') != -1 for x in train['_PRICE_']]]\n",
    "train = train[[x.find('м') != -1 for x in train['_AREA_']]]\n",
    "y = [float(''.join(x[:x.find('РУБ.')].split())) / 1000 for x in train['_PRICE_']]\n",
    "X = [[float(''.join(x[:x.find('м')].replace(',', '.')))] for x in train['_AREA_']]\n",
    "print(len(X), len(y))"
   ]
  },
  {
   "cell_type": "code",
   "execution_count": 109,
   "metadata": {},
   "outputs": [
    {
     "name": "stdout",
     "output_type": "stream",
     "text": [
      "10511 10511\n"
     ]
    },
    {
     "data": {
      "text/plain": [
       "GridSearchCV(cv=None, error_score='raise',\n       estimator=GradientBoostingRegressor(alpha=0.9, criterion='friedman_mse', init=None,\n             learning_rate=0.1, loss='ls', max_depth=3, max_features=None,\n             max_leaf_nodes=None, min_impurity_split=1e-07,\n             min_samples_leaf=1, min_samples_split=2,\n             min_weight_fraction_leaf=0.0, n_estimators=100,\n             presort='auto', random_state=None, subsample=1.0, verbose=0,\n             warm_start=False),\n       fit_params={}, iid=True, n_jobs=1,\n       param_grid={'n_estimators': [20, 30, 40, 50, 60, 70, 80, 90, 100, 110, 120, 130, 140, 150, 160, 170, 180, 190, 200, 210, 220, 230, 240, 250, 260, 270, 280, 290, 300, 310, 320, 330, 340, 350, 360, 370, 380, 390, 400]},\n       pre_dispatch='2*n_jobs', refit=True, return_train_score=True,\n       scoring=None, verbose=0)"
      ]
     },
     "execution_count": 108,
     "metadata": {},
     "output_type": "execute_result"
    }
   ],
   "source": [
    "train_X, test_X, train_y, test_y = train_test_split(X, y, test_size=0.3)\n",
    "print(len(train_X), len(train_y))\n",
    "est = GridSearchCV(GradientBoostingRegressor(), param_grid={'n_estimators': [i for i in range(20, 401, 10)]})\n",
    "est.fit(train_X, train_y)"
   ]
  },
  {
   "cell_type": "code",
   "execution_count": 109,
   "metadata": {},
   "outputs": [
    {
     "name": "stdout",
     "output_type": "stream",
     "text": [
      "2.41206661352\n2.35972660726\n"
     ]
    }
   ],
   "source": [
    "pred_test_y = est.predict(test_X)\n",
    "pred_train_y = est.predict(train_X)\n",
    "print(np.sqrt(np.mean(np.power(np.log2(pred_test_y) - np.log2(test_y), 2))))\n",
    "print(np.sqrt(np.mean(np.power(np.log2(pred_train_y) - np.log2(train_y), 2))))"
   ]
  },
  {
   "cell_type": "code",
   "execution_count": 83,
   "metadata": {},
   "outputs": [
    {
     "data": {
      "text/plain": [
       "#ССЫЛ!    1\nName: _TTL_S_, dtype: int64"
      ]
     },
     "execution_count": 83,
     "metadata": {},
     "output_type": "execute_result"
    }
   ],
   "source": [
    "test['_TTL_S_'][[not x[0].isdigit() for x in test['_TTL_S_']]].value_counts()\n",
    "# real_test_X = [[float(''.join(x[:x.find('м')].replace(',', '.')))] for x in test['_TTL_S_']]"
   ]
  },
  {
   "cell_type": "code",
   "execution_count": 88,
   "metadata": {},
   "outputs": [
    {
     "name": "stdout",
     "output_type": "stream",
     "text": [
      "   _ID_       _PRICE_\n0     0  12649.025769\n1     1  18656.815458\n2     2   8631.929737\n3     3  12649.025769\n4     4   8631.929737\n"
     ]
    }
   ],
   "source": [
    "real_test_X = [[float(''.join(x.replace(',', '.'))) if x[0].isdigit() else np.mean(np.array(X).reshape(-1))] for x in test['_TTL_S_']]\n",
    "real_pred_y = est.predict(real_test_X)\n",
    "prediction = pd.DataFrame(data={'_ID_': test['_ID_'], '_PRICE_': real_pred_y})\n",
    "prediction.to_csv('data/bank/prediction.csv', index=False)\n",
    "print(prediction.head())"
   ]
  },
  {
   "cell_type": "code",
   "execution_count": 117,
   "metadata": {},
   "outputs": [
    {
     "data": {
      "text/plain": [
       "GridSearchCV(cv=None, error_score='raise',\n       estimator=RandomForestRegressor(bootstrap=True, criterion='mse', max_depth=None,\n           max_features='auto', max_leaf_nodes=None,\n           min_impurity_split=1e-07, min_samples_leaf=1,\n           min_samples_split=2, min_weight_fraction_leaf=0.0,\n           n_estimators=10, n_jobs=1, oob_score=False, random_state=None,\n           verbose=0, warm_start=False),\n       fit_params={}, iid=True, n_jobs=1,\n       param_grid={'n_estimators': [20, 40, 60, 80, 100, 120, 140, 160]},\n       pre_dispatch='2*n_jobs', refit=True, return_train_score=True,\n       scoring=None, verbose=0)"
      ]
     },
     "execution_count": 117,
     "metadata": {},
     "output_type": "execute_result"
    }
   ],
   "source": [
    "est = GridSearchCV(RandomForestRegressor(), param_grid={'n_estimators': [i for i in range(20, 161, 20)]})\n",
    "est.fit(train_X, train_y)"
   ]
  },
  {
   "cell_type": "code",
   "execution_count": 118,
   "metadata": {},
   "outputs": [
    {
     "name": "stdout",
     "output_type": "stream",
     "text": [
      "2.02880630014\n1.70410905485\n"
     ]
    }
   ],
   "source": [
    "pred_test_y = est.predict(test_X)\n",
    "pred_train_y = est.predict(train_X)\n",
    "print(np.sqrt(np.mean(np.power(np.log2(pred_test_y) - np.log2(test_y), 2))))\n",
    "print(np.sqrt(np.mean(np.power(np.log2(pred_train_y) - np.log2(train_y), 2))))"
   ]
  },
  {
   "cell_type": "code",
   "execution_count": 119,
   "metadata": {},
   "outputs": [
    {
     "name": "stdout",
     "output_type": "stream",
     "text": [
      "   _ID_       _PRICE_\n0     0   4803.021775\n1     1  16065.424552\n2     2  12082.314444\n3     3   4498.225221\n4     4   8953.250000\n"
     ]
    }
   ],
   "source": [
    "real_test_X = [[float(''.join(x.replace(',', '.'))) if x[0].isdigit() else np.mean(np.array(X).reshape(-1))] for x in test['_TTL_S_']]\n",
    "real_pred_y = est.predict(real_test_X)\n",
    "prediction = pd.DataFrame(data={'_ID_': test['_ID_'], '_PRICE_': real_pred_y})\n",
    "prediction.to_csv('data/bank/prediction.csv', index=False)\n",
    "print(prediction.head())"
   ]
  },
  {
   "cell_type": "code",
   "execution_count": 115,
   "metadata": {},
   "outputs": [
    {
     "data": {
      "text/plain": [
       "GridSearchCV(cv=None, error_score='raise',\n       estimator=SVR(C=1.0, cache_size=200, coef0=0.0, degree=3, epsilon=0.1, gamma='auto',\n  kernel='rbf', max_iter=-1, shrinking=True, tol=0.001, verbose=False),\n       fit_params={}, iid=True, n_jobs=1,\n       param_grid={'C': [0.5, 1.0, 1.5, 2.0, 2.5, 3.0, 3.5, 4.0, 4.5, 5.0, 5.5, 6.0, 6.5]},\n       pre_dispatch='2*n_jobs', refit=True, return_train_score=True,\n       scoring=None, verbose=0)"
      ]
     },
     "execution_count": 115,
     "metadata": {},
     "output_type": "execute_result"
    }
   ],
   "source": [
    "est = GridSearchCV(SVR(), param_grid={'C': [i for i in np.arange(0.5, 7, 0.5)]})\n",
    "est.fit(train_X, train_y)"
   ]
  },
  {
   "cell_type": "code",
   "execution_count": 116,
   "metadata": {},
   "outputs": [
    {
     "name": "stdout",
     "output_type": "stream",
     "text": [
      "2.31567625246\n2.29621806171\n"
     ]
    }
   ],
   "source": [
    "pred_test_y = est.predict(test_X)\n",
    "pred_train_y = est.predict(train_X)\n",
    "print(np.sqrt(np.mean(np.power(np.log2(pred_test_y) - np.log2(test_y), 2))))\n",
    "print(np.sqrt(np.mean(np.power(np.log2(pred_train_y) - np.log2(train_y), 2))))"
   ]
  }
 ],
 "metadata": {
  "kernelspec": {
   "display_name": "Python 2",
   "language": "python",
   "name": "python2"
  },
  "language_info": {
   "codemirror_mode": {
    "name": "ipython",
    "version": 2.0
   },
   "file_extension": ".py",
   "mimetype": "text/x-python",
   "name": "python",
   "nbconvert_exporter": "python",
   "pygments_lexer": "ipython2",
   "version": "2.7.6"
  }
 },
 "nbformat": 4,
 "nbformat_minor": 0
}