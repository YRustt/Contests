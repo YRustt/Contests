{
 "cells": [
  {
   "cell_type": "code",
   "execution_count": 39,
   "metadata": {
    "collapsed": true
   },
   "outputs": [],
   "source": [
    "import xgboost"
   ]
  },
  {
   "cell_type": "code",
   "execution_count": 40,
   "metadata": {
    "collapsed": true
   },
   "outputs": [],
   "source": [
    "import pandas as pd\n",
    "import numpy as np\n",
    "import matplotlib.pyplot as plt\n",
    "from sklearn import preprocessing\n",
    "from sklearn import model_selection\n",
    "from sklearn import ensemble\n",
    "from sklearn import metrics\n",
    "from sklearn import decomposition\n",
    "import math\n",
    "\n",
    "import re\n",
    "%matplotlib inline"
   ]
  },
  {
   "cell_type": "code",
   "execution_count": 41,
   "metadata": {
    "collapsed": true
   },
   "outputs": [],
   "source": [
    "def read_data(filename):\n",
    "    data = pd.read_csv(filename, header=0, sep=';', encoding='pt154')\n",
    "    data = data.rename(index=str, columns={'client_id': '_ID_', 'open_acount_flg': '_VAL_'})\n",
    "    data = data.fillna(data.mean())\n",
    "    return data"
   ]
  },
  {
   "cell_type": "code",
   "execution_count": 42,
   "metadata": {
    "collapsed": true
   },
   "outputs": [],
   "source": [
    "train = read_data('data/credit_train.csv')\n",
    "test = read_data('data/credit_test.csv')"
   ]
  },
  {
   "cell_type": "code",
   "execution_count": 43,
   "metadata": {
    "collapsed": false
   },
   "outputs": [
    {
     "data": {
      "text/html": [
       "<div>\n",
       "<table border=\"1\" class=\"dataframe\">\n",
       "  <thead>\n",
       "    <tr style=\"text-align: right;\">\n",
       "      <th></th>\n",
       "      <th>_ID_</th>\n",
       "      <th>gender</th>\n",
       "      <th>age</th>\n",
       "      <th>marital_status</th>\n",
       "      <th>job_position</th>\n",
       "      <th>credit_sum</th>\n",
       "      <th>credit_month</th>\n",
       "      <th>tariff_id</th>\n",
       "      <th>score_shk</th>\n",
       "      <th>education</th>\n",
       "      <th>living_region</th>\n",
       "      <th>monthly_income</th>\n",
       "      <th>credit_count</th>\n",
       "      <th>overdue_credit_count</th>\n",
       "      <th>open_account_flg</th>\n",
       "    </tr>\n",
       "  </thead>\n",
       "  <tbody>\n",
       "    <tr>\n",
       "      <th>0</th>\n",
       "      <td>1</td>\n",
       "      <td>M</td>\n",
       "      <td>48</td>\n",
       "      <td>MAR</td>\n",
       "      <td>UMN</td>\n",
       "      <td>59998,00</td>\n",
       "      <td>10</td>\n",
       "      <td>1.6</td>\n",
       "      <td>0,770249</td>\n",
       "      <td>GRD</td>\n",
       "      <td>КРАСНОДАРСКИЙ КРАЙ</td>\n",
       "      <td>30000.0</td>\n",
       "      <td>1.0</td>\n",
       "      <td>1.0</td>\n",
       "      <td>0</td>\n",
       "    </tr>\n",
       "    <tr>\n",
       "      <th>1</th>\n",
       "      <td>2</td>\n",
       "      <td>F</td>\n",
       "      <td>28</td>\n",
       "      <td>MAR</td>\n",
       "      <td>UMN</td>\n",
       "      <td>10889,00</td>\n",
       "      <td>6</td>\n",
       "      <td>1.1</td>\n",
       "      <td>0,248514</td>\n",
       "      <td>GRD</td>\n",
       "      <td>МОСКВА</td>\n",
       "      <td>43000.0</td>\n",
       "      <td>2.0</td>\n",
       "      <td>0.0</td>\n",
       "      <td>0</td>\n",
       "    </tr>\n",
       "    <tr>\n",
       "      <th>2</th>\n",
       "      <td>3</td>\n",
       "      <td>M</td>\n",
       "      <td>32</td>\n",
       "      <td>MAR</td>\n",
       "      <td>SPC</td>\n",
       "      <td>10728,00</td>\n",
       "      <td>12</td>\n",
       "      <td>1.1</td>\n",
       "      <td>0,459589</td>\n",
       "      <td>SCH</td>\n",
       "      <td>ОБЛ САРАТОВСКАЯ</td>\n",
       "      <td>23000.0</td>\n",
       "      <td>5.0</td>\n",
       "      <td>0.0</td>\n",
       "      <td>0</td>\n",
       "    </tr>\n",
       "    <tr>\n",
       "      <th>3</th>\n",
       "      <td>4</td>\n",
       "      <td>F</td>\n",
       "      <td>27</td>\n",
       "      <td>DIV</td>\n",
       "      <td>SPC</td>\n",
       "      <td>12009,09</td>\n",
       "      <td>12</td>\n",
       "      <td>1.1</td>\n",
       "      <td>0,362536</td>\n",
       "      <td>GRD</td>\n",
       "      <td>ОБЛ ВОЛГОГРАДСКАЯ</td>\n",
       "      <td>17000.0</td>\n",
       "      <td>2.0</td>\n",
       "      <td>0.0</td>\n",
       "      <td>0</td>\n",
       "    </tr>\n",
       "    <tr>\n",
       "      <th>4</th>\n",
       "      <td>5</td>\n",
       "      <td>M</td>\n",
       "      <td>45</td>\n",
       "      <td>MAR</td>\n",
       "      <td>SPC</td>\n",
       "      <td>16908,89</td>\n",
       "      <td>10</td>\n",
       "      <td>1.1</td>\n",
       "      <td>0,421385</td>\n",
       "      <td>SCH</td>\n",
       "      <td>ЧЕЛЯБИНСКАЯ ОБЛАСТЬ</td>\n",
       "      <td>25000.0</td>\n",
       "      <td>1.0</td>\n",
       "      <td>0.0</td>\n",
       "      <td>0</td>\n",
       "    </tr>\n",
       "  </tbody>\n",
       "</table>\n",
       "</div>"
      ],
      "text/plain": [
       "   _ID_ gender  age marital_status job_position credit_sum  credit_month  \\\n",
       "0     1      M   48            MAR          UMN   59998,00            10   \n",
       "1     2      F   28            MAR          UMN   10889,00             6   \n",
       "2     3      M   32            MAR          SPC   10728,00            12   \n",
       "3     4      F   27            DIV          SPC   12009,09            12   \n",
       "4     5      M   45            MAR          SPC   16908,89            10   \n",
       "\n",
       "   tariff_id score_shk education        living_region  monthly_income  \\\n",
       "0        1.6  0,770249       GRD   КРАСНОДАРСКИЙ КРАЙ         30000.0   \n",
       "1        1.1  0,248514       GRD               МОСКВА         43000.0   \n",
       "2        1.1  0,459589       SCH      ОБЛ САРАТОВСКАЯ         23000.0   \n",
       "3        1.1  0,362536       GRD    ОБЛ ВОЛГОГРАДСКАЯ         17000.0   \n",
       "4        1.1  0,421385       SCH  ЧЕЛЯБИНСКАЯ ОБЛАСТЬ         25000.0   \n",
       "\n",
       "   credit_count  overdue_credit_count  open_account_flg  \n",
       "0           1.0                   1.0                 0  \n",
       "1           2.0                   0.0                 0  \n",
       "2           5.0                   0.0                 0  \n",
       "3           2.0                   0.0                 0  \n",
       "4           1.0                   0.0                 0  "
      ]
     },
     "execution_count": 43,
     "metadata": {},
     "output_type": "execute_result"
    }
   ],
   "source": [
    "train.head()"
   ]
  },
  {
   "cell_type": "code",
   "execution_count": 44,
   "metadata": {
    "collapsed": false
   },
   "outputs": [
    {
     "name": "stdout",
     "output_type": "stream",
     "text": [
      "['BAD NAME' 'АДЫГЕЯ' 'АЛТАЙ' 'АМУР' 'АРХАНГЕЛЬ' 'АСТРАХАН' 'БАШКОРТОСТАН'\n",
      " 'БЕЛГОРОД' 'БРЯН' 'БУРЯТИЯ' 'ВЛАДИМИР' 'ВОЛГОГРАД' 'ВОЛОГОД' 'ВОРОНЕЖ'\n",
      " 'ГОРЬКОВ' 'ДАГЕСТАН' 'ЕВРЕЙ' 'ЗАБАЙКАЛЬ' 'ИВАНОВ' 'ИНГУШЕТИЯ' 'ИРКУТ'\n",
      " 'КАБАРДИНО-БАЛКАР' 'КАЛИНИНГРАД' 'КАЛМЫКИЯ' 'КАЛУЖ' 'КАМЧАТ'\n",
      " 'КАРАЧАЕВО-ЧЕРКЕС' 'КАРЕЛИЯ' 'КЕМЕРОВ' 'КИРОВ' 'КОМИ' 'КОСТРОМ'\n",
      " 'КРАСНОДАР' 'КРАСНОЯР' 'КУР' 'КУРГАН' 'ЛЕНИНГРАД' 'ЛИПЕЦКАЯ' 'МАГАДАН'\n",
      " 'МАРИЙ' 'МОРДОВИЯ' 'МОСКВА' 'МОСКОВ' 'МУРМАН' 'НЕНЕЦКИЙ' 'НИЖЕГОРОД'\n",
      " 'НОВГОРОД' 'НОВОСИБИР' 'ОМ' 'ОРЁЛ' 'ОРЕНБУРГ' 'ОРЛОВ' 'ПЕНЗЕН' 'ПЕРМ'\n",
      " 'ПРИМОР' 'ПСКОВ' 'РОСТОВ' 'РЯЗАН' 'САМАР' 'САНКТ-ПЕТЕРБУРГ' 'САРАТОВ'\n",
      " 'САХА' 'САХАЛИН' 'СВЕРДЛОВ' 'СЕВЕРНАЯ' 'СМОЛЕН' 'СТАВРОПОЛЬ' 'ТАМБОВ'\n",
      " 'ТАТАРСТАН' 'ТВЕР' 'ТОМ' 'ТУЛЬ' 'ТЫВА' 'ТЮМЕН' 'УДМУРТ' 'УЛЬЯНОВ'\n",
      " 'ХАБАРОВ' 'ХАКАСИЯ' 'ХАНТЫ-МАНСИЙ' 'ЧЕЛЯБИН' 'ЧЕЧЕН' 'ЧИТИН' 'ЧУВАШ'\n",
      " 'ЧУВАШИЯ' 'ЧУКОТ' 'ЭВЕНКИЙ' 'ЯМАЛО-НЕНЕЦКИЙ' 'ЯРОСЛАВ']\n",
      "['BAD NAME' 'АДЫГЕЯ' 'АЛТАЙ' 'АМУР' 'АРХАНГЕЛЬ' 'АСТРАХАН' 'БАШКОРТОСТАН'\n",
      " 'БЕЛГОРОД' 'БРЯН' 'БУРЯТИЯ' 'ВЛАДИМИР' 'ВОЛГОГРАД' 'ВОЛОГОД' 'ВОРОНЕЖ'\n",
      " 'ГОРЬКОВ' 'ДАГЕСТАН' 'ЕВРЕЙ' 'ЗАБАЙКАЛЬ' 'ИВАНОВ' 'ИНГУШЕТИЯ' 'ИРКУТ'\n",
      " 'КАБАРДИНО-БАЛКАР' 'КАЛИНИНГРАД' 'КАЛМЫКИЯ' 'КАЛУЖ' 'КАМЧАТ'\n",
      " 'КАРАЧАЕВО-ЧЕРКЕС' 'КАРЕЛИЯ' 'КЕМЕРОВ' 'КИРОВ' 'КОМИ' 'КОСТРОМ'\n",
      " 'КРАСНОДАР' 'КРАСНОЯР' 'КУР' 'КУРГАН' 'ЛЕНИНГРАД' 'ЛИПЕЦКАЯ' 'МАГАДАН'\n",
      " 'МАРИЙ' 'МОРДОВИЯ' 'МОСКВА' 'МОСКОВ' 'МУРМАН' 'НЕНЕЦКИЙ' 'НИЖЕГОРОД'\n",
      " 'НОВГОРОД' 'НОВОСИБИР' 'ОМ' 'ОРЕНБУРГ' 'ОРЛОВ' 'ПЕНЗЕН' 'ПЕРМ' 'ПРИМОР'\n",
      " 'ПСКОВ' 'РОСТОВ' 'РЯЗАН' 'САМАР' 'САНКТ-ПЕТЕРБУРГ' 'САРАТОВ' 'САХА'\n",
      " 'САХАЛИН' 'СВЕРДЛОВ' 'СЕВЕРНАЯ' 'СМОЛЕН' 'СТАВРОПОЛЬ' 'ТАМБОВ' 'ТАТАРСТАН'\n",
      " 'ТВЕР' 'ТОМ' 'ТУЛЬ' 'ТЫВА' 'ТЮМЕН' 'УДМУРТ' 'УЛЬЯНОВ' 'ХАБАРОВ' 'ХАКАСИЯ'\n",
      " 'ХАНТЫ-МАНСИЙ' 'ЧЕЛЯБИН' 'ЧЕЧЕН' 'ЧИТИН' 'ЧУВАШ' 'ЧУВАШИЯ' 'ЧУКОТ'\n",
      " 'ЯМАЛО-НЕНЕЦКИЙ' 'ЯРОСЛАВ']\n"
     ]
    }
   ],
   "source": [
    "def parse_living_region(data):\n",
    "    def get_good_name(s_name):\n",
    "        if s_name.find('КРАЙ') != -1:\n",
    "            tokens = [x for x in s_name.split() for x in x.split('.')]\n",
    "            good_name = list(filter(lambda x: x != '' and x != 'КРАЙ', tokens))\n",
    "            return good_name[0]\n",
    "        if s_name.find('АО') != -1:\n",
    "            tokens = [x for x in s_name.split() for x in x.split('.')]\n",
    "            good_name = list(filter(lambda x: x != '' and x.find('АО') == -1, tokens))\n",
    "            return good_name[0]\n",
    "        if s_name.find('ОБЛ') != -1:\n",
    "            tokens = [x for x in s_name.split() for x in x.split('.')]\n",
    "            good_name = list(filter(lambda x: x != '' and x != 'ОБЛ' and x != 'ОБЛАСТЬ', tokens))\n",
    "            return good_name[-1]\n",
    "        if s_name.find('РЕСП') != -1:\n",
    "            tokens = [x for x in s_name.split() for x in x.split('.')]\n",
    "            good_name = list(filter(lambda x: x != '' and x != 'РЕСП' and x != 'РЕСПУБЛИКА', tokens))\n",
    "            return good_name[0]\n",
    "        if len(s_name.split()) == 1 and len(s_name.split('.')) == 1:\n",
    "            return s_name\n",
    "        if s_name.find('МОСКВА') != -1:\n",
    "            return 'МОСКВА'\n",
    "        if s_name.find('ПЕТЕРБУРГ'):\n",
    "            return 'САНКТ-ПЕТЕРБУРГ'\n",
    "        if s_name.find('АВТОНОМНЫЙ'):\n",
    "            return s_name.split()[0]\n",
    "        if s_name.find('ЕВРЕЙ'):\n",
    "            return 'ЕВРЕЙСКАЯ'\n",
    "        if s_name.find('ДАЛЬНИЙ'):\n",
    "            return 'ДАЛЬНИЙ ВОСТОК'\n",
    "        if s_name.find('ФЕДЕРАЛЬНЫЙ'):\n",
    "            return s_name.split()[0]\n",
    "        return np.nan\n",
    "        \n",
    "    return [get_good_name(x) if x is not np.nan else 'BAD NAME' for x in data]\n",
    "\n",
    "\n",
    "def reduction_living_region(data):\n",
    "    def get_good_name(s_name):\n",
    "        if s_name == '74' or s_name == '98':\n",
    "            return 'BAD NAME'\n",
    "        if s_name == 'РЕСПУБЛИКАТАТАРСТАН':\n",
    "            return 'ТАТАРСТАН'\n",
    "        if s_name == 'МОСКВОСКАЯ':\n",
    "            return 'МОСКОВ'\n",
    "        if s_name == 'РОССИЯ':\n",
    "            return 'BAD NAME'\n",
    "        if s_name == 'КАМЧАТС??ИЙ':\n",
    "            return 'КАМЧАТ'\n",
    "        if s_name == 'ХАНТЫ-МАНСИЙСКИЙ-ЮГРА':\n",
    "            return 'ХАНТЫ-МАНСИЙ' \n",
    "        if s_name.find('СКИЙ') != -1 or s_name.find('СКАЯ') != -1:\n",
    "            return s_name[:-4]\n",
    "        return s_name\n",
    "    \n",
    "    return [get_good_name(x) for x in data]\n",
    "\n",
    "print(np.unique(reduction_living_region(parse_living_region([s_name for s_name in train['living_region']]))))\n",
    "print(np.unique(reduction_living_region(parse_living_region([s_name for s_name in test['living_region']]))))"
   ]
  },
  {
   "cell_type": "code",
   "execution_count": 45,
   "metadata": {
    "collapsed": true
   },
   "outputs": [],
   "source": [
    "class Features:\n",
    "    def __init__(self, train):\n",
    "        self._train = train\n",
    "    \n",
    "    def get_gender_feature(self, data):\n",
    "        poss = ['F', 'M']\n",
    "        enc = preprocessing.OneHotEncoder()\n",
    "        enc.fit([[0], [1]])\n",
    "        return enc.transform([[poss.index(s_gender)] for s_gender in data['gender']]).toarray()\n",
    "    \n",
    "    def get_age_feature(self, data):\n",
    "        return data['age'].values.reshape((-1, 1))\n",
    "    \n",
    "    def get_marital_status_feature(self, data):\n",
    "        poss = ['UNM', 'DIV', 'MAR', 'WID', 'CIV']\n",
    "        enc = preprocessing.OneHotEncoder()\n",
    "        enc.fit([[poss.index(s_marital_status)] for s_marital_status in self._train['marital_status']])\n",
    "        return enc.transform([[poss.index(s_marital_status)] for s_marital_status in data['marital_status']]).toarray()\n",
    "    \n",
    "    def get_job_position_feature(self, data):\n",
    "        poss = ['SPC', 'DIR', 'HSK', 'INV', 'WOI', 'WRK', 'ATP', 'WRP', 'UMN', 'NOR', 'PNS', 'BIS', 'INP',\n",
    "                'BIU', 'ONB', 'PNA', 'PNI', 'PNV']\n",
    "        enc = preprocessing.OneHotEncoder()\n",
    "        enc.fit([[poss.index(s_job_position)] for s_job_position in self._train['job_position']])\n",
    "        return enc.transform([[poss.index(s_job_position)] for s_job_position in data['job_position']]).toarray()\n",
    "    \n",
    "    def get_credit_sum_feature(self, data):\n",
    "        return np.array([[round(float(s_credit_sum.replace(',', '.')) / 1000)] for s_credit_sum in data['credit_sum']])\n",
    "    \n",
    "    def get_credit_month_feature(self, data):\n",
    "        enc = preprocessing.OneHotEncoder()\n",
    "        enc.fit([[credit_month] for credit_month in self._train['credit_month']])\n",
    "        return enc.transform([[credit_month] for credit_month in data['credit_month']]).toarray()\n",
    "    \n",
    "    def get_tariff_id_feature(self, data):\n",
    "        return data['tariff_id'].values.reshape((-1, 1))\n",
    "    \n",
    "    def get_score_shk_feature(self, data):\n",
    "        return np.array([[float(s_score_shk.replace(',', '.'))] for s_score_shk in data['score_shk']])\n",
    "    \n",
    "    def get_education_feature(self, data):\n",
    "        poss = ['SCH', 'UGR', 'GRD', 'PGR', 'ACD']\n",
    "        return np.array([[poss.index(s_education)] for s_education in data['education']])\n",
    "    \n",
    "    def get_living_region_feature(self, data):        \n",
    "        tr_liv_reg = reduction_living_region(parse_living_region([s_name for s_name in self._train['living_region']]))\n",
    "        da_liv_reg = reduction_living_region(parse_living_region([s_name for s_name in data['living_region']]))\n",
    "        poss = list(np.unique(tr_liv_reg))\n",
    "        \n",
    "        enc = preprocessing.OneHotEncoder()\n",
    "        enc.fit([[poss.index(s_tr_liv_reg)] for s_tr_liv_reg in tr_liv_reg])\n",
    "        da_liv_reg = enc.transform([[poss.index(s_living_region)]\n",
    "                                     for s_living_region in da_liv_reg]).toarray()\n",
    "        tr_liv_reg = enc.transform([[poss.index(s_living_region)]\n",
    "                                     for s_living_region in tr_liv_reg]).toarray()\n",
    "        pca = decomposition.PCA(10)\n",
    "        pca.fit(tr_liv_reg)\n",
    "        return pca.transform(da_liv_reg)\n",
    "        \n",
    "    \n",
    "    def get_monthly_income_feature(self, data):\n",
    "        return [[money] for money in data['monthly_income']]\n",
    "    \n",
    "    def get_p_overdue_credit_count_feature(self, data):\n",
    "        return [[overdue_cc / cc if cc != 0 else -1] for overdue_cc, cc in zip(data['overdue_credit_count'].values,\n",
    "                                                          data['credit_count'].values)]"
   ]
  },
  {
   "cell_type": "code",
   "execution_count": 61,
   "metadata": {
    "collapsed": false
   },
   "outputs": [],
   "source": [
    "make_features = Features(train)\n",
    "train_features = np.concatenate((make_features.get_gender_feature(train),\n",
    "                                 make_features.get_age_feature(train),\n",
    "                                 make_features.get_marital_status_feature(train),\n",
    "                                 make_features.get_job_position_feature(train),\n",
    "                                 make_features.get_credit_sum_feature(train),\n",
    "                                 make_features.get_credit_month_feature(train),\n",
    "                                 make_features.get_tariff_id_feature(train),\n",
    "                                 make_features.get_score_shk_feature(train),\n",
    "                                 make_features.get_education_feature(train),\n",
    "                                 make_features.get_living_region_feature(train),\n",
    "                                 make_features.get_monthly_income_feature(train),\n",
    "                                 make_features.get_p_overdue_credit_count_feature(train)), axis=1)"
   ]
  },
  {
   "cell_type": "code",
   "execution_count": 62,
   "metadata": {
    "collapsed": true
   },
   "outputs": [],
   "source": [
    "test_features = np.concatenate((make_features.get_gender_feature(test),\n",
    "                                make_features.get_age_feature(test),\n",
    "                                make_features.get_marital_status_feature(test),\n",
    "                                make_features.get_job_position_feature(test),\n",
    "                                make_features.get_credit_sum_feature(test),\n",
    "                                make_features.get_credit_month_feature(test),\n",
    "                                make_features.get_tariff_id_feature(test),\n",
    "                                make_features.get_score_shk_feature(test),\n",
    "                                make_features.get_education_feature(test),\n",
    "                                make_features.get_living_region_feature(test),\n",
    "                                make_features.get_monthly_income_feature(test),\n",
    "                                make_features.get_p_overdue_credit_count_feature(test)), axis=1)"
   ]
  },
  {
   "cell_type": "code",
   "execution_count": 63,
   "metadata": {
    "collapsed": true
   },
   "outputs": [],
   "source": [
    "X_train, X_valid, y_train, y_valid = model_selection.train_test_split(train_features, train['open_account_flg'],\n",
    "                                                                      test_size=0.3)"
   ]
  },
  {
   "cell_type": "code",
   "execution_count": 64,
   "metadata": {
    "collapsed": true
   },
   "outputs": [],
   "source": [
    "X_test = test_features"
   ]
  },
  {
   "cell_type": "code",
   "execution_count": 65,
   "metadata": {
    "collapsed": false
   },
   "outputs": [
    {
     "name": "stdout",
     "output_type": "stream",
     "text": [
      "(119522, 73) (51224, 73) (91940, 73)\n"
     ]
    }
   ],
   "source": [
    "print(X_train.shape, X_valid.shape, X_test.shape)"
   ]
  },
  {
   "cell_type": "code",
   "execution_count": 66,
   "metadata": {
    "collapsed": false
   },
   "outputs": [],
   "source": [
    "Dtrain = xgboost.DMatrix(data=X_train, label=y_train)"
   ]
  },
  {
   "cell_type": "markdown",
   "metadata": {},
   "source": [
    "# parameter information: https://github.com/dmlc/xgboost/blob/master/doc/parameter.md"
   ]
  },
  {
   "cell_type": "code",
   "execution_count": 68,
   "metadata": {
    "collapsed": false
   },
   "outputs": [
    {
     "name": "stdout",
     "output_type": "stream",
     "text": [
      "[0]\ttrain-auc:0.750328+0.00137719\ttest-auc:0.732967+0.00211352\n",
      "[25]\ttrain-auc:0.810853+0.00139843\ttest-auc:0.756037+0.0026285\n",
      "[50]\ttrain-auc:0.838823+0.000951452\ttest-auc:0.758485+0.00270153\n",
      "[75]\ttrain-auc:0.85248+0.000796245\ttest-auc:0.758427+0.00280858\n",
      "[100]\ttrain-auc:0.865219+0.00106129\ttest-auc:0.758149+0.00277343\n",
      "[125]\ttrain-auc:0.877451+0.000988941\ttest-auc:0.757617+0.00284839\n",
      "[150]\ttrain-auc:0.887738+0.00179341\ttest-auc:0.756557+0.00295895\n",
      "[175]\ttrain-auc:0.897119+0.000391037\ttest-auc:0.755584+0.0031548\n",
      "[200]\ttrain-auc:0.907656+0.000962834\ttest-auc:0.754379+0.00315002\n",
      "[225]\ttrain-auc:0.917058+0.00159278\ttest-auc:0.753141+0.00315782\n",
      "[250]\ttrain-auc:0.924719+0.00177339\ttest-auc:0.752123+0.00313419\n",
      "[275]\ttrain-auc:0.931985+0.00205583\ttest-auc:0.750871+0.00304976\n",
      "[300]\ttrain-auc:0.939108+0.00301608\ttest-auc:0.749611+0.00290865\n",
      "[325]\ttrain-auc:0.945022+0.00338105\ttest-auc:0.748449+0.00290447\n",
      "[350]\ttrain-auc:0.950447+0.00323554\ttest-auc:0.747338+0.0027382\n",
      "[375]\ttrain-auc:0.955189+0.0031719\ttest-auc:0.746399+0.00263249\n"
     ]
    }
   ],
   "source": [
    "param = {\n",
    "    \"max_depth\" : 9,\n",
    "    \"eta\" : 0.2,\n",
    "    \"objective\": \"binary:logistic\",\n",
    "    \"eval_metric\": \"auc\",\n",
    "    \"max_delta_step\": 2,\n",
    "    \"alpha\": 2,\n",
    "    \"lambda\": 2,\n",
    "    \"colsample_bytree\": 0.9,\n",
    "}\n",
    "\n",
    "numround = 401\n",
    "history = xgboost.cv(params=param, dtrain=Dtrain, num_boost_round=numround, nfold=3, stratified=True, \\\n",
    "                     verbose_eval=25)"
   ]
  },
  {
   "cell_type": "code",
   "execution_count": 67,
   "metadata": {
    "collapsed": false
   },
   "outputs": [
    {
     "name": "stdout",
     "output_type": "stream",
     "text": [
      "0.743456847217\n"
     ]
    }
   ],
   "source": [
    "param = {\n",
    "    \"max_depth\" : 10,\n",
    "    \"eta\" : 0.05,\n",
    "    \"objective\": \"binary:logistic\",\n",
    "    \"eval_metric\": \"auc\",\n",
    "    \"max_delta_step\": 5,\n",
    "    \"alpha\": 2,\n",
    "    \"lambda\": 2,\n",
    "}\n",
    "\n",
    "numround = 500\n",
    "bst = xgboost.train(params=param, dtrain=Dtrain)\n",
    "pred_valid = bst.predict(xgboost.DMatrix(data=X_valid))\n",
    "print(metrics.roc_auc_score(y_valid, pred_valid))"
   ]
  },
  {
   "cell_type": "code",
   "execution_count": 30,
   "metadata": {
    "collapsed": false
   },
   "outputs": [
    {
     "name": "stdout",
     "output_type": "stream",
     "text": [
      "     _ID_     _VAL_\n",
      "0  170747  0.325587\n",
      "1  170748  0.338372\n",
      "2  170749  0.394299\n",
      "3  170750  0.498730\n",
      "4  170751  0.338825\n"
     ]
    }
   ],
   "source": [
    "pred_test = bst.predict(xgboost.DMatrix(data=X_test))\n",
    "prediction = pd.DataFrame(data={'_ID_': test['_ID_'], '_VAL_': pred_test}, index=test.index)\n",
    "prediction.to_csv('data/prediction.csv', index=False)\n",
    "print(prediction.head())"
   ]
  },
  {
   "cell_type": "code",
   "execution_count": null,
   "metadata": {
    "collapsed": true
   },
   "outputs": [],
   "source": []
  }
 ],
 "metadata": {
  "anaconda-cloud": {},
  "kernelspec": {
   "display_name": "Python [conda env:python3]",
   "language": "python",
   "name": "conda-env-python3-py"
  },
  "language_info": {
   "codemirror_mode": {
    "name": "ipython",
    "version": 3
   },
   "file_extension": ".py",
   "mimetype": "text/x-python",
   "name": "python",
   "nbconvert_exporter": "python",
   "pygments_lexer": "ipython3",
   "version": "3.5.2"
  }
 },
 "nbformat": 4,
 "nbformat_minor": 2
}
