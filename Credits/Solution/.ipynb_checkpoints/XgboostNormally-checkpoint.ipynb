{
 "cells": [
  {
   "cell_type": "code",
   "execution_count": 1,
   "metadata": {
    "collapsed": true
   },
   "outputs": [],
   "source": [
    "import xgboost as xgb\n",
    "from xgboost.sklearn import XGBClassifier"
   ]
  },
  {
   "cell_type": "code",
   "execution_count": 2,
   "metadata": {
    "collapsed": true
   },
   "outputs": [],
   "source": [
    "import pandas as pd\n",
    "import numpy as np\n",
    "import matplotlib.pyplot as plt\n",
    "from sklearn import preprocessing\n",
    "from sklearn import model_selection\n",
    "from sklearn import ensemble\n",
    "from sklearn import metrics\n",
    "from sklearn import decomposition\n",
    "import math\n",
    "\n",
    "import re\n",
    "%matplotlib inline"
   ]
  },
  {
   "cell_type": "code",
   "execution_count": 3,
   "metadata": {
    "collapsed": true
   },
   "outputs": [],
   "source": [
    "def read_data(filename):\n",
    "    data = pd.read_csv(filename, header=0, sep=',', encoding='pt154')\n",
    "    data = data.rename(index=str, columns={'client_id': '_ID_', 'open_acount_flg': '_VAL_'})\n",
    "    return data"
   ]
  },
  {
   "cell_type": "code",
   "execution_count": 4,
   "metadata": {
    "collapsed": false
   },
   "outputs": [],
   "source": [
    "train = read_data('../data/normally_encoding_train.csv')\n",
    "test = read_data('../data/normally_encoding_test.csv')"
   ]
  },
  {
   "cell_type": "code",
   "execution_count": 5,
   "metadata": {
    "collapsed": false
   },
   "outputs": [
    {
     "data": {
      "text/html": [
       "<div>\n",
       "<table border=\"1\" class=\"dataframe\">\n",
       "  <thead>\n",
       "    <tr style=\"text-align: right;\">\n",
       "      <th></th>\n",
       "      <th>_ID_</th>\n",
       "      <th>age</th>\n",
       "      <th>credit_sum</th>\n",
       "      <th>score_shk</th>\n",
       "      <th>monthly_income</th>\n",
       "      <th>credit_count</th>\n",
       "      <th>overdue_credit_count</th>\n",
       "      <th>open_account_flg</th>\n",
       "      <th>gender=0</th>\n",
       "      <th>gender=1</th>\n",
       "      <th>...</th>\n",
       "      <th>living_region=3</th>\n",
       "      <th>living_region=4</th>\n",
       "      <th>living_region=5</th>\n",
       "      <th>living_region=6</th>\n",
       "      <th>living_region=7</th>\n",
       "      <th>living_region_count</th>\n",
       "      <th>city_mean_income</th>\n",
       "      <th>credit_pay</th>\n",
       "      <th>money_for_life</th>\n",
       "      <th>dif_city</th>\n",
       "    </tr>\n",
       "  </thead>\n",
       "  <tbody>\n",
       "    <tr>\n",
       "      <th>0</th>\n",
       "      <td>1</td>\n",
       "      <td>48</td>\n",
       "      <td>60.0</td>\n",
       "      <td>0.770249</td>\n",
       "      <td>30000.0</td>\n",
       "      <td>1.0</td>\n",
       "      <td>1.0</td>\n",
       "      <td>0</td>\n",
       "      <td>0.0</td>\n",
       "      <td>1.0</td>\n",
       "      <td>...</td>\n",
       "      <td>0.826619</td>\n",
       "      <td>0.140592</td>\n",
       "      <td>0.176357</td>\n",
       "      <td>0.121125</td>\n",
       "      <td>0.005595</td>\n",
       "      <td>8355</td>\n",
       "      <td>37260.771993</td>\n",
       "      <td>6.000000</td>\n",
       "      <td>29994.000000</td>\n",
       "      <td>-7260.771993</td>\n",
       "    </tr>\n",
       "    <tr>\n",
       "      <th>1</th>\n",
       "      <td>2</td>\n",
       "      <td>28</td>\n",
       "      <td>11.0</td>\n",
       "      <td>0.248514</td>\n",
       "      <td>43000.0</td>\n",
       "      <td>2.0</td>\n",
       "      <td>0.0</td>\n",
       "      <td>0</td>\n",
       "      <td>1.0</td>\n",
       "      <td>0.0</td>\n",
       "      <td>...</td>\n",
       "      <td>0.169560</td>\n",
       "      <td>0.067989</td>\n",
       "      <td>0.108327</td>\n",
       "      <td>0.086369</td>\n",
       "      <td>0.004368</td>\n",
       "      <td>9261</td>\n",
       "      <td>62696.116618</td>\n",
       "      <td>1.833333</td>\n",
       "      <td>42998.166667</td>\n",
       "      <td>-19696.116618</td>\n",
       "    </tr>\n",
       "    <tr>\n",
       "      <th>2</th>\n",
       "      <td>3</td>\n",
       "      <td>32</td>\n",
       "      <td>11.0</td>\n",
       "      <td>0.459589</td>\n",
       "      <td>23000.0</td>\n",
       "      <td>5.0</td>\n",
       "      <td>0.0</td>\n",
       "      <td>0</td>\n",
       "      <td>0.0</td>\n",
       "      <td>1.0</td>\n",
       "      <td>...</td>\n",
       "      <td>-0.033089</td>\n",
       "      <td>-0.022835</td>\n",
       "      <td>-0.055063</td>\n",
       "      <td>-0.071585</td>\n",
       "      <td>-0.006817</td>\n",
       "      <td>2282</td>\n",
       "      <td>31110.902717</td>\n",
       "      <td>0.916667</td>\n",
       "      <td>22999.083333</td>\n",
       "      <td>-8110.902717</td>\n",
       "    </tr>\n",
       "    <tr>\n",
       "      <th>3</th>\n",
       "      <td>4</td>\n",
       "      <td>27</td>\n",
       "      <td>12.0</td>\n",
       "      <td>0.362536</td>\n",
       "      <td>17000.0</td>\n",
       "      <td>2.0</td>\n",
       "      <td>0.0</td>\n",
       "      <td>0</td>\n",
       "      <td>1.0</td>\n",
       "      <td>0.0</td>\n",
       "      <td>...</td>\n",
       "      <td>-0.033572</td>\n",
       "      <td>-0.023153</td>\n",
       "      <td>-0.055825</td>\n",
       "      <td>-0.072550</td>\n",
       "      <td>-0.006570</td>\n",
       "      <td>2361</td>\n",
       "      <td>31319.365523</td>\n",
       "      <td>1.000000</td>\n",
       "      <td>16999.000000</td>\n",
       "      <td>-14319.365523</td>\n",
       "    </tr>\n",
       "    <tr>\n",
       "      <th>4</th>\n",
       "      <td>5</td>\n",
       "      <td>45</td>\n",
       "      <td>17.0</td>\n",
       "      <td>0.421385</td>\n",
       "      <td>25000.0</td>\n",
       "      <td>1.0</td>\n",
       "      <td>0.0</td>\n",
       "      <td>0</td>\n",
       "      <td>0.0</td>\n",
       "      <td>1.0</td>\n",
       "      <td>...</td>\n",
       "      <td>-0.065156</td>\n",
       "      <td>-0.050721</td>\n",
       "      <td>-0.144774</td>\n",
       "      <td>-0.287428</td>\n",
       "      <td>0.751925</td>\n",
       "      <td>5155</td>\n",
       "      <td>33759.671775</td>\n",
       "      <td>1.700000</td>\n",
       "      <td>24998.300000</td>\n",
       "      <td>-8759.671775</td>\n",
       "    </tr>\n",
       "  </tbody>\n",
       "</table>\n",
       "<p>5 rows × 114 columns</p>\n",
       "</div>"
      ],
      "text/plain": [
       "   _ID_  age  credit_sum  score_shk  monthly_income  credit_count  \\\n",
       "0     1   48        60.0   0.770249         30000.0           1.0   \n",
       "1     2   28        11.0   0.248514         43000.0           2.0   \n",
       "2     3   32        11.0   0.459589         23000.0           5.0   \n",
       "3     4   27        12.0   0.362536         17000.0           2.0   \n",
       "4     5   45        17.0   0.421385         25000.0           1.0   \n",
       "\n",
       "   overdue_credit_count  open_account_flg  gender=0  gender=1      ...       \\\n",
       "0                   1.0                 0       0.0       1.0      ...        \n",
       "1                   0.0                 0       1.0       0.0      ...        \n",
       "2                   0.0                 0       0.0       1.0      ...        \n",
       "3                   0.0                 0       1.0       0.0      ...        \n",
       "4                   0.0                 0       0.0       1.0      ...        \n",
       "\n",
       "   living_region=3  living_region=4  living_region=5  living_region=6  \\\n",
       "0         0.826619         0.140592         0.176357         0.121125   \n",
       "1         0.169560         0.067989         0.108327         0.086369   \n",
       "2        -0.033089        -0.022835        -0.055063        -0.071585   \n",
       "3        -0.033572        -0.023153        -0.055825        -0.072550   \n",
       "4        -0.065156        -0.050721        -0.144774        -0.287428   \n",
       "\n",
       "   living_region=7  living_region_count  city_mean_income  credit_pay  \\\n",
       "0         0.005595                 8355      37260.771993    6.000000   \n",
       "1         0.004368                 9261      62696.116618    1.833333   \n",
       "2        -0.006817                 2282      31110.902717    0.916667   \n",
       "3        -0.006570                 2361      31319.365523    1.000000   \n",
       "4         0.751925                 5155      33759.671775    1.700000   \n",
       "\n",
       "   money_for_life      dif_city  \n",
       "0    29994.000000  -7260.771993  \n",
       "1    42998.166667 -19696.116618  \n",
       "2    22999.083333  -8110.902717  \n",
       "3    16999.000000 -14319.365523  \n",
       "4    24998.300000  -8759.671775  \n",
       "\n",
       "[5 rows x 114 columns]"
      ]
     },
     "execution_count": 5,
     "metadata": {},
     "output_type": "execute_result"
    }
   ],
   "source": [
    "train.head()"
   ]
  },
  {
   "cell_type": "code",
   "execution_count": 6,
   "metadata": {
    "collapsed": false
   },
   "outputs": [],
   "source": [
    "y = train.open_account_flg\n",
    "del train['_ID_']\n",
    "del train['open_account_flg']"
   ]
  },
  {
   "cell_type": "code",
   "execution_count": 7,
   "metadata": {
    "collapsed": true
   },
   "outputs": [],
   "source": [
    "client_ids = test._ID_\n",
    "del test['_ID_']"
   ]
  },
  {
   "cell_type": "code",
   "execution_count": 8,
   "metadata": {
    "collapsed": false
   },
   "outputs": [],
   "source": [
    "X_train, X_valid, y_train, y_valid = model_selection.train_test_split(train, y, test_size=0.3)"
   ]
  },
  {
   "cell_type": "code",
   "execution_count": 9,
   "metadata": {
    "collapsed": false
   },
   "outputs": [],
   "source": [
    "X_test = test"
   ]
  },
  {
   "cell_type": "code",
   "execution_count": 10,
   "metadata": {
    "collapsed": false
   },
   "outputs": [
    {
     "name": "stdout",
     "output_type": "stream",
     "text": [
      "(119522, 112) (51224, 112) (91940, 112)\n"
     ]
    }
   ],
   "source": [
    "print(X_train.shape, X_valid.shape, X_test.shape)"
   ]
  },
  {
   "cell_type": "markdown",
   "metadata": {},
   "source": [
    "# Xgboost"
   ]
  },
  {
   "cell_type": "markdown",
   "metadata": {},
   "source": [
    "### parameter information: https://github.com/dmlc/xgboost/blob/master/doc/parameter.md"
   ]
  },
  {
   "cell_type": "code",
   "execution_count": 11,
   "metadata": {
    "collapsed": false
   },
   "outputs": [],
   "source": [
    "def modelfit(alg, X_train, X_valid, y_train, y_valid, useTrainCV=True, cv_folds=5, early_stopping_rounds=25):\n",
    "    \n",
    "    if useTrainCV:\n",
    "        xgb_param = alg.get_xgb_params()\n",
    "        xgtrain = xgb.DMatrix(X_train.values, label=y_train.values)\n",
    "        cvresult = xgb.cv(xgb_param, xgtrain, num_boost_round=alg.get_params()['n_estimators'], nfold=cv_folds,\n",
    "            metrics='auc', early_stopping_rounds=early_stopping_rounds)\n",
    "        alg.set_params(n_estimators=cvresult.shape[0])\n",
    "    \n",
    "    #Fit the algorithm on the data\n",
    "    alg.fit(X_train, y_train, eval_metric='auc')\n",
    "        \n",
    "    #Predict training set:\n",
    "    pred_train = alg.predict_proba(X_train)[:, 1]\n",
    "    pred_valid = alg.predict_proba(X_valid)[:, 1]\n",
    "        \n",
    "    #Print model report:\n",
    "    print(\"\\nModel Report\")\n",
    "    print(\"AUC Score (Train): %f\" % metrics.roc_auc_score(y_train, pred_train))\n",
    "    print(\"AUC Score (Valid): %f\" % metrics.roc_auc_score(y_valid, pred_valid))\n",
    "                    \n",
    "    feat_imp = pd.Series(alg.booster().get_fscore()).sort_values(ascending=False)[:30]\n",
    "    feat_imp.plot(kind='bar', title='Feature Importances')\n",
    "    plt.ylabel('Feature Importance Score')"
   ]
  },
  {
   "cell_type": "code",
   "execution_count": 16,
   "metadata": {
    "collapsed": false
   },
   "outputs": [
    {
     "name": "stdout",
     "output_type": "stream",
     "text": [
      "\n",
      "Model Report\n",
      "AUC Score (Train): 0.859585\n",
      "AUC Score (Valid): 0.763829\n"
     ]
    },
    {
     "data": {
      "image/png": "[encoded data removed]",
      "text/plain": [
       "<matplotlib.figure.Figure at 0x7fb475381860>"
      ]
     },
     "metadata": {},
     "output_type": "display_data"
    }
   ],
   "source": [
    "xgb1 = XGBClassifier(\n",
    " learning_rate =0.03,\n",
    " n_estimators=1000,\n",
    " max_depth=9,\n",
    "#  min_child_weight=1,\n",
    " gamma=0,\n",
    " subsample=0.8,\n",
    " colsample_bytree=0.8,\n",
    " objective= 'binary:logistic',\n",
    " nthread=12,\n",
    " scale_pos_weight=1)\n",
    "\n",
    "modelfit(xgb1, X_train, X_valid, y_train, y_valid)"
   ]
  },
  {
   "cell_type": "code",
   "execution_count": 99,
   "metadata": {
    "collapsed": false
   },
   "outputs": [
    {
     "name": "stdout",
     "output_type": "stream",
     "text": [
      "     _ID_     _VAL_\n",
      "0  170747  0.058535\n",
      "1  170748  0.137427\n",
      "2  170749  0.280323\n",
      "3  170750  0.158912\n",
      "4  170751  0.067224\n"
     ]
    }
   ],
   "source": [
    "pred_test = xgb1.predict_proba(X_test)[:, 1]\n",
    "prediction = pd.DataFrame(data={'_ID_': client_ids, '_VAL_': pred_test}, index=test.index)\n",
    "prediction.to_csv('../data/prediction.csv', index=False)\n",
    "print(prediction.head())"
   ]
  },
  {
   "cell_type": "code",
   "execution_count": null,
   "metadata": {
    "collapsed": true
   },
   "outputs": [],
   "source": []
  }
 ],
 "metadata": {
  "anaconda-cloud": {},
  "kernelspec": {
   "display_name": "Python [conda env:python3]",
   "language": "python",
   "name": "conda-env-python3-py"
  },
  "language_info": {
   "codemirror_mode": {
    "name": "ipython",
    "version": 3
   },
   "file_extension": ".py",
   "mimetype": "text/x-python",
   "name": "python",
   "nbconvert_exporter": "python",
   "pygments_lexer": "ipython3",
   "version": "3.5.2"
  }
 },
 "nbformat": 4,
 "nbformat_minor": 2
}
