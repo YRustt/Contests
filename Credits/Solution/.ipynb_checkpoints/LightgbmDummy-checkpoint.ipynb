{
 "cells": [
  {
   "cell_type": "code",
   "execution_count": 2,
   "metadata": {
    "collapsed": false
   },
   "outputs": [],
   "source": [
    "import lightgbm as lgb"
   ]
  },
  {
   "cell_type": "code",
   "execution_count": 3,
   "metadata": {
    "collapsed": true
   },
   "outputs": [],
   "source": [
    "import pandas as pd\n",
    "import numpy as np\n",
    "import matplotlib.pyplot as plt\n",
    "from sklearn import preprocessing\n",
    "from sklearn import model_selection\n",
    "from sklearn import ensemble\n",
    "from sklearn import metrics\n",
    "from sklearn import decomposition\n",
    "import math\n",
    "\n",
    "import re\n",
    "%matplotlib inline"
   ]
  },
  {
   "cell_type": "code",
   "execution_count": 4,
   "metadata": {
    "collapsed": true
   },
   "outputs": [],
   "source": [
    "def read_data(filename):\n",
    "    data = pd.read_csv(filename, header=0, sep=',', encoding='pt154')\n",
    "    data = data.rename(index=str, columns={'client_id': '_ID_', 'open_acount_flg': '_VAL_'})\n",
    "    return data"
   ]
  },
  {
   "cell_type": "code",
   "execution_count": 5,
   "metadata": {
    "collapsed": false
   },
   "outputs": [],
   "source": [
    "train = read_data('../data/dummy_encoding_all_city_train.csv')\n",
    "test = read_data('../data/dummy_encoding_all_city_test.csv')"
   ]
  },
  {
   "cell_type": "code",
   "execution_count": 6,
   "metadata": {
    "collapsed": false
   },
   "outputs": [
    {
     "data": {
      "text/html": [
       "<div>\n",
       "<table border=\"1\" class=\"dataframe\">\n",
       "  <thead>\n",
       "    <tr style=\"text-align: right;\">\n",
       "      <th></th>\n",
       "      <th>_ID_</th>\n",
       "      <th>age</th>\n",
       "      <th>credit_sum</th>\n",
       "      <th>score_shk</th>\n",
       "      <th>monthly_income</th>\n",
       "      <th>credit_count</th>\n",
       "      <th>overdue_credit_count</th>\n",
       "      <th>open_account_flg</th>\n",
       "      <th>gender=0</th>\n",
       "      <th>gender=1</th>\n",
       "      <th>...</th>\n",
       "      <th>living_region=78</th>\n",
       "      <th>living_region=79</th>\n",
       "      <th>living_region=80</th>\n",
       "      <th>living_region=81</th>\n",
       "      <th>living_region=82</th>\n",
       "      <th>living_region=83</th>\n",
       "      <th>living_region=84</th>\n",
       "      <th>living_region=85</th>\n",
       "      <th>living_region=86</th>\n",
       "      <th>living_region=87</th>\n",
       "    </tr>\n",
       "  </thead>\n",
       "  <tbody>\n",
       "    <tr>\n",
       "      <th>0</th>\n",
       "      <td>1</td>\n",
       "      <td>48</td>\n",
       "      <td>60.0</td>\n",
       "      <td>0.770249</td>\n",
       "      <td>30000.0</td>\n",
       "      <td>1.0</td>\n",
       "      <td>1.0</td>\n",
       "      <td>0</td>\n",
       "      <td>0.0</td>\n",
       "      <td>1.0</td>\n",
       "      <td>...</td>\n",
       "      <td>0.0</td>\n",
       "      <td>0.0</td>\n",
       "      <td>0.0</td>\n",
       "      <td>0.0</td>\n",
       "      <td>0.0</td>\n",
       "      <td>0.0</td>\n",
       "      <td>0.0</td>\n",
       "      <td>0.0</td>\n",
       "      <td>0.0</td>\n",
       "      <td>0.0</td>\n",
       "    </tr>\n",
       "    <tr>\n",
       "      <th>1</th>\n",
       "      <td>2</td>\n",
       "      <td>28</td>\n",
       "      <td>11.0</td>\n",
       "      <td>0.248514</td>\n",
       "      <td>43000.0</td>\n",
       "      <td>2.0</td>\n",
       "      <td>0.0</td>\n",
       "      <td>0</td>\n",
       "      <td>1.0</td>\n",
       "      <td>0.0</td>\n",
       "      <td>...</td>\n",
       "      <td>0.0</td>\n",
       "      <td>0.0</td>\n",
       "      <td>0.0</td>\n",
       "      <td>0.0</td>\n",
       "      <td>0.0</td>\n",
       "      <td>0.0</td>\n",
       "      <td>0.0</td>\n",
       "      <td>0.0</td>\n",
       "      <td>0.0</td>\n",
       "      <td>0.0</td>\n",
       "    </tr>\n",
       "    <tr>\n",
       "      <th>2</th>\n",
       "      <td>3</td>\n",
       "      <td>32</td>\n",
       "      <td>11.0</td>\n",
       "      <td>0.459589</td>\n",
       "      <td>23000.0</td>\n",
       "      <td>5.0</td>\n",
       "      <td>0.0</td>\n",
       "      <td>0</td>\n",
       "      <td>0.0</td>\n",
       "      <td>1.0</td>\n",
       "      <td>...</td>\n",
       "      <td>0.0</td>\n",
       "      <td>0.0</td>\n",
       "      <td>0.0</td>\n",
       "      <td>0.0</td>\n",
       "      <td>0.0</td>\n",
       "      <td>0.0</td>\n",
       "      <td>0.0</td>\n",
       "      <td>0.0</td>\n",
       "      <td>0.0</td>\n",
       "      <td>0.0</td>\n",
       "    </tr>\n",
       "    <tr>\n",
       "      <th>3</th>\n",
       "      <td>4</td>\n",
       "      <td>27</td>\n",
       "      <td>12.0</td>\n",
       "      <td>0.362536</td>\n",
       "      <td>17000.0</td>\n",
       "      <td>2.0</td>\n",
       "      <td>0.0</td>\n",
       "      <td>0</td>\n",
       "      <td>1.0</td>\n",
       "      <td>0.0</td>\n",
       "      <td>...</td>\n",
       "      <td>0.0</td>\n",
       "      <td>0.0</td>\n",
       "      <td>0.0</td>\n",
       "      <td>0.0</td>\n",
       "      <td>0.0</td>\n",
       "      <td>0.0</td>\n",
       "      <td>0.0</td>\n",
       "      <td>0.0</td>\n",
       "      <td>0.0</td>\n",
       "      <td>0.0</td>\n",
       "    </tr>\n",
       "    <tr>\n",
       "      <th>4</th>\n",
       "      <td>5</td>\n",
       "      <td>45</td>\n",
       "      <td>17.0</td>\n",
       "      <td>0.421385</td>\n",
       "      <td>25000.0</td>\n",
       "      <td>1.0</td>\n",
       "      <td>0.0</td>\n",
       "      <td>0</td>\n",
       "      <td>0.0</td>\n",
       "      <td>1.0</td>\n",
       "      <td>...</td>\n",
       "      <td>0.0</td>\n",
       "      <td>1.0</td>\n",
       "      <td>0.0</td>\n",
       "      <td>0.0</td>\n",
       "      <td>0.0</td>\n",
       "      <td>0.0</td>\n",
       "      <td>0.0</td>\n",
       "      <td>0.0</td>\n",
       "      <td>0.0</td>\n",
       "      <td>0.0</td>\n",
       "    </tr>\n",
       "  </tbody>\n",
       "</table>\n",
       "<p>5 rows × 189 columns</p>\n",
       "</div>"
      ],
      "text/plain": [
       "   _ID_  age  credit_sum  score_shk  monthly_income  credit_count  \\\n",
       "0     1   48        60.0   0.770249         30000.0           1.0   \n",
       "1     2   28        11.0   0.248514         43000.0           2.0   \n",
       "2     3   32        11.0   0.459589         23000.0           5.0   \n",
       "3     4   27        12.0   0.362536         17000.0           2.0   \n",
       "4     5   45        17.0   0.421385         25000.0           1.0   \n",
       "\n",
       "   overdue_credit_count  open_account_flg  gender=0  gender=1  \\\n",
       "0                   1.0                 0       0.0       1.0   \n",
       "1                   0.0                 0       1.0       0.0   \n",
       "2                   0.0                 0       0.0       1.0   \n",
       "3                   0.0                 0       1.0       0.0   \n",
       "4                   0.0                 0       0.0       1.0   \n",
       "\n",
       "         ...         living_region=78  living_region=79  living_region=80  \\\n",
       "0        ...                      0.0               0.0               0.0   \n",
       "1        ...                      0.0               0.0               0.0   \n",
       "2        ...                      0.0               0.0               0.0   \n",
       "3        ...                      0.0               0.0               0.0   \n",
       "4        ...                      0.0               1.0               0.0   \n",
       "\n",
       "   living_region=81  living_region=82  living_region=83  living_region=84  \\\n",
       "0               0.0               0.0               0.0               0.0   \n",
       "1               0.0               0.0               0.0               0.0   \n",
       "2               0.0               0.0               0.0               0.0   \n",
       "3               0.0               0.0               0.0               0.0   \n",
       "4               0.0               0.0               0.0               0.0   \n",
       "\n",
       "   living_region=85  living_region=86  living_region=87  \n",
       "0               0.0               0.0               0.0  \n",
       "1               0.0               0.0               0.0  \n",
       "2               0.0               0.0               0.0  \n",
       "3               0.0               0.0               0.0  \n",
       "4               0.0               0.0               0.0  \n",
       "\n",
       "[5 rows x 189 columns]"
      ]
     },
     "execution_count": 6,
     "metadata": {},
     "output_type": "execute_result"
    }
   ],
   "source": [
    "train.head()"
   ]
  },
  {
   "cell_type": "code",
   "execution_count": 7,
   "metadata": {
    "collapsed": false
   },
   "outputs": [],
   "source": [
    "y = train.open_account_flg\n",
    "del train['_ID_']\n",
    "del train['open_account_flg']"
   ]
  },
  {
   "cell_type": "code",
   "execution_count": 8,
   "metadata": {
    "collapsed": true
   },
   "outputs": [],
   "source": [
    "client_ids = test._ID_\n",
    "del test['_ID_']"
   ]
  },
  {
   "cell_type": "code",
   "execution_count": 9,
   "metadata": {
    "collapsed": false
   },
   "outputs": [],
   "source": [
    "X_train, X_valid, y_train, y_valid = model_selection.train_test_split(train, y, test_size=0.3)"
   ]
  },
  {
   "cell_type": "code",
   "execution_count": 10,
   "metadata": {
    "collapsed": false
   },
   "outputs": [],
   "source": [
    "X_test = test"
   ]
  },
  {
   "cell_type": "code",
   "execution_count": 11,
   "metadata": {
    "collapsed": false
   },
   "outputs": [
    {
     "name": "stdout",
     "output_type": "stream",
     "text": [
      "(119522, 187) (51224, 187) (91940, 187)\n"
     ]
    }
   ],
   "source": [
    "print(X_train.shape, X_valid.shape, X_test.shape)"
   ]
  },
  {
   "cell_type": "markdown",
   "metadata": {},
   "source": [
    "# Lightgbm"
   ]
  },
  {
   "cell_type": "markdown",
   "metadata": {},
   "source": [
    "### parameter information: https://github.com/dmlc/xgboost/blob/master/doc/parameter.md"
   ]
  },
  {
   "cell_type": "code",
   "execution_count": 12,
   "metadata": {
    "collapsed": false
   },
   "outputs": [],
   "source": [
    "lgb_train = lgb.Dataset(X_train, y_train)\n",
    "lgb_valid = lgb.Dataset(X_valid, y_valid)"
   ]
  },
  {
   "cell_type": "code",
   "execution_count": 13,
   "metadata": {
    "collapsed": false
   },
   "outputs": [],
   "source": [
    "params = {\n",
    "    'task': 'predict',\n",
    "    'num_trees': 1000,\n",
    "    'num_leaves': 150,\n",
    "    'boosting_type': 'gbdt',\n",
    "    'objective': 'regression',\n",
    "    'metric': 'auc',\n",
    "    'max_depth': 7,\n",
    "    'learning_rate': 0.05,\n",
    "    'sub_feature': 0.8,\n",
    "    'sub_row': 0.8,\n",
    "#     'lambda_l1': 2,\n",
    "#     'lambda_l2': 2,\n",
    "    'verbose': 0\n",
    "}"
   ]
  },
  {
   "cell_type": "code",
   "execution_count": 14,
   "metadata": {
    "collapsed": false
   },
   "outputs": [
    {
     "name": "stdout",
     "output_type": "stream",
     "text": [
      "[1]\tvalid_0's auc: 0.721814\n",
      "Train until valid scores didn't improve in 25 rounds.\n",
      "[2]\tvalid_0's auc: 0.735931\n",
      "[3]\tvalid_0's auc: 0.738094\n",
      "[4]\tvalid_0's auc: 0.74046\n",
      "[5]\tvalid_0's auc: 0.741793\n",
      "[6]\tvalid_0's auc: 0.743901\n",
      "[7]\tvalid_0's auc: 0.744653\n",
      "[8]\tvalid_0's auc: 0.745459\n",
      "[9]\tvalid_0's auc: 0.746398\n",
      "[10]\tvalid_0's auc: 0.746482\n",
      "[11]\tvalid_0's auc: 0.746898\n",
      "[12]\tvalid_0's auc: 0.747315\n",
      "[13]\tvalid_0's auc: 0.747861\n",
      "[14]\tvalid_0's auc: 0.748428\n",
      "[15]\tvalid_0's auc: 0.748999\n",
      "[16]\tvalid_0's auc: 0.749398\n",
      "[17]\tvalid_0's auc: 0.750053\n",
      "[18]\tvalid_0's auc: 0.75035\n",
      "[19]\tvalid_0's auc: 0.751041\n",
      "[20]\tvalid_0's auc: 0.751371\n",
      "[21]\tvalid_0's auc: 0.751483\n",
      "[22]\tvalid_0's auc: 0.752051\n",
      "[23]\tvalid_0's auc: 0.752299\n",
      "[24]\tvalid_0's auc: 0.752575\n",
      "[25]\tvalid_0's auc: 0.752911\n",
      "[26]\tvalid_0's auc: 0.753156\n",
      "[27]\tvalid_0's auc: 0.75376\n",
      "[28]\tvalid_0's auc: 0.753957\n",
      "[29]\tvalid_0's auc: 0.754129\n",
      "[30]\tvalid_0's auc: 0.754255\n",
      "[31]\tvalid_0's auc: 0.754354\n",
      "[32]\tvalid_0's auc: 0.75466\n",
      "[33]\tvalid_0's auc: 0.75507\n",
      "[34]\tvalid_0's auc: 0.755461\n",
      "[35]\tvalid_0's auc: 0.755599\n",
      "[36]\tvalid_0's auc: 0.755912\n",
      "[37]\tvalid_0's auc: 0.756404\n",
      "[38]\tvalid_0's auc: 0.756794\n",
      "[39]\tvalid_0's auc: 0.75696\n",
      "[40]\tvalid_0's auc: 0.757232\n",
      "[41]\tvalid_0's auc: 0.757533\n",
      "[42]\tvalid_0's auc: 0.757861\n",
      "[43]\tvalid_0's auc: 0.758089\n",
      "[44]\tvalid_0's auc: 0.758361\n",
      "[45]\tvalid_0's auc: 0.758596\n",
      "[46]\tvalid_0's auc: 0.758814\n",
      "[47]\tvalid_0's auc: 0.758949\n",
      "[48]\tvalid_0's auc: 0.759322\n",
      "[49]\tvalid_0's auc: 0.759685\n",
      "[50]\tvalid_0's auc: 0.759885\n",
      "[51]\tvalid_0's auc: 0.759922\n",
      "[52]\tvalid_0's auc: 0.760232\n",
      "[53]\tvalid_0's auc: 0.760483\n",
      "[54]\tvalid_0's auc: 0.760748\n",
      "[55]\tvalid_0's auc: 0.760904\n",
      "[56]\tvalid_0's auc: 0.761169\n",
      "[57]\tvalid_0's auc: 0.761344\n",
      "[58]\tvalid_0's auc: 0.761453\n",
      "[59]\tvalid_0's auc: 0.761704\n",
      "[60]\tvalid_0's auc: 0.761845\n",
      "[61]\tvalid_0's auc: 0.761984\n",
      "[62]\tvalid_0's auc: 0.762201\n",
      "[63]\tvalid_0's auc: 0.762357\n",
      "[64]\tvalid_0's auc: 0.762433\n",
      "[65]\tvalid_0's auc: 0.762474\n",
      "[66]\tvalid_0's auc: 0.762606\n",
      "[67]\tvalid_0's auc: 0.762706\n",
      "[68]\tvalid_0's auc: 0.762851\n",
      "[69]\tvalid_0's auc: 0.763025\n",
      "[70]\tvalid_0's auc: 0.763175\n",
      "[71]\tvalid_0's auc: 0.763264\n",
      "[72]\tvalid_0's auc: 0.763385\n",
      "[73]\tvalid_0's auc: 0.763419\n",
      "[74]\tvalid_0's auc: 0.763514\n",
      "[75]\tvalid_0's auc: 0.763626\n",
      "[76]\tvalid_0's auc: 0.76368\n",
      "[77]\tvalid_0's auc: 0.763823\n",
      "[78]\tvalid_0's auc: 0.763978\n",
      "[79]\tvalid_0's auc: 0.764066\n",
      "[80]\tvalid_0's auc: 0.764142\n",
      "[81]\tvalid_0's auc: 0.764242\n",
      "[82]\tvalid_0's auc: 0.764376\n",
      "[83]\tvalid_0's auc: 0.76445\n",
      "[84]\tvalid_0's auc: 0.764552\n",
      "[85]\tvalid_0's auc: 0.764594\n",
      "[86]\tvalid_0's auc: 0.764664\n",
      "[87]\tvalid_0's auc: 0.764742\n",
      "[88]\tvalid_0's auc: 0.764828\n",
      "[89]\tvalid_0's auc: 0.764885\n",
      "[90]\tvalid_0's auc: 0.764972\n",
      "[91]\tvalid_0's auc: 0.765052\n",
      "[92]\tvalid_0's auc: 0.765109\n",
      "[93]\tvalid_0's auc: 0.765253\n",
      "[94]\tvalid_0's auc: 0.765253\n",
      "[95]\tvalid_0's auc: 0.765328\n",
      "[96]\tvalid_0's auc: 0.765433\n",
      "[97]\tvalid_0's auc: 0.765485\n",
      "[98]\tvalid_0's auc: 0.765552\n",
      "[99]\tvalid_0's auc: 0.765587\n",
      "[100]\tvalid_0's auc: 0.765715\n"
     ]
    }
   ],
   "source": [
    "gbm = lgb.train(params,\n",
    "                lgb_train,\n",
    "                valid_sets=lgb_valid,\n",
    "                early_stopping_rounds=25)"
   ]
  },
  {
   "cell_type": "code",
   "execution_count": 99,
   "metadata": {
    "collapsed": false
   },
   "outputs": [
    {
     "name": "stdout",
     "output_type": "stream",
     "text": [
      "     _ID_     _VAL_\n",
      "0  170747  0.058535\n",
      "1  170748  0.137427\n",
      "2  170749  0.280323\n",
      "3  170750  0.158912\n",
      "4  170751  0.067224\n"
     ]
    }
   ],
   "source": [
    "pred_test = xgb1.predict_proba(X_test)[:, 1]\n",
    "prediction = pd.DataFrame(data={'_ID_': client_ids, '_VAL_': pred_test}, index=test.index)\n",
    "prediction.to_csv('../data/prediction.csv', index=False)\n",
    "print(prediction.head())"
   ]
  },
  {
   "cell_type": "code",
   "execution_count": null,
   "metadata": {
    "collapsed": true
   },
   "outputs": [],
   "source": []
  }
 ],
 "metadata": {
  "anaconda-cloud": {},
  "kernelspec": {
   "display_name": "Python [conda env:python3]",
   "language": "python",
   "name": "conda-env-python3-py"
  },
  "language_info": {
   "codemirror_mode": {
    "name": "ipython",
    "version": 3
   },
   "file_extension": ".py",
   "mimetype": "text/x-python",
   "name": "python",
   "nbconvert_exporter": "python",
   "pygments_lexer": "ipython3",
   "version": "3.5.2"
  }
 },
 "nbformat": 4,
 "nbformat_minor": 2
}
