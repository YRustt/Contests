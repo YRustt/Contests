{
 "cells": [
  {
   "cell_type": "code",
   "execution_count": 15,
   "metadata": {
    "collapsed": false
   },
   "outputs": [],
   "source": [
    "import lightgbm as lgb"
   ]
  },
  {
   "cell_type": "code",
   "execution_count": 4,
   "metadata": {
    "collapsed": true
   },
   "outputs": [],
   "source": [
    "import pandas as pd\n",
    "import numpy as np\n",
    "import matplotlib.pyplot as plt\n",
    "from sklearn import preprocessing\n",
    "from sklearn import model_selection\n",
    "from sklearn import ensemble\n",
    "from sklearn import metrics\n",
    "from sklearn import decomposition\n",
    "import math\n",
    "\n",
    "import re\n",
    "%matplotlib inline"
   ]
  },
  {
   "cell_type": "code",
   "execution_count": 5,
   "metadata": {
    "collapsed": true
   },
   "outputs": [],
   "source": [
    "def read_data(filename):\n",
    "    data = pd.read_csv(filename, header=0, sep=',', encoding='pt154')\n",
    "    data = data.rename(index=str, columns={'client_id': '_ID_', 'open_acount_flg': '_VAL_'})\n",
    "    return data"
   ]
  },
  {
   "cell_type": "code",
   "execution_count": 6,
   "metadata": {
    "collapsed": false
   },
   "outputs": [],
   "source": [
    "train = read_data('../data/dummy_encoding_all_city_train.csv')\n",
    "test = read_data('../data/dummy_encoding_all_city_test.csv')"
   ]
  },
  {
   "cell_type": "code",
   "execution_count": 7,
   "metadata": {
    "collapsed": false
   },
   "outputs": [
    {
     "data": {
      "text/html": [
       "<div>\n",
       "<table border=\"1\" class=\"dataframe\">\n",
       "  <thead>\n",
       "    <tr style=\"text-align: right;\">\n",
       "      <th></th>\n",
       "      <th>_ID_</th>\n",
       "      <th>age</th>\n",
       "      <th>credit_sum</th>\n",
       "      <th>score_shk</th>\n",
       "      <th>monthly_income</th>\n",
       "      <th>credit_count</th>\n",
       "      <th>overdue_credit_count</th>\n",
       "      <th>open_account_flg</th>\n",
       "      <th>gender=0</th>\n",
       "      <th>gender=1</th>\n",
       "      <th>...</th>\n",
       "      <th>living_region=78</th>\n",
       "      <th>living_region=79</th>\n",
       "      <th>living_region=80</th>\n",
       "      <th>living_region=81</th>\n",
       "      <th>living_region=82</th>\n",
       "      <th>living_region=83</th>\n",
       "      <th>living_region=84</th>\n",
       "      <th>living_region=85</th>\n",
       "      <th>living_region=86</th>\n",
       "      <th>living_region=87</th>\n",
       "    </tr>\n",
       "  </thead>\n",
       "  <tbody>\n",
       "    <tr>\n",
       "      <th>0</th>\n",
       "      <td>1</td>\n",
       "      <td>48</td>\n",
       "      <td>60.0</td>\n",
       "      <td>0.770249</td>\n",
       "      <td>30000.0</td>\n",
       "      <td>1.0</td>\n",
       "      <td>1.0</td>\n",
       "      <td>0</td>\n",
       "      <td>0.0</td>\n",
       "      <td>1.0</td>\n",
       "      <td>...</td>\n",
       "      <td>0.0</td>\n",
       "      <td>0.0</td>\n",
       "      <td>0.0</td>\n",
       "      <td>0.0</td>\n",
       "      <td>0.0</td>\n",
       "      <td>0.0</td>\n",
       "      <td>0.0</td>\n",
       "      <td>0.0</td>\n",
       "      <td>0.0</td>\n",
       "      <td>0.0</td>\n",
       "    </tr>\n",
       "    <tr>\n",
       "      <th>1</th>\n",
       "      <td>2</td>\n",
       "      <td>28</td>\n",
       "      <td>11.0</td>\n",
       "      <td>0.248514</td>\n",
       "      <td>43000.0</td>\n",
       "      <td>2.0</td>\n",
       "      <td>0.0</td>\n",
       "      <td>0</td>\n",
       "      <td>1.0</td>\n",
       "      <td>0.0</td>\n",
       "      <td>...</td>\n",
       "      <td>0.0</td>\n",
       "      <td>0.0</td>\n",
       "      <td>0.0</td>\n",
       "      <td>0.0</td>\n",
       "      <td>0.0</td>\n",
       "      <td>0.0</td>\n",
       "      <td>0.0</td>\n",
       "      <td>0.0</td>\n",
       "      <td>0.0</td>\n",
       "      <td>0.0</td>\n",
       "    </tr>\n",
       "    <tr>\n",
       "      <th>2</th>\n",
       "      <td>3</td>\n",
       "      <td>32</td>\n",
       "      <td>11.0</td>\n",
       "      <td>0.459589</td>\n",
       "      <td>23000.0</td>\n",
       "      <td>5.0</td>\n",
       "      <td>0.0</td>\n",
       "      <td>0</td>\n",
       "      <td>0.0</td>\n",
       "      <td>1.0</td>\n",
       "      <td>...</td>\n",
       "      <td>0.0</td>\n",
       "      <td>0.0</td>\n",
       "      <td>0.0</td>\n",
       "      <td>0.0</td>\n",
       "      <td>0.0</td>\n",
       "      <td>0.0</td>\n",
       "      <td>0.0</td>\n",
       "      <td>0.0</td>\n",
       "      <td>0.0</td>\n",
       "      <td>0.0</td>\n",
       "    </tr>\n",
       "    <tr>\n",
       "      <th>3</th>\n",
       "      <td>4</td>\n",
       "      <td>27</td>\n",
       "      <td>12.0</td>\n",
       "      <td>0.362536</td>\n",
       "      <td>17000.0</td>\n",
       "      <td>2.0</td>\n",
       "      <td>0.0</td>\n",
       "      <td>0</td>\n",
       "      <td>1.0</td>\n",
       "      <td>0.0</td>\n",
       "      <td>...</td>\n",
       "      <td>0.0</td>\n",
       "      <td>0.0</td>\n",
       "      <td>0.0</td>\n",
       "      <td>0.0</td>\n",
       "      <td>0.0</td>\n",
       "      <td>0.0</td>\n",
       "      <td>0.0</td>\n",
       "      <td>0.0</td>\n",
       "      <td>0.0</td>\n",
       "      <td>0.0</td>\n",
       "    </tr>\n",
       "    <tr>\n",
       "      <th>4</th>\n",
       "      <td>5</td>\n",
       "      <td>45</td>\n",
       "      <td>17.0</td>\n",
       "      <td>0.421385</td>\n",
       "      <td>25000.0</td>\n",
       "      <td>1.0</td>\n",
       "      <td>0.0</td>\n",
       "      <td>0</td>\n",
       "      <td>0.0</td>\n",
       "      <td>1.0</td>\n",
       "      <td>...</td>\n",
       "      <td>0.0</td>\n",
       "      <td>1.0</td>\n",
       "      <td>0.0</td>\n",
       "      <td>0.0</td>\n",
       "      <td>0.0</td>\n",
       "      <td>0.0</td>\n",
       "      <td>0.0</td>\n",
       "      <td>0.0</td>\n",
       "      <td>0.0</td>\n",
       "      <td>0.0</td>\n",
       "    </tr>\n",
       "  </tbody>\n",
       "</table>\n",
       "<p>5 rows × 189 columns</p>\n",
       "</div>"
      ],
      "text/plain": [
       "   _ID_  age  credit_sum  score_shk  monthly_income  credit_count  \\\n",
       "0     1   48        60.0   0.770249         30000.0           1.0   \n",
       "1     2   28        11.0   0.248514         43000.0           2.0   \n",
       "2     3   32        11.0   0.459589         23000.0           5.0   \n",
       "3     4   27        12.0   0.362536         17000.0           2.0   \n",
       "4     5   45        17.0   0.421385         25000.0           1.0   \n",
       "\n",
       "   overdue_credit_count  open_account_flg  gender=0  gender=1  \\\n",
       "0                   1.0                 0       0.0       1.0   \n",
       "1                   0.0                 0       1.0       0.0   \n",
       "2                   0.0                 0       0.0       1.0   \n",
       "3                   0.0                 0       1.0       0.0   \n",
       "4                   0.0                 0       0.0       1.0   \n",
       "\n",
       "         ...         living_region=78  living_region=79  living_region=80  \\\n",
       "0        ...                      0.0               0.0               0.0   \n",
       "1        ...                      0.0               0.0               0.0   \n",
       "2        ...                      0.0               0.0               0.0   \n",
       "3        ...                      0.0               0.0               0.0   \n",
       "4        ...                      0.0               1.0               0.0   \n",
       "\n",
       "   living_region=81  living_region=82  living_region=83  living_region=84  \\\n",
       "0               0.0               0.0               0.0               0.0   \n",
       "1               0.0               0.0               0.0               0.0   \n",
       "2               0.0               0.0               0.0               0.0   \n",
       "3               0.0               0.0               0.0               0.0   \n",
       "4               0.0               0.0               0.0               0.0   \n",
       "\n",
       "   living_region=85  living_region=86  living_region=87  \n",
       "0               0.0               0.0               0.0  \n",
       "1               0.0               0.0               0.0  \n",
       "2               0.0               0.0               0.0  \n",
       "3               0.0               0.0               0.0  \n",
       "4               0.0               0.0               0.0  \n",
       "\n",
       "[5 rows x 189 columns]"
      ]
     },
     "execution_count": 7,
     "metadata": {},
     "output_type": "execute_result"
    }
   ],
   "source": [
    "train.head()"
   ]
  },
  {
   "cell_type": "code",
   "execution_count": 8,
   "metadata": {
    "collapsed": false
   },
   "outputs": [],
   "source": [
    "y = train.open_account_flg\n",
    "del train['_ID_']\n",
    "del train['open_account_flg']"
   ]
  },
  {
   "cell_type": "code",
   "execution_count": 9,
   "metadata": {
    "collapsed": true
   },
   "outputs": [],
   "source": [
    "client_ids = test._ID_\n",
    "del test['_ID_']"
   ]
  },
  {
   "cell_type": "code",
   "execution_count": 10,
   "metadata": {
    "collapsed": false
   },
   "outputs": [],
   "source": [
    "X_train, X_valid, y_train, y_valid = model_selection.train_test_split(train, y, test_size=0.3)"
   ]
  },
  {
   "cell_type": "code",
   "execution_count": 11,
   "metadata": {
    "collapsed": false
   },
   "outputs": [],
   "source": [
    "X_test = test"
   ]
  },
  {
   "cell_type": "code",
   "execution_count": 12,
   "metadata": {
    "collapsed": false
   },
   "outputs": [
    {
     "name": "stdout",
     "output_type": "stream",
     "text": [
      "(119522, 187) (51224, 187) (91940, 187)\n"
     ]
    }
   ],
   "source": [
    "print(X_train.shape, X_valid.shape, X_test.shape)"
   ]
  },
  {
   "cell_type": "markdown",
   "metadata": {},
   "source": [
    "# Lightgbm"
   ]
  },
  {
   "cell_type": "markdown",
   "metadata": {},
   "source": [
    "### parameter information: https://github.com/dmlc/xgboost/blob/master/doc/parameter.md"
   ]
  },
  {
   "cell_type": "code",
   "execution_count": 25,
   "metadata": {
    "collapsed": false
   },
   "outputs": [],
   "source": [
    "lgb_train = lgb.Dataset(X_train, y_train)\n",
    "lgb_valid = lgb.Dataset(X_valid, y_valid)"
   ]
  },
  {
   "cell_type": "code",
   "execution_count": 54,
   "metadata": {
    "collapsed": false
   },
   "outputs": [],
   "source": [
    "params = {\n",
    "    'task': 'train',\n",
    "    'num_trees': 400,\n",
    "#     'num_leaves': 250,\n",
    "    'boosting_type': 'gbdt',\n",
    "    'objective': 'regression',\n",
    "    'metric': 'auc',\n",
    "    'max_depth': 7,\n",
    "    'learning_rate': 0.1,\n",
    "    'sub_feature': 0.8,\n",
    "    'sub_row': 0.8,\n",
    "#     'lambda_l1': 2,\n",
    "#     'lambda_l2': 2,\n",
    "    'verbose': 0\n",
    "}"
   ]
  },
  {
   "cell_type": "code",
   "execution_count": 55,
   "metadata": {
    "collapsed": false
   },
   "outputs": [
    {
     "name": "stdout",
     "output_type": "stream",
     "text": [
      "[1]\tvalid_0's auc: 0.731938\n",
      "Train until valid scores didn't improve in 25 rounds.\n",
      "[2]\tvalid_0's auc: 0.73364\n",
      "[3]\tvalid_0's auc: 0.738123\n",
      "[4]\tvalid_0's auc: 0.739823\n",
      "[5]\tvalid_0's auc: 0.741026\n",
      "[6]\tvalid_0's auc: 0.741837\n",
      "[7]\tvalid_0's auc: 0.742728\n",
      "[8]\tvalid_0's auc: 0.742944\n",
      "[9]\tvalid_0's auc: 0.744242\n",
      "[10]\tvalid_0's auc: 0.744514\n",
      "[11]\tvalid_0's auc: 0.745378\n",
      "[12]\tvalid_0's auc: 0.745914\n",
      "[13]\tvalid_0's auc: 0.746567\n",
      "[14]\tvalid_0's auc: 0.746892\n",
      "[15]\tvalid_0's auc: 0.747315\n",
      "[16]\tvalid_0's auc: 0.747554\n",
      "[17]\tvalid_0's auc: 0.747601\n",
      "[18]\tvalid_0's auc: 0.748155\n",
      "[19]\tvalid_0's auc: 0.748539\n",
      "[20]\tvalid_0's auc: 0.748755\n",
      "[21]\tvalid_0's auc: 0.749234\n",
      "[22]\tvalid_0's auc: 0.749499\n",
      "[23]\tvalid_0's auc: 0.749755\n",
      "[24]\tvalid_0's auc: 0.750095\n",
      "[25]\tvalid_0's auc: 0.750276\n",
      "[26]\tvalid_0's auc: 0.750606\n",
      "[27]\tvalid_0's auc: 0.750961\n",
      "[28]\tvalid_0's auc: 0.751174\n",
      "[29]\tvalid_0's auc: 0.751445\n",
      "[30]\tvalid_0's auc: 0.751556\n",
      "[31]\tvalid_0's auc: 0.75165\n",
      "[32]\tvalid_0's auc: 0.75205\n",
      "[33]\tvalid_0's auc: 0.752174\n",
      "[34]\tvalid_0's auc: 0.752354\n",
      "[35]\tvalid_0's auc: 0.752684\n",
      "[36]\tvalid_0's auc: 0.752835\n",
      "[37]\tvalid_0's auc: 0.753156\n",
      "[38]\tvalid_0's auc: 0.753406\n",
      "[39]\tvalid_0's auc: 0.753705\n",
      "[40]\tvalid_0's auc: 0.753713\n",
      "[41]\tvalid_0's auc: 0.75389\n",
      "[42]\tvalid_0's auc: 0.75408\n",
      "[43]\tvalid_0's auc: 0.754321\n",
      "[44]\tvalid_0's auc: 0.754442\n",
      "[45]\tvalid_0's auc: 0.754586\n",
      "[46]\tvalid_0's auc: 0.754682\n",
      "[47]\tvalid_0's auc: 0.754804\n",
      "[48]\tvalid_0's auc: 0.754936\n",
      "[49]\tvalid_0's auc: 0.755006\n",
      "[50]\tvalid_0's auc: 0.75527\n",
      "[51]\tvalid_0's auc: 0.755462\n",
      "[52]\tvalid_0's auc: 0.755526\n",
      "[53]\tvalid_0's auc: 0.755616\n",
      "[54]\tvalid_0's auc: 0.755729\n",
      "[55]\tvalid_0's auc: 0.755911\n",
      "[56]\tvalid_0's auc: 0.755982\n",
      "[57]\tvalid_0's auc: 0.756119\n",
      "[58]\tvalid_0's auc: 0.756262\n",
      "[59]\tvalid_0's auc: 0.756347\n",
      "[60]\tvalid_0's auc: 0.756543\n",
      "[61]\tvalid_0's auc: 0.756628\n",
      "[62]\tvalid_0's auc: 0.756675\n",
      "[63]\tvalid_0's auc: 0.756799\n",
      "[64]\tvalid_0's auc: 0.756899\n",
      "[65]\tvalid_0's auc: 0.75706\n",
      "[66]\tvalid_0's auc: 0.757213\n",
      "[67]\tvalid_0's auc: 0.757341\n",
      "[68]\tvalid_0's auc: 0.757422\n",
      "[69]\tvalid_0's auc: 0.757546\n",
      "[70]\tvalid_0's auc: 0.757573\n",
      "[71]\tvalid_0's auc: 0.757676\n",
      "[72]\tvalid_0's auc: 0.757779\n",
      "[73]\tvalid_0's auc: 0.757846\n",
      "[74]\tvalid_0's auc: 0.75789\n",
      "[75]\tvalid_0's auc: 0.757983\n",
      "[76]\tvalid_0's auc: 0.758033\n",
      "[77]\tvalid_0's auc: 0.758168\n",
      "[78]\tvalid_0's auc: 0.758201\n",
      "[79]\tvalid_0's auc: 0.758247\n",
      "[80]\tvalid_0's auc: 0.758373\n",
      "[81]\tvalid_0's auc: 0.758408\n",
      "[82]\tvalid_0's auc: 0.758464\n",
      "[83]\tvalid_0's auc: 0.758592\n",
      "[84]\tvalid_0's auc: 0.758644\n",
      "[85]\tvalid_0's auc: 0.75873\n",
      "[86]\tvalid_0's auc: 0.758755\n",
      "[87]\tvalid_0's auc: 0.758784\n",
      "[88]\tvalid_0's auc: 0.758799\n",
      "[89]\tvalid_0's auc: 0.758797\n",
      "[90]\tvalid_0's auc: 0.758843\n",
      "[91]\tvalid_0's auc: 0.758902\n",
      "[92]\tvalid_0's auc: 0.758931\n",
      "[93]\tvalid_0's auc: 0.758953\n",
      "[94]\tvalid_0's auc: 0.759108\n",
      "[95]\tvalid_0's auc: 0.759195\n",
      "[96]\tvalid_0's auc: 0.759212\n",
      "[97]\tvalid_0's auc: 0.759207\n",
      "[98]\tvalid_0's auc: 0.759289\n",
      "[99]\tvalid_0's auc: 0.759315\n",
      "[100]\tvalid_0's auc: 0.759357\n"
     ]
    }
   ],
   "source": [
    "gbm = lgb.train(params,\n",
    "                lgb_train,\n",
    "                valid_sets=lgb_valid,\n",
    "                early_stopping_rounds=25)"
   ]
  },
  {
   "cell_type": "code",
   "execution_count": 99,
   "metadata": {
    "collapsed": false
   },
   "outputs": [
    {
     "name": "stdout",
     "output_type": "stream",
     "text": [
      "     _ID_     _VAL_\n",
      "0  170747  0.058535\n",
      "1  170748  0.137427\n",
      "2  170749  0.280323\n",
      "3  170750  0.158912\n",
      "4  170751  0.067224\n"
     ]
    }
   ],
   "source": [
    "pred_test = xgb1.predict_proba(X_test)[:, 1]\n",
    "prediction = pd.DataFrame(data={'_ID_': client_ids, '_VAL_': pred_test}, index=test.index)\n",
    "prediction.to_csv('../data/prediction.csv', index=False)\n",
    "print(prediction.head())"
   ]
  },
  {
   "cell_type": "code",
   "execution_count": null,
   "metadata": {
    "collapsed": true
   },
   "outputs": [],
   "source": []
  }
 ],
 "metadata": {
  "anaconda-cloud": {},
  "kernelspec": {
   "display_name": "Python [conda env:python3]",
   "language": "python",
   "name": "conda-env-python3-py"
  },
  "language_info": {
   "codemirror_mode": {
    "name": "ipython",
    "version": 3
   },
   "file_extension": ".py",
   "mimetype": "text/x-python",
   "name": "python",
   "nbconvert_exporter": "python",
   "pygments_lexer": "ipython3",
   "version": "3.5.2"
  }
 },
 "nbformat": 4,
 "nbformat_minor": 2
}
