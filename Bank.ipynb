{
 "cells": [
  {
   "cell_type": "code",
   "execution_count": 1,
   "metadata": {
    "collapsed": true
   },
   "outputs": [],
   "source": [
    "import pandas as pd\n",
    "import numpy as np\n",
    "from sklearn.ensemble import GradientBoostingRegressor, RandomForestRegressor\n",
    "from sklearn.svm import SVR\n",
    "from sklearn.model_selection import GridSearchCV, train_test_split"
   ]
  },
  {
   "cell_type": "code",
   "execution_count": 82,
   "metadata": {},
   "outputs": [
    {
     "data": {
      "text/plain": [
       "Index(['_ID_', '_TYPE_', '_DATE_', '_ADDRESS_', '_PRICE_', '_AREA_', '_METRO_',\n       '_LAT_', '_LON_', '_DESC_'],\n      dtype='object')"
      ]
     },
     "execution_count": 82,
     "metadata": {},
     "output_type": "execute_result"
    }
   ],
   "source": [
    "train = pd.read_csv('data/bank/train.csv')\n",
    "train.fillna('-', inplace=True)\n",
    "\n",
    "train.columns"
   ]
  },
  {
   "cell_type": "code",
   "execution_count": 83,
   "metadata": {},
   "outputs": [
    {
     "data": {
      "text/plain": [
       "Index(['_ID_', '_CITY_', '_ADRS_', '_OBJ_TYPE_', '_TTL_S_', '_F1_S_', '_F1_U_',\n       '_FC_S_', '_FC_U_', '_F0_S_', '_F0_U_', '_FA_S_', '_FA_U_', '_F2_S_',\n       '_F2_U_', '_F3_S_', '_F3_U_', '_AREA_', '_CHARACT_', '_LINE_',\n       '_METRO_', '_ROUND_', '_FOOT_TRAF_', '_IS_PRKNG_', '_IS_WIN_',\n       '_IS_SEP_ENT_', '_IS_VENT_', '_DECOR_', '_IS_COM_', '_F1_H_', '_DATE_'],\n      dtype='object')"
      ]
     },
     "execution_count": 83,
     "metadata": {},
     "output_type": "execute_result"
    }
   ],
   "source": [
    "test = pd.read_csv('data/bank/test.csv')\n",
    "test.fillna('-', inplace=True)\n",
    "\n",
    "test.columns"
   ]
  },
  {
   "cell_type": "markdown",
   "metadata": {},
   "source": [
    "Удаляем строки из train, где нет указана цена. Остальные переводим в тысячи рублей."
   ]
  },
  {
   "cell_type": "code",
   "execution_count": 84,
   "metadata": {
    "collapsed": true
   },
   "outputs": [
    {
     "data": {
      "text/plain": [
       "15756"
      ]
     },
     "execution_count": 84,
     "metadata": {},
     "output_type": "execute_result"
    }
   ],
   "source": [
    "train = train[[(x.find('РУБ') != -1) for x in train['_PRICE_']]]\n",
    "\n",
    "train['_PRICE_'] = pd.Series([int(''.join(x[:x.find('РУБ')].split())) / 10000 \n",
    "                             for x in train['_PRICE_']], train.index)\n",
    "len(train)"
   ]
  },
  {
   "cell_type": "markdown",
   "metadata": {},
   "source": [
    "Удаляем строкиз из train, где не указана площадь. Остальные переводим в тысячи рублей."
   ]
  },
  {
   "cell_type": "code",
   "execution_count": 85,
   "metadata": {},
   "outputs": [
    {
     "data": {
      "text/plain": [
       "15741"
      ]
     },
     "execution_count": 85,
     "metadata": {},
     "output_type": "execute_result"
    }
   ],
   "source": [
    "train = train[[x.find('м') != -1 for x in train['_AREA_']]]\n",
    "train['_AREA_'] = pd.Series([float(x[:x.find('м')].replace(',', '.')) \n",
    "                             for x in train['_AREA_']],\n",
    "                            train.index)\n",
    "len(train)"
   ]
  },
  {
   "cell_type": "markdown",
   "metadata": {},
   "source": [
    "Преобразование тестовых данных."
   ]
  },
  {
   "cell_type": "code",
   "execution_count": 86,
   "metadata": {},
   "outputs": [],
   "source": [
    "test['_TTL_S_'] = pd.Series([float(x.replace(',', '.')) if x[0].isdigit() else -1\n",
    "                             for x in test['_TTL_S_']],\n",
    "                            test.index)"
   ]
  },
  {
   "cell_type": "code",
   "execution_count": 87,
   "metadata": {},
   "outputs": [
    {
     "name": "stdout",
     "output_type": "stream",
     "text": [
      "11018 11018\n"
     ]
    }
   ],
   "source": [
    "input_X = [[x] if x != -1 else [np.mean(input_X)] for x in train['_AREA_']]\n",
    "input_y = train['_PRICE_']\n",
    "print(len(train_X), len(train_y))"
   ]
  },
  {
   "cell_type": "code",
   "execution_count": 88,
   "metadata": {},
   "outputs": [],
   "source": [
    "output_X = [[x] for x in test['_TTL_S_']]"
   ]
  },
  {
   "cell_type": "code",
   "execution_count": 89,
   "metadata": {},
   "outputs": [],
   "source": [
    "def fit(X, y):\n",
    "    rf_est = GridSearchCV(RandomForestRegressor(),\n",
    "                          param_grid={'n_estimators': [i for i in range(30, 301, 30)]})\n",
    "    rf_est.fit(X, y)\n",
    "    gb_est = GridSearchCV(GradientBoostingRegressor(),\n",
    "                          param_grid={'n_estimators': [i for i in range(50, 261, 30)]})\n",
    "    gb_est.fit([x + [y] for x, y in zip(X, rf_est.predict(X))], y)\n",
    "    return rf_est, gb_est"
   ]
  },
  {
   "cell_type": "code",
   "execution_count": 90,
   "metadata": {},
   "outputs": [],
   "source": [
    "train_X, test_X, train_y, test_y = train_test_split(input_X, input_y, test_size=0.3)\n",
    "rf_est, gb_est = fit(train_X, train_y)"
   ]
  },
  {
   "cell_type": "code",
   "execution_count": 91,
   "metadata": {},
   "outputs": [],
   "source": [
    "test_X = [x + [y] for x, y in zip(test_X, rf_est.predict(test_X))]\n",
    "train_X = [x + [y] for x, y in zip(train_X, rf_est.predict(train_X))]"
   ]
  },
  {
   "cell_type": "code",
   "execution_count": 92,
   "metadata": {},
   "outputs": [
    {
     "name": "stdout",
     "output_type": "stream",
     "text": [
      "2.30134781618\n1.98683132496\n"
     ]
    }
   ],
   "source": [
    "print(np.sqrt(np.mean(np.power(np.log2(gb_est.predict(test_X)) - np.log2(test_y), 2))))\n",
    "print(np.sqrt(np.mean(np.power(np.log2(gb_est.predict(train_X)) - np.log2(train_y), 2))))"
   ]
  },
  {
   "cell_type": "code",
   "execution_count": 93,
   "metadata": {},
   "outputs": [
    {
     "name": "stdout",
     "output_type": "stream",
     "text": [
      "   _ID_      _PRICE_\n0     0   538.611454\n1     1  1400.539347\n2     2   910.431439\n3     3   572.659288\n4     4   682.265474\n"
     ]
    }
   ],
   "source": [
    "output_X = [x + [y] for x, y in zip(output_X, rf_est.predict(output_X))]\n",
    "output_y = gb_est.predict(output_X)\n",
    "prediction = pd.DataFrame(data={'_ID_': test['_ID_'], '_PRICE_': output_y})\n",
    "prediction.to_csv('data/bank/prediction.csv', index=False)\n",
    "print(prediction.head())"
   ]
  }
 ],
 "metadata": {
  "kernelspec": {
   "display_name": "Python 2",
   "language": "python",
   "name": "python2"
  },
  "language_info": {
   "codemirror_mode": {
    "name": "ipython",
    "version": 2.0
   },
   "file_extension": ".py",
   "mimetype": "text/x-python",
   "name": "python",
   "nbconvert_exporter": "python",
   "pygments_lexer": "ipython2",
   "version": "2.7.6"
  }
 },
 "nbformat": 4,
 "nbformat_minor": 0
}