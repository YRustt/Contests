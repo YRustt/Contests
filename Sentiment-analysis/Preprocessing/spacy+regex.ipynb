{
 "cells": [
  {
   "cell_type": "code",
   "execution_count": 46,
   "metadata": {
    "collapsed": false,
    "deletable": true,
    "editable": true
   },
   "outputs": [],
   "source": [
    "import re\n",
    "import pandas as pd\n",
    "import spacy\n",
    "from keras.utils import np_utils\n",
    "\n",
    "nlp = spacy.load('en')"
   ]
  },
  {
   "cell_type": "markdown",
   "metadata": {},
   "source": [
    "# Borrowed from @PihtaHorse"
   ]
  },
  {
   "cell_type": "code",
   "execution_count": 47,
   "metadata": {
    "collapsed": true,
    "deletable": true,
    "editable": true
   },
   "outputs": [],
   "source": [
    "def remove_characters_from_string(s, old_characters_list=['\\n', '\\t'], new_characters_list=None):\n",
    "    if not new_characters_list:\n",
    "        new_characters_list = [' '] * len(old_characters_list)\n",
    "    \n",
    "    for old_c, new_c in zip(old_characters_list, new_characters_list):\n",
    "        s = s.replace(old_c, new_c)\n",
    "    \n",
    "    return s\n",
    "\n",
    "def remove_extra_spaces(s):\n",
    "    return ' '.join(s.split())"
   ]
  },
  {
   "cell_type": "code",
   "execution_count": 48,
   "metadata": {
    "collapsed": true
   },
   "outputs": [],
   "source": [
    "money_regex = r'\\$[0-8.,]+'\n",
    "\n",
    "def money_replace(s):\n",
    "    return re.sub(money_regex, ' money_regex ', s)"
   ]
  },
  {
   "cell_type": "code",
   "execution_count": 49,
   "metadata": {
    "collapsed": true
   },
   "outputs": [],
   "source": [
    "dots_regex = r'\\.[.]+'\n",
    "\n",
    "def dots_replace(s):\n",
    "    return re.sub(dots_regex, ' ... ', s)"
   ]
  },
  {
   "cell_type": "code",
   "execution_count": 50,
   "metadata": {
    "collapsed": false
   },
   "outputs": [],
   "source": [
    "def clear_string(s):\n",
    "    s = remove_characters_from_string(s,\n",
    "                                      ['\\\\n', '\\\\\"', '-', '\"', \"\\\\\", ')', '(', '/'], \n",
    "                                      [' ', ' ', ' - ', ' ', '', ' ) ', ' ( ', ' / '])\n",
    "    s = money_replace(s)\n",
    "    s = dots_replace(s)\n",
    "    s = remove_extra_spaces(s)\n",
    "    return s"
   ]
  },
  {
   "cell_type": "code",
   "execution_count": 51,
   "metadata": {
    "collapsed": true
   },
   "outputs": [],
   "source": [
    "def get_space_tokens(s):\n",
    "    s = clear_string(s)\n",
    "    return nlp(s)\n",
    "\n",
    "def text_from_spacy_tokens(tokens):\n",
    "    tokens = [token.lower_ for token in tokens]\n",
    "    return ' '.join(tokens)"
   ]
  },
  {
   "cell_type": "code",
   "execution_count": 52,
   "metadata": {
    "collapsed": false,
    "deletable": true,
    "editable": true
   },
   "outputs": [],
   "source": [
    "train = pd.read_csv('../data/train.data', sep='\\t', index_col='Id')\n",
    "test = pd.read_csv('../data/test.data', sep='\\t', index_col='Id')"
   ]
  },
  {
   "cell_type": "code",
   "execution_count": 53,
   "metadata": {
    "collapsed": false
   },
   "outputs": [
    {
     "data": {
      "text/html": [
       "<div>\n",
       "<table border=\"1\" class=\"dataframe\">\n",
       "  <thead>\n",
       "    <tr style=\"text-align: right;\">\n",
       "      <th></th>\n",
       "      <th>Sentiment</th>\n",
       "      <th>Text</th>\n",
       "    </tr>\n",
       "    <tr>\n",
       "      <th>Id</th>\n",
       "      <th></th>\n",
       "      <th></th>\n",
       "    </tr>\n",
       "  </thead>\n",
       "  <tbody>\n",
       "    <tr>\n",
       "      <th>0</th>\n",
       "      <td>1</td>\n",
       "      <td>Incredibly disappointing service. I mean reall...</td>\n",
       "    </tr>\n",
       "    <tr>\n",
       "      <th>1</th>\n",
       "      <td>2</td>\n",
       "      <td>I'm not really sure what just happened to me. ...</td>\n",
       "    </tr>\n",
       "    <tr>\n",
       "      <th>2</th>\n",
       "      <td>4</td>\n",
       "      <td>Yum yum. My bf and I came here to celebrate ou...</td>\n",
       "    </tr>\n",
       "    <tr>\n",
       "      <th>3</th>\n",
       "      <td>4</td>\n",
       "      <td>I wish Fujiya was closer to me now that I'm no...</td>\n",
       "    </tr>\n",
       "    <tr>\n",
       "      <th>4</th>\n",
       "      <td>4</td>\n",
       "      <td>I work down the street from this location and ...</td>\n",
       "    </tr>\n",
       "  </tbody>\n",
       "</table>\n",
       "</div>"
      ],
      "text/plain": [
       "    Sentiment                                               Text\n",
       "Id                                                              \n",
       "0           1  Incredibly disappointing service. I mean reall...\n",
       "1           2  I'm not really sure what just happened to me. ...\n",
       "2           4  Yum yum. My bf and I came here to celebrate ou...\n",
       "3           4  I wish Fujiya was closer to me now that I'm no...\n",
       "4           4  I work down the street from this location and ..."
      ]
     },
     "execution_count": 53,
     "metadata": {},
     "output_type": "execute_result"
    }
   ],
   "source": [
    "train.head()"
   ]
  },
  {
   "cell_type": "code",
   "execution_count": 54,
   "metadata": {
    "collapsed": false
   },
   "outputs": [],
   "source": [
    "train.Text = train.Text.apply(get_space_tokens).apply(text_from_spacy_tokens)\n",
    "test.Text = test.Text.apply(get_space_tokens).apply(text_from_spacy_tokens)"
   ]
  },
  {
   "cell_type": "code",
   "execution_count": 55,
   "metadata": {
    "collapsed": false
   },
   "outputs": [
    {
     "data": {
      "text/html": [
       "<div>\n",
       "<table border=\"1\" class=\"dataframe\">\n",
       "  <thead>\n",
       "    <tr style=\"text-align: right;\">\n",
       "      <th></th>\n",
       "      <th>Sentiment</th>\n",
       "      <th>Text</th>\n",
       "    </tr>\n",
       "    <tr>\n",
       "      <th>Id</th>\n",
       "      <th></th>\n",
       "      <th></th>\n",
       "    </tr>\n",
       "  </thead>\n",
       "  <tbody>\n",
       "    <tr>\n",
       "      <th>0</th>\n",
       "      <td>1</td>\n",
       "      <td>incredibly disappointing service . i mean real...</td>\n",
       "    </tr>\n",
       "    <tr>\n",
       "      <th>1</th>\n",
       "      <td>2</td>\n",
       "      <td>i 'm not really sure what just happened to me ...</td>\n",
       "    </tr>\n",
       "    <tr>\n",
       "      <th>2</th>\n",
       "      <td>4</td>\n",
       "      <td>yum yum . my bf and i came here to celebrate o...</td>\n",
       "    </tr>\n",
       "    <tr>\n",
       "      <th>3</th>\n",
       "      <td>4</td>\n",
       "      <td>i wish fujiya was closer to me now that i 'm n...</td>\n",
       "    </tr>\n",
       "    <tr>\n",
       "      <th>4</th>\n",
       "      <td>4</td>\n",
       "      <td>i work down the street from this location and ...</td>\n",
       "    </tr>\n",
       "  </tbody>\n",
       "</table>\n",
       "</div>"
      ],
      "text/plain": [
       "    Sentiment                                               Text\n",
       "Id                                                              \n",
       "0           1  incredibly disappointing service . i mean real...\n",
       "1           2  i 'm not really sure what just happened to me ...\n",
       "2           4  yum yum . my bf and i came here to celebrate o...\n",
       "3           4  i wish fujiya was closer to me now that i 'm n...\n",
       "4           4  i work down the street from this location and ..."
      ]
     },
     "execution_count": 55,
     "metadata": {},
     "output_type": "execute_result"
    }
   ],
   "source": [
    "train.head()"
   ]
  },
  {
   "cell_type": "code",
   "execution_count": 56,
   "metadata": {
    "collapsed": false
   },
   "outputs": [],
   "source": [
    "Y_train = np_utils.to_categorical(train.Sentiment)\n",
    "\n",
    "for i in range(1, 6):\n",
    "    train.insert(loc=len(train.columns), column=str(i), value=Y_train[:, i])"
   ]
  },
  {
   "cell_type": "code",
   "execution_count": 58,
   "metadata": {
    "collapsed": false
   },
   "outputs": [
    {
     "data": {
      "text/html": [
       "<div>\n",
       "<table border=\"1\" class=\"dataframe\">\n",
       "  <thead>\n",
       "    <tr style=\"text-align: right;\">\n",
       "      <th></th>\n",
       "      <th>Sentiment</th>\n",
       "      <th>Text</th>\n",
       "      <th>1</th>\n",
       "      <th>2</th>\n",
       "      <th>3</th>\n",
       "      <th>4</th>\n",
       "      <th>5</th>\n",
       "    </tr>\n",
       "    <tr>\n",
       "      <th>Id</th>\n",
       "      <th></th>\n",
       "      <th></th>\n",
       "      <th></th>\n",
       "      <th></th>\n",
       "      <th></th>\n",
       "      <th></th>\n",
       "      <th></th>\n",
       "    </tr>\n",
       "  </thead>\n",
       "  <tbody>\n",
       "    <tr>\n",
       "      <th>0</th>\n",
       "      <td>1</td>\n",
       "      <td>incredibly disappointing service . i mean real...</td>\n",
       "      <td>1.0</td>\n",
       "      <td>0.0</td>\n",
       "      <td>0.0</td>\n",
       "      <td>0.0</td>\n",
       "      <td>0.0</td>\n",
       "    </tr>\n",
       "    <tr>\n",
       "      <th>1</th>\n",
       "      <td>2</td>\n",
       "      <td>i 'm not really sure what just happened to me ...</td>\n",
       "      <td>0.0</td>\n",
       "      <td>1.0</td>\n",
       "      <td>0.0</td>\n",
       "      <td>0.0</td>\n",
       "      <td>0.0</td>\n",
       "    </tr>\n",
       "    <tr>\n",
       "      <th>2</th>\n",
       "      <td>4</td>\n",
       "      <td>yum yum . my bf and i came here to celebrate o...</td>\n",
       "      <td>0.0</td>\n",
       "      <td>0.0</td>\n",
       "      <td>0.0</td>\n",
       "      <td>1.0</td>\n",
       "      <td>0.0</td>\n",
       "    </tr>\n",
       "    <tr>\n",
       "      <th>3</th>\n",
       "      <td>4</td>\n",
       "      <td>i wish fujiya was closer to me now that i 'm n...</td>\n",
       "      <td>0.0</td>\n",
       "      <td>0.0</td>\n",
       "      <td>0.0</td>\n",
       "      <td>1.0</td>\n",
       "      <td>0.0</td>\n",
       "    </tr>\n",
       "    <tr>\n",
       "      <th>4</th>\n",
       "      <td>4</td>\n",
       "      <td>i work down the street from this location and ...</td>\n",
       "      <td>0.0</td>\n",
       "      <td>0.0</td>\n",
       "      <td>0.0</td>\n",
       "      <td>1.0</td>\n",
       "      <td>0.0</td>\n",
       "    </tr>\n",
       "  </tbody>\n",
       "</table>\n",
       "</div>"
      ],
      "text/plain": [
       "    Sentiment                                               Text    1    2  \\\n",
       "Id                                                                           \n",
       "0           1  incredibly disappointing service . i mean real...  1.0  0.0   \n",
       "1           2  i 'm not really sure what just happened to me ...  0.0  1.0   \n",
       "2           4  yum yum . my bf and i came here to celebrate o...  0.0  0.0   \n",
       "3           4  i wish fujiya was closer to me now that i 'm n...  0.0  0.0   \n",
       "4           4  i work down the street from this location and ...  0.0  0.0   \n",
       "\n",
       "      3    4    5  \n",
       "Id                 \n",
       "0   0.0  0.0  0.0  \n",
       "1   0.0  0.0  0.0  \n",
       "2   0.0  1.0  0.0  \n",
       "3   0.0  1.0  0.0  \n",
       "4   0.0  1.0  0.0  "
      ]
     },
     "execution_count": 58,
     "metadata": {},
     "output_type": "execute_result"
    }
   ],
   "source": [
    "train.head()"
   ]
  },
  {
   "cell_type": "code",
   "execution_count": 60,
   "metadata": {
    "collapsed": true
   },
   "outputs": [],
   "source": [
    "train.to_csv('../data/spacy_train.csv')\n",
    "test.to_csv('../data/spacy_test.csv')"
   ]
  },
  {
   "cell_type": "code",
   "execution_count": null,
   "metadata": {
    "collapsed": true
   },
   "outputs": [],
   "source": []
  }
 ],
 "metadata": {
  "kernelspec": {
   "display_name": "Python [conda env:py35]",
   "language": "python",
   "name": "conda-env-py35-py"
  },
  "language_info": {
   "codemirror_mode": {
    "name": "ipython",
    "version": 3
   },
   "file_extension": ".py",
   "mimetype": "text/x-python",
   "name": "python",
   "nbconvert_exporter": "python",
   "pygments_lexer": "ipython3",
   "version": "3.5.2"
  }
 },
 "nbformat": 4,
 "nbformat_minor": 2
}
