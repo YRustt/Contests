{
 "cells": [
  {
   "cell_type": "code",
   "execution_count": 72,
   "metadata": {},
   "outputs": [],
   "source": [
    "import matplotlib.pyplot as plt\n",
    "import seaborn\n",
    "%matplotlib inline\n",
    "\n",
    "import pandas as pd\n",
    "import numpy as np\n",
    "\n",
    "from scipy import stats\n",
    "\n",
    "import requests\n",
    "from html.parser import HTMLParser\n",
    "from IPython.display import HTML"
   ]
  },
  {
   "cell_type": "code",
   "execution_count": 2,
   "metadata": {},
   "outputs": [
    {
     "data": {
      "text/html": [
       "<div>\n",
       "<style>\n",
       "    .dataframe thead tr:only-child th {\n",
       "        text-align: right;\n",
       "    }\n",
       "\n",
       "    .dataframe thead th {\n",
       "        text-align: left;\n",
       "    }\n",
       "\n",
       "    .dataframe tbody tr th {\n",
       "        vertical-align: top;\n",
       "    }\n",
       "</style>\n",
       "<table border=\"1\" class=\"dataframe\">\n",
       "  <thead>\n",
       "    <tr style=\"text-align: right;\">\n",
       "      <th></th>\n",
       "      <th>country</th>\n",
       "      <th>height</th>\n",
       "      <th>weight</th>\n",
       "      <th>sex</th>\n",
       "      <th>age</th>\n",
       "      <th>degree</th>\n",
       "      <th>exercise</th>\n",
       "      <th>drinking</th>\n",
       "      <th>smoking</th>\n",
       "    </tr>\n",
       "  </thead>\n",
       "  <tbody>\n",
       "    <tr>\n",
       "      <th>0</th>\n",
       "      <td>276</td>\n",
       "      <td>183</td>\n",
       "      <td>99</td>\n",
       "      <td>1</td>\n",
       "      <td>25</td>\n",
       "      <td>4</td>\n",
       "      <td>1</td>\n",
       "      <td>2</td>\n",
       "      <td>2</td>\n",
       "    </tr>\n",
       "    <tr>\n",
       "      <th>1</th>\n",
       "      <td>752</td>\n",
       "      <td>172</td>\n",
       "      <td>80</td>\n",
       "      <td>1</td>\n",
       "      <td>46</td>\n",
       "      <td>2</td>\n",
       "      <td>2</td>\n",
       "      <td>2</td>\n",
       "      <td>2</td>\n",
       "    </tr>\n",
       "    <tr>\n",
       "      <th>2</th>\n",
       "      <td>752</td>\n",
       "      <td>187</td>\n",
       "      <td>86</td>\n",
       "      <td>1</td>\n",
       "      <td>18</td>\n",
       "      <td>3</td>\n",
       "      <td>1</td>\n",
       "      <td>2</td>\n",
       "      <td>2</td>\n",
       "    </tr>\n",
       "    <tr>\n",
       "      <th>3</th>\n",
       "      <td>752</td>\n",
       "      <td>187</td>\n",
       "      <td>117</td>\n",
       "      <td>1</td>\n",
       "      <td>54</td>\n",
       "      <td>5</td>\n",
       "      <td>2</td>\n",
       "      <td>2</td>\n",
       "      <td>2</td>\n",
       "    </tr>\n",
       "    <tr>\n",
       "      <th>4</th>\n",
       "      <td>752</td>\n",
       "      <td>174</td>\n",
       "      <td>73</td>\n",
       "      <td>1</td>\n",
       "      <td>33</td>\n",
       "      <td>3</td>\n",
       "      <td>2</td>\n",
       "      <td>2</td>\n",
       "      <td>2</td>\n",
       "    </tr>\n",
       "  </tbody>\n",
       "</table>\n",
       "</div>"
      ],
      "text/plain": [
       "   country  height  weight  sex  age  degree  exercise  drinking  smoking\n",
       "0      276     183      99    1   25       4         1         2        2\n",
       "1      752     172      80    1   46       2         2         2        2\n",
       "2      752     187      86    1   18       3         1         2        2\n",
       "3      752     187     117    1   54       5         2         2        2\n",
       "4      752     174      73    1   33       3         2         2        2"
      ]
     },
     "execution_count": 2,
     "metadata": {},
     "output_type": "execute_result"
    }
   ],
   "source": [
    "data = pd.read_excel('data_60.xls')\n",
    "\n",
    "data.head()"
   ]
  },
  {
   "cell_type": "code",
   "execution_count": 3,
   "metadata": {},
   "outputs": [
    {
     "name": "stdout",
     "output_type": "stream",
     "text": [
      "Количество людей всего - 258, в 276-стране - 76, в 752-стране - 182\n"
     ]
    }
   ],
   "source": [
    "print('Количество людей всего - %i, в 276-стране - %i, в 752-стране - %i' % \n",
    "      (data.shape[0], data[data.country == 276].shape[0], data[data.country == 752].shape[0]))"
   ]
  },
  {
   "cell_type": "markdown",
   "metadata": {},
   "source": [
    "# 1.1 Убираем шум"
   ]
  },
  {
   "cell_type": "code",
   "execution_count": 4,
   "metadata": {},
   "outputs": [
    {
     "data": {
      "text/plain": [
       "2    214\n",
       "1     42\n",
       "9      2\n",
       "Name: smoking, dtype: int64"
      ]
     },
     "execution_count": 4,
     "metadata": {},
     "output_type": "execute_result"
    }
   ],
   "source": [
    "data.smoking.value_counts()"
   ]
  },
  {
   "cell_type": "code",
   "execution_count": 5,
   "metadata": {},
   "outputs": [
    {
     "data": {
      "text/plain": [
       "2    242\n",
       "1     16\n",
       "Name: drinking, dtype: int64"
      ]
     },
     "execution_count": 5,
     "metadata": {},
     "output_type": "execute_result"
    }
   ],
   "source": [
    "data.drinking.value_counts()"
   ]
  },
  {
   "cell_type": "code",
   "execution_count": 6,
   "metadata": {},
   "outputs": [
    {
     "data": {
      "text/plain": [
       "1    136\n",
       "2    113\n",
       "9      9\n",
       "Name: exercise, dtype: int64"
      ]
     },
     "execution_count": 6,
     "metadata": {},
     "output_type": "execute_result"
    }
   ],
   "source": [
    "data.exercise.value_counts()"
   ]
  },
  {
   "cell_type": "code",
   "execution_count": 7,
   "metadata": {},
   "outputs": [
    {
     "data": {
      "text/plain": [
       "4    54\n",
       "2    54\n",
       "3    46\n",
       "6    45\n",
       "5    33\n",
       "1    21\n",
       "9     3\n",
       "0     2\n",
       "Name: degree, dtype: int64"
      ]
     },
     "execution_count": 7,
     "metadata": {},
     "output_type": "execute_result"
    }
   ],
   "source": [
    "data.degree.value_counts()"
   ]
  },
  {
   "cell_type": "code",
   "execution_count": 8,
   "metadata": {},
   "outputs": [
    {
     "data": {
      "text/plain": [
       "1    132\n",
       "2    126\n",
       "Name: sex, dtype: int64"
      ]
     },
     "execution_count": 8,
     "metadata": {},
     "output_type": "execute_result"
    }
   ],
   "source": [
    "data.sex.value_counts()"
   ]
  },
  {
   "cell_type": "code",
   "execution_count": 9,
   "metadata": {
    "collapsed": true
   },
   "outputs": [],
   "source": [
    "filter_data = data[(data.smoking != 9) & (data.exercise != 9) & (data.degree != 9)]"
   ]
  },
  {
   "cell_type": "code",
   "execution_count": 10,
   "metadata": {},
   "outputs": [
    {
     "data": {
      "text/plain": [
       "height       Axes(0.125,0.125;0.227941x0.755)\n",
       "weight    Axes(0.398529,0.125;0.227941x0.755)\n",
       "age       Axes(0.672059,0.125;0.227941x0.755)\n",
       "dtype: object"
      ]
     },
     "execution_count": 10,
     "metadata": {},
     "output_type": "execute_result"
    },
    {
     "data": {
      "image/png": "[encoded data removed]",
      "text/plain": [
       "<matplotlib.figure.Figure at 0x7f040a7c4978>"
      ]
     },
     "metadata": {},
     "output_type": "display_data"
    }
   ],
   "source": [
    "filter_data[['height', 'weight', 'age']].plot(kind='box', subplots=True, figsize=(15, 5), sym='+')"
   ]
  },
  {
   "cell_type": "code",
   "execution_count": 11,
   "metadata": {
    "collapsed": true
   },
   "outputs": [],
   "source": [
    "filter_data = filter_data[(filter_data.height <= 200) & (filter_data.weight <= 200)]"
   ]
  },
  {
   "cell_type": "code",
   "execution_count": 12,
   "metadata": {},
   "outputs": [
    {
     "data": {
      "text/plain": [
       "height       Axes(0.125,0.125;0.227941x0.755)\n",
       "weight    Axes(0.398529,0.125;0.227941x0.755)\n",
       "age       Axes(0.672059,0.125;0.227941x0.755)\n",
       "dtype: object"
      ]
     },
     "execution_count": 12,
     "metadata": {},
     "output_type": "execute_result"
    },
    {
     "data": {
      "image/png": "[encoded data removed]",
      "text/plain": [
       "<matplotlib.figure.Figure at 0x7f040a7c4668>"
      ]
     },
     "metadata": {},
     "output_type": "display_data"
    }
   ],
   "source": [
    "filter_data[['height', 'weight', 'age']].plot(kind='box', subplots=True, figsize=(15, 5))"
   ]
  },
  {
   "cell_type": "markdown",
   "metadata": {},
   "source": [
    "# 1.2 Статистики по данным с пропусками"
   ]
  },
  {
   "cell_type": "code",
   "execution_count": 13,
   "metadata": {},
   "outputs": [
    {
     "name": "stdout",
     "output_type": "stream",
     "text": [
      "p=0.081395\n"
     ]
    }
   ],
   "source": [
    "bad_row_count = data.shape[0] - filter_data.shape[0]\n",
    "p = bad_row_count / data.shape[0]\n",
    "\n",
    "print('p=%f' % p)"
   ]
  },
  {
   "cell_type": "code",
   "execution_count": 14,
   "metadata": {},
   "outputs": [
    {
     "name": "stdout",
     "output_type": "stream",
     "text": [
      "E=21.000000, D=19.290698\n"
     ]
    }
   ],
   "source": [
    "n = data.shape[0]\n",
    "E = n * p\n",
    "D = n * (p - p * p)\n",
    "\n",
    "print('E=%f, D=%f' % (E, D))"
   ]
  },
  {
   "cell_type": "markdown",
   "metadata": {},
   "source": [
    "$95\\%$ доверительный интервал: $(\\overline{x} - 1.96 \\cdot \\sigma,\\ \\overline{x} + 1.96 + \\cdot \\sigma)$"
   ]
  },
  {
   "cell_type": "markdown",
   "metadata": {},
   "source": [
    "# 1.3 Вычисления индексов массы тела для каждого человека"
   ]
  },
  {
   "cell_type": "markdown",
   "metadata": {},
   "source": [
    "Индекс массы тела рассчитывается по формуле:\n",
    "\n",
    "$$I = \\frac{m}{h^2},$$\n",
    "\n",
    "где:\n",
    "* $m$ - масса тела в килограммах\n",
    "* $h$ - рост в метрах,\n",
    "\n",
    "и измеряется в $kg/m^2$"
   ]
  },
  {
   "cell_type": "code",
   "execution_count": 15,
   "metadata": {},
   "outputs": [
    {
     "data": {
      "text/html": [
       "<div>\n",
       "<style>\n",
       "    .dataframe thead tr:only-child th {\n",
       "        text-align: right;\n",
       "    }\n",
       "\n",
       "    .dataframe thead th {\n",
       "        text-align: left;\n",
       "    }\n",
       "\n",
       "    .dataframe tbody tr th {\n",
       "        vertical-align: top;\n",
       "    }\n",
       "</style>\n",
       "<table border=\"1\" class=\"dataframe\">\n",
       "  <thead>\n",
       "    <tr style=\"text-align: right;\">\n",
       "      <th></th>\n",
       "      <th>country</th>\n",
       "      <th>height</th>\n",
       "      <th>weight</th>\n",
       "      <th>sex</th>\n",
       "      <th>age</th>\n",
       "      <th>degree</th>\n",
       "      <th>exercise</th>\n",
       "      <th>drinking</th>\n",
       "      <th>smoking</th>\n",
       "      <th>bmi</th>\n",
       "    </tr>\n",
       "  </thead>\n",
       "  <tbody>\n",
       "    <tr>\n",
       "      <th>0</th>\n",
       "      <td>276</td>\n",
       "      <td>1.83</td>\n",
       "      <td>99</td>\n",
       "      <td>1</td>\n",
       "      <td>25</td>\n",
       "      <td>4</td>\n",
       "      <td>1</td>\n",
       "      <td>2</td>\n",
       "      <td>2</td>\n",
       "      <td>29.561946</td>\n",
       "    </tr>\n",
       "    <tr>\n",
       "      <th>1</th>\n",
       "      <td>752</td>\n",
       "      <td>1.72</td>\n",
       "      <td>80</td>\n",
       "      <td>1</td>\n",
       "      <td>46</td>\n",
       "      <td>2</td>\n",
       "      <td>2</td>\n",
       "      <td>2</td>\n",
       "      <td>2</td>\n",
       "      <td>27.041644</td>\n",
       "    </tr>\n",
       "    <tr>\n",
       "      <th>2</th>\n",
       "      <td>752</td>\n",
       "      <td>1.87</td>\n",
       "      <td>86</td>\n",
       "      <td>1</td>\n",
       "      <td>18</td>\n",
       "      <td>3</td>\n",
       "      <td>1</td>\n",
       "      <td>2</td>\n",
       "      <td>2</td>\n",
       "      <td>24.593211</td>\n",
       "    </tr>\n",
       "    <tr>\n",
       "      <th>3</th>\n",
       "      <td>752</td>\n",
       "      <td>1.87</td>\n",
       "      <td>117</td>\n",
       "      <td>1</td>\n",
       "      <td>54</td>\n",
       "      <td>5</td>\n",
       "      <td>2</td>\n",
       "      <td>2</td>\n",
       "      <td>2</td>\n",
       "      <td>33.458206</td>\n",
       "    </tr>\n",
       "    <tr>\n",
       "      <th>4</th>\n",
       "      <td>752</td>\n",
       "      <td>1.74</td>\n",
       "      <td>73</td>\n",
       "      <td>1</td>\n",
       "      <td>33</td>\n",
       "      <td>3</td>\n",
       "      <td>2</td>\n",
       "      <td>2</td>\n",
       "      <td>2</td>\n",
       "      <td>24.111507</td>\n",
       "    </tr>\n",
       "  </tbody>\n",
       "</table>\n",
       "</div>"
      ],
      "text/plain": [
       "   country  height  weight  sex  age  degree  exercise  drinking  smoking  \\\n",
       "0      276    1.83      99    1   25       4         1         2        2   \n",
       "1      752    1.72      80    1   46       2         2         2        2   \n",
       "2      752    1.87      86    1   18       3         1         2        2   \n",
       "3      752    1.87     117    1   54       5         2         2        2   \n",
       "4      752    1.74      73    1   33       3         2         2        2   \n",
       "\n",
       "         bmi  \n",
       "0  29.561946  \n",
       "1  27.041644  \n",
       "2  24.593211  \n",
       "3  33.458206  \n",
       "4  24.111507  "
      ]
     },
     "execution_count": 15,
     "metadata": {},
     "output_type": "execute_result"
    }
   ],
   "source": [
    "filter_data.height = filter_data.height / 100\n",
    "filter_data['bmi'] = filter_data.weight / (filter_data.height * filter_data.height)\n",
    "\n",
    "filter_data.head()"
   ]
  },
  {
   "cell_type": "code",
   "execution_count": 75,
   "metadata": {
    "scrolled": false
   },
   "outputs": [
    {
     "data": {
      "text/html": [
       "<table><tr><th>Индекс массы тела</th><th>Соответствие между массой человека и его ростом</th></tr><tr><td>16 и менее</td><td>Выраженный дефицит массы тела</td></tr><tr><td>16—18,5</td><td>Недостаточная (дефицит) масса тела</td></tr><tr><td>18,5—24,99</td><td>Норма</td></tr><tr><td>25—30</td><td>Избыточная масса тела (предожирение)</td></tr><tr><td>30—35</td><td><a>Ожирение</a> первой степени</td></tr><tr><td>35—40</td><td>Ожирение второй степени</td></tr><tr><td>40 и более</td><td>Ожирение третьей степени (морбидное)</td></tr></table>"
      ],
      "text/plain": [
       "<IPython.core.display.HTML object>"
      ]
     },
     "execution_count": 75,
     "metadata": {},
     "output_type": "execute_result"
    }
   ],
   "source": [
    "class MyHTMLParser(HTMLParser):\n",
    "    def __init__(self):\n",
    "        HTMLParser.__init__(self)\n",
    "        self._is_my_table = False\n",
    "        self._result = []\n",
    "\n",
    "    def handle_starttag(self, tag, attrs):\n",
    "        if tag == 'table' and ('class', 'standard') in attrs:\n",
    "            self._is_my_table = True\n",
    "        \n",
    "        if self._is_my_table:\n",
    "            self._result.append('<%s>' % tag)\n",
    "    \n",
    "    def handle_endtag(self, tag):\n",
    "        if self._is_my_table:\n",
    "            self._result.append('</%s>' % tag)\n",
    "\n",
    "        if self._is_my_table and tag == 'table':\n",
    "            self._is_my_table = False\n",
    "\n",
    "    def handle_data(self, data):\n",
    "        if self._is_my_table and data.strip():\n",
    "            self._result.append(data)\n",
    "\n",
    "\n",
    "url = \"https://ru.wikipedia.org/wiki/%D0%98%D0%BD%D0%B4%D0%B5%D0%BA%D1%81_\" + \\\n",
    "        \"%D0%BC%D0%B0%D1%81%D1%81%D1%8B_%D1%82%D0%B5%D0%BB%D0%B0\"\n",
    "response = requests.get(url)\n",
    "\n",
    "\n",
    "parser = MyHTMLParser()\n",
    "\n",
    "parser.feed(response.content.decode('utf-8'))\n",
    "HTML(''.join(parser._result))"
   ]
  },
  {
   "cell_type": "code",
   "execution_count": 145,
   "metadata": {},
   "outputs": [
    {
     "data": {
      "text/plain": [
       "[<matplotlib.lines.Line2D at 0x7f03fd1ed748>]"
      ]
     },
     "execution_count": 145,
     "metadata": {},
     "output_type": "execute_result"
    },
    {
     "data": {
      "image/png": "[encoded data removed]",
      "text/plain": [
       "<matplotlib.figure.Figure at 0x7f03fd5b5710>"
      ]
     },
     "metadata": {},
     "output_type": "display_data"
    }
   ],
   "source": [
    "fig = plt.figure(figsize=(15, 10))\n",
    "ax = fig.add_subplot(111)\n",
    "\n",
    "ax.scatter(filter_data.weight, filter_data.height)\n",
    "ax.set_xlabel('weight')\n",
    "ax.set_ylabel('height')\n",
    "\n",
    "ax.set_title('Рисунок из условия')\n",
    "\n",
    "# x / y ** 2 == i\n",
    "y = [1.4, 2.1]\n",
    "x1 = [18.5 * 1.4 ** 2, 18.5 * 2.1 ** 2]\n",
    "x2 = [25 * 1.4 ** 2, 25 * 2.1 ** 2]\n",
    "x3 = [30 * 1.4 ** 2, 30 * 2.1 ** 2]\n",
    "\n",
    "ax.plot(x1, y, c='grey')\n",
    "ax.plot(x2, y, c='grey')\n",
    "ax.plot(x3, y, c='grey')\n",
    "ax.fill_betweenx(y, 30, x1, facecolor='white', alpha=0.33)\n",
    "ax.fill_betweenx(y, x1, x2, facecolor='yellow', alpha=0.33)\n",
    "ax.fill_betweenx(y, x2, x3, facecolor='orange', alpha=0.33)\n",
    "ax.fill_betweenx(y, x3, 150, facecolor='red', alpha=0.33)\n",
    "\n",
    "bmi = np.percentile(filter_data[filter_data.bmi < 18.5].bmi, 50)\n",
    "mean_x = [bmi * 1.4 ** 2, bmi * 2.1 ** 2]\n",
    "ax.plot(mean_x, y, c='grey', ls='-.')\n",
    "bmi = np.percentile(filter_data[filter_data.bmi < 18.5].bmi, 25)\n",
    "mean_x = [bmi * 1.4 ** 2, bmi * 2.1 ** 2]\n",
    "ax.plot(mean_x, y, c='grey', ls=':')\n",
    "bmi = np.percentile(filter_data[filter_data.bmi < 18.5].bmi, 75)\n",
    "mean_x = [bmi * 1.4 ** 2, bmi * 2.1 ** 2]\n",
    "ax.plot(mean_x, y, c='grey', ls=':')\n",
    "\n",
    "bmi = np.percentile(filter_data[(filter_data.bmi >= 18.5) & (filter_data.bmi < 25)].bmi, 50)\n",
    "mean_x = [bmi * 1.4 ** 2, bmi * 2.1 ** 2]\n",
    "ax.plot(mean_x, y, c='grey', ls='-.')\n",
    "bmi = np.percentile(filter_data[(filter_data.bmi >= 18.5) & (filter_data.bmi < 25)].bmi, 25)\n",
    "mean_x = [bmi * 1.4 ** 2, bmi * 2.1 ** 2]\n",
    "ax.plot(mean_x, y, c='grey', ls=':')\n",
    "bmi = np.percentile(filter_data[(filter_data.bmi >= 18.5) & (filter_data.bmi < 25)].bmi, 75)\n",
    "mean_x = [bmi * 1.4 ** 2, bmi * 2.1 ** 2]\n",
    "ax.plot(mean_x, y, c='grey', ls=':')\n",
    "\n",
    "bmi = np.percentile(filter_data[(filter_data.bmi >= 25) & (filter_data.bmi < 30)].bmi, 50)\n",
    "mean_x = [bmi * 1.4 ** 2, bmi * 2.1 ** 2]\n",
    "ax.plot(mean_x, y, c='grey', ls='-.')\n",
    "bmi = np.percentile(filter_data[(filter_data.bmi >= 25) & (filter_data.bmi < 30)].bmi, 25)\n",
    "mean_x = [bmi * 1.4 ** 2, bmi * 2.1 ** 2]\n",
    "ax.plot(mean_x, y, c='grey', ls=':')\n",
    "bmi = np.percentile(filter_data[(filter_data.bmi >= 25) & (filter_data.bmi < 30)].bmi, 75)\n",
    "mean_x = [bmi * 1.4 ** 2, bmi * 2.1 ** 2]\n",
    "ax.plot(mean_x, y, c='grey', ls=':')\n",
    "\n",
    "bmi = np.percentile(filter_data[filter_data.bmi >= 30].bmi, 50)\n",
    "mean_x = [bmi * 1.4 ** 2, bmi * 2.1 ** 2]\n",
    "ax.plot(mean_x, y, c='grey', ls='-.')\n",
    "bmi = np.percentile(filter_data[filter_data.bmi >= 30].bmi, 25)\n",
    "mean_x = [bmi * 1.4 ** 2, bmi * 2.1 ** 2]\n",
    "ax.plot(mean_x, y, c='grey', ls=':')\n",
    "bmi = np.percentile(filter_data[filter_data.bmi >= 30].bmi, 75)\n",
    "mean_x = [bmi * 1.4 ** 2, bmi * 2.1 ** 2]\n",
    "ax.plot(mean_x, y, c='grey', ls=':')"
   ]
  },
  {
   "cell_type": "markdown",
   "metadata": {},
   "source": [
    "# 2.1"
   ]
  },
  {
   "cell_type": "markdown",
   "metadata": {},
   "source": [
    "### Математическое ожидание"
   ]
  },
  {
   "cell_type": "code",
   "execution_count": 278,
   "metadata": {},
   "outputs": [
    {
     "data": {
      "text/plain": [
       "country\n",
       "276    26.484261\n",
       "752    25.055587\n",
       "Name: bmi, dtype: float64"
      ]
     },
     "execution_count": 278,
     "metadata": {},
     "output_type": "execute_result"
    }
   ],
   "source": [
    "filter_data.groupby('country').bmi.mean()"
   ]
  },
  {
   "cell_type": "markdown",
   "metadata": {},
   "source": [
    "### Среднеквадратическое отклонение"
   ]
  },
  {
   "cell_type": "code",
   "execution_count": 279,
   "metadata": {},
   "outputs": [
    {
     "data": {
      "text/plain": [
       "country\n",
       "276    5.369079\n",
       "752    3.610866\n",
       "Name: bmi, dtype: float64"
      ]
     },
     "execution_count": 279,
     "metadata": {},
     "output_type": "execute_result"
    }
   ],
   "source": [
    "filter_data.groupby('country').bmi.std()"
   ]
  },
  {
   "cell_type": "markdown",
   "metadata": {},
   "source": [
    "### Skewness"
   ]
  },
  {
   "cell_type": "code",
   "execution_count": 280,
   "metadata": {},
   "outputs": [
    {
     "data": {
      "text/plain": [
       "country\n",
       "276    0.895722\n",
       "752    0.407655\n",
       "Name: bmi, dtype: float64"
      ]
     },
     "execution_count": 280,
     "metadata": {},
     "output_type": "execute_result"
    }
   ],
   "source": [
    "filter_data.groupby('country').bmi.skew()"
   ]
  },
  {
   "cell_type": "markdown",
   "metadata": {},
   "source": [
    "### 25%, 50%, 75% квантили"
   ]
  },
  {
   "cell_type": "code",
   "execution_count": 281,
   "metadata": {},
   "outputs": [
    {
     "data": {
      "text/plain": [
       "country      \n",
       "276      0.25    22.204082\n",
       "         0.50    26.041667\n",
       "         0.75    29.210110\n",
       "752      0.25    22.825617\n",
       "         0.50    24.962303\n",
       "         0.75    27.443101\n",
       "Name: bmi, dtype: float64"
      ]
     },
     "execution_count": 281,
     "metadata": {},
     "output_type": "execute_result"
    }
   ],
   "source": [
    "filter_data.groupby('country').bmi.quantile([0.25, 0.5, 0.75])"
   ]
  },
  {
   "cell_type": "code",
   "execution_count": 289,
   "metadata": {},
   "outputs": [
    {
     "data": {
      "text/plain": [
       "<matplotlib.text.Text at 0x7f3638352cf8>"
      ]
     },
     "execution_count": 289,
     "metadata": {},
     "output_type": "execute_result"
    },
    {
     "data": {
      "image/png": "[encoded data removed]",
      "text/plain": [
       "<matplotlib.figure.Figure at 0x7f363a14c470>"
      ]
     },
     "metadata": {},
     "output_type": "display_data"
    }
   ],
   "source": [
    "_, (ax1, ax2) = plt.subplots(1, 2)\n",
    "\n",
    "ax1.boxplot(filter_data[filter_data.country == 276].bmi.values)\n",
    "ax1.set_title('276')\n",
    "ax2.boxplot(filter_data[filter_data.country == 752].bmi.values)\n",
    "ax2.set_title('752')"
   ]
  },
  {
   "cell_type": "markdown",
   "metadata": {},
   "source": [
    "### Зависимость между ростом и весом"
   ]
  },
  {
   "cell_type": "code",
   "execution_count": 296,
   "metadata": {},
   "outputs": [
    {
     "data": {
      "text/plain": [
       "country\n",
       "276    Axes(0.125,0.125;0.775x0.755)\n",
       "752    Axes(0.125,0.125;0.775x0.755)\n",
       "dtype: object"
      ]
     },
     "execution_count": 296,
     "metadata": {},
     "output_type": "execute_result"
    },
    {
     "data": {
      "image/png": "[encoded data removed]",
      "text/plain": [
       "<matplotlib.figure.Figure at 0x7f3637fe3c18>"
      ]
     },
     "metadata": {},
     "output_type": "display_data"
    },
    {
     "data": {
      "image/png": "[encoded data removed]",
      "text/plain": [
       "<matplotlib.figure.Figure at 0x7f363803eef0>"
      ]
     },
     "metadata": {},
     "output_type": "display_data"
    }
   ],
   "source": [
    "filter_data.groupby('country').plot(x='height', y='weight', kind='scatter')"
   ]
  },
  {
   "cell_type": "code",
   "execution_count": 284,
   "metadata": {},
   "outputs": [
    {
     "data": {
      "text/html": [
       "<div>\n",
       "<style>\n",
       "    .dataframe thead tr:only-child th {\n",
       "        text-align: right;\n",
       "    }\n",
       "\n",
       "    .dataframe thead th {\n",
       "        text-align: left;\n",
       "    }\n",
       "\n",
       "    .dataframe tbody tr th {\n",
       "        vertical-align: top;\n",
       "    }\n",
       "</style>\n",
       "<table border=\"1\" class=\"dataframe\">\n",
       "  <thead>\n",
       "    <tr style=\"text-align: right;\">\n",
       "      <th></th>\n",
       "      <th></th>\n",
       "      <th>height</th>\n",
       "      <th>weight</th>\n",
       "    </tr>\n",
       "    <tr>\n",
       "      <th>country</th>\n",
       "      <th></th>\n",
       "      <th></th>\n",
       "      <th></th>\n",
       "    </tr>\n",
       "  </thead>\n",
       "  <tbody>\n",
       "    <tr>\n",
       "      <th rowspan=\"2\" valign=\"top\">276</th>\n",
       "      <th>height</th>\n",
       "      <td>1.000000</td>\n",
       "      <td>0.439255</td>\n",
       "    </tr>\n",
       "    <tr>\n",
       "      <th>weight</th>\n",
       "      <td>0.439255</td>\n",
       "      <td>1.000000</td>\n",
       "    </tr>\n",
       "    <tr>\n",
       "      <th rowspan=\"2\" valign=\"top\">752</th>\n",
       "      <th>height</th>\n",
       "      <td>1.000000</td>\n",
       "      <td>0.692151</td>\n",
       "    </tr>\n",
       "    <tr>\n",
       "      <th>weight</th>\n",
       "      <td>0.692151</td>\n",
       "      <td>1.000000</td>\n",
       "    </tr>\n",
       "  </tbody>\n",
       "</table>\n",
       "</div>"
      ],
      "text/plain": [
       "                  height    weight\n",
       "country                           \n",
       "276     height  1.000000  0.439255\n",
       "        weight  0.439255  1.000000\n",
       "752     height  1.000000  0.692151\n",
       "        weight  0.692151  1.000000"
      ]
     },
     "execution_count": 284,
     "metadata": {},
     "output_type": "execute_result"
    }
   ],
   "source": [
    "filter_data.groupby('country')[['height', 'weight']].corr('pearson')"
   ]
  },
  {
   "cell_type": "markdown",
   "metadata": {},
   "source": [
    "### Зависимость между ростом и bmi"
   ]
  },
  {
   "cell_type": "code",
   "execution_count": 297,
   "metadata": {},
   "outputs": [
    {
     "data": {
      "text/plain": [
       "country\n",
       "276    Axes(0.125,0.125;0.775x0.755)\n",
       "752    Axes(0.125,0.125;0.775x0.755)\n",
       "dtype: object"
      ]
     },
     "execution_count": 297,
     "metadata": {},
     "output_type": "execute_result"
    },
    {
     "data": {
      "image/png": "[encoded data removed]",
      "text/plain": [
       "<matplotlib.figure.Figure at 0x7f3637ec26a0>"
      ]
     },
     "metadata": {},
     "output_type": "display_data"
    },
    {
     "data": {
      "image/png": "[encoded data removed]",
      "text/plain": [
       "<matplotlib.figure.Figure at 0x7f3637ec2c18>"
      ]
     },
     "metadata": {},
     "output_type": "display_data"
    }
   ],
   "source": [
    "filter_data.groupby('country').plot(x='height', y='bmi', kind='scatter')"
   ]
  },
  {
   "cell_type": "code",
   "execution_count": 299,
   "metadata": {},
   "outputs": [
    {
     "data": {
      "text/html": [
       "<div>\n",
       "<style>\n",
       "    .dataframe thead tr:only-child th {\n",
       "        text-align: right;\n",
       "    }\n",
       "\n",
       "    .dataframe thead th {\n",
       "        text-align: left;\n",
       "    }\n",
       "\n",
       "    .dataframe tbody tr th {\n",
       "        vertical-align: top;\n",
       "    }\n",
       "</style>\n",
       "<table border=\"1\" class=\"dataframe\">\n",
       "  <thead>\n",
       "    <tr style=\"text-align: right;\">\n",
       "      <th></th>\n",
       "      <th></th>\n",
       "      <th>height</th>\n",
       "      <th>bmi</th>\n",
       "    </tr>\n",
       "    <tr>\n",
       "      <th>country</th>\n",
       "      <th></th>\n",
       "      <th></th>\n",
       "      <th></th>\n",
       "    </tr>\n",
       "  </thead>\n",
       "  <tbody>\n",
       "    <tr>\n",
       "      <th rowspan=\"2\" valign=\"top\">276</th>\n",
       "      <th>height</th>\n",
       "      <td>1.000000</td>\n",
       "      <td>-0.075848</td>\n",
       "    </tr>\n",
       "    <tr>\n",
       "      <th>bmi</th>\n",
       "      <td>-0.075848</td>\n",
       "      <td>1.000000</td>\n",
       "    </tr>\n",
       "    <tr>\n",
       "      <th rowspan=\"2\" valign=\"top\">752</th>\n",
       "      <th>height</th>\n",
       "      <td>1.000000</td>\n",
       "      <td>0.166017</td>\n",
       "    </tr>\n",
       "    <tr>\n",
       "      <th>bmi</th>\n",
       "      <td>0.166017</td>\n",
       "      <td>1.000000</td>\n",
       "    </tr>\n",
       "  </tbody>\n",
       "</table>\n",
       "</div>"
      ],
      "text/plain": [
       "                  height       bmi\n",
       "country                           \n",
       "276     height  1.000000 -0.075848\n",
       "        bmi    -0.075848  1.000000\n",
       "752     height  1.000000  0.166017\n",
       "        bmi     0.166017  1.000000"
      ]
     },
     "execution_count": 299,
     "metadata": {},
     "output_type": "execute_result"
    }
   ],
   "source": [
    "filter_data.groupby('country')[['height', 'bmi']].corr('pearson')"
   ]
  },
  {
   "cell_type": "markdown",
   "metadata": {},
   "source": [
    "### Зависимость между курением и весом"
   ]
  },
  {
   "cell_type": "code",
   "execution_count": 291,
   "metadata": {},
   "outputs": [
    {
     "data": {
      "text/plain": [
       "country\n",
       "276    Axes(0.125,0.125;0.775x0.755)\n",
       "752    Axes(0.125,0.125;0.775x0.755)\n",
       "dtype: object"
      ]
     },
     "execution_count": 291,
     "metadata": {},
     "output_type": "execute_result"
    },
    {
     "data": {
      "image/png": "[encoded data removed]",
      "text/plain": [
       "<matplotlib.figure.Figure at 0x7f363827ca90>"
      ]
     },
     "metadata": {},
     "output_type": "display_data"
    },
    {
     "data": {
      "image/png": "[encoded data removed]",
      "text/plain": [
       "<matplotlib.figure.Figure at 0x7f3638275940>"
      ]
     },
     "metadata": {},
     "output_type": "display_data"
    }
   ],
   "source": [
    "filter_data.groupby('country').plot(x='smoking', y='weight', kind='scatter')"
   ]
  },
  {
   "cell_type": "code",
   "execution_count": 292,
   "metadata": {},
   "outputs": [
    {
     "data": {
      "text/html": [
       "<div>\n",
       "<style>\n",
       "    .dataframe thead tr:only-child th {\n",
       "        text-align: right;\n",
       "    }\n",
       "\n",
       "    .dataframe thead th {\n",
       "        text-align: left;\n",
       "    }\n",
       "\n",
       "    .dataframe tbody tr th {\n",
       "        vertical-align: top;\n",
       "    }\n",
       "</style>\n",
       "<table border=\"1\" class=\"dataframe\">\n",
       "  <thead>\n",
       "    <tr style=\"text-align: right;\">\n",
       "      <th></th>\n",
       "      <th></th>\n",
       "      <th>smoking</th>\n",
       "      <th>weight</th>\n",
       "    </tr>\n",
       "    <tr>\n",
       "      <th>country</th>\n",
       "      <th></th>\n",
       "      <th></th>\n",
       "      <th></th>\n",
       "    </tr>\n",
       "  </thead>\n",
       "  <tbody>\n",
       "    <tr>\n",
       "      <th rowspan=\"2\" valign=\"top\">276</th>\n",
       "      <th>smoking</th>\n",
       "      <td>1.000000</td>\n",
       "      <td>0.147365</td>\n",
       "    </tr>\n",
       "    <tr>\n",
       "      <th>weight</th>\n",
       "      <td>0.147365</td>\n",
       "      <td>1.000000</td>\n",
       "    </tr>\n",
       "    <tr>\n",
       "      <th rowspan=\"2\" valign=\"top\">752</th>\n",
       "      <th>smoking</th>\n",
       "      <td>1.000000</td>\n",
       "      <td>0.142378</td>\n",
       "    </tr>\n",
       "    <tr>\n",
       "      <th>weight</th>\n",
       "      <td>0.142378</td>\n",
       "      <td>1.000000</td>\n",
       "    </tr>\n",
       "  </tbody>\n",
       "</table>\n",
       "</div>"
      ],
      "text/plain": [
       "                  smoking    weight\n",
       "country                            \n",
       "276     smoking  1.000000  0.147365\n",
       "        weight   0.147365  1.000000\n",
       "752     smoking  1.000000  0.142378\n",
       "        weight   0.142378  1.000000"
      ]
     },
     "execution_count": 292,
     "metadata": {},
     "output_type": "execute_result"
    }
   ],
   "source": [
    "filter_data.groupby('country')[['smoking', 'weight']].corr('pearson')"
   ]
  },
  {
   "cell_type": "code",
   "execution_count": 293,
   "metadata": {},
   "outputs": [
    {
     "data": {
      "text/html": [
       "<div>\n",
       "<style>\n",
       "    .dataframe thead tr:only-child th {\n",
       "        text-align: right;\n",
       "    }\n",
       "\n",
       "    .dataframe thead th {\n",
       "        text-align: left;\n",
       "    }\n",
       "\n",
       "    .dataframe tbody tr th {\n",
       "        vertical-align: top;\n",
       "    }\n",
       "</style>\n",
       "<table border=\"1\" class=\"dataframe\">\n",
       "  <thead>\n",
       "    <tr style=\"text-align: right;\">\n",
       "      <th></th>\n",
       "      <th></th>\n",
       "      <th>smoking</th>\n",
       "      <th>weight</th>\n",
       "    </tr>\n",
       "    <tr>\n",
       "      <th>country</th>\n",
       "      <th></th>\n",
       "      <th></th>\n",
       "      <th></th>\n",
       "    </tr>\n",
       "  </thead>\n",
       "  <tbody>\n",
       "    <tr>\n",
       "      <th rowspan=\"2\" valign=\"top\">276</th>\n",
       "      <th>smoking</th>\n",
       "      <td>1.000000</td>\n",
       "      <td>0.110600</td>\n",
       "    </tr>\n",
       "    <tr>\n",
       "      <th>weight</th>\n",
       "      <td>0.110600</td>\n",
       "      <td>1.000000</td>\n",
       "    </tr>\n",
       "    <tr>\n",
       "      <th rowspan=\"2\" valign=\"top\">752</th>\n",
       "      <th>smoking</th>\n",
       "      <td>1.000000</td>\n",
       "      <td>0.103636</td>\n",
       "    </tr>\n",
       "    <tr>\n",
       "      <th>weight</th>\n",
       "      <td>0.103636</td>\n",
       "      <td>1.000000</td>\n",
       "    </tr>\n",
       "  </tbody>\n",
       "</table>\n",
       "</div>"
      ],
      "text/plain": [
       "                  smoking    weight\n",
       "country                            \n",
       "276     smoking  1.000000  0.110600\n",
       "        weight   0.110600  1.000000\n",
       "752     smoking  1.000000  0.103636\n",
       "        weight   0.103636  1.000000"
      ]
     },
     "execution_count": 293,
     "metadata": {},
     "output_type": "execute_result"
    }
   ],
   "source": [
    "filter_data.groupby('country')[['smoking', 'weight']].corr('kendall')"
   ]
  },
  {
   "cell_type": "code",
   "execution_count": 294,
   "metadata": {},
   "outputs": [
    {
     "data": {
      "text/html": [
       "<div>\n",
       "<style>\n",
       "    .dataframe thead tr:only-child th {\n",
       "        text-align: right;\n",
       "    }\n",
       "\n",
       "    .dataframe thead th {\n",
       "        text-align: left;\n",
       "    }\n",
       "\n",
       "    .dataframe tbody tr th {\n",
       "        vertical-align: top;\n",
       "    }\n",
       "</style>\n",
       "<table border=\"1\" class=\"dataframe\">\n",
       "  <thead>\n",
       "    <tr style=\"text-align: right;\">\n",
       "      <th></th>\n",
       "      <th></th>\n",
       "      <th>smoking</th>\n",
       "      <th>weight</th>\n",
       "    </tr>\n",
       "    <tr>\n",
       "      <th>country</th>\n",
       "      <th></th>\n",
       "      <th></th>\n",
       "      <th></th>\n",
       "    </tr>\n",
       "  </thead>\n",
       "  <tbody>\n",
       "    <tr>\n",
       "      <th rowspan=\"2\" valign=\"top\">276</th>\n",
       "      <th>smoking</th>\n",
       "      <td>1.000000</td>\n",
       "      <td>0.132777</td>\n",
       "    </tr>\n",
       "    <tr>\n",
       "      <th>weight</th>\n",
       "      <td>0.132777</td>\n",
       "      <td>1.000000</td>\n",
       "    </tr>\n",
       "    <tr>\n",
       "      <th rowspan=\"2\" valign=\"top\">752</th>\n",
       "      <th>smoking</th>\n",
       "      <td>1.000000</td>\n",
       "      <td>0.125221</td>\n",
       "    </tr>\n",
       "    <tr>\n",
       "      <th>weight</th>\n",
       "      <td>0.125221</td>\n",
       "      <td>1.000000</td>\n",
       "    </tr>\n",
       "  </tbody>\n",
       "</table>\n",
       "</div>"
      ],
      "text/plain": [
       "                  smoking    weight\n",
       "country                            \n",
       "276     smoking  1.000000  0.132777\n",
       "        weight   0.132777  1.000000\n",
       "752     smoking  1.000000  0.125221\n",
       "        weight   0.125221  1.000000"
      ]
     },
     "execution_count": 294,
     "metadata": {},
     "output_type": "execute_result"
    }
   ],
   "source": [
    "filter_data.groupby('country')[['smoking', 'weight']].corr('spearman')"
   ]
  },
  {
   "cell_type": "markdown",
   "metadata": {},
   "source": [
    "# 2.2"
   ]
  },
  {
   "cell_type": "code",
   "execution_count": 285,
   "metadata": {},
   "outputs": [
    {
     "data": {
      "text/plain": [
       "country\n",
       "276    26.484261\n",
       "752    25.055587\n",
       "Name: bmi, dtype: float64"
      ]
     },
     "execution_count": 285,
     "metadata": {},
     "output_type": "execute_result"
    }
   ],
   "source": [
    "filter_data.groupby('country').bmi.mean()"
   ]
  },
  {
   "cell_type": "code",
   "execution_count": 286,
   "metadata": {},
   "outputs": [
    {
     "data": {
      "text/plain": [
       "25.495642369560873"
      ]
     },
     "execution_count": 286,
     "metadata": {},
     "output_type": "execute_result"
    }
   ],
   "source": [
    "filter_data.bmi.mean()"
   ]
  },
  {
   "cell_type": "markdown",
   "metadata": {},
   "source": [
    "# 2.3"
   ]
  },
  {
   "cell_type": "markdown",
   "metadata": {},
   "source": [
    "# 3 Критерий согласия Пирсона"
   ]
  },
  {
   "cell_type": "markdown",
   "metadata": {},
   "source": [
    "## a.     \n",
    "*Нулевая гипотеза:* мужчины жирнее женщин.\n",
    "\n",
    "*Алтернативная гипотеза:* женщины не менее жирные чем мужчин."
   ]
  },
  {
   "cell_type": "code",
   "execution_count": 306,
   "metadata": {
    "collapsed": true
   },
   "outputs": [],
   "source": [
    "men_data = (filter_data[filter_data.sex == 1].bmi > 25).astype(np.float32)\n",
    "women_data = (filter_data[filter_data.sex == 2].bmi > 25).astype(np.float32)"
   ]
  },
  {
   "cell_type": "code",
   "execution_count": 308,
   "metadata": {},
   "outputs": [
    {
     "data": {
      "text/plain": [
       "F_onewayResult(statistic=20.372544640073798, pvalue=1.0080130121776811e-05)"
      ]
     },
     "execution_count": 308,
     "metadata": {},
     "output_type": "execute_result"
    }
   ],
   "source": [
    "stats.f_oneway(men_data, women_data)"
   ]
  }
 ],
 "metadata": {
  "kernelspec": {
   "display_name": "Python 3",
   "language": "python",
   "name": "python3"
  },
  "language_info": {
   "codemirror_mode": {
    "name": "ipython",
    "version": 3
   },
   "file_extension": ".py",
   "mimetype": "text/x-python",
   "name": "python",
   "nbconvert_exporter": "python",
   "pygments_lexer": "ipython3",
   "version": "3.6.1"
  }
 },
 "nbformat": 4,
 "nbformat_minor": 2
}
