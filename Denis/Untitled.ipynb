{
 "cells": [
  {
   "cell_type": "code",
   "execution_count": 31,
   "metadata": {
    "collapsed": true
   },
   "outputs": [],
   "source": [
    "import numpy as np\n",
    "import pandas as pd\n",
    "\n",
    "from sklearn.ensemble import GradientBoostingClassifier, RandomForestClassifier\n",
    "from sklearn.naive_bayes import MultinomialNB\n",
    "from sklearn.metrics import accuracy_score, precision_recall_fscore_support"
   ]
  },
  {
   "cell_type": "code",
   "execution_count": 12,
   "metadata": {
    "collapsed": false
   },
   "outputs": [
    {
     "data": {
      "text/plain": [
       "(300, 7677)"
      ]
     },
     "execution_count": 12,
     "metadata": {},
     "output_type": "execute_result"
    }
   ],
   "source": [
    "data = np.genfromtxt('data/matrix.txt', delimiter=';')\n",
    "data.shape"
   ]
  },
  {
   "cell_type": "code",
   "execution_count": 34,
   "metadata": {
    "collapsed": false
   },
   "outputs": [],
   "source": [
    "x_data, y_data = data[:, :7676], data[:, 7676]"
   ]
  },
  {
   "cell_type": "code",
   "execution_count": 40,
   "metadata": {
    "collapsed": true
   },
   "outputs": [],
   "source": [
    "def calc_values(y_data, y_pred):\n",
    "    tp, fp, tn, fn = 0, 0, 0, 0\n",
    "    for d, p in zip(y_data, y_pred):\n",
    "        if d == 1 and d == p:\n",
    "            tp += 1\n",
    "        if d == 1 and d != p:\n",
    "            fn += 1\n",
    "        if d == 0 and d == p:\n",
    "            tn += 1\n",
    "        if d == 0 and d != p:\n",
    "            fp += 1\n",
    "    return tp, fp, tn, fn"
   ]
  },
  {
   "cell_type": "code",
   "execution_count": 47,
   "metadata": {
    "collapsed": false
   },
   "outputs": [
    {
     "name": "stdout",
     "output_type": "stream",
     "text": [
      "{0.0: 200, 1.0: 100}\n"
     ]
    }
   ],
   "source": [
    "unique, counts = np.unique(y_data, return_counts=True)\n",
    "print(dict(zip(unique, counts)))"
   ]
  },
  {
   "cell_type": "code",
   "execution_count": 48,
   "metadata": {
    "collapsed": false
   },
   "outputs": [
    {
     "name": "stdout",
     "output_type": "stream",
     "text": [
      "Accuracy: 0.910000\n",
      "(array([ 0.88105727,  1.        ]), array([ 1.  ,  0.73]), array([ 0.93676815,  0.84393064]), array([200, 100]))\n",
      "tp: 73.000000\n",
      "fp: 0.000000\n",
      "tn: 200.000000\n",
      "fn: 27.000000\n"
     ]
    }
   ],
   "source": [
    "est_gb = GradientBoostingClassifier()\n",
    "est_gb.fit(x_data, y_data)\n",
    "\n",
    "y_pred_gb = est_gb.predict(x_data)\n",
    "print('Accuracy: %f' % accuracy_score(y_data, y_pred_gb))\n",
    "print(precision_recall_fscore_support(y_data, y_pred_gb))\n",
    "print('tp: %f\\nfp: %f\\ntn: %f\\nfn: %f' % calc_values(y_data, y_pred_gb))"
   ]
  },
  {
   "cell_type": "code",
   "execution_count": 49,
   "metadata": {
    "collapsed": false
   },
   "outputs": [
    {
     "name": "stdout",
     "output_type": "stream",
     "text": [
      "Accuracy: 0.903333\n",
      "(array([ 0.87336245,  1.        ]), array([ 1.  ,  0.71]), array([ 0.93240093,  0.83040936]), array([200, 100]))\n",
      "tp: 71.000000\n",
      "fp: 0.000000\n",
      "tn: 200.000000\n",
      "fn: 29.000000\n"
     ]
    }
   ],
   "source": [
    "est_rf = RandomForestClassifier()\n",
    "est_rf.fit(x_data, y_data)\n",
    "\n",
    "y_pred_rf = est_rb.predict(x_data)\n",
    "print('Accuracy: %f' % accuracy_score(y_data, y_pred_rf))\n",
    "print(precision_recall_fscore_support(y_data, y_pred_rf))\n",
    "print('tp: %f\\nfp: %f\\ntn: %f\\nfn: %f' % calc_values(y_data, y_pred_rf))"
   ]
  },
  {
   "cell_type": "code",
   "execution_count": 50,
   "metadata": {
    "collapsed": false
   },
   "outputs": [
    {
     "name": "stdout",
     "output_type": "stream",
     "text": [
      "Accuracy: 0.760000\n",
      "(array([ 0.73529412,  1.        ]), array([ 1.  ,  0.28]), array([ 0.84745763,  0.4375    ]), array([200, 100]))\n",
      "tp: 28.000000\n",
      "fp: 0.000000\n",
      "tn: 200.000000\n",
      "fn: 72.000000\n"
     ]
    }
   ],
   "source": [
    "est_mnb = MultinomialNB()\n",
    "est_mnb.fit(x_data, y_data)\n",
    "\n",
    "y_pred_mnb = est_mnb.predict(x_data)\n",
    "print('Accuracy: %f' % accuracy_score(y_data, y_pred_mnb))\n",
    "print(precision_recall_fscore_support(y_data, y_pred_mnb))\n",
    "print('tp: %f\\nfp: %f\\ntn: %f\\nfn: %f' % calc_values(y_data, y_pred_mnb))"
   ]
  }
 ],
 "metadata": {
  "kernelspec": {
   "display_name": "Python 3",
   "language": "python",
   "name": "python3"
  },
  "language_info": {
   "codemirror_mode": {
    "name": "ipython",
    "version": 3
   },
   "file_extension": ".py",
   "mimetype": "text/x-python",
   "name": "python",
   "nbconvert_exporter": "python",
   "pygments_lexer": "ipython3",
   "version": "3.6.0"
  }
 },
 "nbformat": 4,
 "nbformat_minor": 2
}
