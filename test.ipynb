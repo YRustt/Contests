{
 "cells": [
  {
   "cell_type": "code",
   "execution_count": 1,
   "metadata": {
    "collapsed": true
   },
   "outputs": [
    {
     "name": "stderr",
     "output_type": "stream",
     "text": [
      "/home/yrustt/Desktop/Python/Contests/venv/lib/python3.5/site-packages/sklearn/cross_validation.py:44: DeprecationWarning: This module was deprecated in version 0.18 in favor of the model_selection module into which all the refactored classes and functions are moved. Also note that the interface of the new CV iterators are different from that of this module. This module will be removed in 0.20.\n  \"This module will be removed in 0.20.\", DeprecationWarning)\n/home/yrustt/Desktop/Python/Contests/venv/lib/python3.5/site-packages/sklearn/grid_search.py:43: DeprecationWarning: This module was deprecated in version 0.18 in favor of the model_selection module into which all the refactored classes and functions are moved. This module will be removed in 0.20.\n  DeprecationWarning)\n"
     ]
    }
   ],
   "source": [
    "import pandas as pd\n",
    "import numpy as np\n",
    "from sklearn.metrics import roc_auc_score\n",
    "from sklearn.model_selection import train_test_split\n",
    "from sklearn.preprocessing import scale, normalize\n",
    "from sklearn.ensemble import RandomForestClassifier\n",
    "from sklearn.svm import SVC\n",
    "from sklearn.grid_search import GridSearchCV"
   ]
  },
  {
   "cell_type": "code",
   "execution_count": 2,
   "metadata": {},
   "outputs": [],
   "source": [
    "def read_train(filename='data/train.csv'):\n",
    "    return pd.read_csv(filename, encoding='utf-8', dialect='excel', lineterminator='\\n')\n",
    "\n",
    "\n",
    "def read_test(filename='data/test.csv'):\n",
    "    return pd.read_csv(filename, encoding='utf-8', dialect='excel', lineterminator='\\n')"
   ]
  },
  {
   "cell_type": "code",
   "execution_count": 3,
   "metadata": {},
   "outputs": [],
   "source": [
    "class Features:\n",
    "    @staticmethod\n",
    "    def get_user_lang_feature(data, train_data):\n",
    "        table = train_data[['user.lang', 'retweet_count']].groupby(by='user.lang').mean()\n",
    "        table = table.to_dict()['retweet_count']\n",
    "        return pd.Series.from_array([table.get(x, np.mean(list(table.values()))) for x in data['user.lang']])\n",
    "\n",
    "    @staticmethod\n",
    "    def get_text_feature(data, i):\n",
    "        if i == 0:\n",
    "            return pd.Series.from_array([x.count('t.co') for x in data['text']])\n",
    "        elif i == 1:\n",
    "            return pd.Series.from_array([x.count('@') for x in data['text']])\n",
    "\n",
    "    @staticmethod\n",
    "    def get_in_reply_to_user_id_feature(data):\n",
    "        return pd.Series.from_array([np.bool(x) for x in data['in_reply_to_user_id']])\n",
    "\n",
    "    @staticmethod\n",
    "    def get_user_time_zone_feature(data, train_data):\n",
    "        table = train_data[['user.time_zone', 'retweet_count']].groupby(by='user.time_zone').mean()\n",
    "        table = table.to_dict()['retweet_count']\n",
    "        return pd.Series.from_array([table.get(x, np.mean(list(table.values()))) for x in data['user.time_zone']])\n",
    "\n",
    "\n",
    "def df2features(data, train_data):\n",
    "    return np.array([\n",
    "        Features.get_text_feature(data, 0),\n",
    "        Features.get_text_feature(data, 1),\n",
    "        Features.get_in_reply_to_user_id_feature(data),\n",
    "        Features.get_user_lang_feature(data, train_data),\n",
    "        Features.get_user_time_zone_feature(data, train_data),\n",
    "        data['user.utc_offset'],\n",
    "        data['user.statuses_count'],\n",
    "        data['user.followers_count'],\n",
    "        data['user.friends_count'],\n",
    "        data['user.favourites_count'],\n",
    "        data['user.is_translation_enabled'] * data['user.geo_enabled'],\n",
    "        data['user.listed_count']\n",
    "    ]).transpose()"
   ]
  },
  {
   "cell_type": "code",
   "execution_count": 4,
   "metadata": {},
   "outputs": [],
   "source": [
    "class Models:\n",
    "    @staticmethod\n",
    "    def model_1(train_X, test_X, train_y, test_y, real_test_X):\n",
    "        param_grid = {'min_samples_leaf': [i for i in range(10, 101, 10)]}\n",
    "        est = GridSearchCV(RandomForestClassifier(), param_grid=param_grid, n_jobs=4)\n",
    "        est.fit(train_X, train_y)\n",
    "\n",
    "        proba = est.predict_proba(train_X)\n",
    "        print(roc_auc_score(train_y, proba[:, 1]))\n",
    "\n",
    "        proba = est.predict_proba(test_X)\n",
    "        print(roc_auc_score(test_y, proba[:, 1]))\n",
    "\n",
    "        proba = est.predict_proba(real_test_X)\n",
    "        return proba[:, 1]\n",
    "\n",
    "    @staticmethod\n",
    "    def model_2(train_X, test_X, train_y, test_y, real_test_X):\n",
    "        est = SVC(probability=True, verbose=True)\n",
    "        est.fit(train_X, train_y)\n",
    "\n",
    "        proba = est.predict_proba(train_X)\n",
    "        print(roc_auc_score(train_y, proba[:, 1]))\n",
    "\n",
    "        proba = est.predict_proba(test_X)\n",
    "        print(roc_auc_score(test_y, proba[:, 1]))\n",
    "\n",
    "        proba = est.predict_proba(real_test_X)\n",
    "        return proba[:, 1]"
   ]
  },
  {
   "cell_type": "code",
   "execution_count": 29,
   "metadata": {},
   "outputs": [],
   "source": [
    "data, test_data = read_train(), read_test()\n",
    "data_y = data['retweet_count'] > 20\n",
    "train_X, test_X, train_y, test_y = train_test_split(data, data_y, test_size=0.33)\n",
    "train_X, test_X, real_test_X = df2features(train_X, train_X), df2features(test_X, train_X), df2features(test_data, train_X)"
   ]
  },
  {
   "cell_type": "code",
   "execution_count": 31,
   "metadata": {},
   "outputs": [
    {
     "name": "stdout",
     "output_type": "stream",
     "text": [
      "0.972834910972\n0.922621961648\n"
     ]
    }
   ],
   "source": [
    "proba = Models.model_1(train_X, test_X, train_y, test_y, real_test_X)"
   ]
  },
  {
   "cell_type": "code",
   "execution_count": null,
   "outputs": [],
   "source": [
    ""
   ]
  }
 ],
 "metadata": {
  "kernelspec": {
   "display_name": "Python 2",
   "language": "python",
   "name": "python2"
  },
  "language_info": {
   "codemirror_mode": {
    "name": "ipython",
    "version": 2.0
   },
   "file_extension": ".py",
   "mimetype": "text/x-python",
   "name": "python",
   "nbconvert_exporter": "python",
   "pygments_lexer": "ipython2",
   "version": "2.7.6"
  }
 },
 "nbformat": 4,
 "nbformat_minor": 0
}