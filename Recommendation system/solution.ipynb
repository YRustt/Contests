{
 "cells": [
  {
   "cell_type": "code",
   "execution_count": 1,
   "metadata": {
    "collapsed": true
   },
   "outputs": [],
   "source": [
    "from IPython.core.display import HTML\n",
    "\n",
    "import warnings\n",
    "warnings.simplefilter('ignore')\n",
    "\n",
    "import matplotlib.pyplot as plt\n",
    "import seaborn\n",
    "%matplotlib inline\n",
    "\n",
    "from sklearn.decomposition import TruncatedSVD\n",
    "\n",
    "import numpy as np\n",
    "import pandas as pd\n",
    "\n",
    "from scipy.sparse import csr_matrix\n",
    "\n",
    "import graphlab\n",
    "from copy import copy, deepcopy"
   ]
  },
  {
   "cell_type": "code",
   "execution_count": 5,
   "metadata": {},
   "outputs": [
    {
     "data": {
      "text/html": [
       "<iframe\n",
       "          width=\"600\"\n",
       "          height=\"400\"\n",
       "          seamless\n",
       "          frameBorder=\"0\"\n",
       "          scrolling=\"no\"\n",
       "          src=\"http://localhost:8088/superset/explore/table/6/?form_data=%7B%22datasource%22%3A%226__table%22%2C%22viz_type%22%3A%22world_map%22%2C%22slice_id%22%3A19%2C%22granularity_sqla%22%3Anull%2C%22time_grain_sqla%22%3Anull%2C%22since%22%3A%227+days+ago%22%2C%22until%22%3A%22now%22%2C%22entity%22%3A%22country%22%2C%22country_fieldtype%22%3A%22name%22%2C%22metric%22%3A%22count%22%2C%22show_bubbles%22%3Atrue%2C%22secondary_metric%22%3A%22count%22%2C%22max_bubble_size%22%3A%2225%22%2C%22where%22%3A%22%22%2C%22having%22%3A%22%22%2C%22filters%22%3A%5B%5D%7D&standalone=true&height=400\"\n",
       "        >\n",
       "        </iframe>"
      ],
      "text/plain": [
       "<IPython.core.display.HTML object>"
      ]
     },
     "execution_count": 5,
     "metadata": {},
     "output_type": "execute_result"
    }
   ],
   "source": [
    "HTML(\"\"\"<iframe\n",
    "          width=\"600\"\n",
    "          height=\"400\"\n",
    "          seamless\n",
    "          frameBorder=\"0\"\n",
    "          scrolling=\"no\"\n",
    "          src=\"http://localhost:8088/superset/explore/table/6/?form_data=%7B%22datasource%22%3A%226__table%22%2C%22viz_type%22%3A%22world_map%22%2C%22slice_id%22%3A19%2C%22granularity_sqla%22%3Anull%2C%22time_grain_sqla%22%3Anull%2C%22since%22%3A%227+days+ago%22%2C%22until%22%3A%22now%22%2C%22entity%22%3A%22country%22%2C%22country_fieldtype%22%3A%22name%22%2C%22metric%22%3A%22count%22%2C%22show_bubbles%22%3Atrue%2C%22secondary_metric%22%3A%22count%22%2C%22max_bubble_size%22%3A%2225%22%2C%22where%22%3A%22%22%2C%22having%22%3A%22%22%2C%22filters%22%3A%5B%5D%7D&standalone=true&height=400\"\n",
    "        >\n",
    "        </iframe>\"\"\")"
   ]
  },
  {
   "cell_type": "markdown",
   "metadata": {},
   "source": [
    "---\n",
    "# Рекомендательные системы\n",
    "---\n",
    "\n",
    "В этой лабораторной работе будет рассмотрена задача предсказания оценки, которую пользователь поставит фильму. Особенность этой задачи в том, что объекты выборки описываются категориальными признаками, принимающими большое число значений (например: идентификатор пользователя, идентификатор фильма, тэги, киноперсоны).\n",
    "\n",
    "Будем работать с датасетом MovieLens + IMDb/Rotten Tomatoes. Набор содержит данные о предпочтениях пользователей сервиса рекомендации кинофильмов MovieLens. Пользовательские оценки для фильмов принимают ~~целые~~ значения в интервале от 1 до 5, они записаны в файле user_ratedmovies.dat (а так же в user_ratedmovies-timestamps.dat, где для каждой оценки записана дата и время в формате timestamp), остальные файлы содержат дополнительную информацию о фильмах, которую можно использовать как признаки. Заметьте: кроме оценок (и тегов), про пользователя ничего не известно.\n",
    "\n",
    "На основании этих данных необходимо построить модель, предсказывающую оценку пользователя фильму, который он еще не смотрел."
   ]
  },
  {
   "cell_type": "markdown",
   "metadata": {},
   "source": [
    "# Dataset:\n",
    "\n",
    "MovieLens + IMDb/Rotten Tomatoes\n",
    "\n",
    "---\n",
    "\n",
    "### Description\n",
    "\n",
    "---\n",
    "\n",
    "This dataset is an extension of MovieLens10M dataset, published by GroupLeans \n",
    "research group.\n",
    "\n",
    "http://www.grouplens.org \n",
    "\n",
    "It links the movies of MovieLens dataset with their corresponding web pages at \n",
    "Internet Movie Database (IMDb) and Rotten Tomatoes movie review systems.\n",
    "\n",
    "http://www.imdb.com \n",
    "\n",
    "http://www.rottentomatoes.com \n",
    "\n",
    "From the original dataset, only those users with both rating and tagging information \n",
    "have been mantained.\n",
    "\n",
    "---\n",
    "\n",
    "### Data statistics\n",
    "\n",
    "---\n",
    "<table>\n",
    "<tr style=\"border-bottom: 2pt solid black;\"><th>count</th><th>name</th></tr>\n",
    "<tr><td>2113</td><td>users</td> </tr>\n",
    "<tr style=\"border-bottom: 2pt solid black;\"><td>10197</td><td>movies</td></tr>\n",
    "\n",
    "<tr><td>20</td><td>movie genres</td></tr>\n",
    "<tr><td>20809</td><td>movie genre assignments</td> </tr>\n",
    "<tr style=\"border-bottom: 2pt solid black;\"><td></td><td>avg. 2.040 genres per movie</td></tr>\n",
    "\n",
    "<tr><td>4060</td><td>directors</td></tr>\n",
    "<tr><td>95321</td><td>actors</td></tr>\n",
    "<tr><td></td><td>avg. 22.778 actors per movie</td></tr>\n",
    "<tr style=\"border-bottom: 2pt solid black;\"><td>72</td><td>countries</td></tr>\n",
    "\n",
    "<tr><td>10197</td><td>country assignments</td></tr>\n",
    "<tr><td></td><td>avg. 1.000 countries per movie</td></tr>\n",
    "<tr><td>47899</td><td>location assignments</td></tr>\n",
    "<tr style=\"border-bottom: 2pt solid black;\"><td></td><td>avg. 5.350 locations per movie</td></tr>\n",
    "\n",
    "<tr><td>13222</td><td>tags</td></tr>\n",
    "<tr><td>47957</td><td>tag assignments (tas), i.e. tuples [user, tag, movie]</td></tr>\n",
    "<tr><td></td><td>avg. 22.696 tas per user</td></tr>\n",
    "<tr style=\"border-bottom: 2pt solid black;\"><td></td><td>avg. 8.117 tas per movie</td></tr>\n",
    "\n",
    "<tr><td>855598</td><td>ratings</td></tr>\n",
    "<tr><td></td><td>avg. 404.921 ratings per user</td></tr>\n",
    "<tr style=\"border-bottom: 2pt solid black;\"><td></td><td>avg. 84.637 ratings per movie</td></tr>\n",
    "\n",
    "</table>"
   ]
  },
  {
   "cell_type": "markdown",
   "metadata": {},
   "source": [
    "---\n",
    "# Оценивание качества рекомендаций:\n",
    "---\n",
    "\n",
    "Выберем некоторого пользователя $u$ и обозначим известные для него рейтинги за $R^u$. В качестве тестовых рейтингов этого пользователя $R^u_{test}$ рассмотрим три рейтинга, поставленные последними по времени. Остальные известные рейтинги будут составлять обучающую выборку $R^u_{train}$. Тогда все известные рейтинги можно представить как $R^u = R^u_{train} \\cup R^u_{test}$. Отсутствующие оценки обозначим за $R^u_{unknown}$. Объединив эти наборы для всех пользователей, получим наборы $R_{train}$, $R_{test}$ и $R_{unknown}$.\n",
    "\n",
    "Для измерения качества рекомендаций в этой лабораторной работе будем использовать две метрики RMSE и MAP, описанные ниже.\n",
    "\n",
    "---\n",
    "### RMSE\n",
    "---\n",
    "Метрика RMSE вычисляется следующим образом:\n",
    "\n",
    "\\begin{array}\n",
    "-RMSE & =  &\\sqrt{\\frac{1}{|R_{test}|}\\sum_{(u, i) \\in R_{test}} (r_{ui} - \\widehat{r}_{ui})^2}\n",
    "\\end{array}\n",
    "\n",
    "где $r_{ui}$ - наблюдаемая (правильная) оценка, а  $\\widehat{r}_{ui}$ - оценка, предсказанная моделью.\n",
    "\n",
    "Метрика RMSE предназначена для оценки точности предсказания, ее удобно оптимизировать напрямую. Однако, нужно учесть, что RMSE не лучший кандидат для оценки качества рекомендаций:\n",
    "\n",
    "* Во-первых, RMSE оценивает точность предсказания рейтингов, что в задачах рекомендаций, как правило, менее важно, нежели верное ранжирование объектов (безотносительно абсолютных значений рейтингов). На практике часто бывает, что алгоритмы с худшим RMSE в продакшене работают лучше, нежели алгоритмы с меньшим значением RMSE. Например, при использовании моделей рекомендаций на основе матричных разложений, заполнение отсутствующих оценок нулями даёт худшее значение по RMSE, но при этом часто сами рекомендации становятся лучше.\n",
    "* Во-вторых, RMSE одинаково штрафует точность предсказания оценок фильмам с большим значением предпочтения (которые попадут в блок рекомендаций) и фильмам с малым значением предпочтения (длинный хвост из нерелевантных фильмов).\n",
    "\n",
    "---\n",
    "### MAP\n",
    "---\n",
    "\n",
    "Для оценки качества рекомендаций также можно использовать метрику качества ранжирования. Для этого для каждого пользователя $u$ предскажем оценку для всех фильмов из $R^u_{test}$ и $R^u_{unknown}$ и отсортируем эти фильмы по убыванию предсказанного рейтинга. Ожидается, что хороший алгоритм должен выдать релевантные фильмы вверху списка. Обозначим позиции объектов в этом списке за $k^u_{i}$.\n",
    "\n",
    "Назовем релевантными те фильмы, которые входят в $R^u_{test}$ и имеют оценку $\\ge 3$. Обозначим их за $Rel^u$. Тогда можно считать следующую метрику качества рекомендаций для одного пользователя:\n",
    "\n",
    "\\begin{array}\n",
    "-AP^u = \\frac{1}{|Rel^u|} \\sum\\limits_{(u, i) \\in Rel^u} \\frac{1}{k_i^u}.\n",
    "\\end{array}\n",
    "\n",
    "Усреднив значение этой метрики по всем пользователями, мы получим окончательное значение метрики MAP. Пользователей без релевантных фильмов в тестовой выборке можно не учитывать.\n",
    "\n",
    "---\n",
    "### Другие способы оцениваний рекомендаций\n",
    "---\n",
    "\n",
    "На практике, как правило, качество рекомендательных систем оценивается в онлайне с помощью A/B-тестирования."
   ]
  },
  {
   "cell_type": "code",
   "execution_count": 2,
   "metadata": {
    "collapsed": true
   },
   "outputs": [],
   "source": [
    "def rmse_metric(data):\n",
    "    return np.sqrt(np.mean([(row['rating'] - row['prediction']) ** 2 \n",
    "                            for _, row in data.iterrows()]))\n",
    "\n",
    "def map_metric(data):\n",
    "    def ap_metric(user_id, movie_ratings):\n",
    "        movie_indexs = list(movie_ratings.sort_values(by='prediction', ascending=False).index)\n",
    "        \n",
    "        value, count_rel = 0., 0\n",
    "        for movie_id, row in movie_ratings.iterrows():\n",
    "            if row['rating'] >= 3:\n",
    "                k = movie_indexs.index(movie_id) + 1\n",
    "                value += 1. / k\n",
    "                count_rel += 1\n",
    "        return value / count_rel if count_rel > 0 else 0.\n",
    "    \n",
    "    value, count_rel = 0., 0\n",
    "    for user_id, movie_ratings in data.reset_index().groupby('userID'):\n",
    "        t = ap_metric(user_id, movie_ratings.set_index('movieID'))\n",
    "        \n",
    "        if t > 0.:\n",
    "            value += t\n",
    "            count_rel += 1\n",
    "    \n",
    "    return value / count_rel if count_rel > 0 else 0"
   ]
  },
  {
   "cell_type": "markdown",
   "metadata": {},
   "source": [
    "# Коллаборативная фильтрация"
   ]
  },
  {
   "cell_type": "markdown",
   "metadata": {},
   "source": [
    "Загрузите данные и создайте матрицу пользователи-фильмы, где в каждой ячейке стоит рейтинг, если он известен, или ноль, если неизвестен."
   ]
  },
  {
   "cell_type": "code",
   "execution_count": 3,
   "metadata": {},
   "outputs": [
    {
     "data": {
      "text/html": [
       "<div>\n",
       "<style>\n",
       "    .dataframe thead tr:only-child th {\n",
       "        text-align: right;\n",
       "    }\n",
       "\n",
       "    .dataframe thead th {\n",
       "        text-align: left;\n",
       "    }\n",
       "\n",
       "    .dataframe tbody tr th {\n",
       "        vertical-align: top;\n",
       "    }\n",
       "</style>\n",
       "<table border=\"1\" class=\"dataframe\">\n",
       "  <thead>\n",
       "    <tr style=\"text-align: right;\">\n",
       "      <th></th>\n",
       "      <th></th>\n",
       "      <th>rating</th>\n",
       "      <th>timestamp</th>\n",
       "    </tr>\n",
       "    <tr>\n",
       "      <th>userID</th>\n",
       "      <th>movieID</th>\n",
       "      <th></th>\n",
       "      <th></th>\n",
       "    </tr>\n",
       "  </thead>\n",
       "  <tbody>\n",
       "    <tr>\n",
       "      <th rowspan=\"5\" valign=\"top\">75</th>\n",
       "      <th>3</th>\n",
       "      <td>1.0</td>\n",
       "      <td>1162160236000</td>\n",
       "    </tr>\n",
       "    <tr>\n",
       "      <th>32</th>\n",
       "      <td>4.5</td>\n",
       "      <td>1162160624000</td>\n",
       "    </tr>\n",
       "    <tr>\n",
       "      <th>110</th>\n",
       "      <td>4.0</td>\n",
       "      <td>1162161008000</td>\n",
       "    </tr>\n",
       "    <tr>\n",
       "      <th>160</th>\n",
       "      <td>2.0</td>\n",
       "      <td>1162160212000</td>\n",
       "    </tr>\n",
       "    <tr>\n",
       "      <th>163</th>\n",
       "      <td>4.0</td>\n",
       "      <td>1162160970000</td>\n",
       "    </tr>\n",
       "  </tbody>\n",
       "</table>\n",
       "</div>"
      ],
      "text/plain": [
       "                rating      timestamp\n",
       "userID movieID                       \n",
       "75     3           1.0  1162160236000\n",
       "       32          4.5  1162160624000\n",
       "       110         4.0  1162161008000\n",
       "       160         2.0  1162160212000\n",
       "       163         4.0  1162160970000"
      ]
     },
     "execution_count": 3,
     "metadata": {},
     "output_type": "execute_result"
    }
   ],
   "source": [
    "data = pd.read_table('data/user_ratedmovies-timestamps.dat', encoding='cp1251', index_col=['userID', 'movieID'])\n",
    "data.head(5)"
   ]
  },
  {
   "cell_type": "code",
   "execution_count": 4,
   "metadata": {
    "collapsed": true
   },
   "outputs": [],
   "source": [
    "in_train = np.array([True] * data.shape[0])\n",
    "\n",
    "prev_user_id = None\n",
    "for i, (index, row) in enumerate(data.iterrows()):\n",
    "    user_id, movie_id = index\n",
    "    if prev_user_id != user_id:\n",
    "        prev_user_id = user_id\n",
    "        border_timestamp = data.ix[user_id].sort_values('timestamp').iloc[-3]['timestamp']\n",
    "    \n",
    "    timestamp = row['timestamp']\n",
    "    if timestamp >= border_timestamp:\n",
    "        in_train[i] = False\n",
    "\n",
    "train = data[in_train]\n",
    "test = data[np.logical_not(in_train)]\n",
    "\n",
    "R = pd.pivot_table(data.reset_index(), \n",
    "                   columns='movieID', \n",
    "                   index='userID', \n",
    "                   values='rating', \n",
    "                   aggfunc=np.mean, \n",
    "                   fill_value=0.)\n",
    "\n",
    "unknown = R.stack().drop(data.index)\n",
    "unknown = unknown.to_frame(name='rating')"
   ]
  },
  {
   "cell_type": "code",
   "execution_count": 6,
   "metadata": {
    "collapsed": true
   },
   "outputs": [],
   "source": [
    "if 1 == 0:\n",
    "    train.to_csv('data/solution/solution.train.csv')\n",
    "    test.to_csv('data/solution/solution.test.csv')\n",
    "    unknown.to_csv('data/solution/solution.unknown.csv')"
   ]
  },
  {
   "cell_type": "code",
   "execution_count": 7,
   "metadata": {
    "collapsed": true
   },
   "outputs": [],
   "source": [
    "if 1 == 0:\n",
    "    train = pd.read_csv('data/solution/solution.train.csv', index_col=['userID', 'movieID'])\n",
    "    test = pd.read_csv('data/solution/solution.test.csv', index_col=['userID', 'movieID'])\n",
    "    unknown = pd.read_csv('data/solution/solution.unknown.csv', header=None)\n",
    "    unknown.columns = ['userID', 'movieID', 'rating']\n",
    "    unknown = unknown.set_index(['userID', 'movieID'])"
   ]
  },
  {
   "cell_type": "markdown",
   "metadata": {},
   "source": [
    "## 1. Most popular method"
   ]
  },
  {
   "cell_type": "markdown",
   "metadata": {},
   "source": [
    "__Задание:__ Постройте рекоммендации на основе __most popular__ метода, при котором пользователям рекомендуются объекты в порядке убываниях их популярности (например, среднего рейтинга). Оцените качество рекомендаций с использованием метрики MAP."
   ]
  },
  {
   "cell_type": "code",
   "execution_count": 12,
   "metadata": {},
   "outputs": [
    {
     "data": {
      "text/html": [
       "<div>\n",
       "<style>\n",
       "    .dataframe thead tr:only-child th {\n",
       "        text-align: right;\n",
       "    }\n",
       "\n",
       "    .dataframe thead th {\n",
       "        text-align: left;\n",
       "    }\n",
       "\n",
       "    .dataframe tbody tr th {\n",
       "        vertical-align: top;\n",
       "    }\n",
       "</style>\n",
       "<table border=\"1\" class=\"dataframe\">\n",
       "  <thead>\n",
       "    <tr style=\"text-align: right;\">\n",
       "      <th></th>\n",
       "      <th></th>\n",
       "      <th>rating</th>\n",
       "      <th>prediction</th>\n",
       "    </tr>\n",
       "    <tr>\n",
       "      <th>userID</th>\n",
       "      <th>movieID</th>\n",
       "      <th></th>\n",
       "      <th></th>\n",
       "    </tr>\n",
       "  </thead>\n",
       "  <tbody>\n",
       "    <tr>\n",
       "      <th rowspan=\"3\" valign=\"top\">75</th>\n",
       "      <th>2571</th>\n",
       "      <td>4.5</td>\n",
       "      <td>4.174834</td>\n",
       "    </tr>\n",
       "    <tr>\n",
       "      <th>5952</th>\n",
       "      <td>3.5</td>\n",
       "      <td>4.032301</td>\n",
       "    </tr>\n",
       "    <tr>\n",
       "      <th>7153</th>\n",
       "      <td>3.5</td>\n",
       "      <td>4.095090</td>\n",
       "    </tr>\n",
       "    <tr>\n",
       "      <th rowspan=\"2\" valign=\"top\">78</th>\n",
       "      <th>8400</th>\n",
       "      <td>4.5</td>\n",
       "      <td>3.656250</td>\n",
       "    </tr>\n",
       "    <tr>\n",
       "      <th>44694</th>\n",
       "      <td>2.0</td>\n",
       "      <td>3.859447</td>\n",
       "    </tr>\n",
       "  </tbody>\n",
       "</table>\n",
       "</div>"
      ],
      "text/plain": [
       "                rating  prediction\n",
       "userID movieID                    \n",
       "75     2571        4.5    4.174834\n",
       "       5952        3.5    4.032301\n",
       "       7153        3.5    4.095090\n",
       "78     8400        4.5    3.656250\n",
       "       44694       2.0    3.859447"
      ]
     },
     "execution_count": 12,
     "metadata": {},
     "output_type": "execute_result"
    }
   ],
   "source": [
    "movie_ratings = train.reset_index().groupby('movieID').agg({'rating': np.mean})\n",
    "movie_ratings.columns = ['prediction']\n",
    "prediction = pd.concat([test[['rating']], unknown]).join(movie_ratings).fillna(0.)\n",
    "prediction.head()"
   ]
  },
  {
   "cell_type": "code",
   "execution_count": 13,
   "metadata": {},
   "outputs": [
    {
     "name": "stdout",
     "output_type": "stream",
     "text": [
      "MAP: 0.001123\n",
      "RMSE: 3.262988\n"
     ]
    }
   ],
   "source": [
    "print('MAP: %f' % map_metric(prediction))\n",
    "print('RMSE: %f' % rmse_metric(prediction))"
   ]
  },
  {
   "cell_type": "markdown",
   "metadata": {},
   "source": [
    "## 2. Item-based method"
   ]
  },
  {
   "cell_type": "markdown",
   "metadata": {},
   "source": [
    "__Задание:__ Теперь рассмотрим __memory-based__ методы рекоммендаций. Подход, лежащий в их основе, использует данные о рейтингах для вычисления сходства между пользователями (__user-based__) или объектами (__item-based__), на основе этих данных делаются предсказания рейтингов и, в дальнейшем, строятся рекоммендации. Эти методы просты в реализации и эффективны на ранних стадиях разработки рекомендательных систем.\n",
    "\n",
    "Постройте рекоммендации на основе item-based подхода, реализованном в библиотеке Graphlab Create. Оцените качество рекомендаций, в зависимости от выбранной функции похожести __jaccard/cosine/pearson__ по каждой из описанных выше метрик (RMSE, MAP)."
   ]
  },
  {
   "cell_type": "markdown",
   "metadata": {},
   "source": [
    "### Jacard"
   ]
  },
  {
   "cell_type": "code",
   "execution_count": 5,
   "metadata": {},
   "outputs": [
    {
     "name": "stdout",
     "output_type": "stream",
     "text": [
      "This non-commercial license of GraphLab Create for academic use is assigned to fpm.yunusov@bsu.by and will expire on May 02, 2018.\n"
     ]
    },
    {
     "name": "stderr",
     "output_type": "stream",
     "text": [
      "[INFO] graphlab.cython.cy_server: GraphLab Create v2.1 started. Logging: /tmp/graphlab_server_1494574077.log\n"
     ]
    },
    {
     "data": {
      "text/html": [
       "<pre>Recsys training: model = item_similarity</pre>"
      ],
      "text/plain": [
       "Recsys training: model = item_similarity"
      ]
     },
     "metadata": {},
     "output_type": "display_data"
    },
    {
     "data": {
      "text/html": [
       "<div>\n",
       "<style>\n",
       "    .dataframe thead tr:only-child th {\n",
       "        text-align: right;\n",
       "    }\n",
       "\n",
       "    .dataframe thead th {\n",
       "        text-align: left;\n",
       "    }\n",
       "\n",
       "    .dataframe tbody tr th {\n",
       "        vertical-align: top;\n",
       "    }\n",
       "</style>\n",
       "<table border=\"1\" class=\"dataframe\">\n",
       "  <thead>\n",
       "    <tr style=\"text-align: right;\">\n",
       "      <th></th>\n",
       "      <th></th>\n",
       "      <th>rating</th>\n",
       "      <th>timestamp</th>\n",
       "      <th>prediction</th>\n",
       "    </tr>\n",
       "    <tr>\n",
       "      <th>userID</th>\n",
       "      <th>movieID</th>\n",
       "      <th></th>\n",
       "      <th></th>\n",
       "      <th></th>\n",
       "    </tr>\n",
       "  </thead>\n",
       "  <tbody>\n",
       "    <tr>\n",
       "      <th rowspan=\"3\" valign=\"top\">75</th>\n",
       "      <th>2571</th>\n",
       "      <td>4.5</td>\n",
       "      <td>1.162161e+12</td>\n",
       "      <td>0.196205</td>\n",
       "    </tr>\n",
       "    <tr>\n",
       "      <th>5952</th>\n",
       "      <td>3.5</td>\n",
       "      <td>1.162161e+12</td>\n",
       "      <td>0.163237</td>\n",
       "    </tr>\n",
       "    <tr>\n",
       "      <th>7153</th>\n",
       "      <td>3.5</td>\n",
       "      <td>1.162161e+12</td>\n",
       "      <td>0.159916</td>\n",
       "    </tr>\n",
       "    <tr>\n",
       "      <th rowspan=\"2\" valign=\"top\">78</th>\n",
       "      <th>8400</th>\n",
       "      <td>4.5</td>\n",
       "      <td>1.177224e+12</td>\n",
       "      <td>0.000350</td>\n",
       "    </tr>\n",
       "    <tr>\n",
       "      <th>44694</th>\n",
       "      <td>2.0</td>\n",
       "      <td>1.179550e+12</td>\n",
       "      <td>0.000732</td>\n",
       "    </tr>\n",
       "  </tbody>\n",
       "</table>\n",
       "</div>"
      ],
      "text/plain": [
       "                rating     timestamp  prediction\n",
       "userID movieID                                  \n",
       "75     2571        4.5  1.162161e+12    0.196205\n",
       "       5952        3.5  1.162161e+12    0.163237\n",
       "       7153        3.5  1.162161e+12    0.159916\n",
       "78     8400        4.5  1.177224e+12    0.000350\n",
       "       44694       2.0  1.179550e+12    0.000732"
      ]
     },
     "execution_count": 5,
     "metadata": {},
     "output_type": "execute_result"
    }
   ],
   "source": [
    "model = graphlab.recommender.item_similarity_recommender.create(graphlab.SFrame(data=train.reset_index()),\n",
    "                                                                user_id='userID',\n",
    "                                                                item_id='movieID',\n",
    "                                                                target='rating',\n",
    "                                                                similarity_type='jaccard',\n",
    "                                                                verbose=False)\n",
    "\n",
    "prediction = pd.concat([test, unknown])\n",
    "prediction['prediction'] = model.predict(graphlab.SFrame(data=prediction.reset_index()))\n",
    "\n",
    "prediction.head()"
   ]
  },
  {
   "cell_type": "code",
   "execution_count": 6,
   "metadata": {},
   "outputs": [
    {
     "name": "stdout",
     "output_type": "stream",
     "text": [
      "MAP: 0.019299\n",
      "RMSE: 0.066082\n"
     ]
    }
   ],
   "source": [
    "print('MAP: %f' % map_metric(prediction))\n",
    "print('RMSE: %f' % rmse_metric(prediction))"
   ]
  },
  {
   "cell_type": "markdown",
   "metadata": {},
   "source": [
    "### Cosine"
   ]
  },
  {
   "cell_type": "code",
   "execution_count": 7,
   "metadata": {},
   "outputs": [
    {
     "data": {
      "text/html": [
       "<pre>Recsys training: model = item_similarity</pre>"
      ],
      "text/plain": [
       "Recsys training: model = item_similarity"
      ]
     },
     "metadata": {},
     "output_type": "display_data"
    },
    {
     "data": {
      "text/html": [
       "<div>\n",
       "<style>\n",
       "    .dataframe thead tr:only-child th {\n",
       "        text-align: right;\n",
       "    }\n",
       "\n",
       "    .dataframe thead th {\n",
       "        text-align: left;\n",
       "    }\n",
       "\n",
       "    .dataframe tbody tr th {\n",
       "        vertical-align: top;\n",
       "    }\n",
       "</style>\n",
       "<table border=\"1\" class=\"dataframe\">\n",
       "  <thead>\n",
       "    <tr style=\"text-align: right;\">\n",
       "      <th></th>\n",
       "      <th></th>\n",
       "      <th>rating</th>\n",
       "      <th>timestamp</th>\n",
       "      <th>prediction</th>\n",
       "    </tr>\n",
       "    <tr>\n",
       "      <th>userID</th>\n",
       "      <th>movieID</th>\n",
       "      <th></th>\n",
       "      <th></th>\n",
       "      <th></th>\n",
       "    </tr>\n",
       "  </thead>\n",
       "  <tbody>\n",
       "    <tr>\n",
       "      <th rowspan=\"3\" valign=\"top\">75</th>\n",
       "      <th>2571</th>\n",
       "      <td>4.5</td>\n",
       "      <td>1.162161e+12</td>\n",
       "      <td>1.120120</td>\n",
       "    </tr>\n",
       "    <tr>\n",
       "      <th>5952</th>\n",
       "      <td>3.5</td>\n",
       "      <td>1.162161e+12</td>\n",
       "      <td>1.030550</td>\n",
       "    </tr>\n",
       "    <tr>\n",
       "      <th>7153</th>\n",
       "      <td>3.5</td>\n",
       "      <td>1.162161e+12</td>\n",
       "      <td>0.934922</td>\n",
       "    </tr>\n",
       "    <tr>\n",
       "      <th rowspan=\"2\" valign=\"top\">78</th>\n",
       "      <th>8400</th>\n",
       "      <td>4.5</td>\n",
       "      <td>1.177224e+12</td>\n",
       "      <td>0.002233</td>\n",
       "    </tr>\n",
       "    <tr>\n",
       "      <th>44694</th>\n",
       "      <td>2.0</td>\n",
       "      <td>1.179550e+12</td>\n",
       "      <td>0.005015</td>\n",
       "    </tr>\n",
       "  </tbody>\n",
       "</table>\n",
       "</div>"
      ],
      "text/plain": [
       "                rating     timestamp  prediction\n",
       "userID movieID                                  \n",
       "75     2571        4.5  1.162161e+12    1.120120\n",
       "       5952        3.5  1.162161e+12    1.030550\n",
       "       7153        3.5  1.162161e+12    0.934922\n",
       "78     8400        4.5  1.177224e+12    0.002233\n",
       "       44694       2.0  1.179550e+12    0.005015"
      ]
     },
     "execution_count": 7,
     "metadata": {},
     "output_type": "execute_result"
    }
   ],
   "source": [
    "model = graphlab.recommender.item_similarity_recommender.create(graphlab.SFrame(data=train[['rating']].reset_index()),\n",
    "                                                                user_id='userID',\n",
    "                                                                item_id='movieID',\n",
    "                                                                target='rating',\n",
    "                                                                similarity_type='cosine',\n",
    "                                                                verbose=False)\n",
    "\n",
    "prediction = pd.concat([test, unknown])\n",
    "prediction['prediction'] = model.predict(graphlab.SFrame(data=prediction.reset_index()))\n",
    "\n",
    "prediction.head()"
   ]
  },
  {
   "cell_type": "code",
   "execution_count": 8,
   "metadata": {},
   "outputs": [
    {
     "name": "stdout",
     "output_type": "stream",
     "text": [
      "MAP: 0.022464\n",
      "RMSE: 0.083065\n"
     ]
    }
   ],
   "source": [
    "print('MAP: %f' % map_metric(prediction))\n",
    "print('RMSE: %f' % rmse_metric(prediction))"
   ]
  },
  {
   "cell_type": "markdown",
   "metadata": {},
   "source": [
    "### Pearson"
   ]
  },
  {
   "cell_type": "code",
   "execution_count": 9,
   "metadata": {},
   "outputs": [
    {
     "data": {
      "text/html": [
       "<pre>Recsys training: model = item_similarity</pre>"
      ],
      "text/plain": [
       "Recsys training: model = item_similarity"
      ]
     },
     "metadata": {},
     "output_type": "display_data"
    },
    {
     "data": {
      "text/html": [
       "<div>\n",
       "<style>\n",
       "    .dataframe thead tr:only-child th {\n",
       "        text-align: right;\n",
       "    }\n",
       "\n",
       "    .dataframe thead th {\n",
       "        text-align: left;\n",
       "    }\n",
       "\n",
       "    .dataframe tbody tr th {\n",
       "        vertical-align: top;\n",
       "    }\n",
       "</style>\n",
       "<table border=\"1\" class=\"dataframe\">\n",
       "  <thead>\n",
       "    <tr style=\"text-align: right;\">\n",
       "      <th></th>\n",
       "      <th></th>\n",
       "      <th>rating</th>\n",
       "      <th>timestamp</th>\n",
       "      <th>prediction</th>\n",
       "    </tr>\n",
       "    <tr>\n",
       "      <th>userID</th>\n",
       "      <th>movieID</th>\n",
       "      <th></th>\n",
       "      <th></th>\n",
       "      <th></th>\n",
       "    </tr>\n",
       "  </thead>\n",
       "  <tbody>\n",
       "    <tr>\n",
       "      <th rowspan=\"3\" valign=\"top\">75</th>\n",
       "      <th>2571</th>\n",
       "      <td>4.5</td>\n",
       "      <td>1.162161e+12</td>\n",
       "      <td>4.179417</td>\n",
       "    </tr>\n",
       "    <tr>\n",
       "      <th>5952</th>\n",
       "      <td>3.5</td>\n",
       "      <td>1.162161e+12</td>\n",
       "      <td>4.024876</td>\n",
       "    </tr>\n",
       "    <tr>\n",
       "      <th>7153</th>\n",
       "      <td>3.5</td>\n",
       "      <td>1.162161e+12</td>\n",
       "      <td>4.088363</td>\n",
       "    </tr>\n",
       "    <tr>\n",
       "      <th rowspan=\"2\" valign=\"top\">78</th>\n",
       "      <th>8400</th>\n",
       "      <td>4.5</td>\n",
       "      <td>1.177224e+12</td>\n",
       "      <td>3.658329</td>\n",
       "    </tr>\n",
       "    <tr>\n",
       "      <th>44694</th>\n",
       "      <td>2.0</td>\n",
       "      <td>1.179550e+12</td>\n",
       "      <td>3.859334</td>\n",
       "    </tr>\n",
       "  </tbody>\n",
       "</table>\n",
       "</div>"
      ],
      "text/plain": [
       "                rating     timestamp  prediction\n",
       "userID movieID                                  \n",
       "75     2571        4.5  1.162161e+12    4.179417\n",
       "       5952        3.5  1.162161e+12    4.024876\n",
       "       7153        3.5  1.162161e+12    4.088363\n",
       "78     8400        4.5  1.177224e+12    3.658329\n",
       "       44694       2.0  1.179550e+12    3.859334"
      ]
     },
     "execution_count": 9,
     "metadata": {},
     "output_type": "execute_result"
    }
   ],
   "source": [
    "model = graphlab.recommender.item_similarity_recommender.create(graphlab.SFrame(data=train[['rating']].reset_index()),\n",
    "                                                                user_id='userID',\n",
    "                                                                item_id='movieID',\n",
    "                                                                target='rating',\n",
    "                                                                similarity_type='pearson',\n",
    "                                                                verbose=False)\n",
    "\n",
    "prediction = pd.concat([test, unknown])\n",
    "prediction['prediction'] = model.predict(graphlab.SFrame(data=prediction.reset_index()))\n",
    "\n",
    "prediction.head()"
   ]
  },
  {
   "cell_type": "code",
   "execution_count": 10,
   "metadata": {},
   "outputs": [
    {
     "name": "stdout",
     "output_type": "stream",
     "text": [
      "MAP: 0.001123\n",
      "RMSE: 3.263030\n"
     ]
    }
   ],
   "source": [
    "print('MAP: %f' % map_metric(prediction))\n",
    "print('RMSE: %f' % rmse_metric(prediction))"
   ]
  },
  {
   "cell_type": "markdown",
   "metadata": {},
   "source": [
    "## Разреженный SVD"
   ]
  },
  {
   "cell_type": "markdown",
   "metadata": {},
   "source": [
    "__Задание:__ Разложите матрицу рейтингов с помощью разреженного SVD и, восстановив ее, получите предсказания рейтингов для всех пар пользователь-объект (этот метод, при котором неизвестные рейтинги заполняются нулями, а затем восстанавливаются с помощью SVD, называется PureSVD)."
   ]
  },
  {
   "cell_type": "code",
   "execution_count": 15,
   "metadata": {
    "collapsed": true
   },
   "outputs": [],
   "source": [
    "def run_svd(n_components):\n",
    "    global R, train, test, unknown\n",
    "    model = TruncatedSVD(n_components=n_components)\n",
    "\n",
    "    model.fit(R)\n",
    "    new_R = pd.DataFrame(data=np.dot(model.transform(R), model.components_),\n",
    "                         index=R.index,\n",
    "                         columns=R.columns)\n",
    "    new_R = pd.concat([test, unknown]).join(new_R.stack().to_frame('prediction').drop(train.index))\n",
    "    map_m = map_metric(new_R)\n",
    "    rmse_m = rmse_metric(new_R)\n",
    "#     print('I: %i\\tMAP: %f\\tRMSE: %f' % (i, map_m, rmse_m))\n",
    "    return (n_components, map_m, rmse_m)"
   ]
  },
  {
   "cell_type": "code",
   "execution_count": 22,
   "metadata": {},
   "outputs": [
    {
     "name": "stdout",
     "output_type": "stream",
     "text": [
      "I: 15\tMAP: 0.038278\tRMSE: 0.283128\n"
     ]
    },
    {
     "data": {
      "text/plain": [
       "(20, 0.03827811065660048, 0.28312843019200201)"
      ]
     },
     "execution_count": 22,
     "metadata": {},
     "output_type": "execute_result"
    }
   ],
   "source": [
    "run_svd(20)"
   ]
  },
  {
   "cell_type": "markdown",
   "metadata": {},
   "source": [
    "__Задание:__ Проведите эксперименты из предыдущего задания для алгоритма рекомендаций RankingFactorizationRecommender из GraphLab Create, сравните его с результатами полученными ранее."
   ]
  },
  {
   "cell_type": "code",
   "execution_count": 19,
   "metadata": {},
   "outputs": [
    {
     "data": {
      "text/html": [
       "<pre>Recsys training: model = ranking_factorization_recommender</pre>"
      ],
      "text/plain": [
       "Recsys training: model = ranking_factorization_recommender"
      ]
     },
     "metadata": {},
     "output_type": "display_data"
    },
    {
     "data": {
      "text/html": [
       "<div>\n",
       "<style>\n",
       "    .dataframe thead tr:only-child th {\n",
       "        text-align: right;\n",
       "    }\n",
       "\n",
       "    .dataframe thead th {\n",
       "        text-align: left;\n",
       "    }\n",
       "\n",
       "    .dataframe tbody tr th {\n",
       "        vertical-align: top;\n",
       "    }\n",
       "</style>\n",
       "<table border=\"1\" class=\"dataframe\">\n",
       "  <thead>\n",
       "    <tr style=\"text-align: right;\">\n",
       "      <th></th>\n",
       "      <th></th>\n",
       "      <th>rating</th>\n",
       "      <th>timestamp</th>\n",
       "      <th>prediction</th>\n",
       "    </tr>\n",
       "    <tr>\n",
       "      <th>userID</th>\n",
       "      <th>movieID</th>\n",
       "      <th></th>\n",
       "      <th></th>\n",
       "      <th></th>\n",
       "    </tr>\n",
       "  </thead>\n",
       "  <tbody>\n",
       "    <tr>\n",
       "      <th rowspan=\"3\" valign=\"top\">75</th>\n",
       "      <th>2571</th>\n",
       "      <td>4.5</td>\n",
       "      <td>1.162161e+12</td>\n",
       "      <td>4.472067</td>\n",
       "    </tr>\n",
       "    <tr>\n",
       "      <th>5952</th>\n",
       "      <td>3.5</td>\n",
       "      <td>1.162161e+12</td>\n",
       "      <td>4.217894</td>\n",
       "    </tr>\n",
       "    <tr>\n",
       "      <th>7153</th>\n",
       "      <td>3.5</td>\n",
       "      <td>1.162161e+12</td>\n",
       "      <td>4.251242</td>\n",
       "    </tr>\n",
       "    <tr>\n",
       "      <th rowspan=\"2\" valign=\"top\">78</th>\n",
       "      <th>8400</th>\n",
       "      <td>4.5</td>\n",
       "      <td>1.177224e+12</td>\n",
       "      <td>3.256014</td>\n",
       "    </tr>\n",
       "    <tr>\n",
       "      <th>44694</th>\n",
       "      <td>2.0</td>\n",
       "      <td>1.179550e+12</td>\n",
       "      <td>3.456278</td>\n",
       "    </tr>\n",
       "  </tbody>\n",
       "</table>\n",
       "</div>"
      ],
      "text/plain": [
       "                rating     timestamp  prediction\n",
       "userID movieID                                  \n",
       "75     2571        4.5  1.162161e+12    4.472067\n",
       "       5952        3.5  1.162161e+12    4.217894\n",
       "       7153        3.5  1.162161e+12    4.251242\n",
       "78     8400        4.5  1.177224e+12    3.256014\n",
       "       44694       2.0  1.179550e+12    3.456278"
      ]
     },
     "execution_count": 19,
     "metadata": {},
     "output_type": "execute_result"
    }
   ],
   "source": [
    "model = graphlab.recommender.ranking_factorization_recommender.create(graphlab.SFrame(data=train[['rating']].reset_index()),\n",
    "                                                                      user_id='userID',\n",
    "                                                                      item_id='movieID',\n",
    "                                                                      target='rating',\n",
    "                                                                      num_factors=20,\n",
    "                                                                      verbose=False)\n",
    "\n",
    "prediction = pd.concat([test, unknown])\n",
    "prediction['prediction'] = model.predict(graphlab.SFrame(data=prediction.reset_index()))\n",
    "\n",
    "prediction.head()"
   ]
  },
  {
   "cell_type": "code",
   "execution_count": 20,
   "metadata": {},
   "outputs": [
    {
     "name": "stdout",
     "output_type": "stream",
     "text": [
      "MAP: 0.026134\n",
      "RMSE: 1.675873\n"
     ]
    }
   ],
   "source": [
    "print('MAP: %f' % map_metric(prediction))\n",
    "print('RMSE: %f' % rmse_metric(prediction))"
   ]
  },
  {
   "cell_type": "markdown",
   "metadata": {},
   "source": [
    "__Задание:__ Для алгоритма из предыдущего пункта рассмотрите вместо квадратичных потерь логистические, т.е. решите задачу бинарной классификации (отделение хороших фильмов от плохих). Для этого вам понадобится использовать параметр binary_targets. Дал ли этот подход прирост в качестве?"
   ]
  },
  {
   "cell_type": "code",
   "execution_count": 21,
   "metadata": {},
   "outputs": [
    {
     "data": {
      "text/html": [
       "<pre>Recsys training: model = ranking_factorization_recommender</pre>"
      ],
      "text/plain": [
       "Recsys training: model = ranking_factorization_recommender"
      ]
     },
     "metadata": {},
     "output_type": "display_data"
    },
    {
     "name": "stderr",
     "output_type": "stream",
     "text": [
      "[ERROR] graphlab.toolkits._main: Toolkit error: Training with binary_target=True requires targets to be 0 or 1; (4.500000 invalid).\n"
     ]
    },
    {
     "ename": "ToolkitError",
     "evalue": "Training with binary_target=True requires targets to be 0 or 1; (4.500000 invalid).",
     "output_type": "error",
     "traceback": [
      "\u001b[0;31m---------------------------------------------------------------------------\u001b[0m",
      "\u001b[0;31mToolkitError\u001b[0m                              Traceback (most recent call last)",
      "\u001b[0;32m<ipython-input-21-a349a319b241>\u001b[0m in \u001b[0;36m<module>\u001b[0;34m()\u001b[0m\n\u001b[1;32m      5\u001b[0m                                                                       \u001b[0mnum_factors\u001b[0m\u001b[0;34m=\u001b[0m\u001b[0;36m20\u001b[0m\u001b[0;34m,\u001b[0m\u001b[0;34m\u001b[0m\u001b[0m\n\u001b[1;32m      6\u001b[0m                                                                       \u001b[0mbinary_target\u001b[0m\u001b[0;34m=\u001b[0m\u001b[0mTrue\u001b[0m\u001b[0;34m,\u001b[0m\u001b[0;34m\u001b[0m\u001b[0m\n\u001b[0;32m----> 7\u001b[0;31m                                                                       verbose=False)\n\u001b[0m\u001b[1;32m      8\u001b[0m \u001b[0;34m\u001b[0m\u001b[0m\n\u001b[1;32m      9\u001b[0m \u001b[0mprediction\u001b[0m \u001b[0;34m=\u001b[0m \u001b[0mpd\u001b[0m\u001b[0;34m.\u001b[0m\u001b[0mconcat\u001b[0m\u001b[0;34m(\u001b[0m\u001b[0;34m[\u001b[0m\u001b[0mtest\u001b[0m\u001b[0;34m,\u001b[0m \u001b[0munknown\u001b[0m\u001b[0;34m]\u001b[0m\u001b[0;34m)\u001b[0m\u001b[0;34m\u001b[0m\u001b[0m\n",
      "\u001b[0;32m/opt/lab/anaconda/envs/graphlab/lib/python2.7/site-packages/graphlab/toolkits/recommender/ranking_factorization_recommender.pyc\u001b[0m in \u001b[0;36mcreate\u001b[0;34m(observation_data, user_id, item_id, target, user_data, item_data, num_factors, regularization, linear_regularization, side_data_factorization, ranking_regularization, unobserved_rating_value, num_sampled_negative_examples, max_iterations, sgd_step_size, random_seed, binary_target, solver, verbose, **kwargs)\u001b[0m\n\u001b[1;32m    267\u001b[0m         \u001b[0mopts\u001b[0m\u001b[0;34m.\u001b[0m\u001b[0mupdate\u001b[0m\u001b[0;34m(\u001b[0m\u001b[0mkwargs\u001b[0m\u001b[0;34m)\u001b[0m\u001b[0;34m\u001b[0m\u001b[0m\n\u001b[1;32m    268\u001b[0m \u001b[0;34m\u001b[0m\u001b[0m\n\u001b[0;32m--> 269\u001b[0;31m     \u001b[0mresponse\u001b[0m \u001b[0;34m=\u001b[0m \u001b[0m_graphlab\u001b[0m\u001b[0;34m.\u001b[0m\u001b[0mtoolkits\u001b[0m\u001b[0;34m.\u001b[0m\u001b[0m_main\u001b[0m\u001b[0;34m.\u001b[0m\u001b[0mrun\u001b[0m\u001b[0;34m(\u001b[0m\u001b[0;34m'recsys_train'\u001b[0m\u001b[0;34m,\u001b[0m \u001b[0mopts\u001b[0m\u001b[0;34m,\u001b[0m \u001b[0mverbose\u001b[0m\u001b[0;34m)\u001b[0m\u001b[0;34m\u001b[0m\u001b[0m\n\u001b[0m\u001b[1;32m    270\u001b[0m \u001b[0;34m\u001b[0m\u001b[0m\n\u001b[1;32m    271\u001b[0m     \u001b[0;32mreturn\u001b[0m \u001b[0mRankingFactorizationRecommender\u001b[0m\u001b[0;34m(\u001b[0m\u001b[0mresponse\u001b[0m\u001b[0;34m[\u001b[0m\u001b[0;34m'model'\u001b[0m\u001b[0;34m]\u001b[0m\u001b[0;34m)\u001b[0m\u001b[0;34m\u001b[0m\u001b[0m\n",
      "\u001b[0;32m/opt/lab/anaconda/envs/graphlab/lib/python2.7/site-packages/graphlab/toolkits/_main.pyc\u001b[0m in \u001b[0;36mrun\u001b[0;34m(toolkit_name, options, verbose, show_progress)\u001b[0m\n\u001b[1;32m     87\u001b[0m         \u001b[0m_get_metric_tracker\u001b[0m\u001b[0;34m(\u001b[0m\u001b[0;34m)\u001b[0m\u001b[0;34m.\u001b[0m\u001b[0mtrack\u001b[0m\u001b[0;34m(\u001b[0m\u001b[0mmetric_name\u001b[0m\u001b[0;34m,\u001b[0m \u001b[0mvalue\u001b[0m\u001b[0;34m=\u001b[0m\u001b[0;36m1\u001b[0m\u001b[0;34m,\u001b[0m \u001b[0mproperties\u001b[0m\u001b[0;34m=\u001b[0m\u001b[0mtrack_props\u001b[0m\u001b[0;34m,\u001b[0m \u001b[0msend_sys_info\u001b[0m\u001b[0;34m=\u001b[0m\u001b[0mFalse\u001b[0m\u001b[0;34m)\u001b[0m\u001b[0;34m\u001b[0m\u001b[0m\n\u001b[1;32m     88\u001b[0m \u001b[0;34m\u001b[0m\u001b[0m\n\u001b[0;32m---> 89\u001b[0;31m         \u001b[0;32mraise\u001b[0m \u001b[0mToolkitError\u001b[0m\u001b[0;34m(\u001b[0m\u001b[0mstr\u001b[0m\u001b[0;34m(\u001b[0m\u001b[0mmessage\u001b[0m\u001b[0;34m)\u001b[0m\u001b[0;34m)\u001b[0m\u001b[0;34m\u001b[0m\u001b[0m\n\u001b[0m",
      "\u001b[0;31mToolkitError\u001b[0m: Training with binary_target=True requires targets to be 0 or 1; (4.500000 invalid)."
     ]
    }
   ],
   "source": [
    "model = graphlab.recommender.ranking_factorization_recommender.create(graphlab.SFrame(data=train[['rating']].reset_index()),\n",
    "                                                                      user_id='userID',\n",
    "                                                                      item_id='movieID',\n",
    "                                                                      target='rating',\n",
    "                                                                      num_factors=20,\n",
    "                                                                      binary_target=True,\n",
    "                                                                      verbose=False)\n",
    "\n",
    "prediction = pd.concat([test, unknown])\n",
    "prediction['prediction'] = model.predict(graphlab.SFrame(data=prediction.reset_index()))\n",
    "\n",
    "prediction.head()"
   ]
  },
  {
   "cell_type": "code",
   "execution_count": null,
   "metadata": {
    "collapsed": true
   },
   "outputs": [],
   "source": [
    "print('MAP: %f' % map_metric(prediction))\n",
    "print('RMSE: %f' % rmse_metric(prediction))"
   ]
  },
  {
   "cell_type": "markdown",
   "metadata": {},
   "source": [
    "__Задание:__ Поэксперементируйте с следующими четырьмя параметрами алгоритма RankingFactorizationRecommender:\n",
    "\n",
    "* num_factors\n",
    "* ranking_regularization\n",
    "* unobserved_rating_value\n",
    "* num_sampled_negative_examples"
   ]
  },
  {
   "cell_type": "code",
   "execution_count": null,
   "metadata": {
    "collapsed": true
   },
   "outputs": [],
   "source": []
  }
 ],
 "metadata": {
  "kernelspec": {
   "display_name": "Python [conda env:graphlab]",
   "language": "python",
   "name": "conda-env-graphlab-py"
  },
  "language_info": {
   "codemirror_mode": {
    "name": "ipython",
    "version": 2
   },
   "file_extension": ".py",
   "mimetype": "text/x-python",
   "name": "python",
   "nbconvert_exporter": "python",
   "pygments_lexer": "ipython2",
   "version": "2.7.13"
  }
 },
 "nbformat": 4,
 "nbformat_minor": 2
}
