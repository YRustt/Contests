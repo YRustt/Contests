{
 "cells": [
  {
   "cell_type": "code",
   "execution_count": 7,
   "metadata": {},
   "outputs": [],
   "source": [
    "from IPython.core.display import HTML\n",
    "\n",
    "import warnings\n",
    "warnings.simplefilter('ignore')\n",
    "\n",
    "import matplotlib.pyplot as plt\n",
    "import seaborn\n",
    "%matplotlib inline\n",
    "\n",
    "from sklearn.decomposition import TruncatedSVD\n",
    "\n",
    "import numpy as np\n",
    "import pandas as pd\n",
    "\n",
    "from scipy.sparse import csr_matrix\n",
    "\n",
    "import graphlab\n",
    "from copy import copy, deepcopy"
   ]
  },
  {
   "cell_type": "code",
   "execution_count": 8,
   "metadata": {},
   "outputs": [
    {
     "data": {
      "text/html": [
       "<iframe\n",
       "          width=\"600\"\n",
       "          height=\"400\"\n",
       "          seamless\n",
       "          frameBorder=\"0\"\n",
       "          scrolling=\"no\"\n",
       "          src=\"http://localhost:8088/superset/explore/table/3/?form_data=%7B%22datasource%22%3A%223__table%22%2C%22viz_type%22%3A%22table%22%2C%22granularity_sqla%22%3Anull%2C%22time_grain_sqla%22%3Anull%2C%22since%22%3A%227+days+ago%22%2C%22until%22%3A%22now%22%2C%22groupby%22%3A%5B%22genre%22%5D%2C%22metrics%22%3A%5B%22count%22%5D%2C%22include_time%22%3Afalse%2C%22all_columns%22%3A%5B%5D%2C%22order_by_cols%22%3A%5B%5D%2C%22table_timestamp_format%22%3A%22smart_date%22%2C%22row_limit%22%3Anull%2C%22page_length%22%3A0%2C%22include_search%22%3Afalse%2C%22table_filter%22%3Afalse%2C%22where%22%3A%22%22%2C%22having%22%3A%22%22%2C%22filters%22%3A%5B%5D%7D&standalone=true&height=400\"\n",
       "        >\n",
       "        </iframe>"
      ],
      "text/plain": [
       "<IPython.core.display.HTML object>"
      ]
     },
     "execution_count": 8,
     "metadata": {},
     "output_type": "execute_result"
    }
   ],
   "source": [
    "HTML(\"\"\"<iframe\n",
    "          width=\"600\"\n",
    "          height=\"400\"\n",
    "          seamless\n",
    "          frameBorder=\"0\"\n",
    "          scrolling=\"no\"\n",
    "          src=\"http://localhost:8088/superset/explore/table/3/?form_data=%7B%22datasource%22%3A%223__table%22%2C%22viz_type%22%3A%22table%22%2C%22granularity_sqla%22%3Anull%2C%22time_grain_sqla%22%3Anull%2C%22since%22%3A%227+days+ago%22%2C%22until%22%3A%22now%22%2C%22groupby%22%3A%5B%22genre%22%5D%2C%22metrics%22%3A%5B%22count%22%5D%2C%22include_time%22%3Afalse%2C%22all_columns%22%3A%5B%5D%2C%22order_by_cols%22%3A%5B%5D%2C%22table_timestamp_format%22%3A%22smart_date%22%2C%22row_limit%22%3Anull%2C%22page_length%22%3A0%2C%22include_search%22%3Afalse%2C%22table_filter%22%3Afalse%2C%22where%22%3A%22%22%2C%22having%22%3A%22%22%2C%22filters%22%3A%5B%5D%7D&standalone=true&height=400\"\n",
    "        >\n",
    "        </iframe>\"\"\")"
   ]
  },
  {
   "cell_type": "markdown",
   "metadata": {},
   "source": [
    "---\n",
    "# Рекомендательные системы\n",
    "---\n",
    "\n",
    "В этой лабораторной работе будет рассмотрена задача предсказания оценки, которую пользователь поставит фильму. Особенность этой задачи в том, что объекты выборки описываются категориальными признаками, принимающими большое число значений (например: идентификатор пользователя, идентификатор фильма, тэги, киноперсоны).\n",
    "\n",
    "Будем работать с датасетом MovieLens + IMDb/Rotten Tomatoes. Набор содержит данные о предпочтениях пользователей сервиса рекомендации кинофильмов MovieLens. Пользовательские оценки для фильмов принимают ~~целые~~ значения в интервале от 1 до 5, они записаны в файле user_ratedmovies.dat (а так же в user_ratedmovies-timestamps.dat, где для каждой оценки записана дата и время в формате timestamp), остальные файлы содержат дополнительную информацию о фильмах, которую можно использовать как признаки. Заметьте: кроме оценок (и тегов), про пользователя ничего не известно.\n",
    "\n",
    "На основании этих данных необходимо построить модель, предсказывающую оценку пользователя фильму, который он еще не смотрел."
   ]
  },
  {
   "cell_type": "markdown",
   "metadata": {},
   "source": [
    "# Dataset:\n",
    "\n",
    "MovieLens + IMDb/Rotten Tomatoes\n",
    "\n",
    "---\n",
    "\n",
    "### Description\n",
    "\n",
    "---\n",
    "\n",
    "This dataset is an extension of MovieLens10M dataset, published by GroupLeans \n",
    "research group.\n",
    "\n",
    "http://www.grouplens.org \n",
    "\n",
    "It links the movies of MovieLens dataset with their corresponding web pages at \n",
    "Internet Movie Database (IMDb) and Rotten Tomatoes movie review systems.\n",
    "\n",
    "http://www.imdb.com \n",
    "\n",
    "http://www.rottentomatoes.com \n",
    "\n",
    "From the original dataset, only those users with both rating and tagging information \n",
    "have been mantained.\n",
    "\n",
    "---\n",
    "\n",
    "### Data statistics\n",
    "\n",
    "---\n",
    "<table>\n",
    "<tr style=\"border-bottom: 2pt solid black;\"><th>count</th><th>name</th></tr>\n",
    "<tr><td>2113</td><td>users</td> </tr>\n",
    "<tr style=\"border-bottom: 2pt solid black;\"><td>10197</td><td>movies</td></tr>\n",
    "\n",
    "<tr><td>20</td><td>movie genres</td></tr>\n",
    "<tr><td>20809</td><td>movie genre assignments</td> </tr>\n",
    "<tr style=\"border-bottom: 2pt solid black;\"><td></td><td>avg. 2.040 genres per movie</td></tr>\n",
    "\n",
    "<tr><td>4060</td><td>directors</td></tr>\n",
    "<tr><td>95321</td><td>actors</td></tr>\n",
    "<tr><td></td><td>avg. 22.778 actors per movie</td></tr>\n",
    "<tr style=\"border-bottom: 2pt solid black;\"><td>72</td><td>countries</td></tr>\n",
    "\n",
    "<tr><td>10197</td><td>country assignments</td></tr>\n",
    "<tr><td></td><td>avg. 1.000 countries per movie</td></tr>\n",
    "<tr><td>47899</td><td>location assignments</td></tr>\n",
    "<tr style=\"border-bottom: 2pt solid black;\"><td></td><td>avg. 5.350 locations per movie</td></tr>\n",
    "\n",
    "<tr><td>13222</td><td>tags</td></tr>\n",
    "<tr><td>47957</td><td>tag assignments (tas), i.e. tuples [user, tag, movie]</td></tr>\n",
    "<tr><td></td><td>avg. 22.696 tas per user</td></tr>\n",
    "<tr style=\"border-bottom: 2pt solid black;\"><td></td><td>avg. 8.117 tas per movie</td></tr>\n",
    "\n",
    "<tr><td>855598</td><td>ratings</td></tr>\n",
    "<tr><td></td><td>avg. 404.921 ratings per user</td></tr>\n",
    "<tr style=\"border-bottom: 2pt solid black;\"><td></td><td>avg. 84.637 ratings per movie</td></tr>\n",
    "\n",
    "</table>"
   ]
  },
  {
   "cell_type": "markdown",
   "metadata": {},
   "source": [
    "---\n",
    "# Оценивание качества рекомендаций:\n",
    "---\n",
    "\n",
    "Выберем некоторого пользователя $u$ и обозначим известные для него рейтинги за $R^u$. В качестве тестовых рейтингов этого пользователя $R^u_{test}$ рассмотрим три рейтинга, поставленные последними по времени. Остальные известные рейтинги будут составлять обучающую выборку $R^u_{train}$. Тогда все известные рейтинги можно представить как $R^u = R^u_{train} \\cup R^u_{test}$. Отсутствующие оценки обозначим за $R^u_{unknown}$. Объединив эти наборы для всех пользователей, получим наборы $R_{train}$, $R_{test}$ и $R_{unknown}$.\n",
    "\n",
    "Для измерения качества рекомендаций в этой лабораторной работе будем использовать две метрики RMSE и MAP, описанные ниже.\n",
    "\n",
    "---\n",
    "### RMSE\n",
    "---\n",
    "Метрика RMSE вычисляется следующим образом:\n",
    "\n",
    "\\begin{array}\n",
    "-RMSE & =  &\\sqrt{\\frac{1}{|R_{test}|}\\sum_{(u, i) \\in R_{test}} (r_{ui} - \\widehat{r}_{ui})^2}\n",
    "\\end{array}\n",
    "\n",
    "где $r_{ui}$ - наблюдаемая (правильная) оценка, а  $\\widehat{r}_{ui}$ - оценка, предсказанная моделью.\n",
    "\n",
    "Метрика RMSE предназначена для оценки точности предсказания, ее удобно оптимизировать напрямую. Однако, нужно учесть, что RMSE не лучший кандидат для оценки качества рекомендаций:\n",
    "\n",
    "* Во-первых, RMSE оценивает точность предсказания рейтингов, что в задачах рекомендаций, как правило, менее важно, нежели верное ранжирование объектов (безотносительно абсолютных значений рейтингов). На практике часто бывает, что алгоритмы с худшим RMSE в продакшене работают лучше, нежели алгоритмы с меньшим значением RMSE. Например, при использовании моделей рекомендаций на основе матричных разложений, заполнение отсутствующих оценок нулями даёт худшее значение по RMSE, но при этом часто сами рекомендации становятся лучше.\n",
    "* Во-вторых, RMSE одинаково штрафует точность предсказания оценок фильмам с большим значением предпочтения (которые попадут в блок рекомендаций) и фильмам с малым значением предпочтения (длинный хвост из нерелевантных фильмов).\n",
    "\n",
    "---\n",
    "### MAP\n",
    "---\n",
    "\n",
    "Для оценки качества рекомендаций также можно использовать метрику качества ранжирования. Для этого для каждого пользователя $u$ предскажем оценку для всех фильмов из $R^u_{test}$ и $R^u_{unknown}$ и отсортируем эти фильмы по убыванию предсказанного рейтинга. Ожидается, что хороший алгоритм должен выдать релевантные фильмы вверху списка. Обозначим позиции объектов в этом списке за $k^u_{i}$.\n",
    "\n",
    "Назовем релевантными те фильмы, которые входят в $R^u_{test}$ и имеют оценку $\\ge 3$. Обозначим их за $Rel^u$. Тогда можно считать следующую метрику качества рекомендаций для одного пользователя:\n",
    "\n",
    "\\begin{array}\n",
    "-AP^u = \\frac{1}{|Rel^u|} \\sum\\limits_{(u, i) \\in Rel^u} \\frac{1}{k_i^u}.\n",
    "\\end{array}\n",
    "\n",
    "Усреднив значение этой метрики по всем пользователями, мы получим окончательное значение метрики MAP. Пользователей без релевантных фильмов в тестовой выборке можно не учитывать.\n",
    "\n",
    "---\n",
    "### Другие способы оцениваний рекомендаций\n",
    "---\n",
    "\n",
    "На практике, как правило, качество рекомендательных систем оценивается в онлайне с помощью A/B-тестирования."
   ]
  },
  {
   "cell_type": "code",
   "execution_count": 3,
   "metadata": {
    "collapsed": true
   },
   "outputs": [],
   "source": [
    "def rmse_metric(data):\n",
    "    return np.sqrt(np.mean([(row['rating'] - row['prediction']) ** 2 \n",
    "                            for _, row in data.iterrows()]))\n",
    "\n",
    "def map_metric(data):\n",
    "    def ap_metric(user_id, movie_ratings):\n",
    "        movie_indexs = list(movie_ratings.sort_values(by='prediction', ascending=False).index)\n",
    "        \n",
    "        value, count_rel = 0., 0\n",
    "        for movie_id, row in movie_ratings.iterrows():\n",
    "            if row['rating'] >= 3:\n",
    "                k = movie_indexs.index(movie_id) + 1\n",
    "                value += 1. / k\n",
    "                count_rel += 1\n",
    "        return value / count_rel if count_rel > 0 else 0.\n",
    "    \n",
    "    value, count_rel = 0., 0\n",
    "    for user_id, movie_ratings in data.reset_index().groupby('userID'):\n",
    "        t = ap_metric(user_id, movie_ratings.set_index('movieID'))\n",
    "        \n",
    "        if t > 0.:\n",
    "            value += t\n",
    "            count_rel += 1\n",
    "    \n",
    "    return value / count_rel if count_rel > 0 else 0"
   ]
  },
  {
   "cell_type": "markdown",
   "metadata": {},
   "source": [
    "# Коллаборативная фильтрация"
   ]
  },
  {
   "cell_type": "markdown",
   "metadata": {},
   "source": [
    "Загрузите данные и создайте матрицу пользователи-фильмы, где в каждой ячейке стоит рейтинг, если он известен, или ноль, если неизвестен."
   ]
  },
  {
   "cell_type": "code",
   "execution_count": 4,
   "metadata": {},
   "outputs": [
    {
     "data": {
      "text/html": [
       "<div>\n",
       "<table border=\"1\" class=\"dataframe\">\n",
       "  <thead>\n",
       "    <tr style=\"text-align: right;\">\n",
       "      <th></th>\n",
       "      <th></th>\n",
       "      <th>rating</th>\n",
       "      <th>timestamp</th>\n",
       "    </tr>\n",
       "    <tr>\n",
       "      <th>userID</th>\n",
       "      <th>movieID</th>\n",
       "      <th></th>\n",
       "      <th></th>\n",
       "    </tr>\n",
       "  </thead>\n",
       "  <tbody>\n",
       "    <tr>\n",
       "      <th rowspan=\"5\" valign=\"top\">75</th>\n",
       "      <th>3</th>\n",
       "      <td>1.0</td>\n",
       "      <td>1162160236000</td>\n",
       "    </tr>\n",
       "    <tr>\n",
       "      <th>32</th>\n",
       "      <td>4.5</td>\n",
       "      <td>1162160624000</td>\n",
       "    </tr>\n",
       "    <tr>\n",
       "      <th>110</th>\n",
       "      <td>4.0</td>\n",
       "      <td>1162161008000</td>\n",
       "    </tr>\n",
       "    <tr>\n",
       "      <th>160</th>\n",
       "      <td>2.0</td>\n",
       "      <td>1162160212000</td>\n",
       "    </tr>\n",
       "    <tr>\n",
       "      <th>163</th>\n",
       "      <td>4.0</td>\n",
       "      <td>1162160970000</td>\n",
       "    </tr>\n",
       "  </tbody>\n",
       "</table>\n",
       "</div>"
      ],
      "text/plain": [
       "                rating      timestamp\n",
       "userID movieID                       \n",
       "75     3           1.0  1162160236000\n",
       "       32          4.5  1162160624000\n",
       "       110         4.0  1162161008000\n",
       "       160         2.0  1162160212000\n",
       "       163         4.0  1162160970000"
      ]
     },
     "execution_count": 4,
     "metadata": {},
     "output_type": "execute_result"
    }
   ],
   "source": [
    "data = pd.read_table('data/user_ratedmovies-timestamps.dat', encoding='cp1251', index_col=['userID', 'movieID'])\n",
    "data.head(5)"
   ]
  },
  {
   "cell_type": "code",
   "execution_count": 5,
   "metadata": {
    "collapsed": true
   },
   "outputs": [],
   "source": [
    "in_train = np.array([True] * data.shape[0])\n",
    "\n",
    "prev_user_id = None\n",
    "for i, (index, row) in enumerate(data.iterrows()):\n",
    "    user_id, movie_id = index\n",
    "    if prev_user_id != user_id:\n",
    "        prev_user_id = user_id\n",
    "        border_timestamp = data.ix[user_id].sort_values('timestamp').iloc[-3]['timestamp']\n",
    "    \n",
    "    timestamp = row['timestamp']\n",
    "    if timestamp >= border_timestamp:\n",
    "        in_train[i] = False\n",
    "\n",
    "train = data[in_train]\n",
    "test = data[np.logical_not(in_train)]\n",
    "\n",
    "R = pd.pivot_table(data.reset_index(), \n",
    "                   columns='movieID', \n",
    "                   index='userID', \n",
    "                   values='rating', \n",
    "                   aggfunc=np.mean, \n",
    "                   fill_value=0.)\n",
    "\n",
    "unknown = R.stack().drop(data.index)"
   ]
  },
  {
   "cell_type": "code",
   "execution_count": 6,
   "metadata": {
    "collapsed": true
   },
   "outputs": [],
   "source": [
    "if 1 == 0:\n",
    "    train.to_csv('data/solution/solution.train.csv')\n",
    "    test.to_csv('data/solution/solution.test.csv')\n",
    "    unknown.to_csv('data/solution/solution.unknown.csv')"
   ]
  },
  {
   "cell_type": "code",
   "execution_count": 7,
   "metadata": {
    "collapsed": true
   },
   "outputs": [],
   "source": [
    "if 1 == 0:\n",
    "    train = pd.read_csv('data/solution/solution.train.csv', index_col=['userID', 'movieID'])\n",
    "    test = pd.read_csv('data/solution/solution.test.csv', index_col=['userID', 'movieID'])\n",
    "    unknown = pd.read_csv('data/solution/solution.unknown.csv', header=None)\n",
    "    unknown.columns = ['userID', 'movieID', 'rating']\n",
    "    unknown = unknown.set_index(['userID', 'movieID'])"
   ]
  },
  {
   "cell_type": "markdown",
   "metadata": {},
   "source": [
    "# 1. Most popular method"
   ]
  },
  {
   "cell_type": "markdown",
   "metadata": {},
   "source": [
    "Постройте рекоммендации на основе __most popular__ метода, при котором пользователям рекомендуются объекты в порядке убываниях их популярности (например, среднего рейтинга). Оцените качество рекомендаций с использованием метрики MAP."
   ]
  },
  {
   "cell_type": "code",
   "execution_count": 8,
   "metadata": {},
   "outputs": [
    {
     "data": {
      "text/html": [
       "<div>\n",
       "<table border=\"1\" class=\"dataframe\">\n",
       "  <thead>\n",
       "    <tr style=\"text-align: right;\">\n",
       "      <th></th>\n",
       "      <th></th>\n",
       "      <th>0</th>\n",
       "      <th>rating</th>\n",
       "      <th>timestamp</th>\n",
       "      <th>prediction</th>\n",
       "    </tr>\n",
       "    <tr>\n",
       "      <th>userID</th>\n",
       "      <th>movieID</th>\n",
       "      <th></th>\n",
       "      <th></th>\n",
       "      <th></th>\n",
       "      <th></th>\n",
       "    </tr>\n",
       "  </thead>\n",
       "  <tbody>\n",
       "    <tr>\n",
       "      <th rowspan=\"3\" valign=\"top\">75</th>\n",
       "      <th>2571</th>\n",
       "      <td>0.0</td>\n",
       "      <td>4.5</td>\n",
       "      <td>1.162161e+12</td>\n",
       "      <td>4.174834</td>\n",
       "    </tr>\n",
       "    <tr>\n",
       "      <th>5952</th>\n",
       "      <td>0.0</td>\n",
       "      <td>3.5</td>\n",
       "      <td>1.162161e+12</td>\n",
       "      <td>4.032301</td>\n",
       "    </tr>\n",
       "    <tr>\n",
       "      <th>7153</th>\n",
       "      <td>0.0</td>\n",
       "      <td>3.5</td>\n",
       "      <td>1.162161e+12</td>\n",
       "      <td>4.095090</td>\n",
       "    </tr>\n",
       "    <tr>\n",
       "      <th rowspan=\"2\" valign=\"top\">78</th>\n",
       "      <th>8400</th>\n",
       "      <td>0.0</td>\n",
       "      <td>4.5</td>\n",
       "      <td>1.177224e+12</td>\n",
       "      <td>3.656250</td>\n",
       "    </tr>\n",
       "    <tr>\n",
       "      <th>44694</th>\n",
       "      <td>0.0</td>\n",
       "      <td>2.0</td>\n",
       "      <td>1.179550e+12</td>\n",
       "      <td>3.859447</td>\n",
       "    </tr>\n",
       "  </tbody>\n",
       "</table>\n",
       "</div>"
      ],
      "text/plain": [
       "                  0  rating     timestamp  prediction\n",
       "userID movieID                                       \n",
       "75     2571     0.0     4.5  1.162161e+12    4.174834\n",
       "       5952     0.0     3.5  1.162161e+12    4.032301\n",
       "       7153     0.0     3.5  1.162161e+12    4.095090\n",
       "78     8400     0.0     4.5  1.177224e+12    3.656250\n",
       "       44694    0.0     2.0  1.179550e+12    3.859447"
      ]
     },
     "execution_count": 8,
     "metadata": {},
     "output_type": "execute_result"
    }
   ],
   "source": [
    "movie_ratings = train.reset_index().groupby('movieID').agg({'rating': np.mean})\n",
    "movie_ratings.columns = ['prediction']\n",
    "prediction = pd.concat([test, unknown]).join(movie_ratings).fillna(0.)\n",
    "prediction.head()"
   ]
  },
  {
   "cell_type": "code",
   "execution_count": 9,
   "metadata": {},
   "outputs": [
    {
     "name": "stdout",
     "output_type": "stream",
     "text": [
      "MAP: 0.001123\n",
      "RMSE: 3.262988\n"
     ]
    }
   ],
   "source": [
    "print('MAP: %f' % map_metric(prediction))\n",
    "print('RMSE: %f' % rmse_metric(prediction))"
   ]
  },
  {
   "cell_type": "markdown",
   "metadata": {},
   "source": [
    "# 2. Item-based method"
   ]
  },
  {
   "cell_type": "markdown",
   "metadata": {},
   "source": [
    "Теперь рассмотрим __memory-based__ методы рекоммендаций. Подход, лежащий в их основе, использует данные о рейтингах для вычисления сходства между пользователями (__user-based__) или объектами (__item-based__), на основе этих данных делаются предсказания рейтингов и, в дальнейшем, строятся рекоммендации. Эти методы просты в реализации и эффективны на ранних стадиях разработки рекомендательных систем.\n",
    "\n",
    "Постройте рекоммендации на основе item-based подхода, реализованном в библиотеке Graphlab Create. Оцените качество рекомендаций, в зависимости от выбранной функции похожести __jaccard/cosine/pearson__ по каждой из описанных выше метрик (RMSE, MAP)."
   ]
  },
  {
   "cell_type": "markdown",
   "metadata": {},
   "source": [
    "### Jacard"
   ]
  },
  {
   "cell_type": "code",
   "execution_count": 4,
   "metadata": {},
   "outputs": [
    {
     "data": {
      "text/html": [
       "<pre>Recsys training: model = item_similarity</pre>"
      ],
      "text/plain": [
       "Recsys training: model = item_similarity"
      ]
     },
     "metadata": {},
     "output_type": "display_data"
    },
    {
     "data": {
      "text/html": [
       "<pre>Warning: Ignoring columns timestamp;</pre>"
      ],
      "text/plain": [
       "Warning: Ignoring columns timestamp;"
      ]
     },
     "metadata": {},
     "output_type": "display_data"
    },
    {
     "data": {
      "text/html": [
       "<pre>    To use these columns in scoring predictions, use a model that allows the use of additional features.</pre>"
      ],
      "text/plain": [
       "    To use these columns in scoring predictions, use a model that allows the use of additional features."
      ]
     },
     "metadata": {},
     "output_type": "display_data"
    },
    {
     "data": {
      "text/html": [
       "<pre>Preparing data set.</pre>"
      ],
      "text/plain": [
       "Preparing data set."
      ]
     },
     "metadata": {},
     "output_type": "display_data"
    },
    {
     "data": {
      "text/html": [
       "<pre>    Data has 849256 observations with 2113 users and 10084 items.</pre>"
      ],
      "text/plain": [
       "    Data has 849256 observations with 2113 users and 10084 items."
      ]
     },
     "metadata": {},
     "output_type": "display_data"
    },
    {
     "data": {
      "text/html": [
       "<pre>    Data prepared in: 0.98912s</pre>"
      ],
      "text/plain": [
       "    Data prepared in: 0.98912s"
      ]
     },
     "metadata": {},
     "output_type": "display_data"
    },
    {
     "data": {
      "text/html": [
       "<pre>Training model from provided data.</pre>"
      ],
      "text/plain": [
       "Training model from provided data."
      ]
     },
     "metadata": {},
     "output_type": "display_data"
    },
    {
     "data": {
      "text/html": [
       "<pre>Gathering per-item and per-user statistics.</pre>"
      ],
      "text/plain": [
       "Gathering per-item and per-user statistics."
      ]
     },
     "metadata": {},
     "output_type": "display_data"
    },
    {
     "data": {
      "text/html": [
       "<pre>+--------------------------------+------------+</pre>"
      ],
      "text/plain": [
       "+--------------------------------+------------+"
      ]
     },
     "metadata": {},
     "output_type": "display_data"
    },
    {
     "data": {
      "text/html": [
       "<pre>| Elapsed Time (Item Statistics) | % Complete |</pre>"
      ],
      "text/plain": [
       "| Elapsed Time (Item Statistics) | % Complete |"
      ]
     },
     "metadata": {},
     "output_type": "display_data"
    },
    {
     "data": {
      "text/html": [
       "<pre>+--------------------------------+------------+</pre>"
      ],
      "text/plain": [
       "+--------------------------------+------------+"
      ]
     },
     "metadata": {},
     "output_type": "display_data"
    },
    {
     "data": {
      "text/html": [
       "<pre>| 43.701ms                       | 47.25      |</pre>"
      ],
      "text/plain": [
       "| 43.701ms                       | 47.25      |"
      ]
     },
     "metadata": {},
     "output_type": "display_data"
    },
    {
     "data": {
      "text/html": [
       "<pre>| 70.773ms                       | 100        |</pre>"
      ],
      "text/plain": [
       "| 70.773ms                       | 100        |"
      ]
     },
     "metadata": {},
     "output_type": "display_data"
    },
    {
     "data": {
      "text/html": [
       "<pre>+--------------------------------+------------+</pre>"
      ],
      "text/plain": [
       "+--------------------------------+------------+"
      ]
     },
     "metadata": {},
     "output_type": "display_data"
    },
    {
     "data": {
      "text/html": [
       "<pre>Setting up lookup tables.</pre>"
      ],
      "text/plain": [
       "Setting up lookup tables."
      ]
     },
     "metadata": {},
     "output_type": "display_data"
    },
    {
     "data": {
      "text/html": [
       "<pre>Processing data in one pass using dense lookup tables.</pre>"
      ],
      "text/plain": [
       "Processing data in one pass using dense lookup tables."
      ]
     },
     "metadata": {},
     "output_type": "display_data"
    },
    {
     "data": {
      "text/html": [
       "<pre>+-------------------------------------+------------------+-----------------+</pre>"
      ],
      "text/plain": [
       "+-------------------------------------+------------------+-----------------+"
      ]
     },
     "metadata": {},
     "output_type": "display_data"
    },
    {
     "data": {
      "text/html": [
       "<pre>| Elapsed Time (Constructing Lookups) | Total % Complete | Items Processed |</pre>"
      ],
      "text/plain": [
       "| Elapsed Time (Constructing Lookups) | Total % Complete | Items Processed |"
      ]
     },
     "metadata": {},
     "output_type": "display_data"
    },
    {
     "data": {
      "text/html": [
       "<pre>+-------------------------------------+------------------+-----------------+</pre>"
      ],
      "text/plain": [
       "+-------------------------------------+------------------+-----------------+"
      ]
     },
     "metadata": {},
     "output_type": "display_data"
    },
    {
     "data": {
      "text/html": [
       "<pre>| 244.414ms                           | 0                | 0               |</pre>"
      ],
      "text/plain": [
       "| 244.414ms                           | 0                | 0               |"
      ]
     },
     "metadata": {},
     "output_type": "display_data"
    },
    {
     "data": {
      "text/html": [
       "<pre>| 1.25s                               | 21.25            | 2150            |</pre>"
      ],
      "text/plain": [
       "| 1.25s                               | 21.25            | 2150            |"
      ]
     },
     "metadata": {},
     "output_type": "display_data"
    },
    {
     "data": {
      "text/html": [
       "<pre>| 2.25s                               | 42.25            | 4275            |</pre>"
      ],
      "text/plain": [
       "| 2.25s                               | 42.25            | 4275            |"
      ]
     },
     "metadata": {},
     "output_type": "display_data"
    },
    {
     "data": {
      "text/html": [
       "<pre>| 3.24s                               | 64.75            | 6549            |</pre>"
      ],
      "text/plain": [
       "| 3.24s                               | 64.75            | 6549            |"
      ]
     },
     "metadata": {},
     "output_type": "display_data"
    },
    {
     "data": {
      "text/html": [
       "<pre>| 4.25s                               | 89.25            | 9017            |</pre>"
      ],
      "text/plain": [
       "| 4.25s                               | 89.25            | 9017            |"
      ]
     },
     "metadata": {},
     "output_type": "display_data"
    },
    {
     "data": {
      "text/html": [
       "<pre>| 5.77s                               | 100              | 10084           |</pre>"
      ],
      "text/plain": [
       "| 5.77s                               | 100              | 10084           |"
      ]
     },
     "metadata": {},
     "output_type": "display_data"
    },
    {
     "data": {
      "text/html": [
       "<pre>+-------------------------------------+------------------+-----------------+</pre>"
      ],
      "text/plain": [
       "+-------------------------------------+------------------+-----------------+"
      ]
     },
     "metadata": {},
     "output_type": "display_data"
    },
    {
     "data": {
      "text/html": [
       "<pre>Finalizing lookup tables.</pre>"
      ],
      "text/plain": [
       "Finalizing lookup tables."
      ]
     },
     "metadata": {},
     "output_type": "display_data"
    },
    {
     "data": {
      "text/html": [
       "<pre>Generating candidate set for working with new users.</pre>"
      ],
      "text/plain": [
       "Generating candidate set for working with new users."
      ]
     },
     "metadata": {},
     "output_type": "display_data"
    },
    {
     "data": {
      "text/html": [
       "<pre>Finished training in 6.92828s</pre>"
      ],
      "text/plain": [
       "Finished training in 6.92828s"
      ]
     },
     "metadata": {},
     "output_type": "display_data"
    }
   ],
   "source": [
    "model = graphlab.recommender.item_similarity_recommender.create(graphlab.SFrame(data=train.reset_index()),\n",
    "                                                                user_id='userID',\n",
    "                                                                item_id='movieID',\n",
    "                                                                target='rating',\n",
    "                                                                similarity_type='jaccard')"
   ]
  },
  {
   "cell_type": "code",
   "execution_count": 5,
   "metadata": {},
   "outputs": [
    {
     "data": {
      "text/html": [
       "<div>\n",
       "<table border=\"1\" class=\"dataframe\">\n",
       "  <thead>\n",
       "    <tr style=\"text-align: right;\">\n",
       "      <th></th>\n",
       "      <th></th>\n",
       "      <th>rating</th>\n",
       "      <th>timestamp</th>\n",
       "      <th>prediction</th>\n",
       "    </tr>\n",
       "    <tr>\n",
       "      <th>userID</th>\n",
       "      <th>movieID</th>\n",
       "      <th></th>\n",
       "      <th></th>\n",
       "      <th></th>\n",
       "    </tr>\n",
       "  </thead>\n",
       "  <tbody>\n",
       "    <tr>\n",
       "      <th rowspan=\"3\" valign=\"top\">75</th>\n",
       "      <th>2571</th>\n",
       "      <td>4.5</td>\n",
       "      <td>1.162161e+12</td>\n",
       "      <td>0.170676</td>\n",
       "    </tr>\n",
       "    <tr>\n",
       "      <th>5952</th>\n",
       "      <td>3.5</td>\n",
       "      <td>1.162161e+12</td>\n",
       "      <td>0.150593</td>\n",
       "    </tr>\n",
       "    <tr>\n",
       "      <th>7153</th>\n",
       "      <td>3.5</td>\n",
       "      <td>1.162161e+12</td>\n",
       "      <td>0.147598</td>\n",
       "    </tr>\n",
       "    <tr>\n",
       "      <th rowspan=\"2\" valign=\"top\">78</th>\n",
       "      <th>8400</th>\n",
       "      <td>4.5</td>\n",
       "      <td>1.177224e+12</td>\n",
       "      <td>0.000350</td>\n",
       "    </tr>\n",
       "    <tr>\n",
       "      <th>44694</th>\n",
       "      <td>2.0</td>\n",
       "      <td>1.179550e+12</td>\n",
       "      <td>0.000732</td>\n",
       "    </tr>\n",
       "  </tbody>\n",
       "</table>\n",
       "</div>"
      ],
      "text/plain": [
       "                rating     timestamp  prediction\n",
       "userID movieID                                  \n",
       "75     2571        4.5  1.162161e+12    0.170676\n",
       "       5952        3.5  1.162161e+12    0.150593\n",
       "       7153        3.5  1.162161e+12    0.147598\n",
       "78     8400        4.5  1.177224e+12    0.000350\n",
       "       44694       2.0  1.179550e+12    0.000732"
      ]
     },
     "execution_count": 5,
     "metadata": {},
     "output_type": "execute_result"
    }
   ],
   "source": [
    "values = pd.concat([test, unknown])\n",
    "values['prediction'] = model.predict(graphlab.SFrame(data=values.reset_index()))\n",
    "\n",
    "values.head()"
   ]
  },
  {
   "cell_type": "code",
   "execution_count": 6,
   "metadata": {},
   "outputs": [
    {
     "name": "stdout",
     "output_type": "stream",
     "text": [
      "MAP: 0.019197\n",
      "RMSE: 0.066048\n"
     ]
    }
   ],
   "source": [
    "print('MAP: %f' % map_metric(values))\n",
    "print('RMSE: %f' % rmse_metric(values))"
   ]
  },
  {
   "cell_type": "markdown",
   "metadata": {},
   "source": [
    "### Cosine"
   ]
  },
  {
   "cell_type": "code",
   "execution_count": 4,
   "metadata": {},
   "outputs": [
    {
     "data": {
      "text/html": [
       "<pre>Recsys training: model = item_similarity</pre>"
      ],
      "text/plain": [
       "Recsys training: model = item_similarity"
      ]
     },
     "metadata": {},
     "output_type": "display_data"
    },
    {
     "data": {
      "text/html": [
       "<pre>Preparing data set.</pre>"
      ],
      "text/plain": [
       "Preparing data set."
      ]
     },
     "metadata": {},
     "output_type": "display_data"
    },
    {
     "data": {
      "text/html": [
       "<pre>    Data has 849256 observations with 2113 users and 10084 items.</pre>"
      ],
      "text/plain": [
       "    Data has 849256 observations with 2113 users and 10084 items."
      ]
     },
     "metadata": {},
     "output_type": "display_data"
    },
    {
     "data": {
      "text/html": [
       "<pre>    Data prepared in: 1.03812s</pre>"
      ],
      "text/plain": [
       "    Data prepared in: 1.03812s"
      ]
     },
     "metadata": {},
     "output_type": "display_data"
    },
    {
     "data": {
      "text/html": [
       "<pre>Training model from provided data.</pre>"
      ],
      "text/plain": [
       "Training model from provided data."
      ]
     },
     "metadata": {},
     "output_type": "display_data"
    },
    {
     "data": {
      "text/html": [
       "<pre>Gathering per-item and per-user statistics.</pre>"
      ],
      "text/plain": [
       "Gathering per-item and per-user statistics."
      ]
     },
     "metadata": {},
     "output_type": "display_data"
    },
    {
     "data": {
      "text/html": [
       "<pre>+--------------------------------+------------+</pre>"
      ],
      "text/plain": [
       "+--------------------------------+------------+"
      ]
     },
     "metadata": {},
     "output_type": "display_data"
    },
    {
     "data": {
      "text/html": [
       "<pre>| Elapsed Time (Item Statistics) | % Complete |</pre>"
      ],
      "text/plain": [
       "| Elapsed Time (Item Statistics) | % Complete |"
      ]
     },
     "metadata": {},
     "output_type": "display_data"
    },
    {
     "data": {
      "text/html": [
       "<pre>+--------------------------------+------------+</pre>"
      ],
      "text/plain": [
       "+--------------------------------+------------+"
      ]
     },
     "metadata": {},
     "output_type": "display_data"
    },
    {
     "data": {
      "text/html": [
       "<pre>| 31.872ms                       | 47.25      |</pre>"
      ],
      "text/plain": [
       "| 31.872ms                       | 47.25      |"
      ]
     },
     "metadata": {},
     "output_type": "display_data"
    },
    {
     "data": {
      "text/html": [
       "<pre>| 59.902ms                       | 100        |</pre>"
      ],
      "text/plain": [
       "| 59.902ms                       | 100        |"
      ]
     },
     "metadata": {},
     "output_type": "display_data"
    },
    {
     "data": {
      "text/html": [
       "<pre>+--------------------------------+------------+</pre>"
      ],
      "text/plain": [
       "+--------------------------------+------------+"
      ]
     },
     "metadata": {},
     "output_type": "display_data"
    },
    {
     "data": {
      "text/html": [
       "<pre>Setting up lookup tables.</pre>"
      ],
      "text/plain": [
       "Setting up lookup tables."
      ]
     },
     "metadata": {},
     "output_type": "display_data"
    },
    {
     "data": {
      "text/html": [
       "<pre>Processing data in one pass using dense lookup tables.</pre>"
      ],
      "text/plain": [
       "Processing data in one pass using dense lookup tables."
      ]
     },
     "metadata": {},
     "output_type": "display_data"
    },
    {
     "data": {
      "text/html": [
       "<pre>+-------------------------------------+------------------+-----------------+</pre>"
      ],
      "text/plain": [
       "+-------------------------------------+------------------+-----------------+"
      ]
     },
     "metadata": {},
     "output_type": "display_data"
    },
    {
     "data": {
      "text/html": [
       "<pre>| Elapsed Time (Constructing Lookups) | Total % Complete | Items Processed |</pre>"
      ],
      "text/plain": [
       "| Elapsed Time (Constructing Lookups) | Total % Complete | Items Processed |"
      ]
     },
     "metadata": {},
     "output_type": "display_data"
    },
    {
     "data": {
      "text/html": [
       "<pre>+-------------------------------------+------------------+-----------------+</pre>"
      ],
      "text/plain": [
       "+-------------------------------------+------------------+-----------------+"
      ]
     },
     "metadata": {},
     "output_type": "display_data"
    },
    {
     "data": {
      "text/html": [
       "<pre>| 231.241ms                           | 0                | 0               |</pre>"
      ],
      "text/plain": [
       "| 231.241ms                           | 0                | 0               |"
      ]
     },
     "metadata": {},
     "output_type": "display_data"
    },
    {
     "data": {
      "text/html": [
       "<pre>| 1.26s                               | 16               | 1637            |</pre>"
      ],
      "text/plain": [
       "| 1.26s                               | 16               | 1637            |"
      ]
     },
     "metadata": {},
     "output_type": "display_data"
    },
    {
     "data": {
      "text/html": [
       "<pre>| 2.23s                               | 30.75            | 3119            |</pre>"
      ],
      "text/plain": [
       "| 2.23s                               | 30.75            | 3119            |"
      ]
     },
     "metadata": {},
     "output_type": "display_data"
    },
    {
     "data": {
      "text/html": [
       "<pre>| 3.23s                               | 42.25            | 4263            |</pre>"
      ],
      "text/plain": [
       "| 3.23s                               | 42.25            | 4263            |"
      ]
     },
     "metadata": {},
     "output_type": "display_data"
    },
    {
     "data": {
      "text/html": [
       "<pre>| 4.23s                               | 58.75            | 5927            |</pre>"
      ],
      "text/plain": [
       "| 4.23s                               | 58.75            | 5927            |"
      ]
     },
     "metadata": {},
     "output_type": "display_data"
    },
    {
     "data": {
      "text/html": [
       "<pre>| 5.23s                               | 79               | 7979            |</pre>"
      ],
      "text/plain": [
       "| 5.23s                               | 79               | 7979            |"
      ]
     },
     "metadata": {},
     "output_type": "display_data"
    },
    {
     "data": {
      "text/html": [
       "<pre>| 6.23s                               | 99.25            | 10033           |</pre>"
      ],
      "text/plain": [
       "| 6.23s                               | 99.25            | 10033           |"
      ]
     },
     "metadata": {},
     "output_type": "display_data"
    },
    {
     "data": {
      "text/html": [
       "<pre>| 7.72s                               | 100              | 10084           |</pre>"
      ],
      "text/plain": [
       "| 7.72s                               | 100              | 10084           |"
      ]
     },
     "metadata": {},
     "output_type": "display_data"
    },
    {
     "data": {
      "text/html": [
       "<pre>+-------------------------------------+------------------+-----------------+</pre>"
      ],
      "text/plain": [
       "+-------------------------------------+------------------+-----------------+"
      ]
     },
     "metadata": {},
     "output_type": "display_data"
    },
    {
     "data": {
      "text/html": [
       "<pre>Finalizing lookup tables.</pre>"
      ],
      "text/plain": [
       "Finalizing lookup tables."
      ]
     },
     "metadata": {},
     "output_type": "display_data"
    },
    {
     "data": {
      "text/html": [
       "<pre>Generating candidate set for working with new users.</pre>"
      ],
      "text/plain": [
       "Generating candidate set for working with new users."
      ]
     },
     "metadata": {},
     "output_type": "display_data"
    },
    {
     "data": {
      "text/html": [
       "<pre>Finished training in 8.82776s</pre>"
      ],
      "text/plain": [
       "Finished training in 8.82776s"
      ]
     },
     "metadata": {},
     "output_type": "display_data"
    }
   ],
   "source": [
    "model = graphlab.recommender.item_similarity_recommender.create(graphlab.SFrame(data=train[['rating']].reset_index()),\n",
    "                                                                user_id='userID',\n",
    "                                                                item_id='movieID',\n",
    "                                                                target='rating',\n",
    "                                                                similarity_type='cosine')"
   ]
  },
  {
   "cell_type": "code",
   "execution_count": 5,
   "metadata": {},
   "outputs": [
    {
     "data": {
      "text/html": [
       "<div>\n",
       "<table border=\"1\" class=\"dataframe\">\n",
       "  <thead>\n",
       "    <tr style=\"text-align: right;\">\n",
       "      <th></th>\n",
       "      <th></th>\n",
       "      <th>rating</th>\n",
       "      <th>timestamp</th>\n",
       "      <th>prediction</th>\n",
       "    </tr>\n",
       "    <tr>\n",
       "      <th>userID</th>\n",
       "      <th>movieID</th>\n",
       "      <th></th>\n",
       "      <th></th>\n",
       "      <th></th>\n",
       "    </tr>\n",
       "  </thead>\n",
       "  <tbody>\n",
       "    <tr>\n",
       "      <th rowspan=\"3\" valign=\"top\">75</th>\n",
       "      <th>2571</th>\n",
       "      <td>4.5</td>\n",
       "      <td>1.162161e+12</td>\n",
       "      <td>1.218895</td>\n",
       "    </tr>\n",
       "    <tr>\n",
       "      <th>5952</th>\n",
       "      <td>3.5</td>\n",
       "      <td>1.162161e+12</td>\n",
       "      <td>1.133859</td>\n",
       "    </tr>\n",
       "    <tr>\n",
       "      <th>7153</th>\n",
       "      <td>3.5</td>\n",
       "      <td>1.162161e+12</td>\n",
       "      <td>0.951866</td>\n",
       "    </tr>\n",
       "    <tr>\n",
       "      <th rowspan=\"2\" valign=\"top\">78</th>\n",
       "      <th>8400</th>\n",
       "      <td>4.5</td>\n",
       "      <td>1.177224e+12</td>\n",
       "      <td>0.002233</td>\n",
       "    </tr>\n",
       "    <tr>\n",
       "      <th>44694</th>\n",
       "      <td>2.0</td>\n",
       "      <td>1.179550e+12</td>\n",
       "      <td>0.005015</td>\n",
       "    </tr>\n",
       "  </tbody>\n",
       "</table>\n",
       "</div>"
      ],
      "text/plain": [
       "                rating     timestamp  prediction\n",
       "userID movieID                                  \n",
       "75     2571        4.5  1.162161e+12    1.218895\n",
       "       5952        3.5  1.162161e+12    1.133859\n",
       "       7153        3.5  1.162161e+12    0.951866\n",
       "78     8400        4.5  1.177224e+12    0.002233\n",
       "       44694       2.0  1.179550e+12    0.005015"
      ]
     },
     "execution_count": 5,
     "metadata": {},
     "output_type": "execute_result"
    }
   ],
   "source": [
    "values = pd.concat([test, unknown])\n",
    "values['prediction'] = model.predict(graphlab.SFrame(data=values.reset_index()))\n",
    "\n",
    "values.head()"
   ]
  },
  {
   "cell_type": "code",
   "execution_count": 8,
   "metadata": {},
   "outputs": [
    {
     "name": "stdout",
     "output_type": "stream",
     "text": [
      "MAP: 0.021555\n",
      "RMSE: 0.083389\n"
     ]
    }
   ],
   "source": [
    "print('MAP: %f' % map_metric(values))\n",
    "print('RMSE: %f' % rmse_metric(values))"
   ]
  },
  {
   "cell_type": "markdown",
   "metadata": {},
   "source": [
    "### Pearson"
   ]
  },
  {
   "cell_type": "code",
   "execution_count": 4,
   "metadata": {},
   "outputs": [
    {
     "data": {
      "text/html": [
       "<pre>Recsys training: model = item_similarity</pre>"
      ],
      "text/plain": [
       "Recsys training: model = item_similarity"
      ]
     },
     "metadata": {},
     "output_type": "display_data"
    },
    {
     "data": {
      "text/html": [
       "<pre>Preparing data set.</pre>"
      ],
      "text/plain": [
       "Preparing data set."
      ]
     },
     "metadata": {},
     "output_type": "display_data"
    },
    {
     "data": {
      "text/html": [
       "<pre>    Data has 849256 observations with 2113 users and 10084 items.</pre>"
      ],
      "text/plain": [
       "    Data has 849256 observations with 2113 users and 10084 items."
      ]
     },
     "metadata": {},
     "output_type": "display_data"
    },
    {
     "data": {
      "text/html": [
       "<pre>    Data prepared in: 1.18255s</pre>"
      ],
      "text/plain": [
       "    Data prepared in: 1.18255s"
      ]
     },
     "metadata": {},
     "output_type": "display_data"
    },
    {
     "data": {
      "text/html": [
       "<pre>Training model from provided data.</pre>"
      ],
      "text/plain": [
       "Training model from provided data."
      ]
     },
     "metadata": {},
     "output_type": "display_data"
    },
    {
     "data": {
      "text/html": [
       "<pre>Gathering per-item and per-user statistics.</pre>"
      ],
      "text/plain": [
       "Gathering per-item and per-user statistics."
      ]
     },
     "metadata": {},
     "output_type": "display_data"
    },
    {
     "data": {
      "text/html": [
       "<pre>+--------------------------------+------------+</pre>"
      ],
      "text/plain": [
       "+--------------------------------+------------+"
      ]
     },
     "metadata": {},
     "output_type": "display_data"
    },
    {
     "data": {
      "text/html": [
       "<pre>| Elapsed Time (Item Statistics) | % Complete |</pre>"
      ],
      "text/plain": [
       "| Elapsed Time (Item Statistics) | % Complete |"
      ]
     },
     "metadata": {},
     "output_type": "display_data"
    },
    {
     "data": {
      "text/html": [
       "<pre>+--------------------------------+------------+</pre>"
      ],
      "text/plain": [
       "+--------------------------------+------------+"
      ]
     },
     "metadata": {},
     "output_type": "display_data"
    },
    {
     "data": {
      "text/html": [
       "<pre>| 106.62ms                       | 47.25      |</pre>"
      ],
      "text/plain": [
       "| 106.62ms                       | 47.25      |"
      ]
     },
     "metadata": {},
     "output_type": "display_data"
    },
    {
     "data": {
      "text/html": [
       "<pre>| 146.322ms                      | 100        |</pre>"
      ],
      "text/plain": [
       "| 146.322ms                      | 100        |"
      ]
     },
     "metadata": {},
     "output_type": "display_data"
    },
    {
     "data": {
      "text/html": [
       "<pre>+--------------------------------+------------+</pre>"
      ],
      "text/plain": [
       "+--------------------------------+------------+"
      ]
     },
     "metadata": {},
     "output_type": "display_data"
    },
    {
     "data": {
      "text/html": [
       "<pre>Setting up lookup tables.</pre>"
      ],
      "text/plain": [
       "Setting up lookup tables."
      ]
     },
     "metadata": {},
     "output_type": "display_data"
    },
    {
     "data": {
      "text/html": [
       "<pre>Processing data in one pass using dense lookup tables.</pre>"
      ],
      "text/plain": [
       "Processing data in one pass using dense lookup tables."
      ]
     },
     "metadata": {},
     "output_type": "display_data"
    },
    {
     "data": {
      "text/html": [
       "<pre>+-------------------------------------+------------------+-----------------+</pre>"
      ],
      "text/plain": [
       "+-------------------------------------+------------------+-----------------+"
      ]
     },
     "metadata": {},
     "output_type": "display_data"
    },
    {
     "data": {
      "text/html": [
       "<pre>| Elapsed Time (Constructing Lookups) | Total % Complete | Items Processed |</pre>"
      ],
      "text/plain": [
       "| Elapsed Time (Constructing Lookups) | Total % Complete | Items Processed |"
      ]
     },
     "metadata": {},
     "output_type": "display_data"
    },
    {
     "data": {
      "text/html": [
       "<pre>+-------------------------------------+------------------+-----------------+</pre>"
      ],
      "text/plain": [
       "+-------------------------------------+------------------+-----------------+"
      ]
     },
     "metadata": {},
     "output_type": "display_data"
    },
    {
     "data": {
      "text/html": [
       "<pre>| 409.859ms                           | 0                | 0               |</pre>"
      ],
      "text/plain": [
       "| 409.859ms                           | 0                | 0               |"
      ]
     },
     "metadata": {},
     "output_type": "display_data"
    },
    {
     "data": {
      "text/html": [
       "<pre>| 1.42s                               | 8                | 826             |</pre>"
      ],
      "text/plain": [
       "| 1.42s                               | 8                | 826             |"
      ]
     },
     "metadata": {},
     "output_type": "display_data"
    },
    {
     "data": {
      "text/html": [
       "<pre>| 2.41s                               | 16.25            | 1642            |</pre>"
      ],
      "text/plain": [
       "| 2.41s                               | 16.25            | 1642            |"
      ]
     },
     "metadata": {},
     "output_type": "display_data"
    },
    {
     "data": {
      "text/html": [
       "<pre>| 3.41s                               | 24.75            | 2501            |</pre>"
      ],
      "text/plain": [
       "| 3.41s                               | 24.75            | 2501            |"
      ]
     },
     "metadata": {},
     "output_type": "display_data"
    },
    {
     "data": {
      "text/html": [
       "<pre>| 4.41s                               | 34.75            | 3527            |</pre>"
      ],
      "text/plain": [
       "| 4.41s                               | 34.75            | 3527            |"
      ]
     },
     "metadata": {},
     "output_type": "display_data"
    },
    {
     "data": {
      "text/html": [
       "<pre>| 5.41s                               | 39.5             | 3995            |</pre>"
      ],
      "text/plain": [
       "| 5.41s                               | 39.5             | 3995            |"
      ]
     },
     "metadata": {},
     "output_type": "display_data"
    },
    {
     "data": {
      "text/html": [
       "<pre>| 6.41s                               | 48.5             | 4903            |</pre>"
      ],
      "text/plain": [
       "| 6.41s                               | 48.5             | 4903            |"
      ]
     },
     "metadata": {},
     "output_type": "display_data"
    },
    {
     "data": {
      "text/html": [
       "<pre>| 7.41s                               | 56.5             | 5716            |</pre>"
      ],
      "text/plain": [
       "| 7.41s                               | 56.5             | 5716            |"
      ]
     },
     "metadata": {},
     "output_type": "display_data"
    },
    {
     "data": {
      "text/html": [
       "<pre>| 8.42s                               | 63               | 6358            |</pre>"
      ],
      "text/plain": [
       "| 8.42s                               | 63               | 6358            |"
      ]
     },
     "metadata": {},
     "output_type": "display_data"
    },
    {
     "data": {
      "text/html": [
       "<pre>| 9.41s                               | 67               | 6775            |</pre>"
      ],
      "text/plain": [
       "| 9.41s                               | 67               | 6775            |"
      ]
     },
     "metadata": {},
     "output_type": "display_data"
    },
    {
     "data": {
      "text/html": [
       "<pre>| 10.43s                              | 72.25            | 7292            |</pre>"
      ],
      "text/plain": [
       "| 10.43s                              | 72.25            | 7292            |"
      ]
     },
     "metadata": {},
     "output_type": "display_data"
    },
    {
     "data": {
      "text/html": [
       "<pre>| 11.42s                              | 77.25            | 7802            |</pre>"
      ],
      "text/plain": [
       "| 11.42s                              | 77.25            | 7802            |"
      ]
     },
     "metadata": {},
     "output_type": "display_data"
    },
    {
     "data": {
      "text/html": [
       "<pre>| 12.48s                              | 85.5             | 8643            |</pre>"
      ],
      "text/plain": [
       "| 12.48s                              | 85.5             | 8643            |"
      ]
     },
     "metadata": {},
     "output_type": "display_data"
    },
    {
     "data": {
      "text/html": [
       "<pre>| 13.42s                              | 93               | 9389            |</pre>"
      ],
      "text/plain": [
       "| 13.42s                              | 93               | 9389            |"
      ]
     },
     "metadata": {},
     "output_type": "display_data"
    },
    {
     "data": {
      "text/html": [
       "<pre>| 15.54s                              | 100              | 10084           |</pre>"
      ],
      "text/plain": [
       "| 15.54s                              | 100              | 10084           |"
      ]
     },
     "metadata": {},
     "output_type": "display_data"
    },
    {
     "data": {
      "text/html": [
       "<pre>+-------------------------------------+------------------+-----------------+</pre>"
      ],
      "text/plain": [
       "+-------------------------------------+------------------+-----------------+"
      ]
     },
     "metadata": {},
     "output_type": "display_data"
    },
    {
     "data": {
      "text/html": [
       "<pre>Finalizing lookup tables.</pre>"
      ],
      "text/plain": [
       "Finalizing lookup tables."
      ]
     },
     "metadata": {},
     "output_type": "display_data"
    },
    {
     "data": {
      "text/html": [
       "<pre>Generating candidate set for working with new users.</pre>"
      ],
      "text/plain": [
       "Generating candidate set for working with new users."
      ]
     },
     "metadata": {},
     "output_type": "display_data"
    },
    {
     "data": {
      "text/html": [
       "<pre>Finished training in 16.6363s</pre>"
      ],
      "text/plain": [
       "Finished training in 16.6363s"
      ]
     },
     "metadata": {},
     "output_type": "display_data"
    }
   ],
   "source": [
    "model = graphlab.recommender.item_similarity_recommender.create(graphlab.SFrame(data=train[['rating']].reset_index()),\n",
    "                                                                user_id='userID',\n",
    "                                                                item_id='movieID',\n",
    "                                                                target='rating',\n",
    "                                                                similarity_type='pearson')"
   ]
  },
  {
   "cell_type": "code",
   "execution_count": 5,
   "metadata": {},
   "outputs": [
    {
     "data": {
      "text/html": [
       "<div>\n",
       "<table border=\"1\" class=\"dataframe\">\n",
       "  <thead>\n",
       "    <tr style=\"text-align: right;\">\n",
       "      <th></th>\n",
       "      <th></th>\n",
       "      <th>rating</th>\n",
       "      <th>timestamp</th>\n",
       "      <th>prediction</th>\n",
       "    </tr>\n",
       "    <tr>\n",
       "      <th>userID</th>\n",
       "      <th>movieID</th>\n",
       "      <th></th>\n",
       "      <th></th>\n",
       "      <th></th>\n",
       "    </tr>\n",
       "  </thead>\n",
       "  <tbody>\n",
       "    <tr>\n",
       "      <th rowspan=\"3\" valign=\"top\">75</th>\n",
       "      <th>2571</th>\n",
       "      <td>4.5</td>\n",
       "      <td>1.162161e+12</td>\n",
       "      <td>4.179417</td>\n",
       "    </tr>\n",
       "    <tr>\n",
       "      <th>5952</th>\n",
       "      <td>3.5</td>\n",
       "      <td>1.162161e+12</td>\n",
       "      <td>4.024876</td>\n",
       "    </tr>\n",
       "    <tr>\n",
       "      <th>7153</th>\n",
       "      <td>3.5</td>\n",
       "      <td>1.162161e+12</td>\n",
       "      <td>4.088363</td>\n",
       "    </tr>\n",
       "    <tr>\n",
       "      <th rowspan=\"2\" valign=\"top\">78</th>\n",
       "      <th>8400</th>\n",
       "      <td>4.5</td>\n",
       "      <td>1.177224e+12</td>\n",
       "      <td>3.658329</td>\n",
       "    </tr>\n",
       "    <tr>\n",
       "      <th>44694</th>\n",
       "      <td>2.0</td>\n",
       "      <td>1.179550e+12</td>\n",
       "      <td>3.859334</td>\n",
       "    </tr>\n",
       "  </tbody>\n",
       "</table>\n",
       "</div>"
      ],
      "text/plain": [
       "                rating     timestamp  prediction\n",
       "userID movieID                                  \n",
       "75     2571        4.5  1.162161e+12    4.179417\n",
       "       5952        3.5  1.162161e+12    4.024876\n",
       "       7153        3.5  1.162161e+12    4.088363\n",
       "78     8400        4.5  1.177224e+12    3.658329\n",
       "       44694       2.0  1.179550e+12    3.859334"
      ]
     },
     "execution_count": 5,
     "metadata": {},
     "output_type": "execute_result"
    }
   ],
   "source": [
    "values = pd.concat([test, unknown])\n",
    "values['prediction'] = model.predict(graphlab.SFrame(data=values.reset_index()))\n",
    "\n",
    "values.head()"
   ]
  },
  {
   "cell_type": "code",
   "execution_count": 6,
   "metadata": {},
   "outputs": [
    {
     "name": "stdout",
     "output_type": "stream",
     "text": [
      "MAP: 0.001124\n",
      "RMSE: 3.263030\n"
     ]
    }
   ],
   "source": [
    "print('MAP: %f' % map_metric(values))\n",
    "print('RMSE: %f' % rmse_metric(values))"
   ]
  },
  {
   "cell_type": "markdown",
   "metadata": {},
   "source": [
    "# Разреженный SVD"
   ]
  },
  {
   "cell_type": "markdown",
   "metadata": {},
   "source": [
    "__Задание:__ Разложите матрицу рейтингов с помощью разреженного SVD и, восстановив ее, получите предсказания рейтингов для всех пар пользователь-объект (этот метод, при котором неизвестные рейтинги заполняются нулями, а затем восстанавливаются с помощью SVD, называется PureSVD). Рассмотрите как минимум 10 различных значений ранга разложения. Оцените качество рекомендаций, используя описанные выше метрики. Для обеих метрик постройте графики зависимости качества алгоритма от выбранного ранга разложения. Как значение ранга влияет на метрики? Не забывайте делать аргументированные выводы на основании полученных результатов."
   ]
  },
  {
   "cell_type": "code",
   "execution_count": null,
   "metadata": {
    "collapsed": true
   },
   "outputs": [],
   "source": [
    "def run_svd(n_components):\n",
    "    global R\n",
    "    model = TruncatedSVD(n_components=10)\n",
    "\n",
    "    model.fit(R)\n",
    "    new_R = pd.DataFrame(data=np.dot(model.transform(R), model.components_),\n",
    "                         index=R.index,\n",
    "                         columns=R.columns)\n",
    "    new_R = new_R.stack()\n",
    "    map_m = map_metric(new_R)\n",
    "    rmse_m = rmse_metric(new_R)\n",
    "    print('I: %i\\tMAP: %f\\tRMSE: %f' % (i, map_m, rmse_m))\n",
    "    return (n_components, map_m, rmse_m)"
   ]
  },
  {
   "cell_type": "code",
   "execution_count": null,
   "metadata": {
    "collapsed": true
   },
   "outputs": [],
   "source": [
    "xs, ys, zs = [], [], []\n",
    "\n",
    "for i in range(5, 101, 5):\n",
    "    x, y, z = run_svd(i)\n",
    "    xs.append(x)\n",
    "    ys.append(y)\n",
    "    zs.append(z)"
   ]
  },
  {
   "cell_type": "code",
   "execution_count": 8,
   "metadata": {},
   "outputs": [
    {
     "data": {
      "text/plain": [
       "<matplotlib.text.Text at 0x7fb8d905fed0>"
      ]
     },
     "execution_count": 8,
     "metadata": {},
     "output_type": "execute_result"
    },
    {
     "data": {
      "image/png": "[encoded data removed]",
      "text/plain": [
       "<matplotlib.figure.Figure at 0x7fb914b115d0>"
      ]
     },
     "metadata": {},
     "output_type": "display_data"
    }
   ],
   "source": [
    "plt.plot(xs, ys, xs, zs)\n",
    "plt.xlabel('n_components')\n",
    "plt.ylabel('MAP')"
   ]
  },
  {
   "cell_type": "code",
   "execution_count": 11,
   "metadata": {},
   "outputs": [
    {
     "data": {
      "text/plain": [
       "<matplotlib.text.Text at 0x7fb8d8ea4b10>"
      ]
     },
     "execution_count": 11,
     "metadata": {},
     "output_type": "execute_result"
    },
    {
     "data": {
      "image/png": "[encoded data removed]",
      "text/plain": [
       "<matplotlib.figure.Figure at 0x7fb8d8eda150>"
      ]
     },
     "metadata": {},
     "output_type": "display_data"
    }
   ],
   "source": [
    "plt.plot(xs, zs)\n",
    "plt.xlabel('n_components')\n",
    "plt.ylabel('RMSE')"
   ]
  }
 ],
 "metadata": {
  "kernelspec": {
   "display_name": "Python [conda env:graphlab]",
   "language": "python",
   "name": "conda-env-graphlab-py"
  },
  "language_info": {
   "codemirror_mode": {
    "name": "ipython",
    "version": 2
   },
   "file_extension": ".py",
   "mimetype": "text/x-python",
   "name": "python",
   "nbconvert_exporter": "python",
   "pygments_lexer": "ipython2",
   "version": "2.7.13"
  }
 },
 "nbformat": 4,
 "nbformat_minor": 2
}
