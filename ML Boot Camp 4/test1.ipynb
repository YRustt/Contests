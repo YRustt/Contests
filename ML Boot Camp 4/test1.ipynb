{
 "cells": [
  {
   "cell_type": "code",
   "execution_count": 145,
   "metadata": {
    "collapsed": true
   },
   "outputs": [],
   "source": [
    "import warnings\n",
    "warnings.simplefilter('ignore')\n",
    "\n",
    "import matplotlib.pyplot as plt\n",
    "import seaborn\n",
    "\n",
    "%matplotlib inline\n",
    "\n",
    "import numpy as np\n",
    "import pandas as pd\n",
    "\n",
    "from sklearn.model_selection import train_test_split\n",
    "from sklearn.metrics import accuracy_score\n",
    "from sklearn.linear_model import SGDClassifier\n",
    "from sklearn.naive_bayes import MultinomialNB\n",
    "import xgboost as xgb"
   ]
  },
  {
   "cell_type": "code",
   "execution_count": 2,
   "metadata": {
    "collapsed": true
   },
   "outputs": [],
   "source": [
    "x_train = pd.read_csv('data/x_train.csv', sep=';', header=None)\n",
    "y_train = pd.read_csv('data/y_train.csv', sep=';', header=None)\n",
    "x_test = pd.read_csv('data/x_test.csv', sep=';', header=None)"
   ]
  },
  {
   "cell_type": "code",
   "execution_count": 3,
   "metadata": {},
   "outputs": [
    {
     "data": {
      "text/plain": [
       "<matplotlib.axes._subplots.AxesSubplot at 0x7f425a3a2a20>"
      ]
     },
     "execution_count": 3,
     "metadata": {},
     "output_type": "execute_result"
    },
    {
     "data": {
      "image/png": "[encoded data removed]",
      "text/plain": [
       "<matplotlib.figure.Figure at 0x7f428c8bf898>"
      ]
     },
     "metadata": {},
     "output_type": "display_data"
    }
   ],
   "source": [
    "y_train.plot(kind='hist')"
   ]
  },
  {
   "cell_type": "code",
   "execution_count": 4,
   "metadata": {},
   "outputs": [
    {
     "data": {
      "text/html": [
       "<div>\n",
       "<table border=\"1\" class=\"dataframe\">\n",
       "  <thead>\n",
       "    <tr style=\"text-align: right;\">\n",
       "      <th></th>\n",
       "      <th>0</th>\n",
       "      <th>1</th>\n",
       "      <th>2</th>\n",
       "      <th>3</th>\n",
       "      <th>4</th>\n",
       "      <th>5</th>\n",
       "      <th>6</th>\n",
       "      <th>7</th>\n",
       "      <th>8</th>\n",
       "      <th>9</th>\n",
       "      <th>...</th>\n",
       "      <th>213</th>\n",
       "      <th>214</th>\n",
       "      <th>215</th>\n",
       "      <th>216</th>\n",
       "      <th>217</th>\n",
       "      <th>218</th>\n",
       "      <th>219</th>\n",
       "      <th>220</th>\n",
       "      <th>221</th>\n",
       "      <th>222</th>\n",
       "    </tr>\n",
       "  </thead>\n",
       "  <tbody>\n",
       "    <tr>\n",
       "      <th>count</th>\n",
       "      <td>3489.000000</td>\n",
       "      <td>3489.000000</td>\n",
       "      <td>3489.000000</td>\n",
       "      <td>3489.000000</td>\n",
       "      <td>3489.000000</td>\n",
       "      <td>3489.000000</td>\n",
       "      <td>3489.000000</td>\n",
       "      <td>3489.000000</td>\n",
       "      <td>3489.000000</td>\n",
       "      <td>3489.000000</td>\n",
       "      <td>...</td>\n",
       "      <td>3489.000000</td>\n",
       "      <td>3489.000000</td>\n",
       "      <td>3489.000000</td>\n",
       "      <td>3489.000000</td>\n",
       "      <td>3489.000000</td>\n",
       "      <td>3489.000000</td>\n",
       "      <td>3489.000000</td>\n",
       "      <td>3489.000000</td>\n",
       "      <td>3489.000000</td>\n",
       "      <td>3489.000000</td>\n",
       "    </tr>\n",
       "    <tr>\n",
       "      <th>mean</th>\n",
       "      <td>0.494704</td>\n",
       "      <td>0.516275</td>\n",
       "      <td>0.509534</td>\n",
       "      <td>0.496653</td>\n",
       "      <td>0.498532</td>\n",
       "      <td>0.511081</td>\n",
       "      <td>0.489582</td>\n",
       "      <td>0.517844</td>\n",
       "      <td>0.501379</td>\n",
       "      <td>3.018297</td>\n",
       "      <td>...</td>\n",
       "      <td>0.506315</td>\n",
       "      <td>0.488314</td>\n",
       "      <td>0.508792</td>\n",
       "      <td>0.516152</td>\n",
       "      <td>0.491506</td>\n",
       "      <td>0.520646</td>\n",
       "      <td>0.513619</td>\n",
       "      <td>0.491074</td>\n",
       "      <td>0.487143</td>\n",
       "      <td>0.494403</td>\n",
       "    </tr>\n",
       "    <tr>\n",
       "      <th>std</th>\n",
       "      <td>1.344987</td>\n",
       "      <td>1.517720</td>\n",
       "      <td>1.944892</td>\n",
       "      <td>0.304816</td>\n",
       "      <td>0.288103</td>\n",
       "      <td>2.168340</td>\n",
       "      <td>1.745869</td>\n",
       "      <td>2.061410</td>\n",
       "      <td>0.455960</td>\n",
       "      <td>1.852894</td>\n",
       "      <td>...</td>\n",
       "      <td>1.823615</td>\n",
       "      <td>2.066324</td>\n",
       "      <td>2.231573</td>\n",
       "      <td>1.893010</td>\n",
       "      <td>0.663052</td>\n",
       "      <td>2.859162</td>\n",
       "      <td>1.640211</td>\n",
       "      <td>2.798898</td>\n",
       "      <td>0.759490</td>\n",
       "      <td>0.504922</td>\n",
       "    </tr>\n",
       "    <tr>\n",
       "      <th>min</th>\n",
       "      <td>-2.218093</td>\n",
       "      <td>-3.049841</td>\n",
       "      <td>-3.644502</td>\n",
       "      <td>-0.103472</td>\n",
       "      <td>0.000202</td>\n",
       "      <td>-6.311034</td>\n",
       "      <td>-3.112771</td>\n",
       "      <td>-3.924850</td>\n",
       "      <td>-0.567797</td>\n",
       "      <td>-1.517063</td>\n",
       "      <td>...</td>\n",
       "      <td>-4.907867</td>\n",
       "      <td>-5.978127</td>\n",
       "      <td>-6.095323</td>\n",
       "      <td>-3.873535</td>\n",
       "      <td>-1.449840</td>\n",
       "      <td>-5.190807</td>\n",
       "      <td>-4.348962</td>\n",
       "      <td>-6.242872</td>\n",
       "      <td>-1.650250</td>\n",
       "      <td>-0.805370</td>\n",
       "    </tr>\n",
       "    <tr>\n",
       "      <th>25%</th>\n",
       "      <td>-0.589310</td>\n",
       "      <td>-0.527882</td>\n",
       "      <td>-0.794563</td>\n",
       "      <td>0.237865</td>\n",
       "      <td>0.256838</td>\n",
       "      <td>-1.053578</td>\n",
       "      <td>-0.971074</td>\n",
       "      <td>-0.899595</td>\n",
       "      <td>0.181897</td>\n",
       "      <td>1.547495</td>\n",
       "      <td>...</td>\n",
       "      <td>-0.838412</td>\n",
       "      <td>-1.013490</td>\n",
       "      <td>-1.243487</td>\n",
       "      <td>-0.799890</td>\n",
       "      <td>0.035183</td>\n",
       "      <td>-1.551566</td>\n",
       "      <td>-0.692253</td>\n",
       "      <td>-1.507348</td>\n",
       "      <td>-0.081461</td>\n",
       "      <td>0.125037</td>\n",
       "    </tr>\n",
       "    <tr>\n",
       "      <th>50%</th>\n",
       "      <td>0.280815</td>\n",
       "      <td>0.596674</td>\n",
       "      <td>0.590149</td>\n",
       "      <td>0.497017</td>\n",
       "      <td>0.499785</td>\n",
       "      <td>0.473108</td>\n",
       "      <td>0.188150</td>\n",
       "      <td>0.578649</td>\n",
       "      <td>0.473828</td>\n",
       "      <td>2.731865</td>\n",
       "      <td>...</td>\n",
       "      <td>0.313560</td>\n",
       "      <td>0.275163</td>\n",
       "      <td>0.153479</td>\n",
       "      <td>0.545157</td>\n",
       "      <td>0.458264</td>\n",
       "      <td>0.357019</td>\n",
       "      <td>0.398614</td>\n",
       "      <td>0.095635</td>\n",
       "      <td>0.486496</td>\n",
       "      <td>0.457783</td>\n",
       "    </tr>\n",
       "    <tr>\n",
       "      <th>75%</th>\n",
       "      <td>1.416563</td>\n",
       "      <td>1.605525</td>\n",
       "      <td>1.862141</td>\n",
       "      <td>0.748879</td>\n",
       "      <td>0.749846</td>\n",
       "      <td>2.052051</td>\n",
       "      <td>1.711705</td>\n",
       "      <td>1.955837</td>\n",
       "      <td>0.778593</td>\n",
       "      <td>4.174919</td>\n",
       "      <td>...</td>\n",
       "      <td>1.785158</td>\n",
       "      <td>1.845097</td>\n",
       "      <td>2.052449</td>\n",
       "      <td>1.817626</td>\n",
       "      <td>0.903188</td>\n",
       "      <td>2.460358</td>\n",
       "      <td>1.660167</td>\n",
       "      <td>2.295469</td>\n",
       "      <td>1.039252</td>\n",
       "      <td>0.821512</td>\n",
       "    </tr>\n",
       "    <tr>\n",
       "      <th>max</th>\n",
       "      <td>4.744402</td>\n",
       "      <td>6.223512</td>\n",
       "      <td>8.318870</td>\n",
       "      <td>2.032806</td>\n",
       "      <td>0.999830</td>\n",
       "      <td>10.749737</td>\n",
       "      <td>6.003011</td>\n",
       "      <td>9.384850</td>\n",
       "      <td>3.594312</td>\n",
       "      <td>10.741713</td>\n",
       "      <td>...</td>\n",
       "      <td>6.356287</td>\n",
       "      <td>8.144853</td>\n",
       "      <td>8.391595</td>\n",
       "      <td>8.026214</td>\n",
       "      <td>3.419200</td>\n",
       "      <td>16.147908</td>\n",
       "      <td>8.265469</td>\n",
       "      <td>15.120344</td>\n",
       "      <td>3.239605</td>\n",
       "      <td>2.108298</td>\n",
       "    </tr>\n",
       "  </tbody>\n",
       "</table>\n",
       "<p>8 rows × 223 columns</p>\n",
       "</div>"
      ],
      "text/plain": [
       "               0            1            2            3            4    \\\n",
       "count  3489.000000  3489.000000  3489.000000  3489.000000  3489.000000   \n",
       "mean      0.494704     0.516275     0.509534     0.496653     0.498532   \n",
       "std       1.344987     1.517720     1.944892     0.304816     0.288103   \n",
       "min      -2.218093    -3.049841    -3.644502    -0.103472     0.000202   \n",
       "25%      -0.589310    -0.527882    -0.794563     0.237865     0.256838   \n",
       "50%       0.280815     0.596674     0.590149     0.497017     0.499785   \n",
       "75%       1.416563     1.605525     1.862141     0.748879     0.749846   \n",
       "max       4.744402     6.223512     8.318870     2.032806     0.999830   \n",
       "\n",
       "               5            6            7            8            9    \\\n",
       "count  3489.000000  3489.000000  3489.000000  3489.000000  3489.000000   \n",
       "mean      0.511081     0.489582     0.517844     0.501379     3.018297   \n",
       "std       2.168340     1.745869     2.061410     0.455960     1.852894   \n",
       "min      -6.311034    -3.112771    -3.924850    -0.567797    -1.517063   \n",
       "25%      -1.053578    -0.971074    -0.899595     0.181897     1.547495   \n",
       "50%       0.473108     0.188150     0.578649     0.473828     2.731865   \n",
       "75%       2.052051     1.711705     1.955837     0.778593     4.174919   \n",
       "max      10.749737     6.003011     9.384850     3.594312    10.741713   \n",
       "\n",
       "          ...               213          214          215          216  \\\n",
       "count     ...       3489.000000  3489.000000  3489.000000  3489.000000   \n",
       "mean      ...          0.506315     0.488314     0.508792     0.516152   \n",
       "std       ...          1.823615     2.066324     2.231573     1.893010   \n",
       "min       ...         -4.907867    -5.978127    -6.095323    -3.873535   \n",
       "25%       ...         -0.838412    -1.013490    -1.243487    -0.799890   \n",
       "50%       ...          0.313560     0.275163     0.153479     0.545157   \n",
       "75%       ...          1.785158     1.845097     2.052449     1.817626   \n",
       "max       ...          6.356287     8.144853     8.391595     8.026214   \n",
       "\n",
       "               217          218          219          220          221  \\\n",
       "count  3489.000000  3489.000000  3489.000000  3489.000000  3489.000000   \n",
       "mean      0.491506     0.520646     0.513619     0.491074     0.487143   \n",
       "std       0.663052     2.859162     1.640211     2.798898     0.759490   \n",
       "min      -1.449840    -5.190807    -4.348962    -6.242872    -1.650250   \n",
       "25%       0.035183    -1.551566    -0.692253    -1.507348    -0.081461   \n",
       "50%       0.458264     0.357019     0.398614     0.095635     0.486496   \n",
       "75%       0.903188     2.460358     1.660167     2.295469     1.039252   \n",
       "max       3.419200    16.147908     8.265469    15.120344     3.239605   \n",
       "\n",
       "               222  \n",
       "count  3489.000000  \n",
       "mean      0.494403  \n",
       "std       0.504922  \n",
       "min      -0.805370  \n",
       "25%       0.125037  \n",
       "50%       0.457783  \n",
       "75%       0.821512  \n",
       "max       2.108298  \n",
       "\n",
       "[8 rows x 223 columns]"
      ]
     },
     "execution_count": 4,
     "metadata": {},
     "output_type": "execute_result"
    }
   ],
   "source": [
    "x_train.describe()"
   ]
  },
  {
   "cell_type": "code",
   "execution_count": 5,
   "metadata": {},
   "outputs": [
    {
     "data": {
      "text/html": [
       "<div>\n",
       "<table border=\"1\" class=\"dataframe\">\n",
       "  <thead>\n",
       "    <tr style=\"text-align: right;\">\n",
       "      <th></th>\n",
       "      <th>0</th>\n",
       "      <th>1</th>\n",
       "      <th>2</th>\n",
       "      <th>3</th>\n",
       "      <th>4</th>\n",
       "      <th>5</th>\n",
       "      <th>6</th>\n",
       "      <th>7</th>\n",
       "      <th>8</th>\n",
       "      <th>9</th>\n",
       "      <th>...</th>\n",
       "      <th>213</th>\n",
       "      <th>214</th>\n",
       "      <th>215</th>\n",
       "      <th>216</th>\n",
       "      <th>217</th>\n",
       "      <th>218</th>\n",
       "      <th>219</th>\n",
       "      <th>220</th>\n",
       "      <th>221</th>\n",
       "      <th>222</th>\n",
       "    </tr>\n",
       "  </thead>\n",
       "  <tbody>\n",
       "    <tr>\n",
       "      <th>count</th>\n",
       "      <td>2327.000000</td>\n",
       "      <td>2327.000000</td>\n",
       "      <td>2327.000000</td>\n",
       "      <td>2327.000000</td>\n",
       "      <td>2327.000000</td>\n",
       "      <td>2327.000000</td>\n",
       "      <td>2327.000000</td>\n",
       "      <td>2327.000000</td>\n",
       "      <td>2327.000000</td>\n",
       "      <td>2327.000000</td>\n",
       "      <td>...</td>\n",
       "      <td>2327.000000</td>\n",
       "      <td>2327.000000</td>\n",
       "      <td>2327.000000</td>\n",
       "      <td>2327.000000</td>\n",
       "      <td>2327.000000</td>\n",
       "      <td>2327.000000</td>\n",
       "      <td>2327.000000</td>\n",
       "      <td>2327.000000</td>\n",
       "      <td>2327.000000</td>\n",
       "      <td>2327.000000</td>\n",
       "    </tr>\n",
       "    <tr>\n",
       "      <th>mean</th>\n",
       "      <td>0.510528</td>\n",
       "      <td>0.490026</td>\n",
       "      <td>0.482277</td>\n",
       "      <td>0.506187</td>\n",
       "      <td>0.498081</td>\n",
       "      <td>0.486373</td>\n",
       "      <td>0.517432</td>\n",
       "      <td>0.491439</td>\n",
       "      <td>0.489777</td>\n",
       "      <td>3.043251</td>\n",
       "      <td>...</td>\n",
       "      <td>0.499900</td>\n",
       "      <td>0.524017</td>\n",
       "      <td>0.482916</td>\n",
       "      <td>0.478594</td>\n",
       "      <td>0.507929</td>\n",
       "      <td>0.478470</td>\n",
       "      <td>0.477087</td>\n",
       "      <td>0.506017</td>\n",
       "      <td>0.507248</td>\n",
       "      <td>0.505674</td>\n",
       "    </tr>\n",
       "    <tr>\n",
       "      <th>std</th>\n",
       "      <td>1.358122</td>\n",
       "      <td>1.552385</td>\n",
       "      <td>1.971012</td>\n",
       "      <td>0.303713</td>\n",
       "      <td>0.286979</td>\n",
       "      <td>2.268887</td>\n",
       "      <td>1.781170</td>\n",
       "      <td>2.088398</td>\n",
       "      <td>0.463235</td>\n",
       "      <td>1.899083</td>\n",
       "      <td>...</td>\n",
       "      <td>1.890823</td>\n",
       "      <td>2.092815</td>\n",
       "      <td>2.275297</td>\n",
       "      <td>1.924913</td>\n",
       "      <td>0.741653</td>\n",
       "      <td>2.844768</td>\n",
       "      <td>1.650048</td>\n",
       "      <td>2.892027</td>\n",
       "      <td>0.796203</td>\n",
       "      <td>0.507939</td>\n",
       "    </tr>\n",
       "    <tr>\n",
       "      <th>min</th>\n",
       "      <td>-1.955463</td>\n",
       "      <td>-3.028497</td>\n",
       "      <td>-3.635960</td>\n",
       "      <td>-0.072964</td>\n",
       "      <td>0.000071</td>\n",
       "      <td>-5.172199</td>\n",
       "      <td>-2.819717</td>\n",
       "      <td>-3.938980</td>\n",
       "      <td>-0.635150</td>\n",
       "      <td>-1.856706</td>\n",
       "      <td>...</td>\n",
       "      <td>-3.751087</td>\n",
       "      <td>-4.280036</td>\n",
       "      <td>-4.608529</td>\n",
       "      <td>-3.816419</td>\n",
       "      <td>-1.451155</td>\n",
       "      <td>-5.066616</td>\n",
       "      <td>-3.875628</td>\n",
       "      <td>-6.320384</td>\n",
       "      <td>-1.432893</td>\n",
       "      <td>-0.786137</td>\n",
       "    </tr>\n",
       "    <tr>\n",
       "      <th>25%</th>\n",
       "      <td>-0.625154</td>\n",
       "      <td>-0.590788</td>\n",
       "      <td>-0.891531</td>\n",
       "      <td>0.249451</td>\n",
       "      <td>0.252580</td>\n",
       "      <td>-1.131606</td>\n",
       "      <td>-0.957537</td>\n",
       "      <td>-0.994070</td>\n",
       "      <td>0.160658</td>\n",
       "      <td>1.471922</td>\n",
       "      <td>...</td>\n",
       "      <td>-0.884567</td>\n",
       "      <td>-1.055099</td>\n",
       "      <td>-1.281205</td>\n",
       "      <td>-0.905077</td>\n",
       "      <td>0.025177</td>\n",
       "      <td>-1.535533</td>\n",
       "      <td>-0.746545</td>\n",
       "      <td>-1.514193</td>\n",
       "      <td>-0.082791</td>\n",
       "      <td>0.141378</td>\n",
       "    </tr>\n",
       "    <tr>\n",
       "      <th>50%</th>\n",
       "      <td>0.288394</td>\n",
       "      <td>0.531141</td>\n",
       "      <td>0.551014</td>\n",
       "      <td>0.504986</td>\n",
       "      <td>0.500146</td>\n",
       "      <td>0.435753</td>\n",
       "      <td>0.247353</td>\n",
       "      <td>0.514059</td>\n",
       "      <td>0.466462</td>\n",
       "      <td>2.749847</td>\n",
       "      <td>...</td>\n",
       "      <td>0.314469</td>\n",
       "      <td>0.383986</td>\n",
       "      <td>0.094800</td>\n",
       "      <td>0.491902</td>\n",
       "      <td>0.480649</td>\n",
       "      <td>0.401905</td>\n",
       "      <td>0.369046</td>\n",
       "      <td>0.144737</td>\n",
       "      <td>0.506844</td>\n",
       "      <td>0.474373</td>\n",
       "    </tr>\n",
       "    <tr>\n",
       "      <th>75%</th>\n",
       "      <td>1.435157</td>\n",
       "      <td>1.615839</td>\n",
       "      <td>1.907915</td>\n",
       "      <td>0.761713</td>\n",
       "      <td>0.741685</td>\n",
       "      <td>2.049982</td>\n",
       "      <td>1.735638</td>\n",
       "      <td>1.944287</td>\n",
       "      <td>0.759888</td>\n",
       "      <td>4.304717</td>\n",
       "      <td>...</td>\n",
       "      <td>1.786642</td>\n",
       "      <td>1.901196</td>\n",
       "      <td>2.103036</td>\n",
       "      <td>1.839606</td>\n",
       "      <td>0.913976</td>\n",
       "      <td>2.417233</td>\n",
       "      <td>1.572980</td>\n",
       "      <td>2.397547</td>\n",
       "      <td>1.047549</td>\n",
       "      <td>0.818169</td>\n",
       "    </tr>\n",
       "    <tr>\n",
       "      <th>max</th>\n",
       "      <td>5.555919</td>\n",
       "      <td>5.955184</td>\n",
       "      <td>6.584223</td>\n",
       "      <td>1.841219</td>\n",
       "      <td>0.999688</td>\n",
       "      <td>26.188441</td>\n",
       "      <td>7.375343</td>\n",
       "      <td>7.454843</td>\n",
       "      <td>3.995325</td>\n",
       "      <td>10.310548</td>\n",
       "      <td>...</td>\n",
       "      <td>22.937762</td>\n",
       "      <td>7.827532</td>\n",
       "      <td>19.464380</td>\n",
       "      <td>7.194969</td>\n",
       "      <td>12.365040</td>\n",
       "      <td>10.338484</td>\n",
       "      <td>6.773294</td>\n",
       "      <td>14.599358</td>\n",
       "      <td>9.423405</td>\n",
       "      <td>2.891295</td>\n",
       "    </tr>\n",
       "  </tbody>\n",
       "</table>\n",
       "<p>8 rows × 223 columns</p>\n",
       "</div>"
      ],
      "text/plain": [
       "               0            1            2            3            4    \\\n",
       "count  2327.000000  2327.000000  2327.000000  2327.000000  2327.000000   \n",
       "mean      0.510528     0.490026     0.482277     0.506187     0.498081   \n",
       "std       1.358122     1.552385     1.971012     0.303713     0.286979   \n",
       "min      -1.955463    -3.028497    -3.635960    -0.072964     0.000071   \n",
       "25%      -0.625154    -0.590788    -0.891531     0.249451     0.252580   \n",
       "50%       0.288394     0.531141     0.551014     0.504986     0.500146   \n",
       "75%       1.435157     1.615839     1.907915     0.761713     0.741685   \n",
       "max       5.555919     5.955184     6.584223     1.841219     0.999688   \n",
       "\n",
       "               5            6            7            8            9    \\\n",
       "count  2327.000000  2327.000000  2327.000000  2327.000000  2327.000000   \n",
       "mean      0.486373     0.517432     0.491439     0.489777     3.043251   \n",
       "std       2.268887     1.781170     2.088398     0.463235     1.899083   \n",
       "min      -5.172199    -2.819717    -3.938980    -0.635150    -1.856706   \n",
       "25%      -1.131606    -0.957537    -0.994070     0.160658     1.471922   \n",
       "50%       0.435753     0.247353     0.514059     0.466462     2.749847   \n",
       "75%       2.049982     1.735638     1.944287     0.759888     4.304717   \n",
       "max      26.188441     7.375343     7.454843     3.995325    10.310548   \n",
       "\n",
       "          ...               213          214          215          216  \\\n",
       "count     ...       2327.000000  2327.000000  2327.000000  2327.000000   \n",
       "mean      ...          0.499900     0.524017     0.482916     0.478594   \n",
       "std       ...          1.890823     2.092815     2.275297     1.924913   \n",
       "min       ...         -3.751087    -4.280036    -4.608529    -3.816419   \n",
       "25%       ...         -0.884567    -1.055099    -1.281205    -0.905077   \n",
       "50%       ...          0.314469     0.383986     0.094800     0.491902   \n",
       "75%       ...          1.786642     1.901196     2.103036     1.839606   \n",
       "max       ...         22.937762     7.827532    19.464380     7.194969   \n",
       "\n",
       "               217          218          219          220          221  \\\n",
       "count  2327.000000  2327.000000  2327.000000  2327.000000  2327.000000   \n",
       "mean      0.507929     0.478470     0.477087     0.506017     0.507248   \n",
       "std       0.741653     2.844768     1.650048     2.892027     0.796203   \n",
       "min      -1.451155    -5.066616    -3.875628    -6.320384    -1.432893   \n",
       "25%       0.025177    -1.535533    -0.746545    -1.514193    -0.082791   \n",
       "50%       0.480649     0.401905     0.369046     0.144737     0.506844   \n",
       "75%       0.913976     2.417233     1.572980     2.397547     1.047549   \n",
       "max      12.365040    10.338484     6.773294    14.599358     9.423405   \n",
       "\n",
       "               222  \n",
       "count  2327.000000  \n",
       "mean      0.505674  \n",
       "std       0.507939  \n",
       "min      -0.786137  \n",
       "25%       0.141378  \n",
       "50%       0.474373  \n",
       "75%       0.818169  \n",
       "max       2.891295  \n",
       "\n",
       "[8 rows x 223 columns]"
      ]
     },
     "execution_count": 5,
     "metadata": {},
     "output_type": "execute_result"
    }
   ],
   "source": [
    " x_test.describe()"
   ]
  },
  {
   "cell_type": "code",
   "execution_count": 6,
   "metadata": {},
   "outputs": [
    {
     "data": {
      "text/plain": [
       "(array([ 0.08066829,  0.32725009,  0.2614568 ,  0.22999045,  0.17392313,\n",
       "         0.12643754,  0.09439907,  0.02975001,  0.00629327,  0.00114423]),\n",
       " array([-1.95546299, -1.20432476, -0.45318653,  0.2979517 ,  1.04908993,\n",
       "         1.80022817,  2.5513664 ,  3.30250463,  4.05364286,  4.80478109,\n",
       "         5.55591932]),\n",
       " <a list of 10 Patch objects>)"
      ]
     },
     "execution_count": 6,
     "metadata": {},
     "output_type": "execute_result"
    },
    {
     "data": {
      "image/png": "[encoded data removed]",
      "text/plain": [
       "<matplotlib.figure.Figure at 0x7f4255864320>"
      ]
     },
     "metadata": {},
     "output_type": "display_data"
    }
   ],
   "source": [
    "plt.hist(x_train[0], normed=True)\n",
    "plt.hist(x_test[0], normed=True)"
   ]
  },
  {
   "cell_type": "code",
   "execution_count": 7,
   "metadata": {},
   "outputs": [
    {
     "data": {
      "text/plain": [
       "(array([ 0.06075094,  0.1296339 ,  0.13633086,  0.23774188,  0.23774188,\n",
       "         0.1846446 ,  0.08801711,  0.031093  ,  0.00669695,  0.00047835]),\n",
       " array([-3.02849664, -2.13012855, -1.23176046, -0.33339237,  0.56497572,\n",
       "         1.46334381,  2.3617119 ,  3.26007999,  4.15844808,  5.05681617,\n",
       "         5.95518426]),\n",
       " <a list of 10 Patch objects>)"
      ]
     },
     "execution_count": 7,
     "metadata": {},
     "output_type": "execute_result"
    },
    {
     "data": {
      "image/png": "[encoded data removed]",
      "text/plain": [
       "<matplotlib.figure.Figure at 0x7f4255eaada0>"
      ]
     },
     "metadata": {},
     "output_type": "display_data"
    }
   ],
   "source": [
    "plt.hist(x_train[1], normed=True)\n",
    "plt.hist(x_test[1], normed=True)"
   ]
  },
  {
   "cell_type": "code",
   "execution_count": 8,
   "metadata": {},
   "outputs": [
    {
     "data": {
      "text/plain": [
       "(array([  9.96778355e-02,   2.53381058e-01,   1.08648841e-01,\n",
       "          1.59484537e-03,   3.98711342e-04,   0.00000000e+00,\n",
       "          0.00000000e+00,   0.00000000e+00,   0.00000000e+00,\n",
       "          1.99355671e-04]),\n",
       " array([ -2.81067085,  -0.65503686,   1.50059712,   3.65623111,\n",
       "          5.8118651 ,   7.96749909,  10.12313307,  12.27876706,\n",
       "         14.43440105,  16.59003503,  18.74566902]),\n",
       " <a list of 10 Patch objects>)"
      ]
     },
     "execution_count": 8,
     "metadata": {},
     "output_type": "execute_result"
    },
    {
     "data": {
      "image/png": "[encoded data removed]",
      "text/plain": [
       "<matplotlib.figure.Figure at 0x7f4255dd3198>"
      ]
     },
     "metadata": {},
     "output_type": "display_data"
    }
   ],
   "source": [
    "plt.hist(x_train[114], normed=True)\n",
    "plt.hist(x_test[114], normed=True)"
   ]
  },
  {
   "cell_type": "code",
   "execution_count": 9,
   "metadata": {},
   "outputs": [
    {
     "data": {
      "text/plain": [
       "(array([ 0.08096876,  0.        ,  0.83404987,  0.        ,  0.        ,\n",
       "         1.08985383,  0.        ,  0.4163084 ,  0.        ,  0.07881915]),\n",
       " array([ 0. ,  0.4,  0.8,  1.2,  1.6,  2. ,  2.4,  2.8,  3.2,  3.6,  4. ]),\n",
       " <a list of 10 Patch objects>)"
      ]
     },
     "execution_count": 9,
     "metadata": {},
     "output_type": "execute_result"
    },
    {
     "data": {
      "image/png": "[encoded data removed]",
      "text/plain": [
       "<matplotlib.figure.Figure at 0x7f42558cff60>"
      ]
     },
     "metadata": {},
     "output_type": "display_data"
    }
   ],
   "source": [
    "plt.hist(y_train[0], normed=True)"
   ]
  },
  {
   "cell_type": "code",
   "execution_count": 10,
   "metadata": {
    "collapsed": true
   },
   "outputs": [],
   "source": [
    "x_train, x_valid, y_train, y_valid = train_test_split(x_train, y_train, test_size=0.30)"
   ]
  },
  {
   "cell_type": "code",
   "execution_count": 139,
   "metadata": {},
   "outputs": [
    {
     "name": "stdout",
     "output_type": "stream",
     "text": [
      "train:  0.989762489762\n",
      "valid:  0.547277936963\n"
     ]
    }
   ],
   "source": [
    "cls_xgb = xgb.XGBClassifier(max_depth=6, \n",
    "                            learning_rate=0.05, \n",
    "                            reg_lambda=0.01, \n",
    "                            reg_alpha=0.01, \n",
    "                            objective=\"multi:softmax\",\n",
    "                            nthread=6)\n",
    "cls_xgb.fit(x_train, y_train)\n",
    "\n",
    "print('train: ', accuracy_score(y_train, cls_xgb.predict(x_train)))\n",
    "print('valid: ', accuracy_score(y_valid, cls_xgb.predict(x_valid)))"
   ]
  },
  {
   "cell_type": "code",
   "execution_count": 135,
   "metadata": {},
   "outputs": [
    {
     "name": "stdout",
     "output_type": "stream",
     "text": [
      "train:  0.406224406224\n",
      "valid:  0.404011461318\n"
     ]
    }
   ],
   "source": [
    "cls_sgd = SGDClassifier(loss=\"modified_huber\",\n",
    "                        penalty=\"l2\",\n",
    "                        alpha=0.1,\n",
    "                        shuffle=True,\n",
    "                        class_weight=dict(y_train[0].value_counts(normalize=True)),\n",
    "                        learning_rate=\"invscaling\",\n",
    "                        eta0=0.1,\n",
    "                        n_iter=1)\n",
    "cls_sgd.fit(x_train, y_train)\n",
    "\n",
    "print('train: ', accuracy_score(y_train, cls_sgd.predict(x_train)))\n",
    "print('valid: ', accuracy_score(y_valid, cls_sgd.predict(x_valid)))"
   ]
  },
  {
   "cell_type": "code",
   "execution_count": 112,
   "metadata": {},
   "outputs": [],
   "source": [
    "x_train_new = (x_train + 1000).astype(np.float128)\n",
    "x_valid_new = (x_valid + 1000).astype(np.float128)\n",
    "x_test_new = (x_test + 1000).astype(np.float128)"
   ]
  },
  {
   "cell_type": "code",
   "execution_count": 113,
   "metadata": {},
   "outputs": [
    {
     "name": "stdout",
     "output_type": "stream",
     "text": [
      "train:  0.454135954136\n",
      "valid:  0.457497612225\n"
     ]
    }
   ],
   "source": [
    "cls_mnb = MultinomialNB()\n",
    "cls_mnb.fit(x_train_new, y_train)\n",
    "\n",
    "print('train: ', accuracy_score(y_train, cls_mnb.predict(x_train_new)))\n",
    "print('valid: ', accuracy_score(y_valid, cls_mnb.predict(x_valid_new)))"
   ]
  },
  {
   "cell_type": "code",
   "execution_count": 140,
   "metadata": {},
   "outputs": [],
   "source": [
    "x_xgb_train = np.array([cls_sgd.predict(x_train), \n",
    "                        cls_mnb.predict(x_train),\n",
    "                        cls_xgb.predict(x_train)]).reshape(-1, 3)\n",
    "x_xgb_valid = np.array([cls_sgd.predict(x_valid), \n",
    "                        cls_mnb.predict(x_valid),\n",
    "                        cls_xgb.predict(x_valid)]).reshape(-1, 3)\n",
    "x_xgb_test = np.array([cls_sgd.predict(x_test), \n",
    "                       cls_mnb.predict(x_test),\n",
    "                       cls_xgb.predict(x_test)]).reshape(-1, 3)"
   ]
  },
  {
   "cell_type": "code",
   "execution_count": 144,
   "metadata": {},
   "outputs": [
    {
     "name": "stdout",
     "output_type": "stream",
     "text": [
      "train:  0.446764946765\n",
      "valid:  0.433619866285\n"
     ]
    }
   ],
   "source": [
    "cls_xgb = xgb.XGBClassifier(max_depth=5, \n",
    "                            learning_rate=0.01, \n",
    "                            reg_lambda=0.01, \n",
    "                            reg_alpha=0.01, \n",
    "                            objective=\"multi:softmax\",\n",
    "                            nthread=6)\n",
    "cls_xgb.fit(x_xgb_train, y_train)\n",
    "\n",
    "print('train: ', accuracy_score(y_train, cls_xgb.predict(x_xgb_train)))\n",
    "print('valid: ', accuracy_score(y_valid, cls_xgb.predict(x_xgb_valid)))"
   ]
  },
  {
   "cell_type": "code",
   "execution_count": null,
   "metadata": {
    "collapsed": true
   },
   "outputs": [],
   "source": []
  }
 ],
 "metadata": {
  "kernelspec": {
   "display_name": "Python [conda env:py35]",
   "language": "python",
   "name": "conda-env-py35-py"
  },
  "language_info": {
   "codemirror_mode": {
    "name": "ipython",
    "version": 3
   },
   "file_extension": ".py",
   "mimetype": "text/x-python",
   "name": "python",
   "nbconvert_exporter": "python",
   "pygments_lexer": "ipython3",
   "version": "3.5.2"
  }
 },
 "nbformat": 4,
 "nbformat_minor": 2
}
